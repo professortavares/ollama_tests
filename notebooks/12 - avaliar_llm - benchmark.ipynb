{
 "cells": [
  {
   "cell_type": "markdown",
   "id": "ab44f272-3b99-4c23-a2c7-f69ddbc1c885",
   "metadata": {},
   "source": [
    "# Implementação de benchmark para avaliação de LLMs.\n",
    "\n",
    "* Baseado no código: https://github.com/hendrycks/test\n",
    "* Base de dados: https://people.eecs.berkeley.edu/~hendrycks/data.tar"
   ]
  },
  {
   "cell_type": "code",
   "execution_count": 1,
   "id": "deac7a14-d8b3-497a-bee5-7f50115e516e",
   "metadata": {},
   "outputs": [],
   "source": [
    "from langchain_openai import ChatOpenAI\n",
    "from langchain.schema import HumanMessage\n",
    "import os\n",
    "import pandas as pd\n",
    "from dotenv import load_dotenv\n",
    "import time\n",
    "\n",
    "from IPython.display import display, Markdown"
   ]
  },
  {
   "cell_type": "code",
   "execution_count": 2,
   "id": "81446014-fb10-4368-b897-a42bca576fb0",
   "metadata": {},
   "outputs": [],
   "source": [
    "load_dotenv()\n",
    "pd.set_option('display.max_colwidth', None)\n",
    "\n",
    "os.environ[\"OPENAI_API_KEY\"] = os.getenv(\"OPENAI_API_KEY\")"
   ]
  },
  {
   "cell_type": "markdown",
   "id": "e1edd495-4f74-4845-ba14-230f93f5fcac",
   "metadata": {},
   "source": [
    "## Aplicação do benchmark MMMLU (Measuring Massive Multitask Language Understanding) apenas na prova de anatomia"
   ]
  },
  {
   "cell_type": "markdown",
   "id": "b01741c7-c2d9-48b0-8379-4c5eac10cb0f",
   "metadata": {},
   "source": [
    "### Lendo o banco de perguntas e respostas"
   ]
  },
  {
   "cell_type": "code",
   "execution_count": 3,
   "id": "fa3349c1-d224-4072-aad9-af5b56fcca4f",
   "metadata": {},
   "outputs": [
    {
     "name": "stdout",
     "output_type": "stream",
     "text": [
      "(14, 6)\n"
     ]
    },
    {
     "data": {
      "text/html": [
       "<div>\n",
       "<style scoped>\n",
       "    .dataframe tbody tr th:only-of-type {\n",
       "        vertical-align: middle;\n",
       "    }\n",
       "\n",
       "    .dataframe tbody tr th {\n",
       "        vertical-align: top;\n",
       "    }\n",
       "\n",
       "    .dataframe thead th {\n",
       "        text-align: right;\n",
       "    }\n",
       "</style>\n",
       "<table border=\"1\" class=\"dataframe\">\n",
       "  <thead>\n",
       "    <tr style=\"text-align: right;\">\n",
       "      <th></th>\n",
       "      <th>0</th>\n",
       "      <th>1</th>\n",
       "      <th>2</th>\n",
       "      <th>3</th>\n",
       "      <th>4</th>\n",
       "      <th>5</th>\n",
       "    </tr>\n",
       "  </thead>\n",
       "  <tbody>\n",
       "    <tr>\n",
       "      <th>0</th>\n",
       "      <td>Which of the following terms describes the body's ability to maintain its normal state?</td>\n",
       "      <td>Anabolism</td>\n",
       "      <td>Catabolism</td>\n",
       "      <td>Tolerance</td>\n",
       "      <td>Homeostasis</td>\n",
       "      <td>D</td>\n",
       "    </tr>\n",
       "    <tr>\n",
       "      <th>1</th>\n",
       "      <td>Which of the following structures travel through the substance of the parotid gland?</td>\n",
       "      <td>The maxillary artery</td>\n",
       "      <td>The maxillary artery and retromandibular vein</td>\n",
       "      <td>The maxillary artery, retromandibular vein and facial artery</td>\n",
       "      <td>The maxillary artery, retromandibular vein, facial artery and buccal branch of the mandibular nerve</td>\n",
       "      <td>B</td>\n",
       "    </tr>\n",
       "    <tr>\n",
       "      <th>2</th>\n",
       "      <td>A medical practitioner places a stethoscope over the patient's seventh right intercostal space in the mid-axillary line. The stethoscope overlies the</td>\n",
       "      <td>upper lobe of the lung.</td>\n",
       "      <td>middle lobe of the lung.</td>\n",
       "      <td>lower lobe of the lung.</td>\n",
       "      <td>costo-diaphragmatic recess.</td>\n",
       "      <td>C</td>\n",
       "    </tr>\n",
       "    <tr>\n",
       "      <th>3</th>\n",
       "      <td>The maxillary sinus</td>\n",
       "      <td>is lined by stratified squamous epithelium.</td>\n",
       "      <td>drains into the superior meatus of the nasal cavities.</td>\n",
       "      <td>is innervated by branches of the maxillary division of the trigeminal nerve.</td>\n",
       "      <td>Receives its blood supply from the first part of the maxillary artery.</td>\n",
       "      <td>C</td>\n",
       "    </tr>\n",
       "    <tr>\n",
       "      <th>4</th>\n",
       "      <td>Which of the following is flexible connective tissue that is attached to bones at the joints?</td>\n",
       "      <td>Adipose</td>\n",
       "      <td>Cartilage</td>\n",
       "      <td>Epithelial</td>\n",
       "      <td>Muscle</td>\n",
       "      <td>B</td>\n",
       "    </tr>\n",
       "  </tbody>\n",
       "</table>\n",
       "</div>"
      ],
      "text/plain": [
       "                                                                                                                                                       0  \\\n",
       "0                                                                Which of the following terms describes the body's ability to maintain its normal state?   \n",
       "1                                                                   Which of the following structures travel through the substance of the parotid gland?   \n",
       "2  A medical practitioner places a stethoscope over the patient's seventh right intercostal space in the mid-axillary line. The stethoscope overlies the   \n",
       "3                                                                                                                                    The maxillary sinus   \n",
       "4                                                          Which of the following is flexible connective tissue that is attached to bones at the joints?   \n",
       "\n",
       "                                             1  \\\n",
       "0                                    Anabolism   \n",
       "1                         The maxillary artery   \n",
       "2                      upper lobe of the lung.   \n",
       "3  is lined by stratified squamous epithelium.   \n",
       "4                                      Adipose   \n",
       "\n",
       "                                                        2  \\\n",
       "0                                              Catabolism   \n",
       "1           The maxillary artery and retromandibular vein   \n",
       "2                                middle lobe of the lung.   \n",
       "3  drains into the superior meatus of the nasal cavities.   \n",
       "4                                               Cartilage   \n",
       "\n",
       "                                                                              3  \\\n",
       "0                                                                     Tolerance   \n",
       "1                  The maxillary artery, retromandibular vein and facial artery   \n",
       "2                                                       lower lobe of the lung.   \n",
       "3  is innervated by branches of the maxillary division of the trigeminal nerve.   \n",
       "4                                                                    Epithelial   \n",
       "\n",
       "                                                                                                     4  \\\n",
       "0                                                                                          Homeostasis   \n",
       "1  The maxillary artery, retromandibular vein, facial artery and buccal branch of the mandibular nerve   \n",
       "2                                                                          costo-diaphragmatic recess.   \n",
       "3                               Receives its blood supply from the first part of the maxillary artery.   \n",
       "4                                                                                               Muscle   \n",
       "\n",
       "   5  \n",
       "0  D  \n",
       "1  B  \n",
       "2  C  \n",
       "3  C  \n",
       "4  B  "
      ]
     },
     "execution_count": 3,
     "metadata": {},
     "output_type": "execute_result"
    }
   ],
   "source": [
    "df = pd.read_csv('./anatomy_val.csv', header=None)\n",
    "print(df.shape)\n",
    "df.head(5)"
   ]
  },
  {
   "cell_type": "code",
   "execution_count": 4,
   "id": "7c40f763-ac3a-4447-87db-27bc1dc129d9",
   "metadata": {},
   "outputs": [
    {
     "data": {
      "text/plain": [
       "Index([0, 1, 2, 3, 4, 5], dtype='int64')"
      ]
     },
     "execution_count": 4,
     "metadata": {},
     "output_type": "execute_result"
    }
   ],
   "source": [
    "df.columns"
   ]
  },
  {
   "cell_type": "markdown",
   "id": "d65267be-1925-4a18-ad9d-c6e7001557e8",
   "metadata": {},
   "source": [
    "### Funções para a criação do prompt"
   ]
  },
  {
   "cell_type": "code",
   "execution_count": 5,
   "id": "f4658787-5d79-44fa-b9cf-cd34a42703e2",
   "metadata": {},
   "outputs": [],
   "source": [
    "choices = [\"A\", \"B\", \"C\", \"D\"]\n",
    "\n",
    "def format_subject(subject):\n",
    "    l = subject.split(\"_\")\n",
    "    s = \"\"\n",
    "    for entry in l:\n",
    "        s += \" \" + entry\n",
    "    return s\n",
    "\n",
    "def format_example(df, idx, include_answer=True):\n",
    "    prompt = \"Follow the answer instructions strictly, and answer only with the letter corresponding to the correct answer:\"\n",
    "    prompt += df.iloc[idx, 0]\n",
    "    k = df.shape[1] - 2\n",
    "    for j in range(k):\n",
    "        prompt += \"\\n{}. {}\".format(choices[j], df.iloc[idx, j+1])\n",
    "    prompt += \"\\n - Answer:\"\n",
    "    if include_answer:\n",
    "        prompt += \" {}\\n\\n\".format(df.iloc[idx, k + 1])\n",
    "    return prompt\n",
    "\n",
    "def gen_prompt(train_df, subject, k=-1):\n",
    "    prompt = \"The following are multiple choice questions (with answers) about {}.\\n\\n\".format(format_subject(subject))\n",
    "    if k == -1:\n",
    "        k = train_df.shape[0]\n",
    "    for i in range(k):\n",
    "        prompt += format_example(train_df, i)\n",
    "    return prompt"
   ]
  },
  {
   "cell_type": "markdown",
   "id": "7501242b-5392-4ef7-9237-fc0f8a30f6b6",
   "metadata": {},
   "source": [
    "## Zero shot"
   ]
  },
  {
   "cell_type": "code",
   "execution_count": 6,
   "id": "0820ebf5-3167-488f-a17f-1a43dc538fea",
   "metadata": {},
   "outputs": [
    {
     "data": {
      "text/markdown": [
       "The following are multiple choice questions (with answers) about  anatomy.\n",
       "\n",
       "Follow the answer instructions strictly, and answer only with the letter corresponding to the correct answer:Which of the following is flexible connective tissue that is attached to bones at the joints?\n",
       "A. Adipose\n",
       "B. Cartilage\n",
       "C. Epithelial\n",
       "D. Muscle\n",
       " - Answer:"
      ],
      "text/plain": [
       "<IPython.core.display.Markdown object>"
      ]
     },
     "metadata": {},
     "output_type": "display_data"
    }
   ],
   "source": [
    "prompt_end = format_example(df, 4, include_answer=False)\n",
    "train_prompt = gen_prompt(df, 'anatomy', 0)\n",
    "prompt = train_prompt + prompt_end\n",
    "\n",
    "display(Markdown(prompt))"
   ]
  },
  {
   "cell_type": "code",
   "execution_count": 7,
   "id": "baae263c-18f1-4a65-b267-80dacd361ec1",
   "metadata": {},
   "outputs": [
    {
     "name": "stdout",
     "output_type": "stream",
     "text": [
      "B\n"
     ]
    }
   ],
   "source": [
    "llm = ChatOpenAI(model=\"gpt-4o-mini\",\n",
    "    temperature=0,\n",
    "    max_tokens=1,\n",
    "    max_retries=2,\n",
    ")\n",
    "messages = [\n",
    "    HumanMessage(content=prompt)\n",
    "]\n",
    "response = llm.invoke(messages)\n",
    "print(response.content)"
   ]
  },
  {
   "cell_type": "code",
   "execution_count": 8,
   "id": "a682bb21-1b63-4347-91bc-73d65806d8ba",
   "metadata": {},
   "outputs": [
    {
     "data": {
      "text/plain": [
       "['B', 'D', 'A', 'A', 'C', 'B', 'B', 'D', 'C', 'D']"
      ]
     },
     "execution_count": 8,
     "metadata": {},
     "output_type": "execute_result"
    }
   ],
   "source": [
    "answers = []\n",
    "for q in range(4, 14):\n",
    "    prompt_end = format_example(df, q, include_answer=False)\n",
    "    train_prompt = gen_prompt(df, 'anatomy', 0)\n",
    "    prompt = train_prompt + prompt_end\n",
    "\n",
    "    messages = [\n",
    "        HumanMessage(content=prompt)\n",
    "    ]\n",
    "    response = llm.invoke(messages)\n",
    "    answers.append(response.content)\n",
    "    time.sleep(1)\n",
    "    \n",
    "answers"
   ]
  },
  {
   "cell_type": "code",
   "execution_count": 9,
   "id": "6523f068-388b-4205-bb5f-6ddf670e37ad",
   "metadata": {},
   "outputs": [
    {
     "data": {
      "text/plain": [
       "['B', 'C', 'A', 'D', 'C', 'B', 'B', 'B', 'C', 'D']"
      ]
     },
     "execution_count": 9,
     "metadata": {},
     "output_type": "execute_result"
    }
   ],
   "source": [
    "last_col = df.columns[-1]\n",
    "real_answers = df.loc[4:14, last_col].tolist()\n",
    "real_answers"
   ]
  },
  {
   "cell_type": "code",
   "execution_count": 10,
   "id": "85736ca8-273e-4cd5-aab4-f0de7bbbe70f",
   "metadata": {},
   "outputs": [
    {
     "name": "stdout",
     "output_type": "stream",
     "text": [
      "Grade: 7\n"
     ]
    }
   ],
   "source": [
    "cont = sum(1 for x, y in zip(answers, real_answers) if x == y)\n",
    "print(f\"Grade: {cont}\")"
   ]
  },
  {
   "cell_type": "markdown",
   "id": "49a4231e-f038-4c09-8975-e3525c276221",
   "metadata": {},
   "source": [
    "## Few Shot"
   ]
  },
  {
   "cell_type": "code",
   "execution_count": 11,
   "id": "5d319f26-a616-40f7-a793-efe41999de3f",
   "metadata": {},
   "outputs": [
    {
     "data": {
      "text/markdown": [
       "The following are multiple choice questions (with answers) about  anatomy.\n",
       "\n",
       "Follow the answer instructions strictly, and answer only with the letter corresponding to the correct answer:Which of the following terms describes the body's ability to maintain its normal state?\n",
       "A. Anabolism\n",
       "B. Catabolism\n",
       "C. Tolerance\n",
       "D. Homeostasis\n",
       " - Answer: D\n",
       "\n",
       "Follow the answer instructions strictly, and answer only with the letter corresponding to the correct answer:Which of the following structures travel through the substance of the parotid gland?\n",
       "A. The maxillary artery\n",
       "B. The maxillary artery and retromandibular vein\n",
       "C. The maxillary artery, retromandibular vein and facial artery\n",
       "D. The maxillary artery, retromandibular vein, facial artery and buccal branch of the mandibular nerve\n",
       " - Answer: B\n",
       "\n",
       "Follow the answer instructions strictly, and answer only with the letter corresponding to the correct answer:A medical practitioner places a stethoscope over the patient's seventh right intercostal space in the mid-axillary line. The stethoscope overlies the\n",
       "A. upper lobe of the lung.\n",
       "B. middle lobe of the lung.\n",
       "C. lower lobe of the lung.\n",
       "D. costo-diaphragmatic recess.\n",
       " - Answer: C\n",
       "\n",
       "Follow the answer instructions strictly, and answer only with the letter corresponding to the correct answer:Which of the following is flexible connective tissue that is attached to bones at the joints?\n",
       "A. Adipose\n",
       "B. Cartilage\n",
       "C. Epithelial\n",
       "D. Muscle\n",
       " - Answer:"
      ],
      "text/plain": [
       "<IPython.core.display.Markdown object>"
      ]
     },
     "metadata": {},
     "output_type": "display_data"
    }
   ],
   "source": [
    "prompt_end = format_example(df, 4, include_answer=False)\n",
    "train_prompt = gen_prompt(df, 'anatomy', 3)\n",
    "prompt = train_prompt + prompt_end\n",
    "\n",
    "display(Markdown(prompt))"
   ]
  },
  {
   "cell_type": "code",
   "execution_count": 12,
   "id": "d6252cd2-f7e8-4d61-a3fc-6af25ee1b002",
   "metadata": {},
   "outputs": [
    {
     "data": {
      "text/plain": [
       "['B', 'D', 'A', 'D', 'C', 'B', 'B', 'B', 'C', 'D']"
      ]
     },
     "execution_count": 12,
     "metadata": {},
     "output_type": "execute_result"
    }
   ],
   "source": [
    "answers = []\n",
    "for q in range(4, 14):\n",
    "    prompt_end = format_example(df, q, include_answer=False)\n",
    "    train_prompt = gen_prompt(df, 'anatomy', 3)\n",
    "    prompt = train_prompt + prompt_end\n",
    "\n",
    "    messages = [\n",
    "        HumanMessage(content=prompt)\n",
    "    ]\n",
    "    response = llm.invoke(messages)\n",
    "    answers.append(response.content)\n",
    "    time.sleep(1)\n",
    "    \n",
    "answers"
   ]
  },
  {
   "cell_type": "code",
   "execution_count": 13,
   "id": "e268b3a7-ccc5-4644-9492-295689caa71e",
   "metadata": {},
   "outputs": [
    {
     "data": {
      "text/plain": [
       "['B', 'C', 'A', 'D', 'C', 'B', 'B', 'B', 'C', 'D']"
      ]
     },
     "execution_count": 13,
     "metadata": {},
     "output_type": "execute_result"
    }
   ],
   "source": [
    "real_answers"
   ]
  },
  {
   "cell_type": "code",
   "execution_count": 14,
   "id": "73e8c92e-476a-492a-b975-9c193377e94d",
   "metadata": {},
   "outputs": [
    {
     "name": "stdout",
     "output_type": "stream",
     "text": [
      "Grade: 9\n"
     ]
    }
   ],
   "source": [
    "cont = sum(1 for x, y in zip(answers, real_answers) if x == y)\n",
    "print(f\"Grade: {cont}\")"
   ]
  }
 ],
 "metadata": {
  "kernelspec": {
   "display_name": "Python 3 (ipykernel)",
   "language": "python",
   "name": "python3"
  },
  "language_info": {
   "codemirror_mode": {
    "name": "ipython",
    "version": 3
   },
   "file_extension": ".py",
   "mimetype": "text/x-python",
   "name": "python",
   "nbconvert_exporter": "python",
   "pygments_lexer": "ipython3",
   "version": "3.11.9"
  }
 },
 "nbformat": 4,
 "nbformat_minor": 5
}
