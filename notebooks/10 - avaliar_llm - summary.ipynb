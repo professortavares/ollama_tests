{
 "cells": [
  {
   "cell_type": "markdown",
   "id": "b472c7df-507e-4f0e-a6f6-9f746c24830f",
   "metadata": {},
   "source": [
    "# Avaliação automatizada de LLMs utilizando DeepEval - Sumarização"
   ]
  },
  {
   "cell_type": "code",
   "execution_count": 1,
   "id": "4e069e35-2b5b-442d-99df-67e76c5dd264",
   "metadata": {},
   "outputs": [
    {
     "name": "stderr",
     "output_type": "stream",
     "text": [
      "C:\\Users\\leona\\Documents\\GitHub\\ollama_tests\\.venv\\Lib\\site-packages\\deepeval\\__init__.py:49: UserWarning: You are using deepeval version 1.4.9, however version 1.5.0 is available. You should consider upgrading via the \"pip install --upgrade deepeval\" command.\n",
      "  warnings.warn(\n"
     ]
    }
   ],
   "source": [
    "import os\n",
    "from dotenv import load_dotenv\n",
    "\n",
    "from langchain_openai import ChatOpenAI\n",
    "from deepeval.test_case import LLMTestCase\n",
    "from deepeval.metrics import SummarizationMetric\n",
    "\n",
    "from IPython.display import display, Markdown"
   ]
  },
  {
   "cell_type": "code",
   "execution_count": 2,
   "id": "b1422e3a-6614-46e3-b0da-0b09dd34b248",
   "metadata": {},
   "outputs": [],
   "source": [
    "load_dotenv()\n",
    "openai_api_key = os.getenv(\"OPENAI_API_KEY\")"
   ]
  },
  {
   "cell_type": "markdown",
   "id": "7ebf7c24-865d-44c4-b5a1-8fb9537b9792",
   "metadata": {},
   "source": [
    "## 1. Sumarização\n",
    "\n",
    "Resumos factualmente corretos e que incluem os detalhes necessários do texto original."
   ]
  },
  {
   "cell_type": "markdown",
   "id": "449feffc-5a7c-43d0-b69e-b09d32ee413b",
   "metadata": {},
   "source": [
    "**Alice’s Adventures in Wonderland** Chapter 1\n",
    "\n",
    "Ref do livro: https://www.gutenberg.org/files/11/11-0.txt"
   ]
  },
  {
   "cell_type": "code",
   "execution_count": 3,
   "id": "ab9f1861-2a84-4d35-8e5b-c898fcf84bc2",
   "metadata": {},
   "outputs": [
    {
     "data": {
      "text/markdown": [
       "CHAPTER I.\n",
       "Down the Rabbit-Hole\n",
       "\n",
       "Alice was beginning to get very tired of sitting by her sister on the\n",
       "bank, and of having nothing to do: once or twice she had peeped into\n",
       "the book her sister was reading, but it had no pictures or\n",
       "conversations in it, “and what is the use of a book,” thought Alice\n",
       "“without pictures or conversations?”\n",
       "\n",
       "So she was considering in her own mind (as well as she could, for the\n",
       "hot day made her feel very sleepy and stupid), whether the pleasure of\n",
       "making a daisy...\n",
       "\n",
       "...\n",
       "\n",
       "...ate a little bit, and said anxiously to herself, “Which way? Which\n",
       "way?”, holding her hand on the top of her head to feel which way it was\n",
       "growing, and she was quite surprised to find that she remained the same\n",
       "size: to be sure, this generally happens when one eats cake, but Alice\n",
       "had got so much into the way of expecting nothing but out-of-the-way\n",
       "things to happen, that it seemed quite dull and stupid for life to go\n",
       "on in the common way.\n",
       "\n",
       "So she set to work, and very soon finished off the cake."
      ],
      "text/plain": [
       "<IPython.core.display.Markdown object>"
      ]
     },
     "metadata": {},
     "output_type": "display_data"
    },
    {
     "name": "stdout",
     "output_type": "stream",
     "text": [
      "11285\n"
     ]
    }
   ],
   "source": [
    "livro_cp1 = \"\"\n",
    "with open(\"./short_story.txt\", \"r\", encoding=\"utf-8\") as arquivo:\n",
    "    livro_cp1 = arquivo.read()\n",
    "\n",
    "\n",
    "display(Markdown(f'{livro_cp1[:492]}...\\n\\n...\\n\\n...{livro_cp1[-500:]}'))\n",
    "print(len(livro_cp1))"
   ]
  },
  {
   "cell_type": "code",
   "execution_count": 4,
   "id": "5cbbc70b-8885-4f29-bfd7-cded1b3a28e9",
   "metadata": {},
   "outputs": [
    {
     "data": {
      "text/markdown": [
       "\n",
       "1. Read the following text and create a summary that includes the main points:\n",
       "\n",
       "2. Who are the characters?\n",
       "   - Classify them into main characters and other characters.\n",
       "3. Where does the story take place?\n",
       "   - Describe the main setting of the narrative.\n",
       "4. What is the plot?\n",
       "   - Provide an overview of the main events that define the story.\n",
       "\n",
       "Here is the text:\n",
       "\n",
       "CHAPTER I.\n",
       "Down the Rabbit-Hole\n",
       "\n",
       "Alice was beginning to get very tired of sitting by her sister on the\n",
       "bank, and of having nothing to do: once or twice she had peeped into\n",
       "the book her sister was reading, but it had no pictures or\n",
       "conversations in it, “and what is the use of a book,” thought Alice\n",
       "“without pictures or conversations?”\n",
       "\n",
       "So she was considering in her own mind (as well as she could, for the\n",
       "hot day made her feel very sleepy and stupid), whether the pleasure of\n",
       "making a daisy-chain would be worth the trouble of getting up and\n",
       "picking the daisies, when suddenly a White Rabbit with pink eyes ran\n",
       "close by her.\n",
       "\n",
       "There was..."
      ],
      "text/plain": [
       "<IPython.core.display.Markdown object>"
      ]
     },
     "metadata": {},
     "output_type": "display_data"
    }
   ],
   "source": [
    "PROMPT = f\"\"\"\n",
    "1. Read the following text and create a summary that includes the main points:\n",
    "\n",
    "2. Who are the characters?\n",
    "   - Classify them into main characters and other characters.\n",
    "3. Where does the story take place?\n",
    "   - Describe the main setting of the narrative.\n",
    "4. What is the plot?\n",
    "   - Provide an overview of the main events that define the story.\n",
    "\n",
    "Here is the text:\n",
    "\n",
    "{{TEXT}}\n",
    "\n",
    "The response must strictly follow the proposed format:\n",
    "\n",
    "# Summary\n",
    "## 1. Characters:\n",
    "- \n",
    "- \n",
    "- \n",
    "## 2. Story Setting:\n",
    "- \n",
    "## 4. Plot:\n",
    "- \n",
    "\n",
    "\"\"\"\n",
    "\n",
    "prompt = PROMPT.format(TEXT = livro_cp1)\n",
    "display(Markdown(f'{prompt[:1000]}...'))"
   ]
  },
  {
   "cell_type": "code",
   "execution_count": 5,
   "id": "abb54821-8373-47c0-96cf-42eb89cac08c",
   "metadata": {},
   "outputs": [],
   "source": [
    "chat = ChatOpenAI(model=\"gpt-4o-mini\")\n",
    "response = chat.invoke(prompt)"
   ]
  },
  {
   "cell_type": "code",
   "execution_count": 6,
   "id": "3d4f32be-271b-4b49-b145-b76f12defb51",
   "metadata": {},
   "outputs": [
    {
     "data": {
      "text/markdown": [
       "# Summary\n",
       "In the first chapter of \"Alice's Adventures in Wonderland,\" Alice grows bored while sitting with her sister and notices a White Rabbit with pink eyes, who appears to be in a hurry and possesses a watch. Driven by curiosity, Alice follows the Rabbit down a rabbit hole, where she falls for a long time, pondering various whimsical thoughts. Upon landing safely, she explores a hall filled with locked doors and discovers a tiny key and a small door that leads to a beautiful garden. However, she cannot fit through the door. After finding a bottle labeled \"DRINK ME,\" Alice drinks from it and shrinks to a size small enough to enter the garden but realizes she left the key on the table. In her attempts to reach it, she eats a cake labeled \"EAT ME,\" hoping it will change her size.\n",
       "\n",
       "## 1. Characters:\n",
       "- **Main Characters:**\n",
       "  - Alice\n",
       "  - The White Rabbit\n",
       "- **Other Characters:**\n",
       "  - Alice's sister\n",
       "  - Dinah (Alice's cat)\n",
       "\n",
       "## 2. Story Setting:\n",
       "- The story primarily takes place in a fantastical underground world beginning with a rabbit hole and a long, low hall filled with locked doors. The hall is illuminated by lamps, and there are various objects like a three-legged glass table and shelves along the walls, leading to a small door that opens into a beautiful garden.\n",
       "\n",
       "## 4. Plot:\n",
       "- Alice, feeling bored, follows a White Rabbit and falls down a rabbit hole into a strange and whimsical place. After a long fall, she lands in a hall filled with locked doors. She discovers a tiny golden key and a little door that leads to a lovely garden but cannot fit through. Alice drinks from a bottle, shrinking herself to the right size to enter but then forgets the key on the table. In her frustration, she eats a cake hoping to grow larger or smaller to reach the key, setting her on a path of curious adventures."
      ],
      "text/plain": [
       "<IPython.core.display.Markdown object>"
      ]
     },
     "metadata": {},
     "output_type": "display_data"
    }
   ],
   "source": [
    "display(Markdown(f'{response.content}'))"
   ]
  },
  {
   "cell_type": "markdown",
   "id": "d84d923f-ed80-4f8c-86d2-3e373e1ee98b",
   "metadata": {},
   "source": [
    "### Avaliação da sumarização"
   ]
  },
  {
   "cell_type": "code",
   "execution_count": 7,
   "id": "3d712570-0e47-4f14-b93f-1cca8009f8ff",
   "metadata": {},
   "outputs": [
    {
     "data": {
      "application/vnd.jupyter.widget-view+json": {
       "model_id": "",
       "version_major": 2,
       "version_minor": 0
      },
      "text/plain": [
       "Output()"
      ]
     },
     "metadata": {},
     "output_type": "display_data"
    },
    {
     "data": {
      "text/html": [
       "<pre style=\"white-space:pre;overflow-x:auto;line-height:normal;font-family:Menlo,'DejaVu Sans Mono',consolas,'Courier New',monospace\">Event loop is already running. Applying nest_asyncio patch to allow async execution...\n",
       "</pre>\n"
      ],
      "text/plain": [
       "Event loop is already running. Applying nest_asyncio patch to allow async execution...\n"
      ]
     },
     "metadata": {},
     "output_type": "display_data"
    },
    {
     "data": {
      "text/html": [
       "<pre style=\"white-space:pre;overflow-x:auto;line-height:normal;font-family:Menlo,'DejaVu Sans Mono',consolas,'Courier New',monospace\"></pre>\n"
      ],
      "text/plain": []
     },
     "metadata": {},
     "output_type": "display_data"
    },
    {
     "name": "stdout",
     "output_type": "stream",
     "text": [
      "0.7272727272727273\n",
      "The score is 0.73 because the summary contains contradictions regarding the details of Alice's surroundings and her actions, diverging from the original text. Additionally, it introduces extra information about the hall's illumination and shelf contents that was not present in the source material, indicating a lack of fidelity to the original narrative.\n"
     ]
    }
   ],
   "source": [
    "test_case = LLMTestCase(\n",
    "    input=livro_cp1, \n",
    "    actual_output=response.content)\n",
    "metric = SummarizationMetric(\n",
    "    model=\"gpt-4o-mini\",\n",
    "    assessment_questions = [\n",
    "        \"Does the summary correctly identify the main characters?\",\n",
    "        \"Does the summary mention the setting where the story takes place?\",\n",
    "        \"Does the summary provide an accurate overview of the plot?\",\n",
    "        \"Does the summary highlight important relationships between the characters?\",\n",
    "        \"Does the summary address the central themes of the story?\"\n",
    "    ],    \n",
    "    include_reason=True)\n",
    "\n",
    "metric.measure(test_case)\n",
    "print(metric.score)\n",
    "print(metric.reason)"
   ]
  }
 ],
 "metadata": {
  "kernelspec": {
   "display_name": "Python 3 (ipykernel)",
   "language": "python",
   "name": "python3"
  },
  "language_info": {
   "codemirror_mode": {
    "name": "ipython",
    "version": 3
   },
   "file_extension": ".py",
   "mimetype": "text/x-python",
   "name": "python",
   "nbconvert_exporter": "python",
   "pygments_lexer": "ipython3",
   "version": "3.11.9"
  }
 },
 "nbformat": 4,
 "nbformat_minor": 5
}
