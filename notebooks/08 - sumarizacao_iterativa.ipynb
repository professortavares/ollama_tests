{
 "cells": [
  {
   "cell_type": "markdown",
   "id": "50b8234c-a54c-4383-a32f-3393a2bdafdb",
   "metadata": {},
   "source": [
    "# Sumarização de textos longos\n",
    "\n",
    "ref.: https://python.langchain.com/docs/tutorials/summarization/"
   ]
  },
  {
   "cell_type": "code",
   "execution_count": 1,
   "id": "1ecb9dde-15f5-4622-b78a-2d81bc924973",
   "metadata": {},
   "outputs": [
    {
     "name": "stderr",
     "output_type": "stream",
     "text": [
      "USER_AGENT environment variable not set, consider setting it to identify your requests.\n"
     ]
    }
   ],
   "source": [
    "from langchain_ollama import ChatOllama\n",
    "from langchain_community.document_loaders import WebBaseLoader\n",
    "from langchain_core.output_parsers import StrOutputParser\n",
    "from langchain_core.prompts import ChatPromptTemplate\n",
    "from langchain_text_splitters import CharacterTextSplitter\n",
    "from langchain_core.runnables import RunnableConfig\n",
    "\n",
    "import operator\n",
    "from typing import Annotated, List, Literal, TypedDict\n",
    "\n",
    "from langchain.chains.combine_documents.reduce import (\n",
    "    acollapse_docs,\n",
    "    split_list_of_docs,\n",
    ")\n",
    "from langchain_core.documents import Document\n",
    "from langgraph.constants import Send\n",
    "from langgraph.graph import END, START, StateGraph\n",
    "from IPython.display import Image"
   ]
  },
  {
   "cell_type": "markdown",
   "id": "9d4eac70-4fd6-499a-bdcb-a12665e2d50f",
   "metadata": {},
   "source": [
    "## Utilização do llama3.2 com interface via ollama"
   ]
  },
  {
   "cell_type": "code",
   "execution_count": 2,
   "id": "08847949-3ca2-4efe-9242-34a86c21f51b",
   "metadata": {},
   "outputs": [],
   "source": [
    "# Inicialize o modelo ChatOllama\n",
    "llm = ChatOllama(model=\"llama3.2\")"
   ]
  },
  {
   "cell_type": "code",
   "execution_count": 3,
   "id": "300a6518-a108-41ec-a6bf-a9d4b26b6096",
   "metadata": {},
   "outputs": [
    {
     "data": {
      "text/plain": [
       "359891"
      ]
     },
     "execution_count": 3,
     "metadata": {},
     "output_type": "execute_result"
    }
   ],
   "source": [
    "# Função para ler o conteúdo de um arquivo .txt\n",
    "def load_text_from_file(file_path: str) -> List[Document]:\n",
    "    with open(file_path, 'r', encoding='utf-8') as file:\n",
    "        content = file.read()\n",
    "    return [Document(page_content=content)]\n",
    "\n",
    "# Carrega o arquivo .txt\n",
    "docs = load_text_from_file(\"./memorias_postumas_bras_cubas.txt\")\n",
    "len(docs[0].page_content)"
   ]
  },
  {
   "cell_type": "code",
   "execution_count": 4,
   "id": "cb6c25fc-110d-4c79-bdb3-b5f4c92fd9df",
   "metadata": {},
   "outputs": [
    {
     "data": {
      "text/plain": [
       "langchain_core.documents.base.Document"
      ]
     },
     "execution_count": 4,
     "metadata": {},
     "output_type": "execute_result"
    }
   ],
   "source": [
    "type(docs[0])"
   ]
  },
  {
   "cell_type": "code",
   "execution_count": 5,
   "id": "987bc29f-d882-45b9-b43e-33adb3c9baa9",
   "metadata": {},
   "outputs": [
    {
     "name": "stdout",
     "output_type": "stream",
     "text": [
      "Generated 7 documents.\n"
     ]
    }
   ],
   "source": [
    "text_splitter = CharacterTextSplitter.from_tiktoken_encoder(\n",
    "    chunk_size=20_000, chunk_overlap=20\n",
    ")\n",
    "documents  = text_splitter.split_documents(docs)\n",
    "print(f\"Generated {len(documents)} documents.\")"
   ]
  },
  {
   "cell_type": "code",
   "execution_count": 10,
   "id": "4dad4276-3540-4318-b61e-e6c968ac5ac4",
   "metadata": {},
   "outputs": [
    {
     "data": {
      "text/plain": [
       "'MEMORIAS POSTHUMAS\\nDE\\nBRAZ CUBAS\\nPOR\\nMACHADO DE ASSIS\\nRIO DE JANEIRO\\nTYPOGRAPHIA NACIONAL\\n1881\\nÍNDICE\\n\\nOBRAS DO AUTOR\\nMemorias Posthumas de Braz Cubas\\nHelena, romance\\nYayá Garcia, romance\\nResurreição, romance\\nA mão e a luva, romance\\nHistorias da meia noite\\nContos Fluminenses\\nAmericanas, poesias\\nPhalenas, poesias\\nChrysalidas, poesias\\nTu só, tu, puro amor, comédia\\nOs deuses de casaca, comédia\\nDesencantos, comédia\\nTheatro\\n\\nAO LEITOR\\nQue, no alto do principal de seus livros, confessasse Stendhal havel-o escripto para cem leitores, cousa é que admira e consterna. O que não admira, nem provavelmente consternará é se este outro livro não tiver os cem leitores de Stendhal, nem cincoenta, nem vinte, e quando muito, dez. Dez? Talvez cinco. Trata-se, na verdade, de uma obra diffusa, na qual eu, Braz Cubas, se adoptei a fórma livre de um Sterne, de um Lamb, ou de um de Maistre, não sei se lhe metti algumas rabugens de pessimismo. Póde ser. Obra de finado. Escrevi-a com a penna da galhofa e a tinta'"
      ]
     },
     "execution_count": 10,
     "metadata": {},
     "output_type": "execute_result"
    }
   ],
   "source": [
    "documents[0].page_content[:1000]"
   ]
  },
  {
   "cell_type": "code",
   "execution_count": 7,
   "id": "62bb3bf0-97fc-4733-9075-32dceac1ab88",
   "metadata": {},
   "outputs": [],
   "source": [
    "# Initial summary\n",
    "initial_prompt = \"\"\"\n",
    "Leia o seguinte trecho de um livro em português e faça um resumo claro e objetivo. No resumo:\n",
    "\n",
    "1. Descreva brevemente quem são os personagens principais e o papel de cada um na história.\n",
    "2. Apresente de maneira simples o enredo, explicando o que está acontecendo no trecho, sem citar o nome do livro.\n",
    "3. Use uma linguagem acessível para que mesmo uma pessoa leiga consiga entender do que se trata a história.\n",
    "\n",
    "Segue o trecho do livro: \n",
    "\n",
    "{context}.\n",
    "\"\"\"\n",
    "\n",
    "summarize_prompt = ChatPromptTemplate(\n",
    "    [\n",
    "        (\"human\", initial_prompt),\n",
    "    ]\n",
    ")\n",
    "initial_summary_chain = summarize_prompt | llm | StrOutputParser()\n",
    "\n",
    "# Refining the summary with new docs\n",
    "refine_template = \"\"\"\n",
    "Leia o seguinte trecho de um livro em português e faça um resumo claro e objetivo. No resumo:\n",
    "\n",
    "1. Descreva brevemente quem são os personagens principais e o papel de cada um na história.\n",
    "2. Apresente de maneira simples o enredo, explicando o que está acontecendo no trecho, sem citar o nome do livro.\n",
    "3. Use uma linguagem acessível para que mesmo uma pessoa leiga consiga entender do que se trata a história.\n",
    "\n",
    "Resumo atual até o momento:\n",
    "{existing_answer}\n",
    "\n",
    "Novo trecho:\n",
    "------------\n",
    "{context}\n",
    "------------\n",
    "\"\"\"\n",
    "refine_prompt = ChatPromptTemplate([(\"human\", refine_template)])\n",
    "\n",
    "refine_summary_chain = refine_prompt | llm | StrOutputParser()\n",
    "\n",
    "\n",
    "# We will define the state of the graph to hold the document\n",
    "# contents and summary. We also include an index to keep track\n",
    "# of our position in the sequence of documents.\n",
    "class State(TypedDict):\n",
    "    contents: List[str]\n",
    "    index: int\n",
    "    summary: str\n",
    "\n",
    "\n",
    "# We define functions for each node, including a node that generates\n",
    "# the initial summary:\n",
    "async def generate_initial_summary(state: State, config: RunnableConfig):\n",
    "    summary = await initial_summary_chain.ainvoke(\n",
    "        state[\"contents\"][0],\n",
    "        config,\n",
    "    )\n",
    "    return {\"summary\": summary, \"index\": 1}\n",
    "\n",
    "\n",
    "# And a node that refines the summary based on the next document\n",
    "async def refine_summary(state: State, config: RunnableConfig):\n",
    "    content = state[\"contents\"][state[\"index\"]]\n",
    "    summary = await refine_summary_chain.ainvoke(\n",
    "        {\"existing_answer\": state[\"summary\"], \"context\": content},\n",
    "        config,\n",
    "    )\n",
    "\n",
    "    return {\"summary\": summary, \"index\": state[\"index\"] + 1}\n",
    "\n",
    "\n",
    "# Here we implement logic to either exit the application or refine\n",
    "# the summary.\n",
    "def should_refine(state: State) -> Literal[\"refine_summary\", END]:\n",
    "    if state[\"index\"] >= len(state[\"contents\"]):\n",
    "        return END\n",
    "    else:\n",
    "        return \"refine_summary\"\n",
    "\n",
    "\n",
    "graph = StateGraph(State)\n",
    "graph.add_node(\"generate_initial_summary\", generate_initial_summary)\n",
    "graph.add_node(\"refine_summary\", refine_summary)\n",
    "\n",
    "graph.add_edge(START, \"generate_initial_summary\")\n",
    "graph.add_conditional_edges(\"generate_initial_summary\", should_refine)\n",
    "graph.add_conditional_edges(\"refine_summary\", should_refine)\n",
    "app = graph.compile()"
   ]
  },
  {
   "cell_type": "code",
   "execution_count": 8,
   "id": "be55b552-302e-47c7-b5ff-31e4bb4401ae",
   "metadata": {},
   "outputs": [
    {
     "data": {
      "image/jpeg": "[encoded data removed]",
      "text/plain": [
       "<IPython.core.display.Image object>"
      ]
     },
     "execution_count": 8,
     "metadata": {},
     "output_type": "execute_result"
    }
   ],
   "source": [
    "from IPython.display import Image\n",
    "\n",
    "Image(app.get_graph().draw_mermaid_png())"
   ]
  },
  {
   "cell_type": "code",
   "execution_count": 9,
   "id": "4bcdf4cc-ed8b-46a3-86d4-fb0eb4314d7d",
   "metadata": {},
   "outputs": [
    {
     "name": "stdout",
     "output_type": "stream",
     "text": [
      "A narrativa apresentada é um exemplo clássico da literatura portuguesa do século XIX, caraterizada por uma prosa detalhada e observacional, bem como por uma crítica social e política. A história é contada sob a perspectiva de um jovem que se sente marginalizado e excluído da sociedade dos adultos.\n",
      "\n",
      "A cena principal se desenrola em um jantar de família, onde o Dr. Villaça, um homem grave e medido, é o centro das atenções. Ele é o glosador, responsável por fazer a leitura das notícias e histórias, mas suas palavras são lidas de forma lentinha e monotona, o que provoca frustração no narrador.\n",
      "\n",
      "O narrador, por sua vez, está fascinado pela tia Emerenciana, uma mulher mais jovem e dinâmica, que parece viver a vida com mais entusiasmo. No entanto, quando ela tenta fazer com que o Dr. Villaça seja mais rápido na leitura das notícias, ele se recusa a mudar, o que faz com que o narrador se sinta ainda mais excluído.\n",
      "\n",
      "A cena também destaca a relação do narrador com sua tia Emerenciana, que é apresentada como uma figura materna. A narrativa sugere que a tia Emerenciana é a única pessoa que realmente ouve e compreende o narrador, enquanto o Dr. Villaça e outros adultos são vistos como frios e distantes.\n",
      "\n",
      "Além disso, a cena inclui um elemento de ironia e crítica social, quando o Dr. Villaça é descrito como um homem \"grave\" que faz a leitura das notícias com uma \"volupia\" nos olhos, sugerindo que ele pode estar mais interessado em seus próprios pensamentos do que em compartilhá-los com os outros.\n",
      "\n",
      "A narrativa também apresenta elementos de psicologia e observação do comportamento humano, quando o Dr. Villaça é descrito como um homem que \"via-se a si mesmo\", sugerindo que ele pode estar mais interessado em sua própria imagem do que em interagir com os outros.\n",
      "\n",
      "Em resumo, a narrativa apresentada é uma crítica social e política à sociedade dos adultos, que são vistos como frios e distantes. A história também destaca a importância da relação entre o narrador e sua tia Emerenciana, que é apresentada como uma figura materna que realmente ouve e compreende o narrador.\n",
      "####################\n",
      "**O Lamento do Rapaz**\n",
      "\n",
      "Eu sentia-me aturdido. Uma parte de mim mesmo dizia que sim, que uma esposa formosa e uma posição politica eram bens dignos de apreço; outra dizia que não; e a morte de minha mãe me aparecia como um exemplo da fragilidade das cousas, das affeições, da familia...\n",
      "\n",
      "Meu pae era um homem notável. Fazia hoje as vezes de Imperador. Ele trazia com ele uma idéa, um projecto, ou... sim, digo-te tudo; trazia dois projectos: um logar de deputado e um casamento. \n",
      "\n",
      "Mas eu não podia aceitar. Eu não entendi de política. E quando me referia a noiva... deixe-me viver como um urso, que sou. Meu pae riu-se, depois tornou a falar sério. Ele dizia ser necessária a carreira politica por várias razões e mostrava exemplos de pessoas do nosso conhecimento. \n",
      "\n",
      "Quanto à noiva... bastava que eu a visse; se a visse, iria logo pedi-la ao pae, logo, sem demora de um dia. Mas eu não dava resposta, afiava a ponta de um palito ou fazia bolas de miolo de pão, sorrindo ou refletindo... Eu não era docil nem rebelde à proposta. Sentia-me aturdido. Uma parte de mim mesmo dizia que sim, mas outra dizia que não.\n",
      "\n",
      "Eu escrevia desvairadamente no papel com uma ponta de lapis. Traçava palavras, frases, versos e figuras geométricas ao acaso. Não era um trabalho manual. Mas havia uma logica na minha escrita: eu estava a criar um poema que começava com \"arma virumque cano\" e terminaria com \"Virgilio\".\n",
      "\n",
      "Meu pae viu o papel, leu as linhas, e disse: — Virgilio! Erais tu, meu rapaz? A tua noiva chama-se justamente Virgilia.\n",
      "####################\n",
      "Aqui está a continuação do texto:\n",
      "\n",
      "—Era o que me dizia a minha dama interior, com um modo austero e meigo a um tempo; é o que ella me dizia, reclinada ao peitoril da janella aberta.\n",
      "\n",
      "Mas por que diabo eu estava tão contente? Talvez fosse porque, no fundo do fundo do meu espírito, eu sabia que havia feito algo certo. Talvez fosse porque, finalmente, havia encontrado um pouco de sanidade nessa loucura. O que sei é que, enquanto estava sentado na minha cadeira, olhando para a meia-dobra no bolso do meu casaco, eu senti uma sensação de alívio.\n",
      "\n",
      "E então, subitamente, houve uma knock á porta. Era Virgilia. Ela entrou e fez um sorriso muito largo.\n",
      "\n",
      "—Eu sabia que você teria feito a coisa certa! disse ela. —Você é o melhor homem do mundo!\n",
      "\n",
      "Ela se aproximou de mim e me beijou na mão. Eu senti um arrepio na espinha, mas não era de medo ou repulsa. Era de surpresa e alegria.\n",
      "\n",
      "—Eu vou te contar uma coisa, disse ela. —Eu estou tão feliz em te ver aqui que quero celebrar com você.\n",
      "\n",
      "Ela me levou ao terraço e pediu um coquetel. Eu aceitei e sentei-me ao seu lado.\n",
      "\n",
      "—O que é que você quer dizer? perguntei eu.\n",
      "\n",
      "—Eu quero dizer que eu estou apaixonada por você, disse ela. —Eu sei que estamos em uma situação difícil, mas eu não posso nem pensar nisso sem você.\n",
      "\n",
      "Ela me olhou nos olhos e eu senti o meu coração bater mais forte.\n",
      "\n",
      "—Eu sinto a mesma coisa, disse eu. —Eu estou apaixonado por você também.\n",
      "\n",
      "Nós nos abraçamos e o mundo ao nosso redor desapareceu.\n",
      "\n",
      "E então, tudo ficou tranquilo. Nós fomos para casa, com as mãos na mão, e passamos a noite em um aperto de mão, sem pensar em nada, apenas felizes por estar juntos.\n",
      "\n",
      "Mas, como sempre, o destino tem seus planos. Amanhã, quando acordei, eu senti que algo estava errado. Eu me levantei da cama e fui para a cozinha procurar água para beber.\n",
      "\n",
      "E foi lá que eu vi. Era uma carta, na mesa, com o meu nome em letras grandes. Eu abri a letra e levei um choque ao ver as palavras.\n",
      "\n",
      "“Você é um cobarde”, disse a carta. “Você roubou a moeda de alguém e não fez nada para devolvê-la.”\n",
      "\n",
      "Eu fiquei chocado, sem saber o que dizer ou fazer. Eu sabia que eu havia feito a coisa certa, mas agora parecia que ninguém me entendia.\n",
      "\n",
      "E então, eu vi. Era Virgilia, à porta da cozinha, com um olhar de raiva nos seus olhos.\n",
      "\n",
      "“Você é um cobarde”, disse ela também. “Você me traiu.”\n",
      "\n",
      "Eu estava perdido. Eu não sabia o que dizer ou fazer.\n",
      "\n",
      "Mas então, eu senti algo dentro de mim. Foi uma sensação de justiça, de verdadeira justiça. Eu sabia que eu tinha feito a coisa certa e que eu não podia mudar o passado.\n",
      "\n",
      "Eu olhei para Virgilia e disse: —Eu não roubou a moeda. Mas se estiver perdida, é porque ela pertence ao homem certo. E se ele não sabe onde está, então é porque ele não sabe valorizar o que tem.\n",
      "\n",
      "Virgilia me olhou, surpresa, e depois ela sorriu.\n",
      "\n",
      "—Você é um homem honesto”, disse ela. —Eu gosto disso em você.”\n",
      "\n",
      "Ela me abraçou e eu senti a minha consciência limpa novamente.\n",
      "\n",
      "Mas, como sempre, o destino tem seus planos. Eu sabia que eu teria que enfrentar mais desafios, mas eu estava pronto. Eu sabia que eu era um homem honesto e que eu não podia mudar quem eu era.\n",
      "####################\n",
      "Parece que você está compartilhando uma obra literária, possivelmente um romance ou um livro de memórias, escrita em um estilo único e expressivo. A linguagem é rica e ornamentada, com uso de metáforas, alegorias e referências culturais que sugerem uma obra que pode ter sido escrita no início do século XX.\n",
      "\n",
      "A parte que você compartilhou parece ser um capítulo ou um trecho do livro, que fala sobre o autor'style e sua relação com as mulheres. A história de D. Placida é apresentada como um exemplo de como a autora pode ser generosa e abrir mão de segredos e confidências, talvez em troca de uma recompensa ou afeto.\n",
      "\n",
      "A descrição do almoço com Virgilia, mencionado no capítulo LXXIII, sugere um ambiente íntimo e romântico, onde a conversa é fluida e o vinho é servido como parte da ritualidade do encontro. A menção à \"denguices de D. Placida\" é particularmente interessante, pois pode sugerir que a autora está explorando temas de feminilidade, autoridade e poder.\n",
      "\n",
      "A história de D. Placida, apresentada no capítulo LXXIV, oferece uma visão mais profunda da mulher e suas lutas para sustentar-se e encontrar amor em um mundo onde elas não eram sempre valorizadas. A autora parece estar explorando a complexidade da personalidade de D. Placida, que é apresentada como uma mulher forte, independente e determinada, mas também vulnerável e necessitada de afeto.\n",
      "\n",
      "Gostaria de saber mais sobre o contexto em que essa obra foi escrita? Quem é a autora e quais são os temas principais do livro?\n",
      "####################\n",
      "Um texto muito introspectivo e emocional, que explora a complexidade das relações humanas e as fragilidades do amor. A cena descrita é particularmente tensa, com a Virgilia recuando após o beijo, como se sentisse o contato de uma boca de cadaver, sugerindo uma falta de intimidade e conexão emocional entre os dois personagens.\n",
      "\n",
      "A narrativa apresentada é muito poética e metafórica, com uma linguagem que evoca sensações e emoções mais do que descreve eventos concretos. O autor parece estar mais interessado em explorar a psicologia e as emoções dos personagens do que em contar um evento específico.\n",
      "\n",
      "A presença da carta anônima é um ponto de inflexão na narrativa, pois ela introduz uma tensão e uma ameaça que alteram drasticamente a dinâmica das relações entre os dois personagens. A reação de Virgilia à carta é particularmente interessante, pois ela mostra uma falta de surpresa e de emoção, o que sugere que ela já estava preparada para uma crise na relação.\n",
      "\n",
      "O personagem do Lobo Neves é também interessante, pois é apresentado como um homem complexo e fragil, que está sendo ameaçado por calúnias e suspeitas. Sua reação à carta é de ansiedade e desespero, o que sugere que ele não está preparado para enfrentar as consequências das suas ações.\n",
      "\n",
      "Em geral, este texto parece ser uma obra de ficção que explora temas como o amor, a intimidade, a confiança e a vulnerabilidade. A linguagem é rica e poética, e a narrativa é envolvente e introspectiva.\n",
      "####################\n",
      "Este texto parece ser um exfeito de uma obra literária, possivelmente um livro de memórias ou autoescrita, escrita em um estilo informal e conversacional. O autor apresenta-se como o \"eu\", que está contando suas histórias e experiências.\n",
      "\n",
      "O texto é dividido em capítulos, cada um com um título específico. O primeiro capítulo parece ser uma introdução, onde o autor fala sobre as suas inimigos e a sua reputação, afirmando que elas o acusavam de ser um \"bárbaro\" devido às suas práticas comerciais.\n",
      "\n",
      "O segundo capítulo é uma crítica à sociedade e às suas normas, onde o autor questiona a moralidade das pessoas e afirma que as coisas são mais complexas do que aparentam. Ele também faz uma piada sobre Machiavelli e como os outros ouvintes se comportaram quando ele repetiu uma frase que havia ouvido.\n",
      "\n",
      "O terceiro capítulo é um epitáfio, onde o autor escreve sobre a morte de uma pessoa chamada D. Eulália Damas cen da Brito, que morreu aos dezenove anos de idade. O epitáfio é simples e direto, apenas com duas linhas: \"AQUI JAZ / D. EULALIA DAMASCENA DE BRITO / MORTA\". \n",
      "\n",
      "O estilo do texto é informal e conversacional, com um tom de ironia e crítica social. O autor parece ser uma pessoa que não se importa com as convenções sociais e está disposta a falar a verdade sobre as coisas.\n",
      "####################\n",
      "Este texto parece ser uma parte de um livro ou romance, possivelmente escrito por Machado de Assis. A narrativa é caracteristicamente complexa e aberta à interpretação, apresentando uma série de personagens e eventos que se entrelaçam em um tecido rico e profundo.\n",
      "\n",
      "A história parece seguir a vida do autor/narrador, que é apresentado como alguém que enfrenta desafios financeiros e sociais. Ele é descrito como alguém que trabalha com uma \"algibeira\", sugerindo que ele é pobre ou semi-pobre, e que precisa buscar esmolas.\n",
      "\n",
      "A entrada do Quincas Borba no cenário é marcante, pois ele é apresentado como um personagem complexo e problemático. Ele é alguém que sofre de semi-demência e está lutando para manter a sua sanidade. A sua presença no livro traz uma sensação de melancolia e tristeza.\n",
      "\n",
      "A morte do Quincas Borba e a do seu amigo Marcella são eventos significativos na narrativa, e parecem ter um impacto profundo no autor/narrador.\n",
      "\n",
      "O livro parece terminar com uma série de negativas, sugerindo que o autor/narrador não teve sucesso em suas ambições ou alcançou seus objetivos. No entanto, ele também parece ter conseguido evitar algumas das desventuras mais graves da vida, como a morte prematura de amigos e a pobreza extrema.\n",
      "\n",
      "A última frase do texto, \"Não tive filhos, não transmitti a nenhuma creatura o legado da nossa miseria\", é particularmente notável. Ela sugere que o autor/narrador não teve uma família ou herdou nada dos seus antepassados, o que pode ser visto como um ponto de culminação na série de negativas apresentadas no livro.\n",
      "\n",
      "Em geral, este texto parece ser uma obra literária complexa e aberta à interpretação, que explora temas como a miseria, a pobreza, a semi-demência e a busca pelo sucesso.\n",
      "####################\n"
     ]
    }
   ],
   "source": [
    "async for step in app.astream(\n",
    "    {\"contents\": [doc.page_content for doc in documents]},\n",
    "    stream_mode=\"values\",\n",
    "):\n",
    "    if summary := step.get(\"summary\"):\n",
    "        print(summary)\n",
    "        print(\"#\"*20)"
   ]
  },
  {
   "cell_type": "code",
   "execution_count": null,
   "id": "ed72b0bb-4a55-4278-b154-975296ade430",
   "metadata": {},
   "outputs": [],
   "source": []
  },
  {
   "cell_type": "code",
   "execution_count": null,
   "id": "2892658f-7a0c-474f-a413-73ce7c163a8e",
   "metadata": {},
   "outputs": [],
   "source": []
  }
 ],
 "metadata": {
  "kernelspec": {
   "display_name": "Python 3 (ipykernel)",
   "language": "python",
   "name": "python3"
  },
  "language_info": {
   "codemirror_mode": {
    "name": "ipython",
    "version": 3
   },
   "file_extension": ".py",
   "mimetype": "text/x-python",
   "name": "python",
   "nbconvert_exporter": "python",
   "pygments_lexer": "ipython3",
   "version": "3.11.9"
  }
 },
 "nbformat": 4,
 "nbformat_minor": 5
}
