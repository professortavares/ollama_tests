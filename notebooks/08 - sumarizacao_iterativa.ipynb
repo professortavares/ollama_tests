{
 "cells": [
  {
   "cell_type": "markdown",
   "id": "50b8234c-a54c-4383-a32f-3393a2bdafdb",
   "metadata": {},
   "source": [
    "# Sumarização de textos longos de forma iterativa\n",
    "\n",
    "ref.: https://python.langchain.com/docs/how_to/summarize_refine/"
   ]
  },
  {
   "cell_type": "code",
   "execution_count": 1,
   "id": "1ecb9dde-15f5-4622-b78a-2d81bc924973",
   "metadata": {},
   "outputs": [
    {
     "name": "stderr",
     "output_type": "stream",
     "text": [
      "USER_AGENT environment variable not set, consider setting it to identify your requests.\n"
     ]
    }
   ],
   "source": [
    "from langchain_ollama import ChatOllama\n",
    "from langchain_community.document_loaders import WebBaseLoader\n",
    "from langchain_core.output_parsers import StrOutputParser\n",
    "from langchain_core.prompts import ChatPromptTemplate\n",
    "from langchain_text_splitters import CharacterTextSplitter\n",
    "from langchain_core.runnables import RunnableConfig\n",
    "\n",
    "import operator\n",
    "from typing import Annotated, List, Literal, TypedDict\n",
    "\n",
    "from langchain.chains.combine_documents.reduce import (\n",
    "    acollapse_docs,\n",
    "    split_list_of_docs,\n",
    ")\n",
    "from langchain_core.documents import Document\n",
    "from langgraph.constants import Send\n",
    "from langgraph.graph import END, START, StateGraph\n",
    "from IPython.display import Image\n",
    "from IPython.display import display, Markdown"
   ]
  },
  {
   "cell_type": "markdown",
   "id": "9d4eac70-4fd6-499a-bdcb-a12665e2d50f",
   "metadata": {},
   "source": [
    "## Utilização do llama3.2 com interface via ollama"
   ]
  },
  {
   "cell_type": "code",
   "execution_count": 2,
   "id": "08847949-3ca2-4efe-9242-34a86c21f51b",
   "metadata": {},
   "outputs": [],
   "source": [
    "# Inicialize o modelo ChatOllama\n",
    "llm = ChatOllama(\n",
    "    model=\"llama3.2\",\n",
    "    temperature=0.1)"
   ]
  },
  {
   "cell_type": "code",
   "execution_count": 3,
   "id": "300a6518-a108-41ec-a6bf-a9d4b26b6096",
   "metadata": {},
   "outputs": [
    {
     "data": {
      "text/plain": [
       "359460"
      ]
     },
     "execution_count": 3,
     "metadata": {},
     "output_type": "execute_result"
    }
   ],
   "source": [
    "# Função para ler o conteúdo de um arquivo .txt\n",
    "def load_text_from_file(file_path: str) -> List[Document]:\n",
    "    with open(file_path, 'r', encoding='utf-8') as file:\n",
    "        content = file.read()\n",
    "    return [Document(page_content=content)]\n",
    "\n",
    "# Carrega o arquivo .txt\n",
    "docs = load_text_from_file(\"./memorias_postumas_bras_cubas.txt\")\n",
    "len(docs[0].page_content)"
   ]
  },
  {
   "cell_type": "code",
   "execution_count": 4,
   "id": "cb6c25fc-110d-4c79-bdb3-b5f4c92fd9df",
   "metadata": {},
   "outputs": [
    {
     "data": {
      "text/plain": [
       "langchain_core.documents.base.Document"
      ]
     },
     "execution_count": 4,
     "metadata": {},
     "output_type": "execute_result"
    }
   ],
   "source": [
    "type(docs[0])"
   ]
  },
  {
   "cell_type": "code",
   "execution_count": 5,
   "id": "987bc29f-d882-45b9-b43e-33adb3c9baa9",
   "metadata": {},
   "outputs": [
    {
     "name": "stdout",
     "output_type": "stream",
     "text": [
      "Generated 15 documents.\n"
     ]
    }
   ],
   "source": [
    "text_splitter = CharacterTextSplitter.from_tiktoken_encoder(\n",
    "    chunk_size=10_000, chunk_overlap=100\n",
    ")\n",
    "documents  = text_splitter.split_documents(docs)\n",
    "print(f\"Generated {len(documents)} documents.\")"
   ]
  },
  {
   "cell_type": "code",
   "execution_count": 6,
   "id": "4dad4276-3540-4318-b61e-e6c968ac5ac4",
   "metadata": {},
   "outputs": [
    {
     "data": {
      "text/plain": [
       "'AO LEITOR\\nQue, no alto do principal de seus livros, confessasse Stendhal havel-o escripto para cem leitores, cousa é que admira e consterna. O que não admira, nem provavelmente consternará é se este outro livro não tiver os cem leitores de Stendhal, nem cincoenta, nem vinte, e quando muito, dez. Dez? Talvez cinco. Trata-se, na verdade, de uma obra diffusa, na qual eu, Braz Cubas, se adoptei a fórma livre de um Sterne, de um Lamb, ou de um de Maistre, não sei se lhe metti algumas rabugens de pessimismo. Póde ser. Obra de finado. Escrevi-a com a penna da galhofa e a tinta da melancholia; e não é difficil antever o que poderá sair desse connubio. Accresce que a gente grave achará no livro umas apparencias de puro romance, ao passo que a gente frivola não achará nelle o seu romance usual; e eil-o ahi fica privado da estima dos graves e do amor dos frivolos, que são as duas columnas maximas da opinião.\\n\\nMas eu ainda espero angariar as sympatias da opinião, e o meio efficaz para isso é fugir'"
      ]
     },
     "execution_count": 6,
     "metadata": {},
     "output_type": "execute_result"
    }
   ],
   "source": [
    "documents[0].page_content[:1000]"
   ]
  },
  {
   "cell_type": "code",
   "execution_count": 7,
   "id": "62bb3bf0-97fc-4733-9075-32dceac1ab88",
   "metadata": {},
   "outputs": [],
   "source": [
    "# Initial summary\n",
    "initial_prompt = \"\"\"\n",
    "Leia o seguinte trecho de um livro em português e faça um resumo claro e objetivo. No resumo:\n",
    "\n",
    "1. Descreva apenas os personagens principais que aparecem nos resumos, detalhando seus papéis na história, sem fazer suposições além do que é mencionado.\n",
    "2. Apresente de maneira simples o enredo, explicando os principais acontecimentos descritos nos resumos, de forma organizada e sequencial.\n",
    "3. Use uma linguagem acessível, para que mesmo uma pessoa leiga possa entender do que se trata a história.\n",
    "4. Consolide os principais temas e eventos abordados nos resumos, organizando-os em uma narrativa coesa e fluida.\n",
    "5. Evite mencionar informações que não estejam presentes no trecho ou conclusões sobre a trama geral.\n",
    "6. Evite citar o nome do livro \n",
    "\n",
    "Segue o trecho do livro:\n",
    "\n",
    "{context}\n",
    "\"\"\"\n",
    "\n",
    "summarize_prompt = ChatPromptTemplate(\n",
    "    [\n",
    "        (\"human\", initial_prompt),\n",
    "    ]\n",
    ")\n",
    "initial_summary_chain = summarize_prompt | llm | StrOutputParser()\n",
    "\n",
    "# Refining the summary with new docs\n",
    "refine_template = \"\"\"\n",
    "Leia o seguinte trecho de um livro em português e faça um resumo claro e objetivo. No resumo:\n",
    "\n",
    "1. Descreva apenas os personagens principais mencionados no novo trecho, explicando brevemente seus papéis e suas ações, sem fazer suposições além do que está explícito no texto.\n",
    "2. Apresente de maneira simples e clara os eventos e o enredo do novo trecho, limitando-se ao que está descrito, sem adicionar informações externas ou inferências.\n",
    "3. Atualize o resumo existente, integrando os novos detalhes do trecho fornecido à narrativa já construída, de forma coesa e fluida.\n",
    "4. Use uma linguagem acessível para que mesmo uma pessoa leiga consiga entender do que se trata a história.\n",
    "5. Evite citar qualquer outro detalhe que não esteja presente no trecho.\n",
    "6. Evite citar o nome do livro \n",
    "\n",
    "Resumo atual até o momento: \n",
    "\n",
    "{existing_answer}\n",
    "\n",
    "Considere agora o novo trecho:\n",
    "\n",
    "{context}\n",
    "\"\"\"\n",
    "refine_prompt = ChatPromptTemplate([(\"human\", refine_template)])\n",
    "\n",
    "refine_summary_chain = refine_prompt | llm | StrOutputParser()\n",
    "\n",
    "\n",
    "# We will define the state of the graph to hold the document\n",
    "# contents and summary. We also include an index to keep track\n",
    "# of our position in the sequence of documents.\n",
    "class State(TypedDict):\n",
    "    contents: List[str]\n",
    "    index: int\n",
    "    summary: str\n",
    "\n",
    "\n",
    "# We define functions for each node, including a node that generates\n",
    "# the initial summary:\n",
    "async def generate_initial_summary(state: State, config: RunnableConfig):\n",
    "    summary = await initial_summary_chain.ainvoke(\n",
    "        state[\"contents\"][0],\n",
    "        config,\n",
    "    )\n",
    "    return {\"summary\": summary, \"index\": 1}\n",
    "\n",
    "\n",
    "# And a node that refines the summary based on the next document\n",
    "async def refine_summary(state: State, config: RunnableConfig):\n",
    "    content = state[\"contents\"][state[\"index\"]]\n",
    "    summary = await refine_summary_chain.ainvoke(\n",
    "        {\"existing_answer\": state[\"summary\"], \"context\": content},\n",
    "        config,\n",
    "    )\n",
    "\n",
    "    return {\"summary\": summary, \"index\": state[\"index\"] + 1}\n",
    "\n",
    "\n",
    "# Here we implement logic to either exit the application or refine\n",
    "# the summary.\n",
    "def should_refine(state: State) -> Literal[\"refine_summary\", END]:\n",
    "    if state[\"index\"] >= len(state[\"contents\"]):\n",
    "        return END\n",
    "    else:\n",
    "        return \"refine_summary\"\n",
    "\n",
    "\n",
    "graph = StateGraph(State)\n",
    "graph.add_node(\"generate_initial_summary\", generate_initial_summary)\n",
    "graph.add_node(\"refine_summary\", refine_summary)\n",
    "\n",
    "graph.add_edge(START, \"generate_initial_summary\")\n",
    "graph.add_conditional_edges(\"generate_initial_summary\", should_refine)\n",
    "graph.add_conditional_edges(\"refine_summary\", should_refine)\n",
    "app = graph.compile()"
   ]
  },
  {
   "cell_type": "code",
   "execution_count": 8,
   "id": "be55b552-302e-47c7-b5ff-31e4bb4401ae",
   "metadata": {},
   "outputs": [
    {
     "data": {
      "image/jpeg": "[encoded data removed]",
      "text/plain": [
       "<IPython.core.display.Image object>"
      ]
     },
     "execution_count": 8,
     "metadata": {},
     "output_type": "execute_result"
    }
   ],
   "source": [
    "from IPython.display import Image\n",
    "\n",
    "Image(app.get_graph().draw_mermaid_png())"
   ]
  },
  {
   "cell_type": "code",
   "execution_count": 9,
   "id": "4bcdf4cc-ed8b-46a3-86d4-fb0eb4314d7d",
   "metadata": {},
   "outputs": [
    {
     "name": "stdout",
     "output_type": "stream",
     "text": [
      "['contents']\n",
      "['contents', 'index', 'summary']\n",
      "['contents', 'index', 'summary']\n",
      "['contents', 'index', 'summary']\n",
      "['contents', 'index', 'summary']\n",
      "['contents', 'index', 'summary']\n",
      "['contents', 'index', 'summary']\n",
      "['contents', 'index', 'summary']\n",
      "['contents', 'index', 'summary']\n",
      "['contents', 'index', 'summary']\n",
      "['contents', 'index', 'summary']\n",
      "['contents', 'index', 'summary']\n",
      "['contents', 'index', 'summary']\n",
      "['contents', 'index', 'summary']\n",
      "['contents', 'index', 'summary']\n",
      "['contents', 'index', 'summary']\n"
     ]
    }
   ],
   "source": [
    "async for step in app.astream(\n",
    "    {\"contents\": [doc.page_content for doc in documents]},\n",
    "    stream_mode=\"values\",\n",
    "):\n",
    "    print(list(step))\n"
   ]
  },
  {
   "cell_type": "code",
   "execution_count": 10,
   "id": "ed72b0bb-4a55-4278-b154-975296ade430",
   "metadata": {},
   "outputs": [
    {
     "data": {
      "text/markdown": [
       "**Resumo dos Personagens Principais**\n",
       "\n",
       "* Quincas Borba: um personagem complexo e multifacetado que combina nobreza e humildade. Ele é capaz de expressar orgulho e autoestima, mas também se sente humilde e servil.\n",
       "* Marcella: uma mulher que morreu no hospital da Ordem Terceira, onde Quincas Borba estava envolvido. Sua morte é um evento trágico que afeta Quincas Borba profundamente.\n",
       "* Eugenia: a filha de D. Eusebia e do Quincas Borba. Ela é mencionada como uma pessoa coxa e triste, mas sua presença não é significativa no final do livro.\n",
       "\n",
       "**Resumo dos Capítulos**\n",
       "\n",
       "* CAPITULO CLIX: O Quincas Borba retorna após seis meses de ausência e apresenta-se em um estado de semi-demência. Ele afirma que queimou o manuscrito completo e está recomeçando a escrever.\n",
       "* CAPITULO CLX: Este capítulo é todo de negativas, mencionando as faltas do autor (não alcançar a celebridade do emplasto, não ser ministro, etc.) e destacando a boa fortuna de não ter sofrido morte ou semi-demência.\n",
       "\n",
       "**Resumo Geral**\n",
       "\n",
       "O livro termina com o Quincas Borba em um estado de semi-demência, queimando o manuscrito completo e recomeçando a escrever. O autor do livro não alcançou a celebridade do emplasto, não foi ministro ou califa, mas conseguiu evitar sofrer morte ou semi-demência. No final, ele se depara com a negativa de ter filhos, um saldo que é uma conclusão triste e reflexiva para o livro."
      ],
      "text/plain": [
       "<IPython.core.display.Markdown object>"
      ]
     },
     "metadata": {},
     "output_type": "display_data"
    }
   ],
   "source": [
    "display(Markdown(step['summary']))"
   ]
  },
  {
   "cell_type": "code",
   "execution_count": 11,
   "id": "2892658f-7a0c-474f-a413-73ce7c163a8e",
   "metadata": {},
   "outputs": [
    {
     "data": {
      "text/plain": [
       "1372"
      ]
     },
     "execution_count": 11,
     "metadata": {},
     "output_type": "execute_result"
    }
   ],
   "source": [
    "len(step['summary'])"
   ]
  }
 ],
 "metadata": {
  "kernelspec": {
   "display_name": "Python 3 (ipykernel)",
   "language": "python",
   "name": "python3"
  },
  "language_info": {
   "codemirror_mode": {
    "name": "ipython",
    "version": 3
   },
   "file_extension": ".py",
   "mimetype": "text/x-python",
   "name": "python",
   "nbconvert_exporter": "python",
   "pygments_lexer": "ipython3",
   "version": "3.11.9"
  }
 },
 "nbformat": 4,
 "nbformat_minor": 5
}
