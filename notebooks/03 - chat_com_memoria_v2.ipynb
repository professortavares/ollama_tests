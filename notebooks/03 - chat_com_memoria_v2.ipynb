{
 "cells": [
  {
   "cell_type": "markdown",
   "id": "31dc4740-0875-418f-b79d-e081d937b906",
   "metadata": {},
   "source": [
    "## Simulação de uma LLM com memória da conversa (versão mais moderna do framework)\n",
    "\n",
    "ref.: \n",
    "* https://python.langchain.com/docs/how_to/message_history/\n",
    "* https://www.langchain.com/langgraph\n",
    "\n",
    "**todo**:\n",
    "- Tentar gerenciar a memória da conversa de forma automatizada"
   ]
  },
  {
   "cell_type": "code",
   "execution_count": 1,
   "id": "e183fc41-5672-4740-881b-3dad338dd67f",
   "metadata": {},
   "outputs": [],
   "source": [
    "from langchain_ollama import ChatOllama\n",
    "from langchain_core.messages import HumanMessage\n",
    "from langgraph.checkpoint.memory import MemorySaver\n",
    "from langgraph.graph import START, MessagesState, StateGraph\n",
    "from langchain_core.messages import RemoveMessage"
   ]
  },
  {
   "cell_type": "markdown",
   "id": "b20c92cc-caac-4f7b-af1a-d9b4b1837e15",
   "metadata": {},
   "source": [
    "## Utilização do llama3.1 com interface via ollama"
   ]
  },
  {
   "cell_type": "code",
   "execution_count": 2,
   "id": "13ec592a-9362-4242-b843-d208466d34c4",
   "metadata": {},
   "outputs": [],
   "source": [
    "llm = ChatOllama(model=\"llama3.1:latest\")\n",
    "workflow = StateGraph(state_schema=MessagesState)\n",
    "\n",
    "def call_model(state: MessagesState):\n",
    "    response = llm.invoke(state[\"messages\"])\n",
    "    return {\"messages\": response}\n",
    "\n",
    "workflow.add_edge(START, \"model\")\n",
    "workflow.add_node(\"model\", call_model)\n",
    "\n",
    "memory = MemorySaver()\n",
    "app = workflow.compile(checkpointer=memory)"
   ]
  },
  {
   "cell_type": "markdown",
   "id": "131b56a5-76e4-48ba-a37f-9518568e18b6",
   "metadata": {},
   "source": [
    "## Pergunta para iniciar a conversa"
   ]
  },
  {
   "cell_type": "code",
   "execution_count": 3,
   "id": "24196b08-37af-492e-87f2-730a003cdf6b",
   "metadata": {},
   "outputs": [
    {
     "name": "stdout",
     "output_type": "stream",
     "text": [
      "==================================\u001b[1m Ai Message \u001b[0m==================================\n",
      "\n",
      "Físico alemão nascido em 1879 e falecido em 1955. É considerado um dos mais influentes físicos da história, cujas teorias revolucionaram os conceitos de espaço, tempo e gravidade.\n",
      "\n",
      "Seu Teoria da Relatividade mudou o modo como pensamos sobre o universo, destacando-se por suas contribuições à Física Teórica.\n"
     ]
    }
   ],
   "source": [
    "config = {\"configurable\": {\"thread_id\": \"abc123\"}}\n",
    "\n",
    "query = \"Quem foi Albert Einstein?\"\n",
    "input_messages = [HumanMessage(query)]\n",
    "output = app.invoke({\"messages\": input_messages}, config)\n",
    "output[\"messages\"][-1].pretty_print()"
   ]
  },
  {
   "cell_type": "code",
   "execution_count": 4,
   "id": "62ed7c0b-e652-4f3f-b043-0e45589be19b",
   "metadata": {},
   "outputs": [
    {
     "data": {
      "text/plain": [
       "[HumanMessage(content='Quem foi Albert Einstein?', additional_kwargs={}, response_metadata={}, id='049fe12c-587a-4923-abfc-b6321947c782'),\n",
       " AIMessage(content='Físico alemão nascido em 1879 e falecido em 1955. É considerado um dos mais influentes físicos da história, cujas teorias revolucionaram os conceitos de espaço, tempo e gravidade.\\n\\nSeu Teoria da Relatividade mudou o modo como pensamos sobre o universo, destacando-se por suas contribuições à Física Teórica.', additional_kwargs={}, response_metadata={'model': 'llama3.1:latest', 'created_at': '2024-10-05T12:17:06.581946678Z', 'message': {'role': 'assistant', 'content': ''}, 'done_reason': 'stop', 'done': True, 'total_duration': 5982654356, 'load_duration': 11165908, 'prompt_eval_count': 16, 'prompt_eval_duration': 387969000, 'eval_count': 90, 'eval_duration': 5532553000}, id='run-2d1fa02e-36a6-4960-97a7-26374c253d40-0', usage_metadata={'input_tokens': 16, 'output_tokens': 90, 'total_tokens': 106})]"
      ]
     },
     "execution_count": 4,
     "metadata": {},
     "output_type": "execute_result"
    }
   ],
   "source": [
    "output[\"messages\"]"
   ]
  },
  {
   "cell_type": "markdown",
   "id": "128295bf-a454-4819-874b-85a01d393717",
   "metadata": {},
   "source": [
    "## O modelo consegue se lembrar do que acabou de responder"
   ]
  },
  {
   "cell_type": "code",
   "execution_count": 5,
   "id": "ef7c4a14-592a-4f12-a607-59f156a0c1ec",
   "metadata": {},
   "outputs": [
    {
     "name": "stdout",
     "output_type": "stream",
     "text": [
      "==================================\u001b[1m Ai Message \u001b[0m==================================\n",
      "\n",
      "Eu disse que Albert Einstein foi um dos físicos mais influentes de todos os tempos e que ele desenvolveu a Teoria da Relatividade, que mudou a forma como as pessoas pensam sobre espaço, tempo e gravidade. Além disso, mencionei que ele nasceu em 1879 e morreu em 1955.\n",
      "\n",
      "Quer saber mais sobre sua vida ou suas contribuições para a física? Estou aqui para ajudar!\n"
     ]
    }
   ],
   "source": [
    "query = \"O que você disse?\"\n",
    "input_messages = [HumanMessage(query)]\n",
    "output = app.invoke({\"messages\": input_messages}, config)\n",
    "output[\"messages\"][-1].pretty_print()"
   ]
  },
  {
   "cell_type": "code",
   "execution_count": 6,
   "id": "54792fd1-4ef5-4158-b8bc-ef554a9e8c0e",
   "metadata": {},
   "outputs": [
    {
     "data": {
      "text/plain": [
       "[HumanMessage(content='Quem foi Albert Einstein?', additional_kwargs={}, response_metadata={}, id='049fe12c-587a-4923-abfc-b6321947c782'),\n",
       " AIMessage(content='Físico alemão nascido em 1879 e falecido em 1955. É considerado um dos mais influentes físicos da história, cujas teorias revolucionaram os conceitos de espaço, tempo e gravidade.\\n\\nSeu Teoria da Relatividade mudou o modo como pensamos sobre o universo, destacando-se por suas contribuições à Física Teórica.', additional_kwargs={}, response_metadata={'model': 'llama3.1:latest', 'created_at': '2024-10-05T12:17:06.581946678Z', 'message': {'role': 'assistant', 'content': ''}, 'done_reason': 'stop', 'done': True, 'total_duration': 5982654356, 'load_duration': 11165908, 'prompt_eval_count': 16, 'prompt_eval_duration': 387969000, 'eval_count': 90, 'eval_duration': 5532553000}, id='run-2d1fa02e-36a6-4960-97a7-26374c253d40-0', usage_metadata={'input_tokens': 16, 'output_tokens': 90, 'total_tokens': 106}),\n",
       " HumanMessage(content='O que você disse?', additional_kwargs={}, response_metadata={}, id='66f03933-b699-4871-9e70-6e18f5ccec76'),\n",
       " AIMessage(content='Eu disse que Albert Einstein foi um dos físicos mais influentes de todos os tempos e que ele desenvolveu a Teoria da Relatividade, que mudou a forma como as pessoas pensam sobre espaço, tempo e gravidade. Além disso, mencionei que ele nasceu em 1879 e morreu em 1955.\\n\\nQuer saber mais sobre sua vida ou suas contribuições para a física? Estou aqui para ajudar!', additional_kwargs={}, response_metadata={'model': 'llama3.1:latest', 'created_at': '2024-10-05T12:17:13.172797258Z', 'message': {'role': 'assistant', 'content': ''}, 'done_reason': 'stop', 'done': True, 'total_duration': 6574818512, 'load_duration': 63022471, 'prompt_eval_count': 120, 'prompt_eval_duration': 160489000, 'eval_count': 99, 'eval_duration': 6200748000}, id='run-35cd655d-c524-4c41-b27a-b9c365f48da9-0', usage_metadata={'input_tokens': 120, 'output_tokens': 99, 'total_tokens': 219})]"
      ]
     },
     "execution_count": 6,
     "metadata": {},
     "output_type": "execute_result"
    }
   ],
   "source": [
    "output[\"messages\"]"
   ]
  },
  {
   "cell_type": "code",
   "execution_count": 7,
   "id": "6246c289-78bc-4171-b464-9cd691ab4d4d",
   "metadata": {},
   "outputs": [
    {
     "name": "stdout",
     "output_type": "stream",
     "text": [
      "==================================\u001b[1m Ai Message \u001b[0m==================================\n",
      "\n",
      "Vou tentar explicar de outra forma!\n",
      "\n",
      "Albert Einstein foi um cientista famoso que viveu no século 20. Ele era muito inteligente e fez descobertas importantes sobre o universo.\n",
      "\n",
      "Duas das coisas mais importantes que ele fez foram:\n",
      "\n",
      "1. **Teoria da Relatividade**: Isso é como uma espécie de regra para entender como funciona o tempo e o espaço.\n",
      "2. **Equação E=mc²**: Isso mostra que a energia (E) é igual à massa (m) multiplicada pela velocidade da luz (c) ao quadrado.\n",
      "\n",
      "Em resumo, Einstein foi um cientista muito importante que fez coisas incríveis para entender o universo!\n"
     ]
    }
   ],
   "source": [
    "query = \"O que você disse? Ainda não consegui entender\"\n",
    "input_messages = [HumanMessage(query)]\n",
    "output = app.invoke({\"messages\": input_messages}, config)\n",
    "output[\"messages\"][-1].pretty_print()"
   ]
  },
  {
   "cell_type": "code",
   "execution_count": 8,
   "id": "ba830c69-5ad7-4890-b2f6-44fdf929e154",
   "metadata": {},
   "outputs": [
    {
     "data": {
      "text/plain": [
       "[HumanMessage(content='Quem foi Albert Einstein?', additional_kwargs={}, response_metadata={}, id='049fe12c-587a-4923-abfc-b6321947c782'),\n",
       " AIMessage(content='Físico alemão nascido em 1879 e falecido em 1955. É considerado um dos mais influentes físicos da história, cujas teorias revolucionaram os conceitos de espaço, tempo e gravidade.\\n\\nSeu Teoria da Relatividade mudou o modo como pensamos sobre o universo, destacando-se por suas contribuições à Física Teórica.', additional_kwargs={}, response_metadata={'model': 'llama3.1:latest', 'created_at': '2024-10-05T12:17:06.581946678Z', 'message': {'role': 'assistant', 'content': ''}, 'done_reason': 'stop', 'done': True, 'total_duration': 5982654356, 'load_duration': 11165908, 'prompt_eval_count': 16, 'prompt_eval_duration': 387969000, 'eval_count': 90, 'eval_duration': 5532553000}, id='run-2d1fa02e-36a6-4960-97a7-26374c253d40-0', usage_metadata={'input_tokens': 16, 'output_tokens': 90, 'total_tokens': 106}),\n",
       " HumanMessage(content='O que você disse?', additional_kwargs={}, response_metadata={}, id='66f03933-b699-4871-9e70-6e18f5ccec76'),\n",
       " AIMessage(content='Eu disse que Albert Einstein foi um dos físicos mais influentes de todos os tempos e que ele desenvolveu a Teoria da Relatividade, que mudou a forma como as pessoas pensam sobre espaço, tempo e gravidade. Além disso, mencionei que ele nasceu em 1879 e morreu em 1955.\\n\\nQuer saber mais sobre sua vida ou suas contribuições para a física? Estou aqui para ajudar!', additional_kwargs={}, response_metadata={'model': 'llama3.1:latest', 'created_at': '2024-10-05T12:17:13.172797258Z', 'message': {'role': 'assistant', 'content': ''}, 'done_reason': 'stop', 'done': True, 'total_duration': 6574818512, 'load_duration': 63022471, 'prompt_eval_count': 120, 'prompt_eval_duration': 160489000, 'eval_count': 99, 'eval_duration': 6200748000}, id='run-35cd655d-c524-4c41-b27a-b9c365f48da9-0', usage_metadata={'input_tokens': 120, 'output_tokens': 99, 'total_tokens': 219}),\n",
       " HumanMessage(content='O que você disse? Ainda não consegui entender', additional_kwargs={}, response_metadata={}, id='e1073e2e-ea92-4e7a-a0e0-f06966815062'),\n",
       " AIMessage(content='Vou tentar explicar de outra forma!\\n\\nAlbert Einstein foi um cientista famoso que viveu no século 20. Ele era muito inteligente e fez descobertas importantes sobre o universo.\\n\\nDuas das coisas mais importantes que ele fez foram:\\n\\n1. **Teoria da Relatividade**: Isso é como uma espécie de regra para entender como funciona o tempo e o espaço.\\n2. **Equação E=mc²**: Isso mostra que a energia (E) é igual à massa (m) multiplicada pela velocidade da luz (c) ao quadrado.\\n\\nEm resumo, Einstein foi um cientista muito importante que fez coisas incríveis para entender o universo!', additional_kwargs={}, response_metadata={'model': 'llama3.1:latest', 'created_at': '2024-10-05T12:17:23.326713136Z', 'message': {'role': 'assistant', 'content': ''}, 'done_reason': 'stop', 'done': True, 'total_duration': 10141471520, 'load_duration': 11777831, 'prompt_eval_count': 239, 'prompt_eval_duration': 205613000, 'eval_count': 153, 'eval_duration': 9615275000}, id='run-f3d9dc0d-37ac-473d-a3f0-82da638b714f-0', usage_metadata={'input_tokens': 239, 'output_tokens': 153, 'total_tokens': 392})]"
      ]
     },
     "execution_count": 8,
     "metadata": {},
     "output_type": "execute_result"
    }
   ],
   "source": [
    "output[\"messages\"]"
   ]
  },
  {
   "cell_type": "code",
   "execution_count": 9,
   "id": "776055a8-7dc0-41c5-8a1c-e5068a9ea7d3",
   "metadata": {},
   "outputs": [
    {
     "name": "stdout",
     "output_type": "stream",
     "text": [
      "==================================\u001b[1m Ai Message \u001b[0m==================================\n",
      "\n",
      "Albert Einstein nasceu em **Munique**, na Alemanha, em 14 de março de 1879.\n"
     ]
    }
   ],
   "source": [
    "query = \"Nasceu onde?\"\n",
    "input_messages = [HumanMessage(query)]\n",
    "output = app.invoke({\"messages\": input_messages}, config)\n",
    "output[\"messages\"][-1].pretty_print()"
   ]
  },
  {
   "cell_type": "code",
   "execution_count": 10,
   "id": "3fe000f7-effa-47c3-8af2-022cdf3f7d8a",
   "metadata": {},
   "outputs": [
    {
     "data": {
      "text/plain": [
       "[HumanMessage(content='Quem foi Albert Einstein?', additional_kwargs={}, response_metadata={}, id='049fe12c-587a-4923-abfc-b6321947c782'),\n",
       " AIMessage(content='Físico alemão nascido em 1879 e falecido em 1955. É considerado um dos mais influentes físicos da história, cujas teorias revolucionaram os conceitos de espaço, tempo e gravidade.\\n\\nSeu Teoria da Relatividade mudou o modo como pensamos sobre o universo, destacando-se por suas contribuições à Física Teórica.', additional_kwargs={}, response_metadata={'model': 'llama3.1:latest', 'created_at': '2024-10-05T12:17:06.581946678Z', 'message': {'role': 'assistant', 'content': ''}, 'done_reason': 'stop', 'done': True, 'total_duration': 5982654356, 'load_duration': 11165908, 'prompt_eval_count': 16, 'prompt_eval_duration': 387969000, 'eval_count': 90, 'eval_duration': 5532553000}, id='run-2d1fa02e-36a6-4960-97a7-26374c253d40-0', usage_metadata={'input_tokens': 16, 'output_tokens': 90, 'total_tokens': 106}),\n",
       " HumanMessage(content='O que você disse?', additional_kwargs={}, response_metadata={}, id='66f03933-b699-4871-9e70-6e18f5ccec76'),\n",
       " AIMessage(content='Eu disse que Albert Einstein foi um dos físicos mais influentes de todos os tempos e que ele desenvolveu a Teoria da Relatividade, que mudou a forma como as pessoas pensam sobre espaço, tempo e gravidade. Além disso, mencionei que ele nasceu em 1879 e morreu em 1955.\\n\\nQuer saber mais sobre sua vida ou suas contribuições para a física? Estou aqui para ajudar!', additional_kwargs={}, response_metadata={'model': 'llama3.1:latest', 'created_at': '2024-10-05T12:17:13.172797258Z', 'message': {'role': 'assistant', 'content': ''}, 'done_reason': 'stop', 'done': True, 'total_duration': 6574818512, 'load_duration': 63022471, 'prompt_eval_count': 120, 'prompt_eval_duration': 160489000, 'eval_count': 99, 'eval_duration': 6200748000}, id='run-35cd655d-c524-4c41-b27a-b9c365f48da9-0', usage_metadata={'input_tokens': 120, 'output_tokens': 99, 'total_tokens': 219}),\n",
       " HumanMessage(content='O que você disse? Ainda não consegui entender', additional_kwargs={}, response_metadata={}, id='e1073e2e-ea92-4e7a-a0e0-f06966815062'),\n",
       " AIMessage(content='Vou tentar explicar de outra forma!\\n\\nAlbert Einstein foi um cientista famoso que viveu no século 20. Ele era muito inteligente e fez descobertas importantes sobre o universo.\\n\\nDuas das coisas mais importantes que ele fez foram:\\n\\n1. **Teoria da Relatividade**: Isso é como uma espécie de regra para entender como funciona o tempo e o espaço.\\n2. **Equação E=mc²**: Isso mostra que a energia (E) é igual à massa (m) multiplicada pela velocidade da luz (c) ao quadrado.\\n\\nEm resumo, Einstein foi um cientista muito importante que fez coisas incríveis para entender o universo!', additional_kwargs={}, response_metadata={'model': 'llama3.1:latest', 'created_at': '2024-10-05T12:17:23.326713136Z', 'message': {'role': 'assistant', 'content': ''}, 'done_reason': 'stop', 'done': True, 'total_duration': 10141471520, 'load_duration': 11777831, 'prompt_eval_count': 239, 'prompt_eval_duration': 205613000, 'eval_count': 153, 'eval_duration': 9615275000}, id='run-f3d9dc0d-37ac-473d-a3f0-82da638b714f-0', usage_metadata={'input_tokens': 239, 'output_tokens': 153, 'total_tokens': 392}),\n",
       " HumanMessage(content='Nasceu onde?', additional_kwargs={}, response_metadata={}, id='6cfa969a-db83-41eb-a674-606ee0312496'),\n",
       " AIMessage(content='Albert Einstein nasceu em **Munique**, na Alemanha, em 14 de março de 1879.', additional_kwargs={}, response_metadata={'model': 'llama3.1:latest', 'created_at': '2024-10-05T12:17:25.529414699Z', 'message': {'role': 'assistant', 'content': ''}, 'done_reason': 'stop', 'done': True, 'total_duration': 2181731799, 'load_duration': 53355682, 'prompt_eval_count': 406, 'prompt_eval_duration': 167310000, 'eval_count': 26, 'eval_duration': 1547264000}, id='run-866259fb-e760-4f00-9973-baa747221a21-0', usage_metadata={'input_tokens': 406, 'output_tokens': 26, 'total_tokens': 432})]"
      ]
     },
     "execution_count": 10,
     "metadata": {},
     "output_type": "execute_result"
    }
   ],
   "source": [
    "output[\"messages\"]"
   ]
  },
  {
   "cell_type": "code",
   "execution_count": 11,
   "id": "5470ead2-9d5c-4fc6-806a-b6583391f18e",
   "metadata": {},
   "outputs": [
    {
     "name": "stdout",
     "output_type": "stream",
     "text": [
      "==================================\u001b[1m Ai Message \u001b[0m==================================\n",
      "\n",
      " Ele era filho de um comerciante judaico e cresceu em uma família modesta.\n",
      "\n",
      "Mas, é importante notar que ele não passou toda a sua vida na Alemanha. Com o advento da Primeira Guerra Mundial e a ascensão do nazismo, Einstein se mudou para outros países, como a Suíça, os Estados Unidos e a Inglaterra, onde continuou a trabalhar em suas pesquisas científicas.\n"
     ]
    }
   ],
   "source": [
    "query = \"Quando?\"\n",
    "output = app.invoke({\"messages\": input_messages}, config)\n",
    "output[\"messages\"][-1].pretty_print()"
   ]
  },
  {
   "cell_type": "code",
   "execution_count": 12,
   "id": "6fa8aa41-293b-4e01-be27-91c5f37301d3",
   "metadata": {},
   "outputs": [
    {
     "data": {
      "text/plain": [
       "[HumanMessage(content='Quem foi Albert Einstein?', additional_kwargs={}, response_metadata={}, id='049fe12c-587a-4923-abfc-b6321947c782'),\n",
       " AIMessage(content='Físico alemão nascido em 1879 e falecido em 1955. É considerado um dos mais influentes físicos da história, cujas teorias revolucionaram os conceitos de espaço, tempo e gravidade.\\n\\nSeu Teoria da Relatividade mudou o modo como pensamos sobre o universo, destacando-se por suas contribuições à Física Teórica.', additional_kwargs={}, response_metadata={'model': 'llama3.1:latest', 'created_at': '2024-10-05T12:17:06.581946678Z', 'message': {'role': 'assistant', 'content': ''}, 'done_reason': 'stop', 'done': True, 'total_duration': 5982654356, 'load_duration': 11165908, 'prompt_eval_count': 16, 'prompt_eval_duration': 387969000, 'eval_count': 90, 'eval_duration': 5532553000}, id='run-2d1fa02e-36a6-4960-97a7-26374c253d40-0', usage_metadata={'input_tokens': 16, 'output_tokens': 90, 'total_tokens': 106}),\n",
       " HumanMessage(content='O que você disse?', additional_kwargs={}, response_metadata={}, id='66f03933-b699-4871-9e70-6e18f5ccec76'),\n",
       " AIMessage(content='Eu disse que Albert Einstein foi um dos físicos mais influentes de todos os tempos e que ele desenvolveu a Teoria da Relatividade, que mudou a forma como as pessoas pensam sobre espaço, tempo e gravidade. Além disso, mencionei que ele nasceu em 1879 e morreu em 1955.\\n\\nQuer saber mais sobre sua vida ou suas contribuições para a física? Estou aqui para ajudar!', additional_kwargs={}, response_metadata={'model': 'llama3.1:latest', 'created_at': '2024-10-05T12:17:13.172797258Z', 'message': {'role': 'assistant', 'content': ''}, 'done_reason': 'stop', 'done': True, 'total_duration': 6574818512, 'load_duration': 63022471, 'prompt_eval_count': 120, 'prompt_eval_duration': 160489000, 'eval_count': 99, 'eval_duration': 6200748000}, id='run-35cd655d-c524-4c41-b27a-b9c365f48da9-0', usage_metadata={'input_tokens': 120, 'output_tokens': 99, 'total_tokens': 219}),\n",
       " HumanMessage(content='O que você disse? Ainda não consegui entender', additional_kwargs={}, response_metadata={}, id='e1073e2e-ea92-4e7a-a0e0-f06966815062'),\n",
       " AIMessage(content='Vou tentar explicar de outra forma!\\n\\nAlbert Einstein foi um cientista famoso que viveu no século 20. Ele era muito inteligente e fez descobertas importantes sobre o universo.\\n\\nDuas das coisas mais importantes que ele fez foram:\\n\\n1. **Teoria da Relatividade**: Isso é como uma espécie de regra para entender como funciona o tempo e o espaço.\\n2. **Equação E=mc²**: Isso mostra que a energia (E) é igual à massa (m) multiplicada pela velocidade da luz (c) ao quadrado.\\n\\nEm resumo, Einstein foi um cientista muito importante que fez coisas incríveis para entender o universo!', additional_kwargs={}, response_metadata={'model': 'llama3.1:latest', 'created_at': '2024-10-05T12:17:23.326713136Z', 'message': {'role': 'assistant', 'content': ''}, 'done_reason': 'stop', 'done': True, 'total_duration': 10141471520, 'load_duration': 11777831, 'prompt_eval_count': 239, 'prompt_eval_duration': 205613000, 'eval_count': 153, 'eval_duration': 9615275000}, id='run-f3d9dc0d-37ac-473d-a3f0-82da638b714f-0', usage_metadata={'input_tokens': 239, 'output_tokens': 153, 'total_tokens': 392}),\n",
       " HumanMessage(content='Nasceu onde?', additional_kwargs={}, response_metadata={}, id='6cfa969a-db83-41eb-a674-606ee0312496'),\n",
       " AIMessage(content='Albert Einstein nasceu em **Munique**, na Alemanha, em 14 de março de 1879.', additional_kwargs={}, response_metadata={'model': 'llama3.1:latest', 'created_at': '2024-10-05T12:17:25.529414699Z', 'message': {'role': 'assistant', 'content': ''}, 'done_reason': 'stop', 'done': True, 'total_duration': 2181731799, 'load_duration': 53355682, 'prompt_eval_count': 406, 'prompt_eval_duration': 167310000, 'eval_count': 26, 'eval_duration': 1547264000}, id='run-866259fb-e760-4f00-9973-baa747221a21-0', usage_metadata={'input_tokens': 406, 'output_tokens': 26, 'total_tokens': 432}),\n",
       " AIMessage(content=' Ele era filho de um comerciante judaico e cresceu em uma família modesta.\\n\\nMas, é importante notar que ele não passou toda a sua vida na Alemanha. Com o advento da Primeira Guerra Mundial e a ascensão do nazismo, Einstein se mudou para outros países, como a Suíça, os Estados Unidos e a Inglaterra, onde continuou a trabalhar em suas pesquisas científicas.', additional_kwargs={}, response_metadata={'model': 'llama3.1:latest', 'created_at': '2024-10-05T12:17:32.488080781Z', 'message': {'role': 'assistant', 'content': ''}, 'done_reason': 'stop', 'done': True, 'total_duration': 6935858742, 'load_duration': 14510681, 'prompt_eval_count': 431, 'prompt_eval_duration': 76337000, 'eval_count': 100, 'eval_duration': 6379353000}, id='run-52862076-d726-4020-9e84-2ad43b52049c-0', usage_metadata={'input_tokens': 431, 'output_tokens': 100, 'total_tokens': 531})]"
      ]
     },
     "execution_count": 12,
     "metadata": {},
     "output_type": "execute_result"
    }
   ],
   "source": [
    "output[\"messages\"]"
   ]
  },
  {
   "cell_type": "markdown",
   "id": "342167ff-f177-42f5-891a-833a8b1ac4de",
   "metadata": {},
   "source": [
    "## Testando o isolamento de sessões"
   ]
  },
  {
   "cell_type": "code",
   "execution_count": 13,
   "id": "99a4ca56-8713-4277-9d4f-4189f35d8c7b",
   "metadata": {},
   "outputs": [
    {
     "name": "stdout",
     "output_type": "stream",
     "text": [
      "==================================\u001b[1m Ai Message \u001b[0m==================================\n",
      "\n",
      "Nada, esta é a primeira mensagem do nosso diálogo. Como podemos começar? Quer conversar sobre algo em particular ou você gostaria de me perguntar algo? Eu estou aqui para ajudar.\n"
     ]
    }
   ],
   "source": [
    "# trocando a sessão\n",
    "config = {\"configurable\": {\"thread_id\": \"def234\"}}\n",
    "\n",
    "query = \"O que você disse por último?\"\n",
    "input_messages = [HumanMessage(query)]\n",
    "output = app.invoke({\"messages\": input_messages}, config)\n",
    "output[\"messages\"][-1].pretty_print()"
   ]
  },
  {
   "cell_type": "code",
   "execution_count": 14,
   "id": "38d50b61-6ea9-435c-9584-161c81dbc4d4",
   "metadata": {},
   "outputs": [
    {
     "data": {
      "text/plain": [
       "[HumanMessage(content='O que você disse por último?', additional_kwargs={}, response_metadata={}, id='3b11085d-5935-4142-8742-28460bc53f77'),\n",
       " AIMessage(content='Nada, esta é a primeira mensagem do nosso diálogo. Como podemos começar? Quer conversar sobre algo em particular ou você gostaria de me perguntar algo? Eu estou aqui para ajudar.', additional_kwargs={}, response_metadata={'model': 'llama3.1:latest', 'created_at': '2024-10-05T12:17:35.552126845Z', 'message': {'role': 'assistant', 'content': ''}, 'done_reason': 'stop', 'done': True, 'total_duration': 3044092748, 'load_duration': 53233769, 'prompt_eval_count': 17, 'prompt_eval_duration': 143901000, 'eval_count': 47, 'eval_duration': 2845742000}, id='run-3048ec87-30ec-45a5-9401-e7ea1998f94d-0', usage_metadata={'input_tokens': 17, 'output_tokens': 47, 'total_tokens': 64})]"
      ]
     },
     "execution_count": 14,
     "metadata": {},
     "output_type": "execute_result"
    }
   ],
   "source": [
    "output[\"messages\"]"
   ]
  },
  {
   "cell_type": "code",
   "execution_count": 15,
   "id": "b7e56f14-d68c-4771-b938-b0a4beb82d70",
   "metadata": {},
   "outputs": [
    {
     "name": "stdout",
     "output_type": "stream",
     "text": [
      "==================================\u001b[1m Ai Message \u001b[0m==================================\n",
      "\n",
      "Eu disse que Albert Einstein:\n",
      "\n",
      "* Nasceu na Alemanha (em Munique)\n",
      "* Se mudou para outros países como Suíça, EUA e Inglaterra devido à Primeira Guerra Mundial e ao nazismo.\n"
     ]
    }
   ],
   "source": [
    "# retornando a sessão anterior\n",
    "config = {\"configurable\": {\"thread_id\": \"abc123\"}}\n",
    "\n",
    "query = \"O que você disse por último?\"\n",
    "input_messages = [HumanMessage(query)]\n",
    "output = app.invoke({\"messages\": input_messages}, config)\n",
    "output[\"messages\"][-1].pretty_print()"
   ]
  },
  {
   "cell_type": "code",
   "execution_count": 16,
   "id": "4784abc4-8383-448e-93da-e80a274a5198",
   "metadata": {},
   "outputs": [
    {
     "data": {
      "text/plain": [
       "[HumanMessage(content='Quem foi Albert Einstein?', additional_kwargs={}, response_metadata={}, id='049fe12c-587a-4923-abfc-b6321947c782'),\n",
       " AIMessage(content='Físico alemão nascido em 1879 e falecido em 1955. É considerado um dos mais influentes físicos da história, cujas teorias revolucionaram os conceitos de espaço, tempo e gravidade.\\n\\nSeu Teoria da Relatividade mudou o modo como pensamos sobre o universo, destacando-se por suas contribuições à Física Teórica.', additional_kwargs={}, response_metadata={'model': 'llama3.1:latest', 'created_at': '2024-10-05T12:17:06.581946678Z', 'message': {'role': 'assistant', 'content': ''}, 'done_reason': 'stop', 'done': True, 'total_duration': 5982654356, 'load_duration': 11165908, 'prompt_eval_count': 16, 'prompt_eval_duration': 387969000, 'eval_count': 90, 'eval_duration': 5532553000}, id='run-2d1fa02e-36a6-4960-97a7-26374c253d40-0', usage_metadata={'input_tokens': 16, 'output_tokens': 90, 'total_tokens': 106}),\n",
       " HumanMessage(content='O que você disse?', additional_kwargs={}, response_metadata={}, id='66f03933-b699-4871-9e70-6e18f5ccec76'),\n",
       " AIMessage(content='Eu disse que Albert Einstein foi um dos físicos mais influentes de todos os tempos e que ele desenvolveu a Teoria da Relatividade, que mudou a forma como as pessoas pensam sobre espaço, tempo e gravidade. Além disso, mencionei que ele nasceu em 1879 e morreu em 1955.\\n\\nQuer saber mais sobre sua vida ou suas contribuições para a física? Estou aqui para ajudar!', additional_kwargs={}, response_metadata={'model': 'llama3.1:latest', 'created_at': '2024-10-05T12:17:13.172797258Z', 'message': {'role': 'assistant', 'content': ''}, 'done_reason': 'stop', 'done': True, 'total_duration': 6574818512, 'load_duration': 63022471, 'prompt_eval_count': 120, 'prompt_eval_duration': 160489000, 'eval_count': 99, 'eval_duration': 6200748000}, id='run-35cd655d-c524-4c41-b27a-b9c365f48da9-0', usage_metadata={'input_tokens': 120, 'output_tokens': 99, 'total_tokens': 219}),\n",
       " HumanMessage(content='O que você disse? Ainda não consegui entender', additional_kwargs={}, response_metadata={}, id='e1073e2e-ea92-4e7a-a0e0-f06966815062'),\n",
       " AIMessage(content='Vou tentar explicar de outra forma!\\n\\nAlbert Einstein foi um cientista famoso que viveu no século 20. Ele era muito inteligente e fez descobertas importantes sobre o universo.\\n\\nDuas das coisas mais importantes que ele fez foram:\\n\\n1. **Teoria da Relatividade**: Isso é como uma espécie de regra para entender como funciona o tempo e o espaço.\\n2. **Equação E=mc²**: Isso mostra que a energia (E) é igual à massa (m) multiplicada pela velocidade da luz (c) ao quadrado.\\n\\nEm resumo, Einstein foi um cientista muito importante que fez coisas incríveis para entender o universo!', additional_kwargs={}, response_metadata={'model': 'llama3.1:latest', 'created_at': '2024-10-05T12:17:23.326713136Z', 'message': {'role': 'assistant', 'content': ''}, 'done_reason': 'stop', 'done': True, 'total_duration': 10141471520, 'load_duration': 11777831, 'prompt_eval_count': 239, 'prompt_eval_duration': 205613000, 'eval_count': 153, 'eval_duration': 9615275000}, id='run-f3d9dc0d-37ac-473d-a3f0-82da638b714f-0', usage_metadata={'input_tokens': 239, 'output_tokens': 153, 'total_tokens': 392}),\n",
       " HumanMessage(content='Nasceu onde?', additional_kwargs={}, response_metadata={}, id='6cfa969a-db83-41eb-a674-606ee0312496'),\n",
       " AIMessage(content='Albert Einstein nasceu em **Munique**, na Alemanha, em 14 de março de 1879.', additional_kwargs={}, response_metadata={'model': 'llama3.1:latest', 'created_at': '2024-10-05T12:17:25.529414699Z', 'message': {'role': 'assistant', 'content': ''}, 'done_reason': 'stop', 'done': True, 'total_duration': 2181731799, 'load_duration': 53355682, 'prompt_eval_count': 406, 'prompt_eval_duration': 167310000, 'eval_count': 26, 'eval_duration': 1547264000}, id='run-866259fb-e760-4f00-9973-baa747221a21-0', usage_metadata={'input_tokens': 406, 'output_tokens': 26, 'total_tokens': 432}),\n",
       " AIMessage(content=' Ele era filho de um comerciante judaico e cresceu em uma família modesta.\\n\\nMas, é importante notar que ele não passou toda a sua vida na Alemanha. Com o advento da Primeira Guerra Mundial e a ascensão do nazismo, Einstein se mudou para outros países, como a Suíça, os Estados Unidos e a Inglaterra, onde continuou a trabalhar em suas pesquisas científicas.', additional_kwargs={}, response_metadata={'model': 'llama3.1:latest', 'created_at': '2024-10-05T12:17:32.488080781Z', 'message': {'role': 'assistant', 'content': ''}, 'done_reason': 'stop', 'done': True, 'total_duration': 6935858742, 'load_duration': 14510681, 'prompt_eval_count': 431, 'prompt_eval_duration': 76337000, 'eval_count': 100, 'eval_duration': 6379353000}, id='run-52862076-d726-4020-9e84-2ad43b52049c-0', usage_metadata={'input_tokens': 431, 'output_tokens': 100, 'total_tokens': 531}),\n",
       " HumanMessage(content='O que você disse por último?', additional_kwargs={}, response_metadata={}, id='0f366f7a-5b06-4090-982e-3a8c81b16151'),\n",
       " AIMessage(content='Eu disse que Albert Einstein:\\n\\n* Nasceu na Alemanha (em Munique)\\n* Se mudou para outros países como Suíça, EUA e Inglaterra devido à Primeira Guerra Mundial e ao nazismo.', additional_kwargs={}, response_metadata={'model': 'llama3.1:latest', 'created_at': '2024-10-05T12:17:40.393450562Z', 'message': {'role': 'assistant', 'content': ''}, 'done_reason': 'stop', 'done': True, 'total_duration': 4820996156, 'load_duration': 68406210, 'prompt_eval_count': 547, 'prompt_eval_duration': 983721000, 'eval_count': 51, 'eval_duration': 3174550000}, id='run-af548ce9-4dbb-424a-a4d6-34af1c21bffc-0', usage_metadata={'input_tokens': 547, 'output_tokens': 51, 'total_tokens': 598})]"
      ]
     },
     "execution_count": 16,
     "metadata": {},
     "output_type": "execute_result"
    }
   ],
   "source": [
    "output[\"messages\"]"
   ]
  },
  {
   "cell_type": "markdown",
   "id": "8618b1b0-f709-4b8d-a279-cf22f9617f7b",
   "metadata": {},
   "source": [
    "## Removendo as 2 primeiras interações (para não entupir de tokens)"
   ]
  },
  {
   "cell_type": "code",
   "execution_count": 17,
   "id": "e7e1fbef-8a06-4813-9266-f30832f3a7ab",
   "metadata": {},
   "outputs": [
    {
     "data": {
      "text/plain": [
       "[HumanMessage(content='Quem foi Albert Einstein?', additional_kwargs={}, response_metadata={}, id='049fe12c-587a-4923-abfc-b6321947c782'),\n",
       " AIMessage(content='Físico alemão nascido em 1879 e falecido em 1955. É considerado um dos mais influentes físicos da história, cujas teorias revolucionaram os conceitos de espaço, tempo e gravidade.\\n\\nSeu Teoria da Relatividade mudou o modo como pensamos sobre o universo, destacando-se por suas contribuições à Física Teórica.', additional_kwargs={}, response_metadata={'model': 'llama3.1:latest', 'created_at': '2024-10-05T12:17:06.581946678Z', 'message': {'role': 'assistant', 'content': ''}, 'done_reason': 'stop', 'done': True, 'total_duration': 5982654356, 'load_duration': 11165908, 'prompt_eval_count': 16, 'prompt_eval_duration': 387969000, 'eval_count': 90, 'eval_duration': 5532553000}, id='run-2d1fa02e-36a6-4960-97a7-26374c253d40-0', usage_metadata={'input_tokens': 16, 'output_tokens': 90, 'total_tokens': 106}),\n",
       " HumanMessage(content='O que você disse?', additional_kwargs={}, response_metadata={}, id='66f03933-b699-4871-9e70-6e18f5ccec76'),\n",
       " AIMessage(content='Eu disse que Albert Einstein foi um dos físicos mais influentes de todos os tempos e que ele desenvolveu a Teoria da Relatividade, que mudou a forma como as pessoas pensam sobre espaço, tempo e gravidade. Além disso, mencionei que ele nasceu em 1879 e morreu em 1955.\\n\\nQuer saber mais sobre sua vida ou suas contribuições para a física? Estou aqui para ajudar!', additional_kwargs={}, response_metadata={'model': 'llama3.1:latest', 'created_at': '2024-10-05T12:17:13.172797258Z', 'message': {'role': 'assistant', 'content': ''}, 'done_reason': 'stop', 'done': True, 'total_duration': 6574818512, 'load_duration': 63022471, 'prompt_eval_count': 120, 'prompt_eval_duration': 160489000, 'eval_count': 99, 'eval_duration': 6200748000}, id='run-35cd655d-c524-4c41-b27a-b9c365f48da9-0', usage_metadata={'input_tokens': 120, 'output_tokens': 99, 'total_tokens': 219}),\n",
       " HumanMessage(content='O que você disse? Ainda não consegui entender', additional_kwargs={}, response_metadata={}, id='e1073e2e-ea92-4e7a-a0e0-f06966815062'),\n",
       " AIMessage(content='Vou tentar explicar de outra forma!\\n\\nAlbert Einstein foi um cientista famoso que viveu no século 20. Ele era muito inteligente e fez descobertas importantes sobre o universo.\\n\\nDuas das coisas mais importantes que ele fez foram:\\n\\n1. **Teoria da Relatividade**: Isso é como uma espécie de regra para entender como funciona o tempo e o espaço.\\n2. **Equação E=mc²**: Isso mostra que a energia (E) é igual à massa (m) multiplicada pela velocidade da luz (c) ao quadrado.\\n\\nEm resumo, Einstein foi um cientista muito importante que fez coisas incríveis para entender o universo!', additional_kwargs={}, response_metadata={'model': 'llama3.1:latest', 'created_at': '2024-10-05T12:17:23.326713136Z', 'message': {'role': 'assistant', 'content': ''}, 'done_reason': 'stop', 'done': True, 'total_duration': 10141471520, 'load_duration': 11777831, 'prompt_eval_count': 239, 'prompt_eval_duration': 205613000, 'eval_count': 153, 'eval_duration': 9615275000}, id='run-f3d9dc0d-37ac-473d-a3f0-82da638b714f-0', usage_metadata={'input_tokens': 239, 'output_tokens': 153, 'total_tokens': 392}),\n",
       " HumanMessage(content='Nasceu onde?', additional_kwargs={}, response_metadata={}, id='6cfa969a-db83-41eb-a674-606ee0312496'),\n",
       " AIMessage(content='Albert Einstein nasceu em **Munique**, na Alemanha, em 14 de março de 1879.', additional_kwargs={}, response_metadata={'model': 'llama3.1:latest', 'created_at': '2024-10-05T12:17:25.529414699Z', 'message': {'role': 'assistant', 'content': ''}, 'done_reason': 'stop', 'done': True, 'total_duration': 2181731799, 'load_duration': 53355682, 'prompt_eval_count': 406, 'prompt_eval_duration': 167310000, 'eval_count': 26, 'eval_duration': 1547264000}, id='run-866259fb-e760-4f00-9973-baa747221a21-0', usage_metadata={'input_tokens': 406, 'output_tokens': 26, 'total_tokens': 432}),\n",
       " AIMessage(content=' Ele era filho de um comerciante judaico e cresceu em uma família modesta.\\n\\nMas, é importante notar que ele não passou toda a sua vida na Alemanha. Com o advento da Primeira Guerra Mundial e a ascensão do nazismo, Einstein se mudou para outros países, como a Suíça, os Estados Unidos e a Inglaterra, onde continuou a trabalhar em suas pesquisas científicas.', additional_kwargs={}, response_metadata={'model': 'llama3.1:latest', 'created_at': '2024-10-05T12:17:32.488080781Z', 'message': {'role': 'assistant', 'content': ''}, 'done_reason': 'stop', 'done': True, 'total_duration': 6935858742, 'load_duration': 14510681, 'prompt_eval_count': 431, 'prompt_eval_duration': 76337000, 'eval_count': 100, 'eval_duration': 6379353000}, id='run-52862076-d726-4020-9e84-2ad43b52049c-0', usage_metadata={'input_tokens': 431, 'output_tokens': 100, 'total_tokens': 531}),\n",
       " HumanMessage(content='O que você disse por último?', additional_kwargs={}, response_metadata={}, id='0f366f7a-5b06-4090-982e-3a8c81b16151'),\n",
       " AIMessage(content='Eu disse que Albert Einstein:\\n\\n* Nasceu na Alemanha (em Munique)\\n* Se mudou para outros países como Suíça, EUA e Inglaterra devido à Primeira Guerra Mundial e ao nazismo.', additional_kwargs={}, response_metadata={'model': 'llama3.1:latest', 'created_at': '2024-10-05T12:17:40.393450562Z', 'message': {'role': 'assistant', 'content': ''}, 'done_reason': 'stop', 'done': True, 'total_duration': 4820996156, 'load_duration': 68406210, 'prompt_eval_count': 547, 'prompt_eval_duration': 983721000, 'eval_count': 51, 'eval_duration': 3174550000}, id='run-af548ce9-4dbb-424a-a4d6-34af1c21bffc-0', usage_metadata={'input_tokens': 547, 'output_tokens': 51, 'total_tokens': 598})]"
      ]
     },
     "execution_count": 17,
     "metadata": {},
     "output_type": "execute_result"
    }
   ],
   "source": [
    "messages = app.get_state(config).values[\"messages\"]\n",
    "messages"
   ]
  },
  {
   "cell_type": "code",
   "execution_count": 18,
   "id": "6057489c-aff2-4252-a79c-caa0754ca5d5",
   "metadata": {},
   "outputs": [
    {
     "data": {
      "text/plain": [
       "[AIMessage(content='Físico alemão nascido em 1879 e falecido em 1955. É considerado um dos mais influentes físicos da história, cujas teorias revolucionaram os conceitos de espaço, tempo e gravidade.\\n\\nSeu Teoria da Relatividade mudou o modo como pensamos sobre o universo, destacando-se por suas contribuições à Física Teórica.', additional_kwargs={}, response_metadata={'model': 'llama3.1:latest', 'created_at': '2024-10-05T12:17:06.581946678Z', 'message': {'role': 'assistant', 'content': ''}, 'done_reason': 'stop', 'done': True, 'total_duration': 5982654356, 'load_duration': 11165908, 'prompt_eval_count': 16, 'prompt_eval_duration': 387969000, 'eval_count': 90, 'eval_duration': 5532553000}, id='run-2d1fa02e-36a6-4960-97a7-26374c253d40-0', usage_metadata={'input_tokens': 16, 'output_tokens': 90, 'total_tokens': 106}),\n",
       " HumanMessage(content='O que você disse?', additional_kwargs={}, response_metadata={}, id='66f03933-b699-4871-9e70-6e18f5ccec76'),\n",
       " AIMessage(content='Eu disse que Albert Einstein foi um dos físicos mais influentes de todos os tempos e que ele desenvolveu a Teoria da Relatividade, que mudou a forma como as pessoas pensam sobre espaço, tempo e gravidade. Além disso, mencionei que ele nasceu em 1879 e morreu em 1955.\\n\\nQuer saber mais sobre sua vida ou suas contribuições para a física? Estou aqui para ajudar!', additional_kwargs={}, response_metadata={'model': 'llama3.1:latest', 'created_at': '2024-10-05T12:17:13.172797258Z', 'message': {'role': 'assistant', 'content': ''}, 'done_reason': 'stop', 'done': True, 'total_duration': 6574818512, 'load_duration': 63022471, 'prompt_eval_count': 120, 'prompt_eval_duration': 160489000, 'eval_count': 99, 'eval_duration': 6200748000}, id='run-35cd655d-c524-4c41-b27a-b9c365f48da9-0', usage_metadata={'input_tokens': 120, 'output_tokens': 99, 'total_tokens': 219}),\n",
       " HumanMessage(content='O que você disse? Ainda não consegui entender', additional_kwargs={}, response_metadata={}, id='e1073e2e-ea92-4e7a-a0e0-f06966815062'),\n",
       " AIMessage(content='Vou tentar explicar de outra forma!\\n\\nAlbert Einstein foi um cientista famoso que viveu no século 20. Ele era muito inteligente e fez descobertas importantes sobre o universo.\\n\\nDuas das coisas mais importantes que ele fez foram:\\n\\n1. **Teoria da Relatividade**: Isso é como uma espécie de regra para entender como funciona o tempo e o espaço.\\n2. **Equação E=mc²**: Isso mostra que a energia (E) é igual à massa (m) multiplicada pela velocidade da luz (c) ao quadrado.\\n\\nEm resumo, Einstein foi um cientista muito importante que fez coisas incríveis para entender o universo!', additional_kwargs={}, response_metadata={'model': 'llama3.1:latest', 'created_at': '2024-10-05T12:17:23.326713136Z', 'message': {'role': 'assistant', 'content': ''}, 'done_reason': 'stop', 'done': True, 'total_duration': 10141471520, 'load_duration': 11777831, 'prompt_eval_count': 239, 'prompt_eval_duration': 205613000, 'eval_count': 153, 'eval_duration': 9615275000}, id='run-f3d9dc0d-37ac-473d-a3f0-82da638b714f-0', usage_metadata={'input_tokens': 239, 'output_tokens': 153, 'total_tokens': 392}),\n",
       " HumanMessage(content='Nasceu onde?', additional_kwargs={}, response_metadata={}, id='6cfa969a-db83-41eb-a674-606ee0312496'),\n",
       " AIMessage(content='Albert Einstein nasceu em **Munique**, na Alemanha, em 14 de março de 1879.', additional_kwargs={}, response_metadata={'model': 'llama3.1:latest', 'created_at': '2024-10-05T12:17:25.529414699Z', 'message': {'role': 'assistant', 'content': ''}, 'done_reason': 'stop', 'done': True, 'total_duration': 2181731799, 'load_duration': 53355682, 'prompt_eval_count': 406, 'prompt_eval_duration': 167310000, 'eval_count': 26, 'eval_duration': 1547264000}, id='run-866259fb-e760-4f00-9973-baa747221a21-0', usage_metadata={'input_tokens': 406, 'output_tokens': 26, 'total_tokens': 432}),\n",
       " AIMessage(content=' Ele era filho de um comerciante judaico e cresceu em uma família modesta.\\n\\nMas, é importante notar que ele não passou toda a sua vida na Alemanha. Com o advento da Primeira Guerra Mundial e a ascensão do nazismo, Einstein se mudou para outros países, como a Suíça, os Estados Unidos e a Inglaterra, onde continuou a trabalhar em suas pesquisas científicas.', additional_kwargs={}, response_metadata={'model': 'llama3.1:latest', 'created_at': '2024-10-05T12:17:32.488080781Z', 'message': {'role': 'assistant', 'content': ''}, 'done_reason': 'stop', 'done': True, 'total_duration': 6935858742, 'load_duration': 14510681, 'prompt_eval_count': 431, 'prompt_eval_duration': 76337000, 'eval_count': 100, 'eval_duration': 6379353000}, id='run-52862076-d726-4020-9e84-2ad43b52049c-0', usage_metadata={'input_tokens': 431, 'output_tokens': 100, 'total_tokens': 531}),\n",
       " HumanMessage(content='O que você disse por último?', additional_kwargs={}, response_metadata={}, id='0f366f7a-5b06-4090-982e-3a8c81b16151'),\n",
       " AIMessage(content='Eu disse que Albert Einstein:\\n\\n* Nasceu na Alemanha (em Munique)\\n* Se mudou para outros países como Suíça, EUA e Inglaterra devido à Primeira Guerra Mundial e ao nazismo.', additional_kwargs={}, response_metadata={'model': 'llama3.1:latest', 'created_at': '2024-10-05T12:17:40.393450562Z', 'message': {'role': 'assistant', 'content': ''}, 'done_reason': 'stop', 'done': True, 'total_duration': 4820996156, 'load_duration': 68406210, 'prompt_eval_count': 547, 'prompt_eval_duration': 983721000, 'eval_count': 51, 'eval_duration': 3174550000}, id='run-af548ce9-4dbb-424a-a4d6-34af1c21bffc-0', usage_metadata={'input_tokens': 547, 'output_tokens': 51, 'total_tokens': 598})]"
      ]
     },
     "execution_count": 18,
     "metadata": {},
     "output_type": "execute_result"
    }
   ],
   "source": [
    "app.update_state(config, {\"messages\": RemoveMessage(id=messages[0].id)})\n",
    "messages = app.get_state(config).values[\"messages\"]\n",
    "messages"
   ]
  },
  {
   "cell_type": "code",
   "execution_count": 19,
   "id": "85c43758-9efa-4074-a8b7-96861ae7cd95",
   "metadata": {},
   "outputs": [
    {
     "data": {
      "text/plain": [
       "[HumanMessage(content='O que você disse?', additional_kwargs={}, response_metadata={}, id='66f03933-b699-4871-9e70-6e18f5ccec76'),\n",
       " AIMessage(content='Eu disse que Albert Einstein foi um dos físicos mais influentes de todos os tempos e que ele desenvolveu a Teoria da Relatividade, que mudou a forma como as pessoas pensam sobre espaço, tempo e gravidade. Além disso, mencionei que ele nasceu em 1879 e morreu em 1955.\\n\\nQuer saber mais sobre sua vida ou suas contribuições para a física? Estou aqui para ajudar!', additional_kwargs={}, response_metadata={'model': 'llama3.1:latest', 'created_at': '2024-10-05T12:17:13.172797258Z', 'message': {'role': 'assistant', 'content': ''}, 'done_reason': 'stop', 'done': True, 'total_duration': 6574818512, 'load_duration': 63022471, 'prompt_eval_count': 120, 'prompt_eval_duration': 160489000, 'eval_count': 99, 'eval_duration': 6200748000}, id='run-35cd655d-c524-4c41-b27a-b9c365f48da9-0', usage_metadata={'input_tokens': 120, 'output_tokens': 99, 'total_tokens': 219}),\n",
       " HumanMessage(content='O que você disse? Ainda não consegui entender', additional_kwargs={}, response_metadata={}, id='e1073e2e-ea92-4e7a-a0e0-f06966815062'),\n",
       " AIMessage(content='Vou tentar explicar de outra forma!\\n\\nAlbert Einstein foi um cientista famoso que viveu no século 20. Ele era muito inteligente e fez descobertas importantes sobre o universo.\\n\\nDuas das coisas mais importantes que ele fez foram:\\n\\n1. **Teoria da Relatividade**: Isso é como uma espécie de regra para entender como funciona o tempo e o espaço.\\n2. **Equação E=mc²**: Isso mostra que a energia (E) é igual à massa (m) multiplicada pela velocidade da luz (c) ao quadrado.\\n\\nEm resumo, Einstein foi um cientista muito importante que fez coisas incríveis para entender o universo!', additional_kwargs={}, response_metadata={'model': 'llama3.1:latest', 'created_at': '2024-10-05T12:17:23.326713136Z', 'message': {'role': 'assistant', 'content': ''}, 'done_reason': 'stop', 'done': True, 'total_duration': 10141471520, 'load_duration': 11777831, 'prompt_eval_count': 239, 'prompt_eval_duration': 205613000, 'eval_count': 153, 'eval_duration': 9615275000}, id='run-f3d9dc0d-37ac-473d-a3f0-82da638b714f-0', usage_metadata={'input_tokens': 239, 'output_tokens': 153, 'total_tokens': 392}),\n",
       " HumanMessage(content='Nasceu onde?', additional_kwargs={}, response_metadata={}, id='6cfa969a-db83-41eb-a674-606ee0312496'),\n",
       " AIMessage(content='Albert Einstein nasceu em **Munique**, na Alemanha, em 14 de março de 1879.', additional_kwargs={}, response_metadata={'model': 'llama3.1:latest', 'created_at': '2024-10-05T12:17:25.529414699Z', 'message': {'role': 'assistant', 'content': ''}, 'done_reason': 'stop', 'done': True, 'total_duration': 2181731799, 'load_duration': 53355682, 'prompt_eval_count': 406, 'prompt_eval_duration': 167310000, 'eval_count': 26, 'eval_duration': 1547264000}, id='run-866259fb-e760-4f00-9973-baa747221a21-0', usage_metadata={'input_tokens': 406, 'output_tokens': 26, 'total_tokens': 432}),\n",
       " AIMessage(content=' Ele era filho de um comerciante judaico e cresceu em uma família modesta.\\n\\nMas, é importante notar que ele não passou toda a sua vida na Alemanha. Com o advento da Primeira Guerra Mundial e a ascensão do nazismo, Einstein se mudou para outros países, como a Suíça, os Estados Unidos e a Inglaterra, onde continuou a trabalhar em suas pesquisas científicas.', additional_kwargs={}, response_metadata={'model': 'llama3.1:latest', 'created_at': '2024-10-05T12:17:32.488080781Z', 'message': {'role': 'assistant', 'content': ''}, 'done_reason': 'stop', 'done': True, 'total_duration': 6935858742, 'load_duration': 14510681, 'prompt_eval_count': 431, 'prompt_eval_duration': 76337000, 'eval_count': 100, 'eval_duration': 6379353000}, id='run-52862076-d726-4020-9e84-2ad43b52049c-0', usage_metadata={'input_tokens': 431, 'output_tokens': 100, 'total_tokens': 531}),\n",
       " HumanMessage(content='O que você disse por último?', additional_kwargs={}, response_metadata={}, id='0f366f7a-5b06-4090-982e-3a8c81b16151'),\n",
       " AIMessage(content='Eu disse que Albert Einstein:\\n\\n* Nasceu na Alemanha (em Munique)\\n* Se mudou para outros países como Suíça, EUA e Inglaterra devido à Primeira Guerra Mundial e ao nazismo.', additional_kwargs={}, response_metadata={'model': 'llama3.1:latest', 'created_at': '2024-10-05T12:17:40.393450562Z', 'message': {'role': 'assistant', 'content': ''}, 'done_reason': 'stop', 'done': True, 'total_duration': 4820996156, 'load_duration': 68406210, 'prompt_eval_count': 547, 'prompt_eval_duration': 983721000, 'eval_count': 51, 'eval_duration': 3174550000}, id='run-af548ce9-4dbb-424a-a4d6-34af1c21bffc-0', usage_metadata={'input_tokens': 547, 'output_tokens': 51, 'total_tokens': 598})]"
      ]
     },
     "execution_count": 19,
     "metadata": {},
     "output_type": "execute_result"
    }
   ],
   "source": [
    "app.update_state(config, {\"messages\": RemoveMessage(id=messages[0].id)})\n",
    "messages = app.get_state(config).values[\"messages\"]\n",
    "messages"
   ]
  },
  {
   "cell_type": "markdown",
   "id": "5c889c81-3b7f-43ae-9df5-0a307556d78d",
   "metadata": {},
   "source": [
    "## Retomando a conversa (para verificar se continua coerente)"
   ]
  },
  {
   "cell_type": "code",
   "execution_count": 20,
   "id": "dcf1ca61-2282-4f0f-8c7f-e9d4737206cc",
   "metadata": {},
   "outputs": [
    {
     "name": "stdout",
     "output_type": "stream",
     "text": [
      "==================================\u001b[1m Ai Message \u001b[0m==================================\n",
      "\n",
      "A maior contribuição de Albert Einstein é provavelmente sua **Teoria da Relatividade**, que mudou a forma como as pessoas pensam sobre espaço, tempo e gravidade.\n",
      "\n",
      "Essa teoria foi apresentada em 1905 e 1915, e ela revolucionou a física ao introduzir conceitos como:\n",
      "\n",
      "* A igualdade entre massa e energia (E=mc²)\n",
      "* O fato de que o tempo e o espaço são relativos e dependem da velocidade do observador\n",
      "* A existência de buracos negros, que são regiões do espaço onde a gravidade é tão forte que nada, nem mesmo a luz, pode escapar.\n",
      "\n",
      "Essa teoria foi um grande avanço para a física e mudou nossa compreensão do universo!\n"
     ]
    }
   ],
   "source": [
    "query = \"Qual foi a maior contribuição dele?\"\n",
    "input_messages = [HumanMessage(query)]\n",
    "output = app.invoke({\"messages\": input_messages}, config)\n",
    "output[\"messages\"][-1].pretty_print()"
   ]
  },
  {
   "cell_type": "code",
   "execution_count": 21,
   "id": "2b01743a-0b36-434f-86a7-64335117a9c0",
   "metadata": {},
   "outputs": [
    {
     "data": {
      "text/plain": [
       "[HumanMessage(content='O que você disse?', additional_kwargs={}, response_metadata={}, id='66f03933-b699-4871-9e70-6e18f5ccec76'),\n",
       " AIMessage(content='Eu disse que Albert Einstein foi um dos físicos mais influentes de todos os tempos e que ele desenvolveu a Teoria da Relatividade, que mudou a forma como as pessoas pensam sobre espaço, tempo e gravidade. Além disso, mencionei que ele nasceu em 1879 e morreu em 1955.\\n\\nQuer saber mais sobre sua vida ou suas contribuições para a física? Estou aqui para ajudar!', additional_kwargs={}, response_metadata={'model': 'llama3.1:latest', 'created_at': '2024-10-05T12:17:13.172797258Z', 'message': {'role': 'assistant', 'content': ''}, 'done_reason': 'stop', 'done': True, 'total_duration': 6574818512, 'load_duration': 63022471, 'prompt_eval_count': 120, 'prompt_eval_duration': 160489000, 'eval_count': 99, 'eval_duration': 6200748000}, id='run-35cd655d-c524-4c41-b27a-b9c365f48da9-0', usage_metadata={'input_tokens': 120, 'output_tokens': 99, 'total_tokens': 219}),\n",
       " HumanMessage(content='O que você disse? Ainda não consegui entender', additional_kwargs={}, response_metadata={}, id='e1073e2e-ea92-4e7a-a0e0-f06966815062'),\n",
       " AIMessage(content='Vou tentar explicar de outra forma!\\n\\nAlbert Einstein foi um cientista famoso que viveu no século 20. Ele era muito inteligente e fez descobertas importantes sobre o universo.\\n\\nDuas das coisas mais importantes que ele fez foram:\\n\\n1. **Teoria da Relatividade**: Isso é como uma espécie de regra para entender como funciona o tempo e o espaço.\\n2. **Equação E=mc²**: Isso mostra que a energia (E) é igual à massa (m) multiplicada pela velocidade da luz (c) ao quadrado.\\n\\nEm resumo, Einstein foi um cientista muito importante que fez coisas incríveis para entender o universo!', additional_kwargs={}, response_metadata={'model': 'llama3.1:latest', 'created_at': '2024-10-05T12:17:23.326713136Z', 'message': {'role': 'assistant', 'content': ''}, 'done_reason': 'stop', 'done': True, 'total_duration': 10141471520, 'load_duration': 11777831, 'prompt_eval_count': 239, 'prompt_eval_duration': 205613000, 'eval_count': 153, 'eval_duration': 9615275000}, id='run-f3d9dc0d-37ac-473d-a3f0-82da638b714f-0', usage_metadata={'input_tokens': 239, 'output_tokens': 153, 'total_tokens': 392}),\n",
       " HumanMessage(content='Nasceu onde?', additional_kwargs={}, response_metadata={}, id='6cfa969a-db83-41eb-a674-606ee0312496'),\n",
       " AIMessage(content='Albert Einstein nasceu em **Munique**, na Alemanha, em 14 de março de 1879.', additional_kwargs={}, response_metadata={'model': 'llama3.1:latest', 'created_at': '2024-10-05T12:17:25.529414699Z', 'message': {'role': 'assistant', 'content': ''}, 'done_reason': 'stop', 'done': True, 'total_duration': 2181731799, 'load_duration': 53355682, 'prompt_eval_count': 406, 'prompt_eval_duration': 167310000, 'eval_count': 26, 'eval_duration': 1547264000}, id='run-866259fb-e760-4f00-9973-baa747221a21-0', usage_metadata={'input_tokens': 406, 'output_tokens': 26, 'total_tokens': 432}),\n",
       " AIMessage(content=' Ele era filho de um comerciante judaico e cresceu em uma família modesta.\\n\\nMas, é importante notar que ele não passou toda a sua vida na Alemanha. Com o advento da Primeira Guerra Mundial e a ascensão do nazismo, Einstein se mudou para outros países, como a Suíça, os Estados Unidos e a Inglaterra, onde continuou a trabalhar em suas pesquisas científicas.', additional_kwargs={}, response_metadata={'model': 'llama3.1:latest', 'created_at': '2024-10-05T12:17:32.488080781Z', 'message': {'role': 'assistant', 'content': ''}, 'done_reason': 'stop', 'done': True, 'total_duration': 6935858742, 'load_duration': 14510681, 'prompt_eval_count': 431, 'prompt_eval_duration': 76337000, 'eval_count': 100, 'eval_duration': 6379353000}, id='run-52862076-d726-4020-9e84-2ad43b52049c-0', usage_metadata={'input_tokens': 431, 'output_tokens': 100, 'total_tokens': 531}),\n",
       " HumanMessage(content='O que você disse por último?', additional_kwargs={}, response_metadata={}, id='0f366f7a-5b06-4090-982e-3a8c81b16151'),\n",
       " AIMessage(content='Eu disse que Albert Einstein:\\n\\n* Nasceu na Alemanha (em Munique)\\n* Se mudou para outros países como Suíça, EUA e Inglaterra devido à Primeira Guerra Mundial e ao nazismo.', additional_kwargs={}, response_metadata={'model': 'llama3.1:latest', 'created_at': '2024-10-05T12:17:40.393450562Z', 'message': {'role': 'assistant', 'content': ''}, 'done_reason': 'stop', 'done': True, 'total_duration': 4820996156, 'load_duration': 68406210, 'prompt_eval_count': 547, 'prompt_eval_duration': 983721000, 'eval_count': 51, 'eval_duration': 3174550000}, id='run-af548ce9-4dbb-424a-a4d6-34af1c21bffc-0', usage_metadata={'input_tokens': 547, 'output_tokens': 51, 'total_tokens': 598}),\n",
       " HumanMessage(content='Qual foi a maior contribuição dele?', additional_kwargs={}, response_metadata={}, id='bcde8d4e-05fc-4a55-acf5-17af9a2976cc'),\n",
       " AIMessage(content='A maior contribuição de Albert Einstein é provavelmente sua **Teoria da Relatividade**, que mudou a forma como as pessoas pensam sobre espaço, tempo e gravidade.\\n\\nEssa teoria foi apresentada em 1905 e 1915, e ela revolucionou a física ao introduzir conceitos como:\\n\\n* A igualdade entre massa e energia (E=mc²)\\n* O fato de que o tempo e o espaço são relativos e dependem da velocidade do observador\\n* A existência de buracos negros, que são regiões do espaço onde a gravidade é tão forte que nada, nem mesmo a luz, pode escapar.\\n\\nEssa teoria foi um grande avanço para a física e mudou nossa compreensão do universo!', additional_kwargs={}, response_metadata={'model': 'llama3.1:latest', 'created_at': '2024-10-05T12:17:52.411689687Z', 'message': {'role': 'assistant', 'content': ''}, 'done_reason': 'stop', 'done': True, 'total_duration': 11975506867, 'load_duration': 10735692, 'prompt_eval_count': 510, 'prompt_eval_duration': 663859000, 'eval_count': 171, 'eval_duration': 10715451000}, id='run-e5541230-9460-48df-8c53-bfc7688f6180-0', usage_metadata={'input_tokens': 510, 'output_tokens': 171, 'total_tokens': 681})]"
      ]
     },
     "execution_count": 21,
     "metadata": {},
     "output_type": "execute_result"
    }
   ],
   "source": [
    "output[\"messages\"]"
   ]
  }
 ],
 "metadata": {
  "kernelspec": {
   "display_name": "Python 3 (ipykernel)",
   "language": "python",
   "name": "python3"
  },
  "language_info": {
   "codemirror_mode": {
    "name": "ipython",
    "version": 3
   },
   "file_extension": ".py",
   "mimetype": "text/x-python",
   "name": "python",
   "nbconvert_exporter": "python",
   "pygments_lexer": "ipython3",
   "version": "3.11.9"
  }
 },
 "nbformat": 4,
 "nbformat_minor": 5
}
