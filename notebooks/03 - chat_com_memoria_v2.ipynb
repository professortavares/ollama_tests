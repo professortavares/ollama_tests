{
 "cells": [
  {
   "cell_type": "markdown",
   "id": "31dc4740-0875-418f-b79d-e081d937b906",
   "metadata": {},
   "source": [
    "## Simulação de uma LLM com memória da conversa (versão mais moderna do framework)\n",
    "\n",
    "ref.: \n",
    "* https://python.langchain.com/docs/how_to/message_history/\n",
    "* https://www.langchain.com/langgraph\n",
    "\n",
    "**todo**:\n",
    "- Tentar gerenciar a memória da conversa de forma automatizada"
   ]
  },
  {
   "cell_type": "code",
   "execution_count": 1,
   "id": "e183fc41-5672-4740-881b-3dad338dd67f",
   "metadata": {},
   "outputs": [],
   "source": [
    "from langchain_ollama import ChatOllama\n",
    "from langchain_core.messages import HumanMessage\n",
    "from langgraph.checkpoint.memory import MemorySaver\n",
    "from langgraph.graph import START, MessagesState, StateGraph\n",
    "from langchain_core.messages import RemoveMessage"
   ]
  },
  {
   "cell_type": "markdown",
   "id": "b20c92cc-caac-4f7b-af1a-d9b4b1837e15",
   "metadata": {},
   "source": [
    "## Utilização do llama3.1 com interface via ollama"
   ]
  },
  {
   "cell_type": "code",
   "execution_count": 2,
   "id": "13ec592a-9362-4242-b843-d208466d34c4",
   "metadata": {},
   "outputs": [],
   "source": [
    "llm = ChatOllama(model=\"llama3.1:latest\")\n",
    "workflow = StateGraph(state_schema=MessagesState)\n",
    "\n",
    "def call_model(state: MessagesState):\n",
    "    response = llm.invoke(state[\"messages\"])\n",
    "    return {\"messages\": response}\n",
    "\n",
    "workflow.add_edge(START, \"model\")\n",
    "workflow.add_node(\"model\", call_model)\n",
    "\n",
    "memory = MemorySaver()\n",
    "app = workflow.compile(checkpointer=memory)"
   ]
  },
  {
   "cell_type": "markdown",
   "id": "131b56a5-76e4-48ba-a37f-9518568e18b6",
   "metadata": {},
   "source": [
    "## Pergunta para iniciar a conversa"
   ]
  },
  {
   "cell_type": "code",
   "execution_count": 3,
   "id": "24196b08-37af-492e-87f2-730a003cdf6b",
   "metadata": {},
   "outputs": [
    {
     "name": "stdout",
     "output_type": "stream",
     "text": [
      "==================================\u001b[1m Ai Message \u001b[0m==================================\n",
      "\n",
      "Albert Einstein foi um físico alemão, conhecido por seu trabalho na teoria da relatividade.\n"
     ]
    }
   ],
   "source": [
    "config = {\"configurable\": {\"thread_id\": \"abc123\"}}\n",
    "\n",
    "query = \"Quem foi Albert Einstein?\"\n",
    "input_messages = [HumanMessage(query)]\n",
    "output = app.invoke({\"messages\": input_messages}, config)\n",
    "output[\"messages\"][-1].pretty_print()"
   ]
  },
  {
   "cell_type": "code",
   "execution_count": 4,
   "id": "62ed7c0b-e652-4f3f-b043-0e45589be19b",
   "metadata": {},
   "outputs": [
    {
     "data": {
      "text/plain": [
       "[HumanMessage(content='Quem foi Albert Einstein?', additional_kwargs={}, response_metadata={}, id='acea0fa2-353a-4199-8753-da616ffe4340'),\n",
       " AIMessage(content='Albert Einstein foi um físico alemão, conhecido por seu trabalho na teoria da relatividade.', additional_kwargs={}, response_metadata={'model': 'llama3.1:latest', 'created_at': '2024-10-05T11:03:48.924447382Z', 'message': {'role': 'assistant', 'content': ''}, 'done_reason': 'stop', 'done': True, 'total_duration': 1905164937, 'load_duration': 11567495, 'prompt_eval_count': 16, 'prompt_eval_duration': 450060000, 'eval_count': 23, 'eval_duration': 1392796000}, id='run-644be634-bafd-4f8b-9632-28ddfd69669c-0', usage_metadata={'input_tokens': 16, 'output_tokens': 23, 'total_tokens': 39})]"
      ]
     },
     "execution_count": 4,
     "metadata": {},
     "output_type": "execute_result"
    }
   ],
   "source": [
    "output[\"messages\"]"
   ]
  },
  {
   "cell_type": "markdown",
   "id": "128295bf-a454-4819-874b-85a01d393717",
   "metadata": {},
   "source": [
    "## O modelo consegue se lembrar do que acabou de responder"
   ]
  },
  {
   "cell_type": "code",
   "execution_count": 5,
   "id": "ef7c4a14-592a-4f12-a607-59f156a0c1ec",
   "metadata": {},
   "outputs": [
    {
     "name": "stdout",
     "output_type": "stream",
     "text": [
      "==================================\u001b[1m Ai Message \u001b[0m==================================\n",
      "\n",
      "Eu disse que Albert Einstein foi um físico alemão, famoso por ter desenvolvido a Teoria da Relatividade. Ele é considerado uma das maiores mentes do século XX e recebeu o Prêmio Nobel de Física em 1921.\n",
      "\n",
      "Mas há muito mais sobre ele!\n",
      "\n",
      "Einstein nasceu em 14 de março de 1879, na Alemanha, e cresceu como um menino comum. No entanto, desde cedo, mostrou um interesse enorme por matemática e física.\n",
      "\n",
      "Seu trabalho mais famoso é a Teoria da Relatividade, que revolucionou nossa compreensão do espaço, tempo e gravidade. Ele também desenvolveu a famosa equação E = mc², que relaciona energia e massa.\n",
      "\n",
      "Além disso, Einstein foi um defensor da paz e da justiça social. Ele se opôs à ideia de guerra nuclear e trabalhou arduamente para promover a cooperação internacional.\n",
      "\n",
      "Einstein morreu em 18 de abril de 1955, aos 76 anos de idade, mas seu legado continua a inspirar cientistas e filósofos de todo o mundo.\n"
     ]
    }
   ],
   "source": [
    "query = \"O que você disse?\"\n",
    "input_messages = [HumanMessage(query)]\n",
    "output = app.invoke({\"messages\": input_messages}, config)\n",
    "output[\"messages\"][-1].pretty_print()"
   ]
  },
  {
   "cell_type": "code",
   "execution_count": 6,
   "id": "54792fd1-4ef5-4158-b8bc-ef554a9e8c0e",
   "metadata": {},
   "outputs": [
    {
     "data": {
      "text/plain": [
       "[HumanMessage(content='Quem foi Albert Einstein?', additional_kwargs={}, response_metadata={}, id='acea0fa2-353a-4199-8753-da616ffe4340'),\n",
       " AIMessage(content='Albert Einstein foi um físico alemão, conhecido por seu trabalho na teoria da relatividade.', additional_kwargs={}, response_metadata={'model': 'llama3.1:latest', 'created_at': '2024-10-05T11:03:48.924447382Z', 'message': {'role': 'assistant', 'content': ''}, 'done_reason': 'stop', 'done': True, 'total_duration': 1905164937, 'load_duration': 11567495, 'prompt_eval_count': 16, 'prompt_eval_duration': 450060000, 'eval_count': 23, 'eval_duration': 1392796000}, id='run-644be634-bafd-4f8b-9632-28ddfd69669c-0', usage_metadata={'input_tokens': 16, 'output_tokens': 23, 'total_tokens': 39}),\n",
       " HumanMessage(content='O que você disse?', additional_kwargs={}, response_metadata={}, id='ced6ba8c-a899-4c20-bdcc-782a7559ab1f'),\n",
       " AIMessage(content='Eu disse que Albert Einstein foi um físico alemão, famoso por ter desenvolvido a Teoria da Relatividade. Ele é considerado uma das maiores mentes do século XX e recebeu o Prêmio Nobel de Física em 1921.\\n\\nMas há muito mais sobre ele!\\n\\nEinstein nasceu em 14 de março de 1879, na Alemanha, e cresceu como um menino comum. No entanto, desde cedo, mostrou um interesse enorme por matemática e física.\\n\\nSeu trabalho mais famoso é a Teoria da Relatividade, que revolucionou nossa compreensão do espaço, tempo e gravidade. Ele também desenvolveu a famosa equação E = mc², que relaciona energia e massa.\\n\\nAlém disso, Einstein foi um defensor da paz e da justiça social. Ele se opôs à ideia de guerra nuclear e trabalhou arduamente para promover a cooperação internacional.\\n\\nEinstein morreu em 18 de abril de 1955, aos 76 anos de idade, mas seu legado continua a inspirar cientistas e filósofos de todo o mundo.', additional_kwargs={}, response_metadata={'model': 'llama3.1:latest', 'created_at': '2024-10-05T11:04:06.807725532Z', 'message': {'role': 'assistant', 'content': ''}, 'done_reason': 'stop', 'done': True, 'total_duration': 17862153691, 'load_duration': 65519600, 'prompt_eval_count': 53, 'prompt_eval_duration': 158145000, 'eval_count': 257, 'eval_duration': 17486941000}, id='run-975e66f8-935d-4d93-8db2-c9ceaa4af979-0', usage_metadata={'input_tokens': 53, 'output_tokens': 257, 'total_tokens': 310})]"
      ]
     },
     "execution_count": 6,
     "metadata": {},
     "output_type": "execute_result"
    }
   ],
   "source": [
    "output[\"messages\"]"
   ]
  },
  {
   "cell_type": "code",
   "execution_count": 7,
   "id": "6246c289-78bc-4171-b464-9cd691ab4d4d",
   "metadata": {},
   "outputs": [
    {
     "name": "stdout",
     "output_type": "stream",
     "text": [
      "==================================\u001b[1m Ai Message \u001b[0m==================================\n",
      "\n",
      "Peço desculpas se minhas respostas anteriores não foram claras! Vou tentar novamente:\n",
      "\n",
      "**Quem foi Albert Einstein?**\n",
      "\n",
      "Albert Einstein foi um cientista alemão, conhecido como o maior físico do século XX. Ele nasceu em 1879 e morreu em 1955.\n",
      "\n",
      "**O que ele fez de importante?**\n",
      "\n",
      "Einstein é famoso por ter descoberto uma teoria chamada \"Teoria da Relatividade\", que explica como o tempo, espaço e gravidade funcionam. Isso foi um grande avanço na ciência!\n",
      "\n",
      "Ele também desenvolveu a equação E = mc², que relaciona energia e massa.\n",
      "\n",
      "**Por que ele é importante?**\n",
      "\n",
      "Einstein é considerado uma das maiores mentes da história por causa de suas contribuições para a física e pela influência que teve em muitas áreas, como a política e a sociedade.\n",
      "\n",
      "Ele também foi um defensor da paz e da justiça social, e seu legado continua a inspirar pessoas de todo o mundo!\n",
      "\n",
      "Espero que isso tenha ajudado! Se você tiver mais alguma dúvida, sinta-se à vontade para perguntar.\n"
     ]
    }
   ],
   "source": [
    "query = \"O que você disse? Ainda não consegui entender\"\n",
    "input_messages = [HumanMessage(query)]\n",
    "output = app.invoke({\"messages\": input_messages}, config)\n",
    "output[\"messages\"][-1].pretty_print()"
   ]
  },
  {
   "cell_type": "code",
   "execution_count": 8,
   "id": "ba830c69-5ad7-4890-b2f6-44fdf929e154",
   "metadata": {},
   "outputs": [
    {
     "data": {
      "text/plain": [
       "[HumanMessage(content='Quem foi Albert Einstein?', additional_kwargs={}, response_metadata={}, id='acea0fa2-353a-4199-8753-da616ffe4340'),\n",
       " AIMessage(content='Albert Einstein foi um físico alemão, conhecido por seu trabalho na teoria da relatividade.', additional_kwargs={}, response_metadata={'model': 'llama3.1:latest', 'created_at': '2024-10-05T11:03:48.924447382Z', 'message': {'role': 'assistant', 'content': ''}, 'done_reason': 'stop', 'done': True, 'total_duration': 1905164937, 'load_duration': 11567495, 'prompt_eval_count': 16, 'prompt_eval_duration': 450060000, 'eval_count': 23, 'eval_duration': 1392796000}, id='run-644be634-bafd-4f8b-9632-28ddfd69669c-0', usage_metadata={'input_tokens': 16, 'output_tokens': 23, 'total_tokens': 39}),\n",
       " HumanMessage(content='O que você disse?', additional_kwargs={}, response_metadata={}, id='ced6ba8c-a899-4c20-bdcc-782a7559ab1f'),\n",
       " AIMessage(content='Eu disse que Albert Einstein foi um físico alemão, famoso por ter desenvolvido a Teoria da Relatividade. Ele é considerado uma das maiores mentes do século XX e recebeu o Prêmio Nobel de Física em 1921.\\n\\nMas há muito mais sobre ele!\\n\\nEinstein nasceu em 14 de março de 1879, na Alemanha, e cresceu como um menino comum. No entanto, desde cedo, mostrou um interesse enorme por matemática e física.\\n\\nSeu trabalho mais famoso é a Teoria da Relatividade, que revolucionou nossa compreensão do espaço, tempo e gravidade. Ele também desenvolveu a famosa equação E = mc², que relaciona energia e massa.\\n\\nAlém disso, Einstein foi um defensor da paz e da justiça social. Ele se opôs à ideia de guerra nuclear e trabalhou arduamente para promover a cooperação internacional.\\n\\nEinstein morreu em 18 de abril de 1955, aos 76 anos de idade, mas seu legado continua a inspirar cientistas e filósofos de todo o mundo.', additional_kwargs={}, response_metadata={'model': 'llama3.1:latest', 'created_at': '2024-10-05T11:04:06.807725532Z', 'message': {'role': 'assistant', 'content': ''}, 'done_reason': 'stop', 'done': True, 'total_duration': 17862153691, 'load_duration': 65519600, 'prompt_eval_count': 53, 'prompt_eval_duration': 158145000, 'eval_count': 257, 'eval_duration': 17486941000}, id='run-975e66f8-935d-4d93-8db2-c9ceaa4af979-0', usage_metadata={'input_tokens': 53, 'output_tokens': 257, 'total_tokens': 310}),\n",
       " HumanMessage(content='O que você disse? Ainda não consegui entender', additional_kwargs={}, response_metadata={}, id='0d847977-7e4e-44ed-a793-b3953cd2568f'),\n",
       " AIMessage(content='Peço desculpas se minhas respostas anteriores não foram claras! Vou tentar novamente:\\n\\n**Quem foi Albert Einstein?**\\n\\nAlbert Einstein foi um cientista alemão, conhecido como o maior físico do século XX. Ele nasceu em 1879 e morreu em 1955.\\n\\n**O que ele fez de importante?**\\n\\nEinstein é famoso por ter descoberto uma teoria chamada \"Teoria da Relatividade\", que explica como o tempo, espaço e gravidade funcionam. Isso foi um grande avanço na ciência!\\n\\nEle também desenvolveu a equação E = mc², que relaciona energia e massa.\\n\\n**Por que ele é importante?**\\n\\nEinstein é considerado uma das maiores mentes da história por causa de suas contribuições para a física e pela influência que teve em muitas áreas, como a política e a sociedade.\\n\\nEle também foi um defensor da paz e da justiça social, e seu legado continua a inspirar pessoas de todo o mundo!\\n\\nEspero que isso tenha ajudado! Se você tiver mais alguma dúvida, sinta-se à vontade para perguntar.', additional_kwargs={}, response_metadata={'model': 'llama3.1:latest', 'created_at': '2024-10-05T11:04:25.304091069Z', 'message': {'role': 'assistant', 'content': ''}, 'done_reason': 'stop', 'done': True, 'total_duration': 18476594153, 'load_duration': 13215695, 'prompt_eval_count': 330, 'prompt_eval_duration': 228746000, 'eval_count': 262, 'eval_duration': 17929316000}, id='run-26798fa4-faee-45c9-ba9b-09a0cd1050a0-0', usage_metadata={'input_tokens': 330, 'output_tokens': 262, 'total_tokens': 592})]"
      ]
     },
     "execution_count": 8,
     "metadata": {},
     "output_type": "execute_result"
    }
   ],
   "source": [
    "output[\"messages\"]"
   ]
  },
  {
   "cell_type": "code",
   "execution_count": 9,
   "id": "776055a8-7dc0-41c5-8a1c-e5068a9ea7d3",
   "metadata": {},
   "outputs": [
    {
     "name": "stdout",
     "output_type": "stream",
     "text": [
      "==================================\u001b[1m Ai Message \u001b[0m==================================\n",
      "\n",
      "Albert Einstein nasceu em **Munique, Alemanha**, em 14 de março de 1879.\n"
     ]
    }
   ],
   "source": [
    "query = \"Naseu onde?\"\n",
    "input_messages = [HumanMessage(query)]\n",
    "output = app.invoke({\"messages\": input_messages}, config)\n",
    "output[\"messages\"][-1].pretty_print()"
   ]
  },
  {
   "cell_type": "code",
   "execution_count": 10,
   "id": "3fe000f7-effa-47c3-8af2-022cdf3f7d8a",
   "metadata": {},
   "outputs": [
    {
     "data": {
      "text/plain": [
       "[HumanMessage(content='Quem foi Albert Einstein?', additional_kwargs={}, response_metadata={}, id='acea0fa2-353a-4199-8753-da616ffe4340'),\n",
       " AIMessage(content='Albert Einstein foi um físico alemão, conhecido por seu trabalho na teoria da relatividade.', additional_kwargs={}, response_metadata={'model': 'llama3.1:latest', 'created_at': '2024-10-05T11:03:48.924447382Z', 'message': {'role': 'assistant', 'content': ''}, 'done_reason': 'stop', 'done': True, 'total_duration': 1905164937, 'load_duration': 11567495, 'prompt_eval_count': 16, 'prompt_eval_duration': 450060000, 'eval_count': 23, 'eval_duration': 1392796000}, id='run-644be634-bafd-4f8b-9632-28ddfd69669c-0', usage_metadata={'input_tokens': 16, 'output_tokens': 23, 'total_tokens': 39}),\n",
       " HumanMessage(content='O que você disse?', additional_kwargs={}, response_metadata={}, id='ced6ba8c-a899-4c20-bdcc-782a7559ab1f'),\n",
       " AIMessage(content='Eu disse que Albert Einstein foi um físico alemão, famoso por ter desenvolvido a Teoria da Relatividade. Ele é considerado uma das maiores mentes do século XX e recebeu o Prêmio Nobel de Física em 1921.\\n\\nMas há muito mais sobre ele!\\n\\nEinstein nasceu em 14 de março de 1879, na Alemanha, e cresceu como um menino comum. No entanto, desde cedo, mostrou um interesse enorme por matemática e física.\\n\\nSeu trabalho mais famoso é a Teoria da Relatividade, que revolucionou nossa compreensão do espaço, tempo e gravidade. Ele também desenvolveu a famosa equação E = mc², que relaciona energia e massa.\\n\\nAlém disso, Einstein foi um defensor da paz e da justiça social. Ele se opôs à ideia de guerra nuclear e trabalhou arduamente para promover a cooperação internacional.\\n\\nEinstein morreu em 18 de abril de 1955, aos 76 anos de idade, mas seu legado continua a inspirar cientistas e filósofos de todo o mundo.', additional_kwargs={}, response_metadata={'model': 'llama3.1:latest', 'created_at': '2024-10-05T11:04:06.807725532Z', 'message': {'role': 'assistant', 'content': ''}, 'done_reason': 'stop', 'done': True, 'total_duration': 17862153691, 'load_duration': 65519600, 'prompt_eval_count': 53, 'prompt_eval_duration': 158145000, 'eval_count': 257, 'eval_duration': 17486941000}, id='run-975e66f8-935d-4d93-8db2-c9ceaa4af979-0', usage_metadata={'input_tokens': 53, 'output_tokens': 257, 'total_tokens': 310}),\n",
       " HumanMessage(content='O que você disse? Ainda não consegui entender', additional_kwargs={}, response_metadata={}, id='0d847977-7e4e-44ed-a793-b3953cd2568f'),\n",
       " AIMessage(content='Peço desculpas se minhas respostas anteriores não foram claras! Vou tentar novamente:\\n\\n**Quem foi Albert Einstein?**\\n\\nAlbert Einstein foi um cientista alemão, conhecido como o maior físico do século XX. Ele nasceu em 1879 e morreu em 1955.\\n\\n**O que ele fez de importante?**\\n\\nEinstein é famoso por ter descoberto uma teoria chamada \"Teoria da Relatividade\", que explica como o tempo, espaço e gravidade funcionam. Isso foi um grande avanço na ciência!\\n\\nEle também desenvolveu a equação E = mc², que relaciona energia e massa.\\n\\n**Por que ele é importante?**\\n\\nEinstein é considerado uma das maiores mentes da história por causa de suas contribuições para a física e pela influência que teve em muitas áreas, como a política e a sociedade.\\n\\nEle também foi um defensor da paz e da justiça social, e seu legado continua a inspirar pessoas de todo o mundo!\\n\\nEspero que isso tenha ajudado! Se você tiver mais alguma dúvida, sinta-se à vontade para perguntar.', additional_kwargs={}, response_metadata={'model': 'llama3.1:latest', 'created_at': '2024-10-05T11:04:25.304091069Z', 'message': {'role': 'assistant', 'content': ''}, 'done_reason': 'stop', 'done': True, 'total_duration': 18476594153, 'load_duration': 13215695, 'prompt_eval_count': 330, 'prompt_eval_duration': 228746000, 'eval_count': 262, 'eval_duration': 17929316000}, id='run-26798fa4-faee-45c9-ba9b-09a0cd1050a0-0', usage_metadata={'input_tokens': 330, 'output_tokens': 262, 'total_tokens': 592}),\n",
       " HumanMessage(content='Naseu onde?', additional_kwargs={}, response_metadata={}, id='1727d422-4c03-4594-8c8a-1d4f9031a8be'),\n",
       " AIMessage(content='Albert Einstein nasceu em **Munique, Alemanha**, em 14 de março de 1879.', additional_kwargs={}, response_metadata={'model': 'llama3.1:latest', 'created_at': '2024-10-05T11:04:27.779583243Z', 'message': {'role': 'assistant', 'content': ''}, 'done_reason': 'stop', 'done': True, 'total_duration': 2459298034, 'load_duration': 12274587, 'prompt_eval_count': 606, 'prompt_eval_duration': 222359000, 'eval_count': 25, 'eval_duration': 1734352000}, id='run-43cbc92d-38db-4a58-851f-85abbf64f19d-0', usage_metadata={'input_tokens': 606, 'output_tokens': 25, 'total_tokens': 631})]"
      ]
     },
     "execution_count": 10,
     "metadata": {},
     "output_type": "execute_result"
    }
   ],
   "source": [
    "output[\"messages\"]"
   ]
  },
  {
   "cell_type": "code",
   "execution_count": 11,
   "id": "5470ead2-9d5c-4fc6-806a-b6583391f18e",
   "metadata": {},
   "outputs": [
    {
     "name": "stdout",
     "output_type": "stream",
     "text": [
      "==================================\u001b[1m Ai Message \u001b[0m==================================\n",
      "\n",
      "Albert Einstein nasceu em 14 de **março** de 1879.\n"
     ]
    }
   ],
   "source": [
    "input_messages = \"Quando?\"\n",
    "output = app.invoke({\"messages\": input_messages}, config)\n",
    "output[\"messages\"][-1].pretty_print()"
   ]
  },
  {
   "cell_type": "code",
   "execution_count": 12,
   "id": "6fa8aa41-293b-4e01-be27-91c5f37301d3",
   "metadata": {},
   "outputs": [
    {
     "data": {
      "text/plain": [
       "[HumanMessage(content='Quem foi Albert Einstein?', additional_kwargs={}, response_metadata={}, id='acea0fa2-353a-4199-8753-da616ffe4340'),\n",
       " AIMessage(content='Albert Einstein foi um físico alemão, conhecido por seu trabalho na teoria da relatividade.', additional_kwargs={}, response_metadata={'model': 'llama3.1:latest', 'created_at': '2024-10-05T11:03:48.924447382Z', 'message': {'role': 'assistant', 'content': ''}, 'done_reason': 'stop', 'done': True, 'total_duration': 1905164937, 'load_duration': 11567495, 'prompt_eval_count': 16, 'prompt_eval_duration': 450060000, 'eval_count': 23, 'eval_duration': 1392796000}, id='run-644be634-bafd-4f8b-9632-28ddfd69669c-0', usage_metadata={'input_tokens': 16, 'output_tokens': 23, 'total_tokens': 39}),\n",
       " HumanMessage(content='O que você disse?', additional_kwargs={}, response_metadata={}, id='ced6ba8c-a899-4c20-bdcc-782a7559ab1f'),\n",
       " AIMessage(content='Eu disse que Albert Einstein foi um físico alemão, famoso por ter desenvolvido a Teoria da Relatividade. Ele é considerado uma das maiores mentes do século XX e recebeu o Prêmio Nobel de Física em 1921.\\n\\nMas há muito mais sobre ele!\\n\\nEinstein nasceu em 14 de março de 1879, na Alemanha, e cresceu como um menino comum. No entanto, desde cedo, mostrou um interesse enorme por matemática e física.\\n\\nSeu trabalho mais famoso é a Teoria da Relatividade, que revolucionou nossa compreensão do espaço, tempo e gravidade. Ele também desenvolveu a famosa equação E = mc², que relaciona energia e massa.\\n\\nAlém disso, Einstein foi um defensor da paz e da justiça social. Ele se opôs à ideia de guerra nuclear e trabalhou arduamente para promover a cooperação internacional.\\n\\nEinstein morreu em 18 de abril de 1955, aos 76 anos de idade, mas seu legado continua a inspirar cientistas e filósofos de todo o mundo.', additional_kwargs={}, response_metadata={'model': 'llama3.1:latest', 'created_at': '2024-10-05T11:04:06.807725532Z', 'message': {'role': 'assistant', 'content': ''}, 'done_reason': 'stop', 'done': True, 'total_duration': 17862153691, 'load_duration': 65519600, 'prompt_eval_count': 53, 'prompt_eval_duration': 158145000, 'eval_count': 257, 'eval_duration': 17486941000}, id='run-975e66f8-935d-4d93-8db2-c9ceaa4af979-0', usage_metadata={'input_tokens': 53, 'output_tokens': 257, 'total_tokens': 310}),\n",
       " HumanMessage(content='O que você disse? Ainda não consegui entender', additional_kwargs={}, response_metadata={}, id='0d847977-7e4e-44ed-a793-b3953cd2568f'),\n",
       " AIMessage(content='Peço desculpas se minhas respostas anteriores não foram claras! Vou tentar novamente:\\n\\n**Quem foi Albert Einstein?**\\n\\nAlbert Einstein foi um cientista alemão, conhecido como o maior físico do século XX. Ele nasceu em 1879 e morreu em 1955.\\n\\n**O que ele fez de importante?**\\n\\nEinstein é famoso por ter descoberto uma teoria chamada \"Teoria da Relatividade\", que explica como o tempo, espaço e gravidade funcionam. Isso foi um grande avanço na ciência!\\n\\nEle também desenvolveu a equação E = mc², que relaciona energia e massa.\\n\\n**Por que ele é importante?**\\n\\nEinstein é considerado uma das maiores mentes da história por causa de suas contribuições para a física e pela influência que teve em muitas áreas, como a política e a sociedade.\\n\\nEle também foi um defensor da paz e da justiça social, e seu legado continua a inspirar pessoas de todo o mundo!\\n\\nEspero que isso tenha ajudado! Se você tiver mais alguma dúvida, sinta-se à vontade para perguntar.', additional_kwargs={}, response_metadata={'model': 'llama3.1:latest', 'created_at': '2024-10-05T11:04:25.304091069Z', 'message': {'role': 'assistant', 'content': ''}, 'done_reason': 'stop', 'done': True, 'total_duration': 18476594153, 'load_duration': 13215695, 'prompt_eval_count': 330, 'prompt_eval_duration': 228746000, 'eval_count': 262, 'eval_duration': 17929316000}, id='run-26798fa4-faee-45c9-ba9b-09a0cd1050a0-0', usage_metadata={'input_tokens': 330, 'output_tokens': 262, 'total_tokens': 592}),\n",
       " HumanMessage(content='Naseu onde?', additional_kwargs={}, response_metadata={}, id='1727d422-4c03-4594-8c8a-1d4f9031a8be'),\n",
       " AIMessage(content='Albert Einstein nasceu em **Munique, Alemanha**, em 14 de março de 1879.', additional_kwargs={}, response_metadata={'model': 'llama3.1:latest', 'created_at': '2024-10-05T11:04:27.779583243Z', 'message': {'role': 'assistant', 'content': ''}, 'done_reason': 'stop', 'done': True, 'total_duration': 2459298034, 'load_duration': 12274587, 'prompt_eval_count': 606, 'prompt_eval_duration': 222359000, 'eval_count': 25, 'eval_duration': 1734352000}, id='run-43cbc92d-38db-4a58-851f-85abbf64f19d-0', usage_metadata={'input_tokens': 606, 'output_tokens': 25, 'total_tokens': 631}),\n",
       " HumanMessage(content='Quando?', additional_kwargs={}, response_metadata={}, id='abb5424c-c554-4914-942e-3c453093a66a'),\n",
       " AIMessage(content='Albert Einstein nasceu em 14 de **março** de 1879.', additional_kwargs={}, response_metadata={'model': 'llama3.1:latest', 'created_at': '2024-10-05T11:04:29.684570415Z', 'message': {'role': 'assistant', 'content': ''}, 'done_reason': 'stop', 'done': True, 'total_duration': 1885239785, 'load_duration': 11950673, 'prompt_eval_count': 643, 'prompt_eval_duration': 185482000, 'eval_count': 18, 'eval_duration': 1127261000}, id='run-a042065a-9601-4cce-a0fd-3137ca7ea756-0', usage_metadata={'input_tokens': 643, 'output_tokens': 18, 'total_tokens': 661})]"
      ]
     },
     "execution_count": 12,
     "metadata": {},
     "output_type": "execute_result"
    }
   ],
   "source": [
    "output[\"messages\"]"
   ]
  },
  {
   "cell_type": "markdown",
   "id": "342167ff-f177-42f5-891a-833a8b1ac4de",
   "metadata": {},
   "source": [
    "## Testando o isolamento de sessões"
   ]
  },
  {
   "cell_type": "code",
   "execution_count": 13,
   "id": "99a4ca56-8713-4277-9d4f-4189f35d8c7b",
   "metadata": {},
   "outputs": [
    {
     "name": "stdout",
     "output_type": "stream",
     "text": [
      "==================================\u001b[1m Ai Message \u001b[0m==================================\n",
      "\n",
      "Não declarei nada ainda. Eu estava apenas aguardando sua pergunta para começar a conversa. Posso ajudar com algo em particular ou responder perguntas geralmente? Estou aqui para ajudá-lo.\n"
     ]
    }
   ],
   "source": [
    "# trocando a sessão\n",
    "config = {\"configurable\": {\"thread_id\": \"def234\"}}\n",
    "\n",
    "query = \"O que você disse por último?\"\n",
    "input_messages = [HumanMessage(query)]\n",
    "output = app.invoke({\"messages\": input_messages}, config)\n",
    "output[\"messages\"][-1].pretty_print()"
   ]
  },
  {
   "cell_type": "code",
   "execution_count": 14,
   "id": "38d50b61-6ea9-435c-9584-161c81dbc4d4",
   "metadata": {},
   "outputs": [
    {
     "data": {
      "text/plain": [
       "[HumanMessage(content='O que você disse por último?', additional_kwargs={}, response_metadata={}, id='487128c0-1ddf-4750-8125-4b65b66850fe'),\n",
       " AIMessage(content='Não declarei nada ainda. Eu estava apenas aguardando sua pergunta para começar a conversa. Posso ajudar com algo em particular ou responder perguntas geralmente? Estou aqui para ajudá-lo.', additional_kwargs={}, response_metadata={'model': 'llama3.1:latest', 'created_at': '2024-10-05T11:04:32.874149244Z', 'message': {'role': 'assistant', 'content': ''}, 'done_reason': 'stop', 'done': True, 'total_duration': 3176755394, 'load_duration': 12375394, 'prompt_eval_count': 17, 'prompt_eval_duration': 139370000, 'eval_count': 47, 'eval_duration': 3023848000}, id='run-ee362dbc-449e-43b8-80b0-e3e329e0ad88-0', usage_metadata={'input_tokens': 17, 'output_tokens': 47, 'total_tokens': 64})]"
      ]
     },
     "execution_count": 14,
     "metadata": {},
     "output_type": "execute_result"
    }
   ],
   "source": [
    "output[\"messages\"]"
   ]
  },
  {
   "cell_type": "code",
   "execution_count": 15,
   "id": "b7e56f14-d68c-4771-b938-b0a4beb82d70",
   "metadata": {},
   "outputs": [
    {
     "name": "stdout",
     "output_type": "stream",
     "text": [
      "==================================\u001b[1m Ai Message \u001b[0m==================================\n",
      "\n",
      "Eu disse que Albert Einstein nasceu em 14 de março de 1879.\n"
     ]
    }
   ],
   "source": [
    "# retornando a sessão anterior\n",
    "config = {\"configurable\": {\"thread_id\": \"abc123\"}}\n",
    "\n",
    "query = \"O que você disse por último?\"\n",
    "input_messages = [HumanMessage(query)]\n",
    "output = app.invoke({\"messages\": input_messages}, config)\n",
    "output[\"messages\"][-1].pretty_print()"
   ]
  },
  {
   "cell_type": "code",
   "execution_count": 16,
   "id": "4784abc4-8383-448e-93da-e80a274a5198",
   "metadata": {},
   "outputs": [
    {
     "data": {
      "text/plain": [
       "[HumanMessage(content='Quem foi Albert Einstein?', additional_kwargs={}, response_metadata={}, id='acea0fa2-353a-4199-8753-da616ffe4340'),\n",
       " AIMessage(content='Albert Einstein foi um físico alemão, conhecido por seu trabalho na teoria da relatividade.', additional_kwargs={}, response_metadata={'model': 'llama3.1:latest', 'created_at': '2024-10-05T11:03:48.924447382Z', 'message': {'role': 'assistant', 'content': ''}, 'done_reason': 'stop', 'done': True, 'total_duration': 1905164937, 'load_duration': 11567495, 'prompt_eval_count': 16, 'prompt_eval_duration': 450060000, 'eval_count': 23, 'eval_duration': 1392796000}, id='run-644be634-bafd-4f8b-9632-28ddfd69669c-0', usage_metadata={'input_tokens': 16, 'output_tokens': 23, 'total_tokens': 39}),\n",
       " HumanMessage(content='O que você disse?', additional_kwargs={}, response_metadata={}, id='ced6ba8c-a899-4c20-bdcc-782a7559ab1f'),\n",
       " AIMessage(content='Eu disse que Albert Einstein foi um físico alemão, famoso por ter desenvolvido a Teoria da Relatividade. Ele é considerado uma das maiores mentes do século XX e recebeu o Prêmio Nobel de Física em 1921.\\n\\nMas há muito mais sobre ele!\\n\\nEinstein nasceu em 14 de março de 1879, na Alemanha, e cresceu como um menino comum. No entanto, desde cedo, mostrou um interesse enorme por matemática e física.\\n\\nSeu trabalho mais famoso é a Teoria da Relatividade, que revolucionou nossa compreensão do espaço, tempo e gravidade. Ele também desenvolveu a famosa equação E = mc², que relaciona energia e massa.\\n\\nAlém disso, Einstein foi um defensor da paz e da justiça social. Ele se opôs à ideia de guerra nuclear e trabalhou arduamente para promover a cooperação internacional.\\n\\nEinstein morreu em 18 de abril de 1955, aos 76 anos de idade, mas seu legado continua a inspirar cientistas e filósofos de todo o mundo.', additional_kwargs={}, response_metadata={'model': 'llama3.1:latest', 'created_at': '2024-10-05T11:04:06.807725532Z', 'message': {'role': 'assistant', 'content': ''}, 'done_reason': 'stop', 'done': True, 'total_duration': 17862153691, 'load_duration': 65519600, 'prompt_eval_count': 53, 'prompt_eval_duration': 158145000, 'eval_count': 257, 'eval_duration': 17486941000}, id='run-975e66f8-935d-4d93-8db2-c9ceaa4af979-0', usage_metadata={'input_tokens': 53, 'output_tokens': 257, 'total_tokens': 310}),\n",
       " HumanMessage(content='O que você disse? Ainda não consegui entender', additional_kwargs={}, response_metadata={}, id='0d847977-7e4e-44ed-a793-b3953cd2568f'),\n",
       " AIMessage(content='Peço desculpas se minhas respostas anteriores não foram claras! Vou tentar novamente:\\n\\n**Quem foi Albert Einstein?**\\n\\nAlbert Einstein foi um cientista alemão, conhecido como o maior físico do século XX. Ele nasceu em 1879 e morreu em 1955.\\n\\n**O que ele fez de importante?**\\n\\nEinstein é famoso por ter descoberto uma teoria chamada \"Teoria da Relatividade\", que explica como o tempo, espaço e gravidade funcionam. Isso foi um grande avanço na ciência!\\n\\nEle também desenvolveu a equação E = mc², que relaciona energia e massa.\\n\\n**Por que ele é importante?**\\n\\nEinstein é considerado uma das maiores mentes da história por causa de suas contribuições para a física e pela influência que teve em muitas áreas, como a política e a sociedade.\\n\\nEle também foi um defensor da paz e da justiça social, e seu legado continua a inspirar pessoas de todo o mundo!\\n\\nEspero que isso tenha ajudado! Se você tiver mais alguma dúvida, sinta-se à vontade para perguntar.', additional_kwargs={}, response_metadata={'model': 'llama3.1:latest', 'created_at': '2024-10-05T11:04:25.304091069Z', 'message': {'role': 'assistant', 'content': ''}, 'done_reason': 'stop', 'done': True, 'total_duration': 18476594153, 'load_duration': 13215695, 'prompt_eval_count': 330, 'prompt_eval_duration': 228746000, 'eval_count': 262, 'eval_duration': 17929316000}, id='run-26798fa4-faee-45c9-ba9b-09a0cd1050a0-0', usage_metadata={'input_tokens': 330, 'output_tokens': 262, 'total_tokens': 592}),\n",
       " HumanMessage(content='Naseu onde?', additional_kwargs={}, response_metadata={}, id='1727d422-4c03-4594-8c8a-1d4f9031a8be'),\n",
       " AIMessage(content='Albert Einstein nasceu em **Munique, Alemanha**, em 14 de março de 1879.', additional_kwargs={}, response_metadata={'model': 'llama3.1:latest', 'created_at': '2024-10-05T11:04:27.779583243Z', 'message': {'role': 'assistant', 'content': ''}, 'done_reason': 'stop', 'done': True, 'total_duration': 2459298034, 'load_duration': 12274587, 'prompt_eval_count': 606, 'prompt_eval_duration': 222359000, 'eval_count': 25, 'eval_duration': 1734352000}, id='run-43cbc92d-38db-4a58-851f-85abbf64f19d-0', usage_metadata={'input_tokens': 606, 'output_tokens': 25, 'total_tokens': 631}),\n",
       " HumanMessage(content='Quando?', additional_kwargs={}, response_metadata={}, id='abb5424c-c554-4914-942e-3c453093a66a'),\n",
       " AIMessage(content='Albert Einstein nasceu em 14 de **março** de 1879.', additional_kwargs={}, response_metadata={'model': 'llama3.1:latest', 'created_at': '2024-10-05T11:04:29.684570415Z', 'message': {'role': 'assistant', 'content': ''}, 'done_reason': 'stop', 'done': True, 'total_duration': 1885239785, 'load_duration': 11950673, 'prompt_eval_count': 643, 'prompt_eval_duration': 185482000, 'eval_count': 18, 'eval_duration': 1127261000}, id='run-a042065a-9601-4cce-a0fd-3137ca7ea756-0', usage_metadata={'input_tokens': 643, 'output_tokens': 18, 'total_tokens': 661}),\n",
       " HumanMessage(content='O que você disse por último?', additional_kwargs={}, response_metadata={}, id='a9e3968f-af49-46ad-8a77-71a9d60782dc'),\n",
       " AIMessage(content='Eu disse que Albert Einstein nasceu em 14 de março de 1879.', additional_kwargs={}, response_metadata={'model': 'llama3.1:latest', 'created_at': '2024-10-05T11:04:35.761621953Z', 'message': {'role': 'assistant', 'content': ''}, 'done_reason': 'stop', 'done': True, 'total_duration': 2867722234, 'load_duration': 67165281, 'prompt_eval_count': 677, 'prompt_eval_duration': 978508000, 'eval_count': 19, 'eval_duration': 1120558000}, id='run-bd0ce452-dfee-44bf-9c27-ff435d56a5e7-0', usage_metadata={'input_tokens': 677, 'output_tokens': 19, 'total_tokens': 696})]"
      ]
     },
     "execution_count": 16,
     "metadata": {},
     "output_type": "execute_result"
    }
   ],
   "source": [
    "output[\"messages\"]"
   ]
  },
  {
   "cell_type": "markdown",
   "id": "8618b1b0-f709-4b8d-a279-cf22f9617f7b",
   "metadata": {},
   "source": [
    "## Removendo as 2 primeiras interações (para não entupir de tokens)"
   ]
  },
  {
   "cell_type": "code",
   "execution_count": 17,
   "id": "e7e1fbef-8a06-4813-9266-f30832f3a7ab",
   "metadata": {},
   "outputs": [
    {
     "data": {
      "text/plain": [
       "[HumanMessage(content='Quem foi Albert Einstein?', additional_kwargs={}, response_metadata={}, id='acea0fa2-353a-4199-8753-da616ffe4340'),\n",
       " AIMessage(content='Albert Einstein foi um físico alemão, conhecido por seu trabalho na teoria da relatividade.', additional_kwargs={}, response_metadata={'model': 'llama3.1:latest', 'created_at': '2024-10-05T11:03:48.924447382Z', 'message': {'role': 'assistant', 'content': ''}, 'done_reason': 'stop', 'done': True, 'total_duration': 1905164937, 'load_duration': 11567495, 'prompt_eval_count': 16, 'prompt_eval_duration': 450060000, 'eval_count': 23, 'eval_duration': 1392796000}, id='run-644be634-bafd-4f8b-9632-28ddfd69669c-0', usage_metadata={'input_tokens': 16, 'output_tokens': 23, 'total_tokens': 39}),\n",
       " HumanMessage(content='O que você disse?', additional_kwargs={}, response_metadata={}, id='ced6ba8c-a899-4c20-bdcc-782a7559ab1f'),\n",
       " AIMessage(content='Eu disse que Albert Einstein foi um físico alemão, famoso por ter desenvolvido a Teoria da Relatividade. Ele é considerado uma das maiores mentes do século XX e recebeu o Prêmio Nobel de Física em 1921.\\n\\nMas há muito mais sobre ele!\\n\\nEinstein nasceu em 14 de março de 1879, na Alemanha, e cresceu como um menino comum. No entanto, desde cedo, mostrou um interesse enorme por matemática e física.\\n\\nSeu trabalho mais famoso é a Teoria da Relatividade, que revolucionou nossa compreensão do espaço, tempo e gravidade. Ele também desenvolveu a famosa equação E = mc², que relaciona energia e massa.\\n\\nAlém disso, Einstein foi um defensor da paz e da justiça social. Ele se opôs à ideia de guerra nuclear e trabalhou arduamente para promover a cooperação internacional.\\n\\nEinstein morreu em 18 de abril de 1955, aos 76 anos de idade, mas seu legado continua a inspirar cientistas e filósofos de todo o mundo.', additional_kwargs={}, response_metadata={'model': 'llama3.1:latest', 'created_at': '2024-10-05T11:04:06.807725532Z', 'message': {'role': 'assistant', 'content': ''}, 'done_reason': 'stop', 'done': True, 'total_duration': 17862153691, 'load_duration': 65519600, 'prompt_eval_count': 53, 'prompt_eval_duration': 158145000, 'eval_count': 257, 'eval_duration': 17486941000}, id='run-975e66f8-935d-4d93-8db2-c9ceaa4af979-0', usage_metadata={'input_tokens': 53, 'output_tokens': 257, 'total_tokens': 310}),\n",
       " HumanMessage(content='O que você disse? Ainda não consegui entender', additional_kwargs={}, response_metadata={}, id='0d847977-7e4e-44ed-a793-b3953cd2568f'),\n",
       " AIMessage(content='Peço desculpas se minhas respostas anteriores não foram claras! Vou tentar novamente:\\n\\n**Quem foi Albert Einstein?**\\n\\nAlbert Einstein foi um cientista alemão, conhecido como o maior físico do século XX. Ele nasceu em 1879 e morreu em 1955.\\n\\n**O que ele fez de importante?**\\n\\nEinstein é famoso por ter descoberto uma teoria chamada \"Teoria da Relatividade\", que explica como o tempo, espaço e gravidade funcionam. Isso foi um grande avanço na ciência!\\n\\nEle também desenvolveu a equação E = mc², que relaciona energia e massa.\\n\\n**Por que ele é importante?**\\n\\nEinstein é considerado uma das maiores mentes da história por causa de suas contribuições para a física e pela influência que teve em muitas áreas, como a política e a sociedade.\\n\\nEle também foi um defensor da paz e da justiça social, e seu legado continua a inspirar pessoas de todo o mundo!\\n\\nEspero que isso tenha ajudado! Se você tiver mais alguma dúvida, sinta-se à vontade para perguntar.', additional_kwargs={}, response_metadata={'model': 'llama3.1:latest', 'created_at': '2024-10-05T11:04:25.304091069Z', 'message': {'role': 'assistant', 'content': ''}, 'done_reason': 'stop', 'done': True, 'total_duration': 18476594153, 'load_duration': 13215695, 'prompt_eval_count': 330, 'prompt_eval_duration': 228746000, 'eval_count': 262, 'eval_duration': 17929316000}, id='run-26798fa4-faee-45c9-ba9b-09a0cd1050a0-0', usage_metadata={'input_tokens': 330, 'output_tokens': 262, 'total_tokens': 592}),\n",
       " HumanMessage(content='Naseu onde?', additional_kwargs={}, response_metadata={}, id='1727d422-4c03-4594-8c8a-1d4f9031a8be'),\n",
       " AIMessage(content='Albert Einstein nasceu em **Munique, Alemanha**, em 14 de março de 1879.', additional_kwargs={}, response_metadata={'model': 'llama3.1:latest', 'created_at': '2024-10-05T11:04:27.779583243Z', 'message': {'role': 'assistant', 'content': ''}, 'done_reason': 'stop', 'done': True, 'total_duration': 2459298034, 'load_duration': 12274587, 'prompt_eval_count': 606, 'prompt_eval_duration': 222359000, 'eval_count': 25, 'eval_duration': 1734352000}, id='run-43cbc92d-38db-4a58-851f-85abbf64f19d-0', usage_metadata={'input_tokens': 606, 'output_tokens': 25, 'total_tokens': 631}),\n",
       " HumanMessage(content='Quando?', additional_kwargs={}, response_metadata={}, id='abb5424c-c554-4914-942e-3c453093a66a'),\n",
       " AIMessage(content='Albert Einstein nasceu em 14 de **março** de 1879.', additional_kwargs={}, response_metadata={'model': 'llama3.1:latest', 'created_at': '2024-10-05T11:04:29.684570415Z', 'message': {'role': 'assistant', 'content': ''}, 'done_reason': 'stop', 'done': True, 'total_duration': 1885239785, 'load_duration': 11950673, 'prompt_eval_count': 643, 'prompt_eval_duration': 185482000, 'eval_count': 18, 'eval_duration': 1127261000}, id='run-a042065a-9601-4cce-a0fd-3137ca7ea756-0', usage_metadata={'input_tokens': 643, 'output_tokens': 18, 'total_tokens': 661}),\n",
       " HumanMessage(content='O que você disse por último?', additional_kwargs={}, response_metadata={}, id='a9e3968f-af49-46ad-8a77-71a9d60782dc'),\n",
       " AIMessage(content='Eu disse que Albert Einstein nasceu em 14 de março de 1879.', additional_kwargs={}, response_metadata={'model': 'llama3.1:latest', 'created_at': '2024-10-05T11:04:35.761621953Z', 'message': {'role': 'assistant', 'content': ''}, 'done_reason': 'stop', 'done': True, 'total_duration': 2867722234, 'load_duration': 67165281, 'prompt_eval_count': 677, 'prompt_eval_duration': 978508000, 'eval_count': 19, 'eval_duration': 1120558000}, id='run-bd0ce452-dfee-44bf-9c27-ff435d56a5e7-0', usage_metadata={'input_tokens': 677, 'output_tokens': 19, 'total_tokens': 696})]"
      ]
     },
     "execution_count": 17,
     "metadata": {},
     "output_type": "execute_result"
    }
   ],
   "source": [
    "messages = app.get_state(config).values[\"messages\"]\n",
    "messages"
   ]
  },
  {
   "cell_type": "code",
   "execution_count": 18,
   "id": "6057489c-aff2-4252-a79c-caa0754ca5d5",
   "metadata": {},
   "outputs": [
    {
     "data": {
      "text/plain": [
       "[AIMessage(content='Albert Einstein foi um físico alemão, conhecido por seu trabalho na teoria da relatividade.', additional_kwargs={}, response_metadata={'model': 'llama3.1:latest', 'created_at': '2024-10-05T11:03:48.924447382Z', 'message': {'role': 'assistant', 'content': ''}, 'done_reason': 'stop', 'done': True, 'total_duration': 1905164937, 'load_duration': 11567495, 'prompt_eval_count': 16, 'prompt_eval_duration': 450060000, 'eval_count': 23, 'eval_duration': 1392796000}, id='run-644be634-bafd-4f8b-9632-28ddfd69669c-0', usage_metadata={'input_tokens': 16, 'output_tokens': 23, 'total_tokens': 39}),\n",
       " HumanMessage(content='O que você disse?', additional_kwargs={}, response_metadata={}, id='ced6ba8c-a899-4c20-bdcc-782a7559ab1f'),\n",
       " AIMessage(content='Eu disse que Albert Einstein foi um físico alemão, famoso por ter desenvolvido a Teoria da Relatividade. Ele é considerado uma das maiores mentes do século XX e recebeu o Prêmio Nobel de Física em 1921.\\n\\nMas há muito mais sobre ele!\\n\\nEinstein nasceu em 14 de março de 1879, na Alemanha, e cresceu como um menino comum. No entanto, desde cedo, mostrou um interesse enorme por matemática e física.\\n\\nSeu trabalho mais famoso é a Teoria da Relatividade, que revolucionou nossa compreensão do espaço, tempo e gravidade. Ele também desenvolveu a famosa equação E = mc², que relaciona energia e massa.\\n\\nAlém disso, Einstein foi um defensor da paz e da justiça social. Ele se opôs à ideia de guerra nuclear e trabalhou arduamente para promover a cooperação internacional.\\n\\nEinstein morreu em 18 de abril de 1955, aos 76 anos de idade, mas seu legado continua a inspirar cientistas e filósofos de todo o mundo.', additional_kwargs={}, response_metadata={'model': 'llama3.1:latest', 'created_at': '2024-10-05T11:04:06.807725532Z', 'message': {'role': 'assistant', 'content': ''}, 'done_reason': 'stop', 'done': True, 'total_duration': 17862153691, 'load_duration': 65519600, 'prompt_eval_count': 53, 'prompt_eval_duration': 158145000, 'eval_count': 257, 'eval_duration': 17486941000}, id='run-975e66f8-935d-4d93-8db2-c9ceaa4af979-0', usage_metadata={'input_tokens': 53, 'output_tokens': 257, 'total_tokens': 310}),\n",
       " HumanMessage(content='O que você disse? Ainda não consegui entender', additional_kwargs={}, response_metadata={}, id='0d847977-7e4e-44ed-a793-b3953cd2568f'),\n",
       " AIMessage(content='Peço desculpas se minhas respostas anteriores não foram claras! Vou tentar novamente:\\n\\n**Quem foi Albert Einstein?**\\n\\nAlbert Einstein foi um cientista alemão, conhecido como o maior físico do século XX. Ele nasceu em 1879 e morreu em 1955.\\n\\n**O que ele fez de importante?**\\n\\nEinstein é famoso por ter descoberto uma teoria chamada \"Teoria da Relatividade\", que explica como o tempo, espaço e gravidade funcionam. Isso foi um grande avanço na ciência!\\n\\nEle também desenvolveu a equação E = mc², que relaciona energia e massa.\\n\\n**Por que ele é importante?**\\n\\nEinstein é considerado uma das maiores mentes da história por causa de suas contribuições para a física e pela influência que teve em muitas áreas, como a política e a sociedade.\\n\\nEle também foi um defensor da paz e da justiça social, e seu legado continua a inspirar pessoas de todo o mundo!\\n\\nEspero que isso tenha ajudado! Se você tiver mais alguma dúvida, sinta-se à vontade para perguntar.', additional_kwargs={}, response_metadata={'model': 'llama3.1:latest', 'created_at': '2024-10-05T11:04:25.304091069Z', 'message': {'role': 'assistant', 'content': ''}, 'done_reason': 'stop', 'done': True, 'total_duration': 18476594153, 'load_duration': 13215695, 'prompt_eval_count': 330, 'prompt_eval_duration': 228746000, 'eval_count': 262, 'eval_duration': 17929316000}, id='run-26798fa4-faee-45c9-ba9b-09a0cd1050a0-0', usage_metadata={'input_tokens': 330, 'output_tokens': 262, 'total_tokens': 592}),\n",
       " HumanMessage(content='Naseu onde?', additional_kwargs={}, response_metadata={}, id='1727d422-4c03-4594-8c8a-1d4f9031a8be'),\n",
       " AIMessage(content='Albert Einstein nasceu em **Munique, Alemanha**, em 14 de março de 1879.', additional_kwargs={}, response_metadata={'model': 'llama3.1:latest', 'created_at': '2024-10-05T11:04:27.779583243Z', 'message': {'role': 'assistant', 'content': ''}, 'done_reason': 'stop', 'done': True, 'total_duration': 2459298034, 'load_duration': 12274587, 'prompt_eval_count': 606, 'prompt_eval_duration': 222359000, 'eval_count': 25, 'eval_duration': 1734352000}, id='run-43cbc92d-38db-4a58-851f-85abbf64f19d-0', usage_metadata={'input_tokens': 606, 'output_tokens': 25, 'total_tokens': 631}),\n",
       " HumanMessage(content='Quando?', additional_kwargs={}, response_metadata={}, id='abb5424c-c554-4914-942e-3c453093a66a'),\n",
       " AIMessage(content='Albert Einstein nasceu em 14 de **março** de 1879.', additional_kwargs={}, response_metadata={'model': 'llama3.1:latest', 'created_at': '2024-10-05T11:04:29.684570415Z', 'message': {'role': 'assistant', 'content': ''}, 'done_reason': 'stop', 'done': True, 'total_duration': 1885239785, 'load_duration': 11950673, 'prompt_eval_count': 643, 'prompt_eval_duration': 185482000, 'eval_count': 18, 'eval_duration': 1127261000}, id='run-a042065a-9601-4cce-a0fd-3137ca7ea756-0', usage_metadata={'input_tokens': 643, 'output_tokens': 18, 'total_tokens': 661}),\n",
       " HumanMessage(content='O que você disse por último?', additional_kwargs={}, response_metadata={}, id='a9e3968f-af49-46ad-8a77-71a9d60782dc'),\n",
       " AIMessage(content='Eu disse que Albert Einstein nasceu em 14 de março de 1879.', additional_kwargs={}, response_metadata={'model': 'llama3.1:latest', 'created_at': '2024-10-05T11:04:35.761621953Z', 'message': {'role': 'assistant', 'content': ''}, 'done_reason': 'stop', 'done': True, 'total_duration': 2867722234, 'load_duration': 67165281, 'prompt_eval_count': 677, 'prompt_eval_duration': 978508000, 'eval_count': 19, 'eval_duration': 1120558000}, id='run-bd0ce452-dfee-44bf-9c27-ff435d56a5e7-0', usage_metadata={'input_tokens': 677, 'output_tokens': 19, 'total_tokens': 696})]"
      ]
     },
     "execution_count": 18,
     "metadata": {},
     "output_type": "execute_result"
    }
   ],
   "source": [
    "app.update_state(config, {\"messages\": RemoveMessage(id=messages[0].id)})\n",
    "messages = app.get_state(config).values[\"messages\"]\n",
    "messages"
   ]
  },
  {
   "cell_type": "code",
   "execution_count": 19,
   "id": "85c43758-9efa-4074-a8b7-96861ae7cd95",
   "metadata": {},
   "outputs": [
    {
     "data": {
      "text/plain": [
       "[HumanMessage(content='O que você disse?', additional_kwargs={}, response_metadata={}, id='ced6ba8c-a899-4c20-bdcc-782a7559ab1f'),\n",
       " AIMessage(content='Eu disse que Albert Einstein foi um físico alemão, famoso por ter desenvolvido a Teoria da Relatividade. Ele é considerado uma das maiores mentes do século XX e recebeu o Prêmio Nobel de Física em 1921.\\n\\nMas há muito mais sobre ele!\\n\\nEinstein nasceu em 14 de março de 1879, na Alemanha, e cresceu como um menino comum. No entanto, desde cedo, mostrou um interesse enorme por matemática e física.\\n\\nSeu trabalho mais famoso é a Teoria da Relatividade, que revolucionou nossa compreensão do espaço, tempo e gravidade. Ele também desenvolveu a famosa equação E = mc², que relaciona energia e massa.\\n\\nAlém disso, Einstein foi um defensor da paz e da justiça social. Ele se opôs à ideia de guerra nuclear e trabalhou arduamente para promover a cooperação internacional.\\n\\nEinstein morreu em 18 de abril de 1955, aos 76 anos de idade, mas seu legado continua a inspirar cientistas e filósofos de todo o mundo.', additional_kwargs={}, response_metadata={'model': 'llama3.1:latest', 'created_at': '2024-10-05T11:04:06.807725532Z', 'message': {'role': 'assistant', 'content': ''}, 'done_reason': 'stop', 'done': True, 'total_duration': 17862153691, 'load_duration': 65519600, 'prompt_eval_count': 53, 'prompt_eval_duration': 158145000, 'eval_count': 257, 'eval_duration': 17486941000}, id='run-975e66f8-935d-4d93-8db2-c9ceaa4af979-0', usage_metadata={'input_tokens': 53, 'output_tokens': 257, 'total_tokens': 310}),\n",
       " HumanMessage(content='O que você disse? Ainda não consegui entender', additional_kwargs={}, response_metadata={}, id='0d847977-7e4e-44ed-a793-b3953cd2568f'),\n",
       " AIMessage(content='Peço desculpas se minhas respostas anteriores não foram claras! Vou tentar novamente:\\n\\n**Quem foi Albert Einstein?**\\n\\nAlbert Einstein foi um cientista alemão, conhecido como o maior físico do século XX. Ele nasceu em 1879 e morreu em 1955.\\n\\n**O que ele fez de importante?**\\n\\nEinstein é famoso por ter descoberto uma teoria chamada \"Teoria da Relatividade\", que explica como o tempo, espaço e gravidade funcionam. Isso foi um grande avanço na ciência!\\n\\nEle também desenvolveu a equação E = mc², que relaciona energia e massa.\\n\\n**Por que ele é importante?**\\n\\nEinstein é considerado uma das maiores mentes da história por causa de suas contribuições para a física e pela influência que teve em muitas áreas, como a política e a sociedade.\\n\\nEle também foi um defensor da paz e da justiça social, e seu legado continua a inspirar pessoas de todo o mundo!\\n\\nEspero que isso tenha ajudado! Se você tiver mais alguma dúvida, sinta-se à vontade para perguntar.', additional_kwargs={}, response_metadata={'model': 'llama3.1:latest', 'created_at': '2024-10-05T11:04:25.304091069Z', 'message': {'role': 'assistant', 'content': ''}, 'done_reason': 'stop', 'done': True, 'total_duration': 18476594153, 'load_duration': 13215695, 'prompt_eval_count': 330, 'prompt_eval_duration': 228746000, 'eval_count': 262, 'eval_duration': 17929316000}, id='run-26798fa4-faee-45c9-ba9b-09a0cd1050a0-0', usage_metadata={'input_tokens': 330, 'output_tokens': 262, 'total_tokens': 592}),\n",
       " HumanMessage(content='Naseu onde?', additional_kwargs={}, response_metadata={}, id='1727d422-4c03-4594-8c8a-1d4f9031a8be'),\n",
       " AIMessage(content='Albert Einstein nasceu em **Munique, Alemanha**, em 14 de março de 1879.', additional_kwargs={}, response_metadata={'model': 'llama3.1:latest', 'created_at': '2024-10-05T11:04:27.779583243Z', 'message': {'role': 'assistant', 'content': ''}, 'done_reason': 'stop', 'done': True, 'total_duration': 2459298034, 'load_duration': 12274587, 'prompt_eval_count': 606, 'prompt_eval_duration': 222359000, 'eval_count': 25, 'eval_duration': 1734352000}, id='run-43cbc92d-38db-4a58-851f-85abbf64f19d-0', usage_metadata={'input_tokens': 606, 'output_tokens': 25, 'total_tokens': 631}),\n",
       " HumanMessage(content='Quando?', additional_kwargs={}, response_metadata={}, id='abb5424c-c554-4914-942e-3c453093a66a'),\n",
       " AIMessage(content='Albert Einstein nasceu em 14 de **março** de 1879.', additional_kwargs={}, response_metadata={'model': 'llama3.1:latest', 'created_at': '2024-10-05T11:04:29.684570415Z', 'message': {'role': 'assistant', 'content': ''}, 'done_reason': 'stop', 'done': True, 'total_duration': 1885239785, 'load_duration': 11950673, 'prompt_eval_count': 643, 'prompt_eval_duration': 185482000, 'eval_count': 18, 'eval_duration': 1127261000}, id='run-a042065a-9601-4cce-a0fd-3137ca7ea756-0', usage_metadata={'input_tokens': 643, 'output_tokens': 18, 'total_tokens': 661}),\n",
       " HumanMessage(content='O que você disse por último?', additional_kwargs={}, response_metadata={}, id='a9e3968f-af49-46ad-8a77-71a9d60782dc'),\n",
       " AIMessage(content='Eu disse que Albert Einstein nasceu em 14 de março de 1879.', additional_kwargs={}, response_metadata={'model': 'llama3.1:latest', 'created_at': '2024-10-05T11:04:35.761621953Z', 'message': {'role': 'assistant', 'content': ''}, 'done_reason': 'stop', 'done': True, 'total_duration': 2867722234, 'load_duration': 67165281, 'prompt_eval_count': 677, 'prompt_eval_duration': 978508000, 'eval_count': 19, 'eval_duration': 1120558000}, id='run-bd0ce452-dfee-44bf-9c27-ff435d56a5e7-0', usage_metadata={'input_tokens': 677, 'output_tokens': 19, 'total_tokens': 696})]"
      ]
     },
     "execution_count": 19,
     "metadata": {},
     "output_type": "execute_result"
    }
   ],
   "source": [
    "app.update_state(config, {\"messages\": RemoveMessage(id=messages[0].id)})\n",
    "messages = app.get_state(config).values[\"messages\"]\n",
    "messages"
   ]
  },
  {
   "cell_type": "markdown",
   "id": "5c889c81-3b7f-43ae-9df5-0a307556d78d",
   "metadata": {},
   "source": [
    "## Retomando a conversa (para verificar se continua coerente)"
   ]
  },
  {
   "cell_type": "code",
   "execution_count": 20,
   "id": "dcf1ca61-2282-4f0f-8c7f-e9d4737206cc",
   "metadata": {},
   "outputs": [
    {
     "name": "stdout",
     "output_type": "stream",
     "text": [
      "==================================\u001b[1m Ai Message \u001b[0m==================================\n",
      "\n",
      "A maior contribuição de Albert Einstein foi a sua teoria da **Relatividade**, que revolucionou nossa compreensão do espaço, tempo e gravidade.\n",
      "\n",
      "Essa teoria é dividida em duas partes:\n",
      "\n",
      "1. **Teoria da Relatividade Especial** (1905): que afirma que o tempo e o espaço são relativos ao observador.\n",
      "2. **Teoria da Relatividade Geral** (1915): que descreve a gravidade como uma curvatura do espaço-tempo causada pela presença de massa.\n",
      "\n",
      "Essas teorias mudaram completamente a forma como entendemos o universo e tiveram um impacto profundo na física, astronomia e outras áreas da ciência.\n"
     ]
    }
   ],
   "source": [
    "query = \"Qual foi a maior contribuição dele?\"\n",
    "input_messages = [HumanMessage(query)]\n",
    "output = app.invoke({\"messages\": input_messages}, config)\n",
    "output[\"messages\"][-1].pretty_print()"
   ]
  },
  {
   "cell_type": "code",
   "execution_count": 21,
   "id": "2b01743a-0b36-434f-86a7-64335117a9c0",
   "metadata": {},
   "outputs": [
    {
     "data": {
      "text/plain": [
       "[HumanMessage(content='O que você disse?', additional_kwargs={}, response_metadata={}, id='ced6ba8c-a899-4c20-bdcc-782a7559ab1f'),\n",
       " AIMessage(content='Eu disse que Albert Einstein foi um físico alemão, famoso por ter desenvolvido a Teoria da Relatividade. Ele é considerado uma das maiores mentes do século XX e recebeu o Prêmio Nobel de Física em 1921.\\n\\nMas há muito mais sobre ele!\\n\\nEinstein nasceu em 14 de março de 1879, na Alemanha, e cresceu como um menino comum. No entanto, desde cedo, mostrou um interesse enorme por matemática e física.\\n\\nSeu trabalho mais famoso é a Teoria da Relatividade, que revolucionou nossa compreensão do espaço, tempo e gravidade. Ele também desenvolveu a famosa equação E = mc², que relaciona energia e massa.\\n\\nAlém disso, Einstein foi um defensor da paz e da justiça social. Ele se opôs à ideia de guerra nuclear e trabalhou arduamente para promover a cooperação internacional.\\n\\nEinstein morreu em 18 de abril de 1955, aos 76 anos de idade, mas seu legado continua a inspirar cientistas e filósofos de todo o mundo.', additional_kwargs={}, response_metadata={'model': 'llama3.1:latest', 'created_at': '2024-10-05T11:04:06.807725532Z', 'message': {'role': 'assistant', 'content': ''}, 'done_reason': 'stop', 'done': True, 'total_duration': 17862153691, 'load_duration': 65519600, 'prompt_eval_count': 53, 'prompt_eval_duration': 158145000, 'eval_count': 257, 'eval_duration': 17486941000}, id='run-975e66f8-935d-4d93-8db2-c9ceaa4af979-0', usage_metadata={'input_tokens': 53, 'output_tokens': 257, 'total_tokens': 310}),\n",
       " HumanMessage(content='O que você disse? Ainda não consegui entender', additional_kwargs={}, response_metadata={}, id='0d847977-7e4e-44ed-a793-b3953cd2568f'),\n",
       " AIMessage(content='Peço desculpas se minhas respostas anteriores não foram claras! Vou tentar novamente:\\n\\n**Quem foi Albert Einstein?**\\n\\nAlbert Einstein foi um cientista alemão, conhecido como o maior físico do século XX. Ele nasceu em 1879 e morreu em 1955.\\n\\n**O que ele fez de importante?**\\n\\nEinstein é famoso por ter descoberto uma teoria chamada \"Teoria da Relatividade\", que explica como o tempo, espaço e gravidade funcionam. Isso foi um grande avanço na ciência!\\n\\nEle também desenvolveu a equação E = mc², que relaciona energia e massa.\\n\\n**Por que ele é importante?**\\n\\nEinstein é considerado uma das maiores mentes da história por causa de suas contribuições para a física e pela influência que teve em muitas áreas, como a política e a sociedade.\\n\\nEle também foi um defensor da paz e da justiça social, e seu legado continua a inspirar pessoas de todo o mundo!\\n\\nEspero que isso tenha ajudado! Se você tiver mais alguma dúvida, sinta-se à vontade para perguntar.', additional_kwargs={}, response_metadata={'model': 'llama3.1:latest', 'created_at': '2024-10-05T11:04:25.304091069Z', 'message': {'role': 'assistant', 'content': ''}, 'done_reason': 'stop', 'done': True, 'total_duration': 18476594153, 'load_duration': 13215695, 'prompt_eval_count': 330, 'prompt_eval_duration': 228746000, 'eval_count': 262, 'eval_duration': 17929316000}, id='run-26798fa4-faee-45c9-ba9b-09a0cd1050a0-0', usage_metadata={'input_tokens': 330, 'output_tokens': 262, 'total_tokens': 592}),\n",
       " HumanMessage(content='Naseu onde?', additional_kwargs={}, response_metadata={}, id='1727d422-4c03-4594-8c8a-1d4f9031a8be'),\n",
       " AIMessage(content='Albert Einstein nasceu em **Munique, Alemanha**, em 14 de março de 1879.', additional_kwargs={}, response_metadata={'model': 'llama3.1:latest', 'created_at': '2024-10-05T11:04:27.779583243Z', 'message': {'role': 'assistant', 'content': ''}, 'done_reason': 'stop', 'done': True, 'total_duration': 2459298034, 'load_duration': 12274587, 'prompt_eval_count': 606, 'prompt_eval_duration': 222359000, 'eval_count': 25, 'eval_duration': 1734352000}, id='run-43cbc92d-38db-4a58-851f-85abbf64f19d-0', usage_metadata={'input_tokens': 606, 'output_tokens': 25, 'total_tokens': 631}),\n",
       " HumanMessage(content='Quando?', additional_kwargs={}, response_metadata={}, id='abb5424c-c554-4914-942e-3c453093a66a'),\n",
       " AIMessage(content='Albert Einstein nasceu em 14 de **março** de 1879.', additional_kwargs={}, response_metadata={'model': 'llama3.1:latest', 'created_at': '2024-10-05T11:04:29.684570415Z', 'message': {'role': 'assistant', 'content': ''}, 'done_reason': 'stop', 'done': True, 'total_duration': 1885239785, 'load_duration': 11950673, 'prompt_eval_count': 643, 'prompt_eval_duration': 185482000, 'eval_count': 18, 'eval_duration': 1127261000}, id='run-a042065a-9601-4cce-a0fd-3137ca7ea756-0', usage_metadata={'input_tokens': 643, 'output_tokens': 18, 'total_tokens': 661}),\n",
       " HumanMessage(content='O que você disse por último?', additional_kwargs={}, response_metadata={}, id='a9e3968f-af49-46ad-8a77-71a9d60782dc'),\n",
       " AIMessage(content='Eu disse que Albert Einstein nasceu em 14 de março de 1879.', additional_kwargs={}, response_metadata={'model': 'llama3.1:latest', 'created_at': '2024-10-05T11:04:35.761621953Z', 'message': {'role': 'assistant', 'content': ''}, 'done_reason': 'stop', 'done': True, 'total_duration': 2867722234, 'load_duration': 67165281, 'prompt_eval_count': 677, 'prompt_eval_duration': 978508000, 'eval_count': 19, 'eval_duration': 1120558000}, id='run-bd0ce452-dfee-44bf-9c27-ff435d56a5e7-0', usage_metadata={'input_tokens': 677, 'output_tokens': 19, 'total_tokens': 696}),\n",
       " HumanMessage(content='Qual foi a maior contribuição dele?', additional_kwargs={}, response_metadata={}, id='4357cb18-6f1b-47d6-a1cc-d3621823f477'),\n",
       " AIMessage(content='A maior contribuição de Albert Einstein foi a sua teoria da **Relatividade**, que revolucionou nossa compreensão do espaço, tempo e gravidade.\\n\\nEssa teoria é dividida em duas partes:\\n\\n1. **Teoria da Relatividade Especial** (1905): que afirma que o tempo e o espaço são relativos ao observador.\\n2. **Teoria da Relatividade Geral** (1915): que descreve a gravidade como uma curvatura do espaço-tempo causada pela presença de massa.\\n\\nEssas teorias mudaram completamente a forma como entendemos o universo e tiveram um impacto profundo na física, astronomia e outras áreas da ciência.', additional_kwargs={}, response_metadata={'model': 'llama3.1:latest', 'created_at': '2024-10-05T11:04:48.293148106Z', 'message': {'role': 'assistant', 'content': ''}, 'done_reason': 'stop', 'done': True, 'total_duration': 12499405733, 'load_duration': 12373556, 'prompt_eval_count': 675, 'prompt_eval_duration': 960183000, 'eval_count': 156, 'eval_duration': 10839828000}, id='run-45ebcfc4-0ded-4f35-9ca0-f40d44cb8b1c-0', usage_metadata={'input_tokens': 675, 'output_tokens': 156, 'total_tokens': 831})]"
      ]
     },
     "execution_count": 21,
     "metadata": {},
     "output_type": "execute_result"
    }
   ],
   "source": [
    "output[\"messages\"]"
   ]
  }
 ],
 "metadata": {
  "kernelspec": {
   "display_name": "Python 3 (ipykernel)",
   "language": "python",
   "name": "python3"
  },
  "language_info": {
   "codemirror_mode": {
    "name": "ipython",
    "version": 3
   },
   "file_extension": ".py",
   "mimetype": "text/x-python",
   "name": "python",
   "nbconvert_exporter": "python",
   "pygments_lexer": "ipython3",
   "version": "3.11.9"
  }
 },
 "nbformat": 4,
 "nbformat_minor": 5
}
