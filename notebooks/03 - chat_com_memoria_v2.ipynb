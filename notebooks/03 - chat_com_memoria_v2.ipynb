{
 "cells": [
  {
   "cell_type": "markdown",
   "id": "31dc4740-0875-418f-b79d-e081d937b906",
   "metadata": {},
   "source": [
    "## Simulação de uma LLM com memória da conversa (versão mais moderna do framework)\n",
    "\n",
    "ref.: \n",
    "* https://python.langchain.com/docs/how_to/message_history/\n",
    "* https://www.langchain.com/langgraph\n",
    "\n",
    "**todo**:\n",
    "- Tentar gerenciar a memória da conversa de forma automatizada"
   ]
  },
  {
   "cell_type": "code",
   "execution_count": 1,
   "id": "e183fc41-5672-4740-881b-3dad338dd67f",
   "metadata": {},
   "outputs": [],
   "source": [
    "from langchain_ollama import ChatOllama\n",
    "from langchain_core.messages import HumanMessage\n",
    "from langgraph.checkpoint.memory import MemorySaver\n",
    "from langgraph.graph import START, MessagesState, StateGraph\n",
    "from langchain_core.messages import RemoveMessage\n",
    "from IPython.display import Image, display"
   ]
  },
  {
   "cell_type": "markdown",
   "id": "b20c92cc-caac-4f7b-af1a-d9b4b1837e15",
   "metadata": {},
   "source": [
    "## Utilização do llama3.1 com interface via ollama"
   ]
  },
  {
   "cell_type": "code",
   "execution_count": 2,
   "id": "13ec592a-9362-4242-b843-d208466d34c4",
   "metadata": {},
   "outputs": [],
   "source": [
    "llm = ChatOllama(model=\"llama3.1:latest\")\n",
    "workflow = StateGraph(state_schema=MessagesState)\n",
    "\n",
    "def call_model(state: MessagesState):\n",
    "    response = llm.invoke(state[\"messages\"])\n",
    "    return {\"messages\": response}\n",
    "\n",
    "workflow.add_edge(START, \"model\")\n",
    "workflow.add_node(\"model\", call_model)\n",
    "\n",
    "memory = MemorySaver()\n",
    "app = workflow.compile(checkpointer=memory)"
   ]
  },
  {
   "cell_type": "code",
   "execution_count": 3,
   "id": "5f98d40e-21fe-4d44-8577-5bf6697d32d6",
   "metadata": {},
   "outputs": [
    {
     "data": {
      "image/jpeg": "[encoded data removed]",
      "text/plain": [
       "<IPython.core.display.Image object>"
      ]
     },
     "metadata": {},
     "output_type": "display_data"
    }
   ],
   "source": [
    "try:\n",
    "    display(Image(app.get_graph().draw_mermaid_png()))\n",
    "except Exception:\n",
    "    # This requires some extra dependencies and is optional\n",
    "    pass"
   ]
  },
  {
   "cell_type": "markdown",
   "id": "131b56a5-76e4-48ba-a37f-9518568e18b6",
   "metadata": {},
   "source": [
    "## Pergunta para iniciar a conversa"
   ]
  },
  {
   "cell_type": "code",
   "execution_count": 4,
   "id": "24196b08-37af-492e-87f2-730a003cdf6b",
   "metadata": {},
   "outputs": [
    {
     "name": "stdout",
     "output_type": "stream",
     "text": [
      "==================================\u001b[1m Ai Message \u001b[0m==================================\n",
      "\n",
      "Físico alemão que fez contribuições significativas para o desenvolvimento da mecânica quântica. Foi laureado com o Prêmio Nobel de Física em 1921, por sua teoria dos fótons.\n"
     ]
    }
   ],
   "source": [
    "config = {\"configurable\": {\"thread_id\": \"abc123\"}}\n",
    "\n",
    "query = \"Quem foi Albert Einstein?\"\n",
    "input_messages = [HumanMessage(query)]\n",
    "output = app.invoke({\"messages\": input_messages}, config)\n",
    "output[\"messages\"][-1].pretty_print()"
   ]
  },
  {
   "cell_type": "code",
   "execution_count": 5,
   "id": "62ed7c0b-e652-4f3f-b043-0e45589be19b",
   "metadata": {},
   "outputs": [
    {
     "data": {
      "text/plain": [
       "[HumanMessage(content='Quem foi Albert Einstein?', additional_kwargs={}, response_metadata={}, id='a2f960a6-8a02-4d4a-8010-6a44cd340042'),\n",
       " AIMessage(content='Físico alemão que fez contribuições significativas para o desenvolvimento da mecânica quântica. Foi laureado com o Prêmio Nobel de Física em 1921, por sua teoria dos fótons.', additional_kwargs={}, response_metadata={'model': 'llama3.1:latest', 'created_at': '2024-10-05T16:46:16.684110004Z', 'message': {'role': 'assistant', 'content': ''}, 'done_reason': 'stop', 'done': True, 'total_duration': 7704218474, 'load_duration': 4900527603, 'prompt_eval_count': 16, 'prompt_eval_duration': 130275000, 'eval_count': 56, 'eval_duration': 2671709000}, id='run-9fd5b986-9443-45e9-b893-4caf33c024cf-0', usage_metadata={'input_tokens': 16, 'output_tokens': 56, 'total_tokens': 72})]"
      ]
     },
     "execution_count": 5,
     "metadata": {},
     "output_type": "execute_result"
    }
   ],
   "source": [
    "output[\"messages\"]"
   ]
  },
  {
   "cell_type": "markdown",
   "id": "128295bf-a454-4819-874b-85a01d393717",
   "metadata": {},
   "source": [
    "## O modelo consegue se lembrar do que acabou de responder"
   ]
  },
  {
   "cell_type": "code",
   "execution_count": 6,
   "id": "ef7c4a14-592a-4f12-a607-59f156a0c1ec",
   "metadata": {},
   "outputs": [
    {
     "name": "stdout",
     "output_type": "stream",
     "text": [
      "==================================\u001b[1m Ai Message \u001b[0m==================================\n",
      "\n",
      "Eu disse: Albert Einstein foi um físico alemão que fez contribuições significativas para o desenvolvimento da mecânica quântica e recebeu o Prêmio Nobel de Física em 1921 por sua teoria dos fótons. Ele é famoso por suas contribuições fundamentais para a física, incluindo a teoria da relatividade e a equação E=mc².\n"
     ]
    }
   ],
   "source": [
    "query = \"O que você disse?\"\n",
    "input_messages = [HumanMessage(query)]\n",
    "output = app.invoke({\"messages\": input_messages}, config)\n",
    "output[\"messages\"][-1].pretty_print()"
   ]
  },
  {
   "cell_type": "code",
   "execution_count": 7,
   "id": "54792fd1-4ef5-4158-b8bc-ef554a9e8c0e",
   "metadata": {},
   "outputs": [
    {
     "data": {
      "text/plain": [
       "[HumanMessage(content='Quem foi Albert Einstein?', additional_kwargs={}, response_metadata={}, id='a2f960a6-8a02-4d4a-8010-6a44cd340042'),\n",
       " AIMessage(content='Físico alemão que fez contribuições significativas para o desenvolvimento da mecânica quântica. Foi laureado com o Prêmio Nobel de Física em 1921, por sua teoria dos fótons.', additional_kwargs={}, response_metadata={'model': 'llama3.1:latest', 'created_at': '2024-10-05T16:46:16.684110004Z', 'message': {'role': 'assistant', 'content': ''}, 'done_reason': 'stop', 'done': True, 'total_duration': 7704218474, 'load_duration': 4900527603, 'prompt_eval_count': 16, 'prompt_eval_duration': 130275000, 'eval_count': 56, 'eval_duration': 2671709000}, id='run-9fd5b986-9443-45e9-b893-4caf33c024cf-0', usage_metadata={'input_tokens': 16, 'output_tokens': 56, 'total_tokens': 72}),\n",
       " HumanMessage(content='O que você disse?', additional_kwargs={}, response_metadata={}, id='317dbdc7-08e2-4d64-b96c-9988c6aa0c42'),\n",
       " AIMessage(content='Eu disse: Albert Einstein foi um físico alemão que fez contribuições significativas para o desenvolvimento da mecânica quântica e recebeu o Prêmio Nobel de Física em 1921 por sua teoria dos fótons. Ele é famoso por suas contribuições fundamentais para a física, incluindo a teoria da relatividade e a equação E=mc².', additional_kwargs={}, response_metadata={'model': 'llama3.1:latest', 'created_at': '2024-10-05T16:46:21.643757961Z', 'message': {'role': 'assistant', 'content': ''}, 'done_reason': 'stop', 'done': True, 'total_duration': 4943372899, 'load_duration': 59324907, 'prompt_eval_count': 86, 'prompt_eval_duration': 135381000, 'eval_count': 91, 'eval_duration': 4597798000}, id='run-ab0a9357-53b2-4bd1-b0c3-9c53320baefc-0', usage_metadata={'input_tokens': 86, 'output_tokens': 91, 'total_tokens': 177})]"
      ]
     },
     "execution_count": 7,
     "metadata": {},
     "output_type": "execute_result"
    }
   ],
   "source": [
    "output[\"messages\"]"
   ]
  },
  {
   "cell_type": "code",
   "execution_count": 8,
   "id": "6246c289-78bc-4171-b464-9cd691ab4d4d",
   "metadata": {},
   "outputs": [
    {
     "name": "stdout",
     "output_type": "stream",
     "text": [
      "==================================\u001b[1m Ai Message \u001b[0m==================================\n",
      "\n",
      "Não se preocupe! Vou explicar de forma mais simples.\n",
      "\n",
      "Albert Einstein foi um cientista muito importante que viveu no século 20. Ele fez descobertas incríveis sobre a física, que é o estudo das coisas que acontecem na natureza.\n",
      "\n",
      "Ele é famoso por três coisas principais:\n",
      "\n",
      "1. **Teoria da Relatividade**: Einstein mostrou que o tempo e o espaço são relacionados entre si de forma muito complexa.\n",
      "2. **Equação E=mc²**: Ele descobriu que a energia (E) é igual à massa (m) vezes a velocidade da luz (c) ao quadrado.\n",
      "3. **Contribuições para a Física Quântica**: Einstein ajudou a entender como as partículas subatomicas se comportam.\n",
      "\n",
      "Ele foi reconhecido com o Prêmio Nobel de Física em 1921, que é um prêmio muito importante para cientistas.\n",
      "\n",
      "Espero que isso tenha ajudado a explicar melhor!\n"
     ]
    }
   ],
   "source": [
    "query = \"O que você disse? Ainda não consegui entender\"\n",
    "input_messages = [HumanMessage(query)]\n",
    "output = app.invoke({\"messages\": input_messages}, config)\n",
    "output[\"messages\"][-1].pretty_print()"
   ]
  },
  {
   "cell_type": "code",
   "execution_count": 9,
   "id": "ba830c69-5ad7-4890-b2f6-44fdf929e154",
   "metadata": {},
   "outputs": [
    {
     "data": {
      "text/plain": [
       "[HumanMessage(content='Quem foi Albert Einstein?', additional_kwargs={}, response_metadata={}, id='a2f960a6-8a02-4d4a-8010-6a44cd340042'),\n",
       " AIMessage(content='Físico alemão que fez contribuições significativas para o desenvolvimento da mecânica quântica. Foi laureado com o Prêmio Nobel de Física em 1921, por sua teoria dos fótons.', additional_kwargs={}, response_metadata={'model': 'llama3.1:latest', 'created_at': '2024-10-05T16:46:16.684110004Z', 'message': {'role': 'assistant', 'content': ''}, 'done_reason': 'stop', 'done': True, 'total_duration': 7704218474, 'load_duration': 4900527603, 'prompt_eval_count': 16, 'prompt_eval_duration': 130275000, 'eval_count': 56, 'eval_duration': 2671709000}, id='run-9fd5b986-9443-45e9-b893-4caf33c024cf-0', usage_metadata={'input_tokens': 16, 'output_tokens': 56, 'total_tokens': 72}),\n",
       " HumanMessage(content='O que você disse?', additional_kwargs={}, response_metadata={}, id='317dbdc7-08e2-4d64-b96c-9988c6aa0c42'),\n",
       " AIMessage(content='Eu disse: Albert Einstein foi um físico alemão que fez contribuições significativas para o desenvolvimento da mecânica quântica e recebeu o Prêmio Nobel de Física em 1921 por sua teoria dos fótons. Ele é famoso por suas contribuições fundamentais para a física, incluindo a teoria da relatividade e a equação E=mc².', additional_kwargs={}, response_metadata={'model': 'llama3.1:latest', 'created_at': '2024-10-05T16:46:21.643757961Z', 'message': {'role': 'assistant', 'content': ''}, 'done_reason': 'stop', 'done': True, 'total_duration': 4943372899, 'load_duration': 59324907, 'prompt_eval_count': 86, 'prompt_eval_duration': 135381000, 'eval_count': 91, 'eval_duration': 4597798000}, id='run-ab0a9357-53b2-4bd1-b0c3-9c53320baefc-0', usage_metadata={'input_tokens': 86, 'output_tokens': 91, 'total_tokens': 177}),\n",
       " HumanMessage(content='O que você disse? Ainda não consegui entender', additional_kwargs={}, response_metadata={}, id='0dc81037-832d-4313-9871-9acda77e2633'),\n",
       " AIMessage(content='Não se preocupe! Vou explicar de forma mais simples.\\n\\nAlbert Einstein foi um cientista muito importante que viveu no século 20. Ele fez descobertas incríveis sobre a física, que é o estudo das coisas que acontecem na natureza.\\n\\nEle é famoso por três coisas principais:\\n\\n1. **Teoria da Relatividade**: Einstein mostrou que o tempo e o espaço são relacionados entre si de forma muito complexa.\\n2. **Equação E=mc²**: Ele descobriu que a energia (E) é igual à massa (m) vezes a velocidade da luz (c) ao quadrado.\\n3. **Contribuições para a Física Quântica**: Einstein ajudou a entender como as partículas subatomicas se comportam.\\n\\nEle foi reconhecido com o Prêmio Nobel de Física em 1921, que é um prêmio muito importante para cientistas.\\n\\nEspero que isso tenha ajudado a explicar melhor!', additional_kwargs={}, response_metadata={'model': 'llama3.1:latest', 'created_at': '2024-10-05T16:46:33.724825746Z', 'message': {'role': 'assistant', 'content': ''}, 'done_reason': 'stop', 'done': True, 'total_duration': 12060328860, 'load_duration': 11780123, 'prompt_eval_count': 197, 'prompt_eval_duration': 160867000, 'eval_count': 222, 'eval_duration': 11583280000}, id='run-d2691cd8-0359-4e0c-954e-72582017d1ea-0', usage_metadata={'input_tokens': 197, 'output_tokens': 222, 'total_tokens': 419})]"
      ]
     },
     "execution_count": 9,
     "metadata": {},
     "output_type": "execute_result"
    }
   ],
   "source": [
    "output[\"messages\"]"
   ]
  },
  {
   "cell_type": "code",
   "execution_count": 10,
   "id": "776055a8-7dc0-41c5-8a1c-e5068a9ea7d3",
   "metadata": {},
   "outputs": [
    {
     "name": "stdout",
     "output_type": "stream",
     "text": [
      "==================================\u001b[1m Ai Message \u001b[0m==================================\n",
      "\n",
      "Albert Einstein nasceu em Ulma, no Reino da Württemberg (agora na Alemanha), em 14 de março de 1879.\n"
     ]
    }
   ],
   "source": [
    "query = \"Nasceu onde?\"\n",
    "input_messages = [HumanMessage(query)]\n",
    "output = app.invoke({\"messages\": input_messages}, config)\n",
    "output[\"messages\"][-1].pretty_print()"
   ]
  },
  {
   "cell_type": "code",
   "execution_count": 11,
   "id": "3fe000f7-effa-47c3-8af2-022cdf3f7d8a",
   "metadata": {},
   "outputs": [
    {
     "data": {
      "text/plain": [
       "[HumanMessage(content='Quem foi Albert Einstein?', additional_kwargs={}, response_metadata={}, id='a2f960a6-8a02-4d4a-8010-6a44cd340042'),\n",
       " AIMessage(content='Físico alemão que fez contribuições significativas para o desenvolvimento da mecânica quântica. Foi laureado com o Prêmio Nobel de Física em 1921, por sua teoria dos fótons.', additional_kwargs={}, response_metadata={'model': 'llama3.1:latest', 'created_at': '2024-10-05T16:46:16.684110004Z', 'message': {'role': 'assistant', 'content': ''}, 'done_reason': 'stop', 'done': True, 'total_duration': 7704218474, 'load_duration': 4900527603, 'prompt_eval_count': 16, 'prompt_eval_duration': 130275000, 'eval_count': 56, 'eval_duration': 2671709000}, id='run-9fd5b986-9443-45e9-b893-4caf33c024cf-0', usage_metadata={'input_tokens': 16, 'output_tokens': 56, 'total_tokens': 72}),\n",
       " HumanMessage(content='O que você disse?', additional_kwargs={}, response_metadata={}, id='317dbdc7-08e2-4d64-b96c-9988c6aa0c42'),\n",
       " AIMessage(content='Eu disse: Albert Einstein foi um físico alemão que fez contribuições significativas para o desenvolvimento da mecânica quântica e recebeu o Prêmio Nobel de Física em 1921 por sua teoria dos fótons. Ele é famoso por suas contribuições fundamentais para a física, incluindo a teoria da relatividade e a equação E=mc².', additional_kwargs={}, response_metadata={'model': 'llama3.1:latest', 'created_at': '2024-10-05T16:46:21.643757961Z', 'message': {'role': 'assistant', 'content': ''}, 'done_reason': 'stop', 'done': True, 'total_duration': 4943372899, 'load_duration': 59324907, 'prompt_eval_count': 86, 'prompt_eval_duration': 135381000, 'eval_count': 91, 'eval_duration': 4597798000}, id='run-ab0a9357-53b2-4bd1-b0c3-9c53320baefc-0', usage_metadata={'input_tokens': 86, 'output_tokens': 91, 'total_tokens': 177}),\n",
       " HumanMessage(content='O que você disse? Ainda não consegui entender', additional_kwargs={}, response_metadata={}, id='0dc81037-832d-4313-9871-9acda77e2633'),\n",
       " AIMessage(content='Não se preocupe! Vou explicar de forma mais simples.\\n\\nAlbert Einstein foi um cientista muito importante que viveu no século 20. Ele fez descobertas incríveis sobre a física, que é o estudo das coisas que acontecem na natureza.\\n\\nEle é famoso por três coisas principais:\\n\\n1. **Teoria da Relatividade**: Einstein mostrou que o tempo e o espaço são relacionados entre si de forma muito complexa.\\n2. **Equação E=mc²**: Ele descobriu que a energia (E) é igual à massa (m) vezes a velocidade da luz (c) ao quadrado.\\n3. **Contribuições para a Física Quântica**: Einstein ajudou a entender como as partículas subatomicas se comportam.\\n\\nEle foi reconhecido com o Prêmio Nobel de Física em 1921, que é um prêmio muito importante para cientistas.\\n\\nEspero que isso tenha ajudado a explicar melhor!', additional_kwargs={}, response_metadata={'model': 'llama3.1:latest', 'created_at': '2024-10-05T16:46:33.724825746Z', 'message': {'role': 'assistant', 'content': ''}, 'done_reason': 'stop', 'done': True, 'total_duration': 12060328860, 'load_duration': 11780123, 'prompt_eval_count': 197, 'prompt_eval_duration': 160867000, 'eval_count': 222, 'eval_duration': 11583280000}, id='run-d2691cd8-0359-4e0c-954e-72582017d1ea-0', usage_metadata={'input_tokens': 197, 'output_tokens': 222, 'total_tokens': 419}),\n",
       " HumanMessage(content='Nasceu onde?', additional_kwargs={}, response_metadata={}, id='552c2660-565d-4680-a9db-427b913adca4'),\n",
       " AIMessage(content='Albert Einstein nasceu em Ulma, no Reino da Württemberg (agora na Alemanha), em 14 de março de 1879.', additional_kwargs={}, response_metadata={'model': 'llama3.1:latest', 'created_at': '2024-10-05T16:46:36.253843356Z', 'message': {'role': 'assistant', 'content': ''}, 'done_reason': 'stop', 'done': True, 'total_duration': 2508634295, 'load_duration': 11917615, 'prompt_eval_count': 433, 'prompt_eval_duration': 145100000, 'eval_count': 37, 'eval_duration': 1878494000}, id='run-fe918620-1348-4fdd-b499-3e4de9d5b5eb-0', usage_metadata={'input_tokens': 433, 'output_tokens': 37, 'total_tokens': 470})]"
      ]
     },
     "execution_count": 11,
     "metadata": {},
     "output_type": "execute_result"
    }
   ],
   "source": [
    "output[\"messages\"]"
   ]
  },
  {
   "cell_type": "code",
   "execution_count": 12,
   "id": "5470ead2-9d5c-4fc6-806a-b6583391f18e",
   "metadata": {},
   "outputs": [
    {
     "name": "stdout",
     "output_type": "stream",
     "text": [
      "==================================\u001b[1m Ai Message \u001b[0m==================================\n",
      "\n",
      " Ele foi o primeiro filho de Hermann e Pauline Einstein, um banqueiro e uma dona de casa respeitáveis, respectivamente.\n"
     ]
    }
   ],
   "source": [
    "query = \"Quando?\"\n",
    "output = app.invoke({\"messages\": input_messages}, config)\n",
    "output[\"messages\"][-1].pretty_print()"
   ]
  },
  {
   "cell_type": "code",
   "execution_count": 13,
   "id": "6fa8aa41-293b-4e01-be27-91c5f37301d3",
   "metadata": {},
   "outputs": [
    {
     "data": {
      "text/plain": [
       "[HumanMessage(content='Quem foi Albert Einstein?', additional_kwargs={}, response_metadata={}, id='a2f960a6-8a02-4d4a-8010-6a44cd340042'),\n",
       " AIMessage(content='Físico alemão que fez contribuições significativas para o desenvolvimento da mecânica quântica. Foi laureado com o Prêmio Nobel de Física em 1921, por sua teoria dos fótons.', additional_kwargs={}, response_metadata={'model': 'llama3.1:latest', 'created_at': '2024-10-05T16:46:16.684110004Z', 'message': {'role': 'assistant', 'content': ''}, 'done_reason': 'stop', 'done': True, 'total_duration': 7704218474, 'load_duration': 4900527603, 'prompt_eval_count': 16, 'prompt_eval_duration': 130275000, 'eval_count': 56, 'eval_duration': 2671709000}, id='run-9fd5b986-9443-45e9-b893-4caf33c024cf-0', usage_metadata={'input_tokens': 16, 'output_tokens': 56, 'total_tokens': 72}),\n",
       " HumanMessage(content='O que você disse?', additional_kwargs={}, response_metadata={}, id='317dbdc7-08e2-4d64-b96c-9988c6aa0c42'),\n",
       " AIMessage(content='Eu disse: Albert Einstein foi um físico alemão que fez contribuições significativas para o desenvolvimento da mecânica quântica e recebeu o Prêmio Nobel de Física em 1921 por sua teoria dos fótons. Ele é famoso por suas contribuições fundamentais para a física, incluindo a teoria da relatividade e a equação E=mc².', additional_kwargs={}, response_metadata={'model': 'llama3.1:latest', 'created_at': '2024-10-05T16:46:21.643757961Z', 'message': {'role': 'assistant', 'content': ''}, 'done_reason': 'stop', 'done': True, 'total_duration': 4943372899, 'load_duration': 59324907, 'prompt_eval_count': 86, 'prompt_eval_duration': 135381000, 'eval_count': 91, 'eval_duration': 4597798000}, id='run-ab0a9357-53b2-4bd1-b0c3-9c53320baefc-0', usage_metadata={'input_tokens': 86, 'output_tokens': 91, 'total_tokens': 177}),\n",
       " HumanMessage(content='O que você disse? Ainda não consegui entender', additional_kwargs={}, response_metadata={}, id='0dc81037-832d-4313-9871-9acda77e2633'),\n",
       " AIMessage(content='Não se preocupe! Vou explicar de forma mais simples.\\n\\nAlbert Einstein foi um cientista muito importante que viveu no século 20. Ele fez descobertas incríveis sobre a física, que é o estudo das coisas que acontecem na natureza.\\n\\nEle é famoso por três coisas principais:\\n\\n1. **Teoria da Relatividade**: Einstein mostrou que o tempo e o espaço são relacionados entre si de forma muito complexa.\\n2. **Equação E=mc²**: Ele descobriu que a energia (E) é igual à massa (m) vezes a velocidade da luz (c) ao quadrado.\\n3. **Contribuições para a Física Quântica**: Einstein ajudou a entender como as partículas subatomicas se comportam.\\n\\nEle foi reconhecido com o Prêmio Nobel de Física em 1921, que é um prêmio muito importante para cientistas.\\n\\nEspero que isso tenha ajudado a explicar melhor!', additional_kwargs={}, response_metadata={'model': 'llama3.1:latest', 'created_at': '2024-10-05T16:46:33.724825746Z', 'message': {'role': 'assistant', 'content': ''}, 'done_reason': 'stop', 'done': True, 'total_duration': 12060328860, 'load_duration': 11780123, 'prompt_eval_count': 197, 'prompt_eval_duration': 160867000, 'eval_count': 222, 'eval_duration': 11583280000}, id='run-d2691cd8-0359-4e0c-954e-72582017d1ea-0', usage_metadata={'input_tokens': 197, 'output_tokens': 222, 'total_tokens': 419}),\n",
       " HumanMessage(content='Nasceu onde?', additional_kwargs={}, response_metadata={}, id='552c2660-565d-4680-a9db-427b913adca4'),\n",
       " AIMessage(content='Albert Einstein nasceu em Ulma, no Reino da Württemberg (agora na Alemanha), em 14 de março de 1879.', additional_kwargs={}, response_metadata={'model': 'llama3.1:latest', 'created_at': '2024-10-05T16:46:36.253843356Z', 'message': {'role': 'assistant', 'content': ''}, 'done_reason': 'stop', 'done': True, 'total_duration': 2508634295, 'load_duration': 11917615, 'prompt_eval_count': 433, 'prompt_eval_duration': 145100000, 'eval_count': 37, 'eval_duration': 1878494000}, id='run-fe918620-1348-4fdd-b499-3e4de9d5b5eb-0', usage_metadata={'input_tokens': 433, 'output_tokens': 37, 'total_tokens': 470}),\n",
       " AIMessage(content=' Ele foi o primeiro filho de Hermann e Pauline Einstein, um banqueiro e uma dona de casa respeitáveis, respectivamente.', additional_kwargs={}, response_metadata={'model': 'llama3.1:latest', 'created_at': '2024-10-05T16:46:38.426542088Z', 'message': {'role': 'assistant', 'content': ''}, 'done_reason': 'stop', 'done': True, 'total_duration': 2156994893, 'load_duration': 15419778, 'prompt_eval_count': 469, 'prompt_eval_duration': 52068000, 'eval_count': 32, 'eval_duration': 1632072000}, id='run-4df25c84-6fed-4cc1-b9c4-90556a669251-0', usage_metadata={'input_tokens': 469, 'output_tokens': 32, 'total_tokens': 501})]"
      ]
     },
     "execution_count": 13,
     "metadata": {},
     "output_type": "execute_result"
    }
   ],
   "source": [
    "output[\"messages\"]"
   ]
  },
  {
   "cell_type": "markdown",
   "id": "342167ff-f177-42f5-891a-833a8b1ac4de",
   "metadata": {},
   "source": [
    "## Testando o isolamento de sessões"
   ]
  },
  {
   "cell_type": "code",
   "execution_count": 14,
   "id": "99a4ca56-8713-4277-9d4f-4189f35d8c7b",
   "metadata": {},
   "outputs": [
    {
     "name": "stdout",
     "output_type": "stream",
     "text": [
      "==================================\u001b[1m Ai Message \u001b[0m==================================\n",
      "\n",
      "Não disse nada, este é o início da nossa conversa. Como posso ajudá-lo?\n"
     ]
    }
   ],
   "source": [
    "# trocando a sessão\n",
    "config = {\"configurable\": {\"thread_id\": \"def234\"}}\n",
    "\n",
    "query = \"O que você disse por último?\"\n",
    "input_messages = [HumanMessage(query)]\n",
    "output = app.invoke({\"messages\": input_messages}, config)\n",
    "output[\"messages\"][-1].pretty_print()"
   ]
  },
  {
   "cell_type": "code",
   "execution_count": 15,
   "id": "38d50b61-6ea9-435c-9584-161c81dbc4d4",
   "metadata": {},
   "outputs": [
    {
     "data": {
      "text/plain": [
       "[HumanMessage(content='O que você disse por último?', additional_kwargs={}, response_metadata={}, id='3abed28e-afbd-4356-a0d3-c95c83b90585'),\n",
       " AIMessage(content='Não disse nada, este é o início da nossa conversa. Como posso ajudá-lo?', additional_kwargs={}, response_metadata={'model': 'llama3.1:latest', 'created_at': '2024-10-05T16:46:39.737252603Z', 'message': {'role': 'assistant', 'content': ''}, 'done_reason': 'stop', 'done': True, 'total_duration': 1296237598, 'load_duration': 58623843, 'prompt_eval_count': 17, 'prompt_eval_duration': 115020000, 'eval_count': 22, 'eval_duration': 1071833000}, id='run-597d92aa-c67c-4918-968f-2a8465a35c1b-0', usage_metadata={'input_tokens': 17, 'output_tokens': 22, 'total_tokens': 39})]"
      ]
     },
     "execution_count": 15,
     "metadata": {},
     "output_type": "execute_result"
    }
   ],
   "source": [
    "output[\"messages\"]"
   ]
  },
  {
   "cell_type": "code",
   "execution_count": 16,
   "id": "b7e56f14-d68c-4771-b938-b0a4beb82d70",
   "metadata": {},
   "outputs": [
    {
     "name": "stdout",
     "output_type": "stream",
     "text": [
      "==================================\u001b[1m Ai Message \u001b[0m==================================\n",
      "\n",
      "Eu disse: Albert Einstein nasceu em Ulma, na Alemanha, em 14 de março de 1879.\n"
     ]
    }
   ],
   "source": [
    "# retornando a sessão anterior\n",
    "config = {\"configurable\": {\"thread_id\": \"abc123\"}}\n",
    "\n",
    "query = \"O que você disse por último?\"\n",
    "input_messages = [HumanMessage(query)]\n",
    "output = app.invoke({\"messages\": input_messages}, config)\n",
    "output[\"messages\"][-1].pretty_print()"
   ]
  },
  {
   "cell_type": "code",
   "execution_count": 17,
   "id": "4784abc4-8383-448e-93da-e80a274a5198",
   "metadata": {},
   "outputs": [
    {
     "data": {
      "text/plain": [
       "[HumanMessage(content='Quem foi Albert Einstein?', additional_kwargs={}, response_metadata={}, id='a2f960a6-8a02-4d4a-8010-6a44cd340042'),\n",
       " AIMessage(content='Físico alemão que fez contribuições significativas para o desenvolvimento da mecânica quântica. Foi laureado com o Prêmio Nobel de Física em 1921, por sua teoria dos fótons.', additional_kwargs={}, response_metadata={'model': 'llama3.1:latest', 'created_at': '2024-10-05T16:46:16.684110004Z', 'message': {'role': 'assistant', 'content': ''}, 'done_reason': 'stop', 'done': True, 'total_duration': 7704218474, 'load_duration': 4900527603, 'prompt_eval_count': 16, 'prompt_eval_duration': 130275000, 'eval_count': 56, 'eval_duration': 2671709000}, id='run-9fd5b986-9443-45e9-b893-4caf33c024cf-0', usage_metadata={'input_tokens': 16, 'output_tokens': 56, 'total_tokens': 72}),\n",
       " HumanMessage(content='O que você disse?', additional_kwargs={}, response_metadata={}, id='317dbdc7-08e2-4d64-b96c-9988c6aa0c42'),\n",
       " AIMessage(content='Eu disse: Albert Einstein foi um físico alemão que fez contribuições significativas para o desenvolvimento da mecânica quântica e recebeu o Prêmio Nobel de Física em 1921 por sua teoria dos fótons. Ele é famoso por suas contribuições fundamentais para a física, incluindo a teoria da relatividade e a equação E=mc².', additional_kwargs={}, response_metadata={'model': 'llama3.1:latest', 'created_at': '2024-10-05T16:46:21.643757961Z', 'message': {'role': 'assistant', 'content': ''}, 'done_reason': 'stop', 'done': True, 'total_duration': 4943372899, 'load_duration': 59324907, 'prompt_eval_count': 86, 'prompt_eval_duration': 135381000, 'eval_count': 91, 'eval_duration': 4597798000}, id='run-ab0a9357-53b2-4bd1-b0c3-9c53320baefc-0', usage_metadata={'input_tokens': 86, 'output_tokens': 91, 'total_tokens': 177}),\n",
       " HumanMessage(content='O que você disse? Ainda não consegui entender', additional_kwargs={}, response_metadata={}, id='0dc81037-832d-4313-9871-9acda77e2633'),\n",
       " AIMessage(content='Não se preocupe! Vou explicar de forma mais simples.\\n\\nAlbert Einstein foi um cientista muito importante que viveu no século 20. Ele fez descobertas incríveis sobre a física, que é o estudo das coisas que acontecem na natureza.\\n\\nEle é famoso por três coisas principais:\\n\\n1. **Teoria da Relatividade**: Einstein mostrou que o tempo e o espaço são relacionados entre si de forma muito complexa.\\n2. **Equação E=mc²**: Ele descobriu que a energia (E) é igual à massa (m) vezes a velocidade da luz (c) ao quadrado.\\n3. **Contribuições para a Física Quântica**: Einstein ajudou a entender como as partículas subatomicas se comportam.\\n\\nEle foi reconhecido com o Prêmio Nobel de Física em 1921, que é um prêmio muito importante para cientistas.\\n\\nEspero que isso tenha ajudado a explicar melhor!', additional_kwargs={}, response_metadata={'model': 'llama3.1:latest', 'created_at': '2024-10-05T16:46:33.724825746Z', 'message': {'role': 'assistant', 'content': ''}, 'done_reason': 'stop', 'done': True, 'total_duration': 12060328860, 'load_duration': 11780123, 'prompt_eval_count': 197, 'prompt_eval_duration': 160867000, 'eval_count': 222, 'eval_duration': 11583280000}, id='run-d2691cd8-0359-4e0c-954e-72582017d1ea-0', usage_metadata={'input_tokens': 197, 'output_tokens': 222, 'total_tokens': 419}),\n",
       " HumanMessage(content='Nasceu onde?', additional_kwargs={}, response_metadata={}, id='552c2660-565d-4680-a9db-427b913adca4'),\n",
       " AIMessage(content='Albert Einstein nasceu em Ulma, no Reino da Württemberg (agora na Alemanha), em 14 de março de 1879.', additional_kwargs={}, response_metadata={'model': 'llama3.1:latest', 'created_at': '2024-10-05T16:46:36.253843356Z', 'message': {'role': 'assistant', 'content': ''}, 'done_reason': 'stop', 'done': True, 'total_duration': 2508634295, 'load_duration': 11917615, 'prompt_eval_count': 433, 'prompt_eval_duration': 145100000, 'eval_count': 37, 'eval_duration': 1878494000}, id='run-fe918620-1348-4fdd-b499-3e4de9d5b5eb-0', usage_metadata={'input_tokens': 433, 'output_tokens': 37, 'total_tokens': 470}),\n",
       " AIMessage(content=' Ele foi o primeiro filho de Hermann e Pauline Einstein, um banqueiro e uma dona de casa respeitáveis, respectivamente.', additional_kwargs={}, response_metadata={'model': 'llama3.1:latest', 'created_at': '2024-10-05T16:46:38.426542088Z', 'message': {'role': 'assistant', 'content': ''}, 'done_reason': 'stop', 'done': True, 'total_duration': 2156994893, 'load_duration': 15419778, 'prompt_eval_count': 469, 'prompt_eval_duration': 52068000, 'eval_count': 32, 'eval_duration': 1632072000}, id='run-4df25c84-6fed-4cc1-b9c4-90556a669251-0', usage_metadata={'input_tokens': 469, 'output_tokens': 32, 'total_tokens': 501}),\n",
       " HumanMessage(content='O que você disse por último?', additional_kwargs={}, response_metadata={}, id='0355253c-8f97-4a38-8bc0-60183f9d86b9'),\n",
       " AIMessage(content='Eu disse: Albert Einstein nasceu em Ulma, na Alemanha, em 14 de março de 1879.', additional_kwargs={}, response_metadata={'model': 'llama3.1:latest', 'created_at': '2024-10-05T16:46:42.10505866Z', 'message': {'role': 'assistant', 'content': ''}, 'done_reason': 'stop', 'done': True, 'total_duration': 2354611663, 'load_duration': 13841183, 'prompt_eval_count': 517, 'prompt_eval_duration': 405996000, 'eval_count': 28, 'eval_duration': 1325770000}, id='run-bcd25540-441a-4f47-92ea-5fe2c2472090-0', usage_metadata={'input_tokens': 517, 'output_tokens': 28, 'total_tokens': 545})]"
      ]
     },
     "execution_count": 17,
     "metadata": {},
     "output_type": "execute_result"
    }
   ],
   "source": [
    "output[\"messages\"]"
   ]
  },
  {
   "cell_type": "markdown",
   "id": "8618b1b0-f709-4b8d-a279-cf22f9617f7b",
   "metadata": {},
   "source": [
    "## Removendo as 2 primeiras interações (para não entupir de tokens)"
   ]
  },
  {
   "cell_type": "code",
   "execution_count": 18,
   "id": "e7e1fbef-8a06-4813-9266-f30832f3a7ab",
   "metadata": {},
   "outputs": [
    {
     "data": {
      "text/plain": [
       "[HumanMessage(content='Quem foi Albert Einstein?', additional_kwargs={}, response_metadata={}, id='a2f960a6-8a02-4d4a-8010-6a44cd340042'),\n",
       " AIMessage(content='Físico alemão que fez contribuições significativas para o desenvolvimento da mecânica quântica. Foi laureado com o Prêmio Nobel de Física em 1921, por sua teoria dos fótons.', additional_kwargs={}, response_metadata={'model': 'llama3.1:latest', 'created_at': '2024-10-05T16:46:16.684110004Z', 'message': {'role': 'assistant', 'content': ''}, 'done_reason': 'stop', 'done': True, 'total_duration': 7704218474, 'load_duration': 4900527603, 'prompt_eval_count': 16, 'prompt_eval_duration': 130275000, 'eval_count': 56, 'eval_duration': 2671709000}, id='run-9fd5b986-9443-45e9-b893-4caf33c024cf-0', usage_metadata={'input_tokens': 16, 'output_tokens': 56, 'total_tokens': 72}),\n",
       " HumanMessage(content='O que você disse?', additional_kwargs={}, response_metadata={}, id='317dbdc7-08e2-4d64-b96c-9988c6aa0c42'),\n",
       " AIMessage(content='Eu disse: Albert Einstein foi um físico alemão que fez contribuições significativas para o desenvolvimento da mecânica quântica e recebeu o Prêmio Nobel de Física em 1921 por sua teoria dos fótons. Ele é famoso por suas contribuições fundamentais para a física, incluindo a teoria da relatividade e a equação E=mc².', additional_kwargs={}, response_metadata={'model': 'llama3.1:latest', 'created_at': '2024-10-05T16:46:21.643757961Z', 'message': {'role': 'assistant', 'content': ''}, 'done_reason': 'stop', 'done': True, 'total_duration': 4943372899, 'load_duration': 59324907, 'prompt_eval_count': 86, 'prompt_eval_duration': 135381000, 'eval_count': 91, 'eval_duration': 4597798000}, id='run-ab0a9357-53b2-4bd1-b0c3-9c53320baefc-0', usage_metadata={'input_tokens': 86, 'output_tokens': 91, 'total_tokens': 177}),\n",
       " HumanMessage(content='O que você disse? Ainda não consegui entender', additional_kwargs={}, response_metadata={}, id='0dc81037-832d-4313-9871-9acda77e2633'),\n",
       " AIMessage(content='Não se preocupe! Vou explicar de forma mais simples.\\n\\nAlbert Einstein foi um cientista muito importante que viveu no século 20. Ele fez descobertas incríveis sobre a física, que é o estudo das coisas que acontecem na natureza.\\n\\nEle é famoso por três coisas principais:\\n\\n1. **Teoria da Relatividade**: Einstein mostrou que o tempo e o espaço são relacionados entre si de forma muito complexa.\\n2. **Equação E=mc²**: Ele descobriu que a energia (E) é igual à massa (m) vezes a velocidade da luz (c) ao quadrado.\\n3. **Contribuições para a Física Quântica**: Einstein ajudou a entender como as partículas subatomicas se comportam.\\n\\nEle foi reconhecido com o Prêmio Nobel de Física em 1921, que é um prêmio muito importante para cientistas.\\n\\nEspero que isso tenha ajudado a explicar melhor!', additional_kwargs={}, response_metadata={'model': 'llama3.1:latest', 'created_at': '2024-10-05T16:46:33.724825746Z', 'message': {'role': 'assistant', 'content': ''}, 'done_reason': 'stop', 'done': True, 'total_duration': 12060328860, 'load_duration': 11780123, 'prompt_eval_count': 197, 'prompt_eval_duration': 160867000, 'eval_count': 222, 'eval_duration': 11583280000}, id='run-d2691cd8-0359-4e0c-954e-72582017d1ea-0', usage_metadata={'input_tokens': 197, 'output_tokens': 222, 'total_tokens': 419}),\n",
       " HumanMessage(content='Nasceu onde?', additional_kwargs={}, response_metadata={}, id='552c2660-565d-4680-a9db-427b913adca4'),\n",
       " AIMessage(content='Albert Einstein nasceu em Ulma, no Reino da Württemberg (agora na Alemanha), em 14 de março de 1879.', additional_kwargs={}, response_metadata={'model': 'llama3.1:latest', 'created_at': '2024-10-05T16:46:36.253843356Z', 'message': {'role': 'assistant', 'content': ''}, 'done_reason': 'stop', 'done': True, 'total_duration': 2508634295, 'load_duration': 11917615, 'prompt_eval_count': 433, 'prompt_eval_duration': 145100000, 'eval_count': 37, 'eval_duration': 1878494000}, id='run-fe918620-1348-4fdd-b499-3e4de9d5b5eb-0', usage_metadata={'input_tokens': 433, 'output_tokens': 37, 'total_tokens': 470}),\n",
       " AIMessage(content=' Ele foi o primeiro filho de Hermann e Pauline Einstein, um banqueiro e uma dona de casa respeitáveis, respectivamente.', additional_kwargs={}, response_metadata={'model': 'llama3.1:latest', 'created_at': '2024-10-05T16:46:38.426542088Z', 'message': {'role': 'assistant', 'content': ''}, 'done_reason': 'stop', 'done': True, 'total_duration': 2156994893, 'load_duration': 15419778, 'prompt_eval_count': 469, 'prompt_eval_duration': 52068000, 'eval_count': 32, 'eval_duration': 1632072000}, id='run-4df25c84-6fed-4cc1-b9c4-90556a669251-0', usage_metadata={'input_tokens': 469, 'output_tokens': 32, 'total_tokens': 501}),\n",
       " HumanMessage(content='O que você disse por último?', additional_kwargs={}, response_metadata={}, id='0355253c-8f97-4a38-8bc0-60183f9d86b9'),\n",
       " AIMessage(content='Eu disse: Albert Einstein nasceu em Ulma, na Alemanha, em 14 de março de 1879.', additional_kwargs={}, response_metadata={'model': 'llama3.1:latest', 'created_at': '2024-10-05T16:46:42.10505866Z', 'message': {'role': 'assistant', 'content': ''}, 'done_reason': 'stop', 'done': True, 'total_duration': 2354611663, 'load_duration': 13841183, 'prompt_eval_count': 517, 'prompt_eval_duration': 405996000, 'eval_count': 28, 'eval_duration': 1325770000}, id='run-bcd25540-441a-4f47-92ea-5fe2c2472090-0', usage_metadata={'input_tokens': 517, 'output_tokens': 28, 'total_tokens': 545})]"
      ]
     },
     "execution_count": 18,
     "metadata": {},
     "output_type": "execute_result"
    }
   ],
   "source": [
    "messages = app.get_state(config).values[\"messages\"]\n",
    "messages"
   ]
  },
  {
   "cell_type": "code",
   "execution_count": 19,
   "id": "6057489c-aff2-4252-a79c-caa0754ca5d5",
   "metadata": {},
   "outputs": [
    {
     "data": {
      "text/plain": [
       "[AIMessage(content='Físico alemão que fez contribuições significativas para o desenvolvimento da mecânica quântica. Foi laureado com o Prêmio Nobel de Física em 1921, por sua teoria dos fótons.', additional_kwargs={}, response_metadata={'model': 'llama3.1:latest', 'created_at': '2024-10-05T16:46:16.684110004Z', 'message': {'role': 'assistant', 'content': ''}, 'done_reason': 'stop', 'done': True, 'total_duration': 7704218474, 'load_duration': 4900527603, 'prompt_eval_count': 16, 'prompt_eval_duration': 130275000, 'eval_count': 56, 'eval_duration': 2671709000}, id='run-9fd5b986-9443-45e9-b893-4caf33c024cf-0', usage_metadata={'input_tokens': 16, 'output_tokens': 56, 'total_tokens': 72}),\n",
       " HumanMessage(content='O que você disse?', additional_kwargs={}, response_metadata={}, id='317dbdc7-08e2-4d64-b96c-9988c6aa0c42'),\n",
       " AIMessage(content='Eu disse: Albert Einstein foi um físico alemão que fez contribuições significativas para o desenvolvimento da mecânica quântica e recebeu o Prêmio Nobel de Física em 1921 por sua teoria dos fótons. Ele é famoso por suas contribuições fundamentais para a física, incluindo a teoria da relatividade e a equação E=mc².', additional_kwargs={}, response_metadata={'model': 'llama3.1:latest', 'created_at': '2024-10-05T16:46:21.643757961Z', 'message': {'role': 'assistant', 'content': ''}, 'done_reason': 'stop', 'done': True, 'total_duration': 4943372899, 'load_duration': 59324907, 'prompt_eval_count': 86, 'prompt_eval_duration': 135381000, 'eval_count': 91, 'eval_duration': 4597798000}, id='run-ab0a9357-53b2-4bd1-b0c3-9c53320baefc-0', usage_metadata={'input_tokens': 86, 'output_tokens': 91, 'total_tokens': 177}),\n",
       " HumanMessage(content='O que você disse? Ainda não consegui entender', additional_kwargs={}, response_metadata={}, id='0dc81037-832d-4313-9871-9acda77e2633'),\n",
       " AIMessage(content='Não se preocupe! Vou explicar de forma mais simples.\\n\\nAlbert Einstein foi um cientista muito importante que viveu no século 20. Ele fez descobertas incríveis sobre a física, que é o estudo das coisas que acontecem na natureza.\\n\\nEle é famoso por três coisas principais:\\n\\n1. **Teoria da Relatividade**: Einstein mostrou que o tempo e o espaço são relacionados entre si de forma muito complexa.\\n2. **Equação E=mc²**: Ele descobriu que a energia (E) é igual à massa (m) vezes a velocidade da luz (c) ao quadrado.\\n3. **Contribuições para a Física Quântica**: Einstein ajudou a entender como as partículas subatomicas se comportam.\\n\\nEle foi reconhecido com o Prêmio Nobel de Física em 1921, que é um prêmio muito importante para cientistas.\\n\\nEspero que isso tenha ajudado a explicar melhor!', additional_kwargs={}, response_metadata={'model': 'llama3.1:latest', 'created_at': '2024-10-05T16:46:33.724825746Z', 'message': {'role': 'assistant', 'content': ''}, 'done_reason': 'stop', 'done': True, 'total_duration': 12060328860, 'load_duration': 11780123, 'prompt_eval_count': 197, 'prompt_eval_duration': 160867000, 'eval_count': 222, 'eval_duration': 11583280000}, id='run-d2691cd8-0359-4e0c-954e-72582017d1ea-0', usage_metadata={'input_tokens': 197, 'output_tokens': 222, 'total_tokens': 419}),\n",
       " HumanMessage(content='Nasceu onde?', additional_kwargs={}, response_metadata={}, id='552c2660-565d-4680-a9db-427b913adca4'),\n",
       " AIMessage(content='Albert Einstein nasceu em Ulma, no Reino da Württemberg (agora na Alemanha), em 14 de março de 1879.', additional_kwargs={}, response_metadata={'model': 'llama3.1:latest', 'created_at': '2024-10-05T16:46:36.253843356Z', 'message': {'role': 'assistant', 'content': ''}, 'done_reason': 'stop', 'done': True, 'total_duration': 2508634295, 'load_duration': 11917615, 'prompt_eval_count': 433, 'prompt_eval_duration': 145100000, 'eval_count': 37, 'eval_duration': 1878494000}, id='run-fe918620-1348-4fdd-b499-3e4de9d5b5eb-0', usage_metadata={'input_tokens': 433, 'output_tokens': 37, 'total_tokens': 470}),\n",
       " AIMessage(content=' Ele foi o primeiro filho de Hermann e Pauline Einstein, um banqueiro e uma dona de casa respeitáveis, respectivamente.', additional_kwargs={}, response_metadata={'model': 'llama3.1:latest', 'created_at': '2024-10-05T16:46:38.426542088Z', 'message': {'role': 'assistant', 'content': ''}, 'done_reason': 'stop', 'done': True, 'total_duration': 2156994893, 'load_duration': 15419778, 'prompt_eval_count': 469, 'prompt_eval_duration': 52068000, 'eval_count': 32, 'eval_duration': 1632072000}, id='run-4df25c84-6fed-4cc1-b9c4-90556a669251-0', usage_metadata={'input_tokens': 469, 'output_tokens': 32, 'total_tokens': 501}),\n",
       " HumanMessage(content='O que você disse por último?', additional_kwargs={}, response_metadata={}, id='0355253c-8f97-4a38-8bc0-60183f9d86b9'),\n",
       " AIMessage(content='Eu disse: Albert Einstein nasceu em Ulma, na Alemanha, em 14 de março de 1879.', additional_kwargs={}, response_metadata={'model': 'llama3.1:latest', 'created_at': '2024-10-05T16:46:42.10505866Z', 'message': {'role': 'assistant', 'content': ''}, 'done_reason': 'stop', 'done': True, 'total_duration': 2354611663, 'load_duration': 13841183, 'prompt_eval_count': 517, 'prompt_eval_duration': 405996000, 'eval_count': 28, 'eval_duration': 1325770000}, id='run-bcd25540-441a-4f47-92ea-5fe2c2472090-0', usage_metadata={'input_tokens': 517, 'output_tokens': 28, 'total_tokens': 545})]"
      ]
     },
     "execution_count": 19,
     "metadata": {},
     "output_type": "execute_result"
    }
   ],
   "source": [
    "app.update_state(config, {\"messages\": RemoveMessage(id=messages[0].id)})\n",
    "messages = app.get_state(config).values[\"messages\"]\n",
    "messages"
   ]
  },
  {
   "cell_type": "code",
   "execution_count": 20,
   "id": "85c43758-9efa-4074-a8b7-96861ae7cd95",
   "metadata": {},
   "outputs": [
    {
     "data": {
      "text/plain": [
       "[HumanMessage(content='O que você disse?', additional_kwargs={}, response_metadata={}, id='317dbdc7-08e2-4d64-b96c-9988c6aa0c42'),\n",
       " AIMessage(content='Eu disse: Albert Einstein foi um físico alemão que fez contribuições significativas para o desenvolvimento da mecânica quântica e recebeu o Prêmio Nobel de Física em 1921 por sua teoria dos fótons. Ele é famoso por suas contribuições fundamentais para a física, incluindo a teoria da relatividade e a equação E=mc².', additional_kwargs={}, response_metadata={'model': 'llama3.1:latest', 'created_at': '2024-10-05T16:46:21.643757961Z', 'message': {'role': 'assistant', 'content': ''}, 'done_reason': 'stop', 'done': True, 'total_duration': 4943372899, 'load_duration': 59324907, 'prompt_eval_count': 86, 'prompt_eval_duration': 135381000, 'eval_count': 91, 'eval_duration': 4597798000}, id='run-ab0a9357-53b2-4bd1-b0c3-9c53320baefc-0', usage_metadata={'input_tokens': 86, 'output_tokens': 91, 'total_tokens': 177}),\n",
       " HumanMessage(content='O que você disse? Ainda não consegui entender', additional_kwargs={}, response_metadata={}, id='0dc81037-832d-4313-9871-9acda77e2633'),\n",
       " AIMessage(content='Não se preocupe! Vou explicar de forma mais simples.\\n\\nAlbert Einstein foi um cientista muito importante que viveu no século 20. Ele fez descobertas incríveis sobre a física, que é o estudo das coisas que acontecem na natureza.\\n\\nEle é famoso por três coisas principais:\\n\\n1. **Teoria da Relatividade**: Einstein mostrou que o tempo e o espaço são relacionados entre si de forma muito complexa.\\n2. **Equação E=mc²**: Ele descobriu que a energia (E) é igual à massa (m) vezes a velocidade da luz (c) ao quadrado.\\n3. **Contribuições para a Física Quântica**: Einstein ajudou a entender como as partículas subatomicas se comportam.\\n\\nEle foi reconhecido com o Prêmio Nobel de Física em 1921, que é um prêmio muito importante para cientistas.\\n\\nEspero que isso tenha ajudado a explicar melhor!', additional_kwargs={}, response_metadata={'model': 'llama3.1:latest', 'created_at': '2024-10-05T16:46:33.724825746Z', 'message': {'role': 'assistant', 'content': ''}, 'done_reason': 'stop', 'done': True, 'total_duration': 12060328860, 'load_duration': 11780123, 'prompt_eval_count': 197, 'prompt_eval_duration': 160867000, 'eval_count': 222, 'eval_duration': 11583280000}, id='run-d2691cd8-0359-4e0c-954e-72582017d1ea-0', usage_metadata={'input_tokens': 197, 'output_tokens': 222, 'total_tokens': 419}),\n",
       " HumanMessage(content='Nasceu onde?', additional_kwargs={}, response_metadata={}, id='552c2660-565d-4680-a9db-427b913adca4'),\n",
       " AIMessage(content='Albert Einstein nasceu em Ulma, no Reino da Württemberg (agora na Alemanha), em 14 de março de 1879.', additional_kwargs={}, response_metadata={'model': 'llama3.1:latest', 'created_at': '2024-10-05T16:46:36.253843356Z', 'message': {'role': 'assistant', 'content': ''}, 'done_reason': 'stop', 'done': True, 'total_duration': 2508634295, 'load_duration': 11917615, 'prompt_eval_count': 433, 'prompt_eval_duration': 145100000, 'eval_count': 37, 'eval_duration': 1878494000}, id='run-fe918620-1348-4fdd-b499-3e4de9d5b5eb-0', usage_metadata={'input_tokens': 433, 'output_tokens': 37, 'total_tokens': 470}),\n",
       " AIMessage(content=' Ele foi o primeiro filho de Hermann e Pauline Einstein, um banqueiro e uma dona de casa respeitáveis, respectivamente.', additional_kwargs={}, response_metadata={'model': 'llama3.1:latest', 'created_at': '2024-10-05T16:46:38.426542088Z', 'message': {'role': 'assistant', 'content': ''}, 'done_reason': 'stop', 'done': True, 'total_duration': 2156994893, 'load_duration': 15419778, 'prompt_eval_count': 469, 'prompt_eval_duration': 52068000, 'eval_count': 32, 'eval_duration': 1632072000}, id='run-4df25c84-6fed-4cc1-b9c4-90556a669251-0', usage_metadata={'input_tokens': 469, 'output_tokens': 32, 'total_tokens': 501}),\n",
       " HumanMessage(content='O que você disse por último?', additional_kwargs={}, response_metadata={}, id='0355253c-8f97-4a38-8bc0-60183f9d86b9'),\n",
       " AIMessage(content='Eu disse: Albert Einstein nasceu em Ulma, na Alemanha, em 14 de março de 1879.', additional_kwargs={}, response_metadata={'model': 'llama3.1:latest', 'created_at': '2024-10-05T16:46:42.10505866Z', 'message': {'role': 'assistant', 'content': ''}, 'done_reason': 'stop', 'done': True, 'total_duration': 2354611663, 'load_duration': 13841183, 'prompt_eval_count': 517, 'prompt_eval_duration': 405996000, 'eval_count': 28, 'eval_duration': 1325770000}, id='run-bcd25540-441a-4f47-92ea-5fe2c2472090-0', usage_metadata={'input_tokens': 517, 'output_tokens': 28, 'total_tokens': 545})]"
      ]
     },
     "execution_count": 20,
     "metadata": {},
     "output_type": "execute_result"
    }
   ],
   "source": [
    "app.update_state(config, {\"messages\": RemoveMessage(id=messages[0].id)})\n",
    "messages = app.get_state(config).values[\"messages\"]\n",
    "messages"
   ]
  },
  {
   "cell_type": "markdown",
   "id": "5c889c81-3b7f-43ae-9df5-0a307556d78d",
   "metadata": {},
   "source": [
    "## Retomando a conversa (para verificar se continua coerente)"
   ]
  },
  {
   "cell_type": "code",
   "execution_count": 21,
   "id": "dcf1ca61-2282-4f0f-8c7f-e9d4737206cc",
   "metadata": {},
   "outputs": [
    {
     "name": "stdout",
     "output_type": "stream",
     "text": [
      "==================================\u001b[1m Ai Message \u001b[0m==================================\n",
      "\n",
      "A maior contribuição de Albert Einstein é considerada ser a sua teoria da relatividade.\n",
      "\n",
      "Em 1905 e 1915, ele desenvolveu duas teorias revolucionárias que mudaram o modo como as pessoas entendem o tempo e o espaço:\n",
      "\n",
      "1. **Teoria da Relatividade Especial** (1905): Demonstrou que o tempo e o espaço são relativo ao observador, e que a velocidade da luz é sempre constante.\n",
      "2. **Teoria da Relatividade Geral** (1915): Descreveu como a gravidade afeta o espaço-tempo, mostrando que as massas curvam o espaço-tempo em torno delas.\n",
      "\n",
      "Essas teorias revolucionaram a física e tiveram um impacto profundo na forma como entendemos o universo.\n"
     ]
    }
   ],
   "source": [
    "query = \"Qual foi a maior contribuição dele?\"\n",
    "input_messages = [HumanMessage(query)]\n",
    "output = app.invoke({\"messages\": input_messages}, config)\n",
    "output[\"messages\"][-1].pretty_print()"
   ]
  },
  {
   "cell_type": "code",
   "execution_count": 22,
   "id": "2b01743a-0b36-434f-86a7-64335117a9c0",
   "metadata": {},
   "outputs": [
    {
     "data": {
      "text/plain": [
       "[HumanMessage(content='O que você disse?', additional_kwargs={}, response_metadata={}, id='317dbdc7-08e2-4d64-b96c-9988c6aa0c42'),\n",
       " AIMessage(content='Eu disse: Albert Einstein foi um físico alemão que fez contribuições significativas para o desenvolvimento da mecânica quântica e recebeu o Prêmio Nobel de Física em 1921 por sua teoria dos fótons. Ele é famoso por suas contribuições fundamentais para a física, incluindo a teoria da relatividade e a equação E=mc².', additional_kwargs={}, response_metadata={'model': 'llama3.1:latest', 'created_at': '2024-10-05T16:46:21.643757961Z', 'message': {'role': 'assistant', 'content': ''}, 'done_reason': 'stop', 'done': True, 'total_duration': 4943372899, 'load_duration': 59324907, 'prompt_eval_count': 86, 'prompt_eval_duration': 135381000, 'eval_count': 91, 'eval_duration': 4597798000}, id='run-ab0a9357-53b2-4bd1-b0c3-9c53320baefc-0', usage_metadata={'input_tokens': 86, 'output_tokens': 91, 'total_tokens': 177}),\n",
       " HumanMessage(content='O que você disse? Ainda não consegui entender', additional_kwargs={}, response_metadata={}, id='0dc81037-832d-4313-9871-9acda77e2633'),\n",
       " AIMessage(content='Não se preocupe! Vou explicar de forma mais simples.\\n\\nAlbert Einstein foi um cientista muito importante que viveu no século 20. Ele fez descobertas incríveis sobre a física, que é o estudo das coisas que acontecem na natureza.\\n\\nEle é famoso por três coisas principais:\\n\\n1. **Teoria da Relatividade**: Einstein mostrou que o tempo e o espaço são relacionados entre si de forma muito complexa.\\n2. **Equação E=mc²**: Ele descobriu que a energia (E) é igual à massa (m) vezes a velocidade da luz (c) ao quadrado.\\n3. **Contribuições para a Física Quântica**: Einstein ajudou a entender como as partículas subatomicas se comportam.\\n\\nEle foi reconhecido com o Prêmio Nobel de Física em 1921, que é um prêmio muito importante para cientistas.\\n\\nEspero que isso tenha ajudado a explicar melhor!', additional_kwargs={}, response_metadata={'model': 'llama3.1:latest', 'created_at': '2024-10-05T16:46:33.724825746Z', 'message': {'role': 'assistant', 'content': ''}, 'done_reason': 'stop', 'done': True, 'total_duration': 12060328860, 'load_duration': 11780123, 'prompt_eval_count': 197, 'prompt_eval_duration': 160867000, 'eval_count': 222, 'eval_duration': 11583280000}, id='run-d2691cd8-0359-4e0c-954e-72582017d1ea-0', usage_metadata={'input_tokens': 197, 'output_tokens': 222, 'total_tokens': 419}),\n",
       " HumanMessage(content='Nasceu onde?', additional_kwargs={}, response_metadata={}, id='552c2660-565d-4680-a9db-427b913adca4'),\n",
       " AIMessage(content='Albert Einstein nasceu em Ulma, no Reino da Württemberg (agora na Alemanha), em 14 de março de 1879.', additional_kwargs={}, response_metadata={'model': 'llama3.1:latest', 'created_at': '2024-10-05T16:46:36.253843356Z', 'message': {'role': 'assistant', 'content': ''}, 'done_reason': 'stop', 'done': True, 'total_duration': 2508634295, 'load_duration': 11917615, 'prompt_eval_count': 433, 'prompt_eval_duration': 145100000, 'eval_count': 37, 'eval_duration': 1878494000}, id='run-fe918620-1348-4fdd-b499-3e4de9d5b5eb-0', usage_metadata={'input_tokens': 433, 'output_tokens': 37, 'total_tokens': 470}),\n",
       " AIMessage(content=' Ele foi o primeiro filho de Hermann e Pauline Einstein, um banqueiro e uma dona de casa respeitáveis, respectivamente.', additional_kwargs={}, response_metadata={'model': 'llama3.1:latest', 'created_at': '2024-10-05T16:46:38.426542088Z', 'message': {'role': 'assistant', 'content': ''}, 'done_reason': 'stop', 'done': True, 'total_duration': 2156994893, 'load_duration': 15419778, 'prompt_eval_count': 469, 'prompt_eval_duration': 52068000, 'eval_count': 32, 'eval_duration': 1632072000}, id='run-4df25c84-6fed-4cc1-b9c4-90556a669251-0', usage_metadata={'input_tokens': 469, 'output_tokens': 32, 'total_tokens': 501}),\n",
       " HumanMessage(content='O que você disse por último?', additional_kwargs={}, response_metadata={}, id='0355253c-8f97-4a38-8bc0-60183f9d86b9'),\n",
       " AIMessage(content='Eu disse: Albert Einstein nasceu em Ulma, na Alemanha, em 14 de março de 1879.', additional_kwargs={}, response_metadata={'model': 'llama3.1:latest', 'created_at': '2024-10-05T16:46:42.10505866Z', 'message': {'role': 'assistant', 'content': ''}, 'done_reason': 'stop', 'done': True, 'total_duration': 2354611663, 'load_duration': 13841183, 'prompt_eval_count': 517, 'prompt_eval_duration': 405996000, 'eval_count': 28, 'eval_duration': 1325770000}, id='run-bcd25540-441a-4f47-92ea-5fe2c2472090-0', usage_metadata={'input_tokens': 517, 'output_tokens': 28, 'total_tokens': 545}),\n",
       " HumanMessage(content='Qual foi a maior contribuição dele?', additional_kwargs={}, response_metadata={}, id='942ce2f0-6c68-49cc-aceb-3bd84bbba9f3'),\n",
       " AIMessage(content='A maior contribuição de Albert Einstein é considerada ser a sua teoria da relatividade.\\n\\nEm 1905 e 1915, ele desenvolveu duas teorias revolucionárias que mudaram o modo como as pessoas entendem o tempo e o espaço:\\n\\n1. **Teoria da Relatividade Especial** (1905): Demonstrou que o tempo e o espaço são relativo ao observador, e que a velocidade da luz é sempre constante.\\n2. **Teoria da Relatividade Geral** (1915): Descreveu como a gravidade afeta o espaço-tempo, mostrando que as massas curvam o espaço-tempo em torno delas.\\n\\nEssas teorias revolucionaram a física e tiveram um impacto profundo na forma como entendemos o universo.', additional_kwargs={}, response_metadata={'model': 'llama3.1:latest', 'created_at': '2024-10-05T16:46:51.821283071Z', 'message': {'role': 'assistant', 'content': ''}, 'done_reason': 'stop', 'done': True, 'total_duration': 9681227113, 'load_duration': 11079167, 'prompt_eval_count': 491, 'prompt_eval_duration': 396503000, 'eval_count': 177, 'eval_duration': 8711895000}, id='run-1b8e88a5-db25-4ebc-b14a-3279c6cf4d70-0', usage_metadata={'input_tokens': 491, 'output_tokens': 177, 'total_tokens': 668})]"
      ]
     },
     "execution_count": 22,
     "metadata": {},
     "output_type": "execute_result"
    }
   ],
   "source": [
    "output[\"messages\"]"
   ]
  }
 ],
 "metadata": {
  "kernelspec": {
   "display_name": "Python 3 (ipykernel)",
   "language": "python",
   "name": "python3"
  },
  "language_info": {
   "codemirror_mode": {
    "name": "ipython",
    "version": 3
   },
   "file_extension": ".py",
   "mimetype": "text/x-python",
   "name": "python",
   "nbconvert_exporter": "python",
   "pygments_lexer": "ipython3",
   "version": "3.11.9"
  }
 },
 "nbformat": 4,
 "nbformat_minor": 5
}
