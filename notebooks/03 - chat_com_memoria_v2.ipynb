{
 "cells": [
  {
   "cell_type": "markdown",
   "id": "31dc4740-0875-418f-b79d-e081d937b906",
   "metadata": {},
   "source": [
    "## Simulação de uma LLM com memória da conversa (versão mais moderna do framework)\n",
    "\n",
    "ref.: \n",
    "* https://python.langchain.com/docs/how_to/message_history/\n",
    "* https://www.langchain.com/langgraph\n",
    "\n",
    "**todo**:\n",
    "- Tentar gerenciar a memória da conversa de forma automatizada"
   ]
  },
  {
   "cell_type": "code",
   "execution_count": 1,
   "id": "e183fc41-5672-4740-881b-3dad338dd67f",
   "metadata": {},
   "outputs": [],
   "source": [
    "from langchain_ollama import ChatOllama\n",
    "from langchain_core.messages import HumanMessage\n",
    "from langgraph.checkpoint.memory import MemorySaver\n",
    "from langgraph.graph import START, MessagesState, StateGraph\n",
    "from langchain_core.messages import RemoveMessage\n",
    "from IPython.display import Image, display"
   ]
  },
  {
   "cell_type": "markdown",
   "id": "b20c92cc-caac-4f7b-af1a-d9b4b1837e15",
   "metadata": {},
   "source": [
    "## Utilização do llama3.2 com interface via ollama"
   ]
  },
  {
   "cell_type": "code",
   "execution_count": 2,
   "id": "13ec592a-9362-4242-b843-d208466d34c4",
   "metadata": {},
   "outputs": [],
   "source": [
    "llm = ChatOllama(model=\"llama3.2\")\n",
    "workflow = StateGraph(state_schema=MessagesState)\n",
    "\n",
    "def call_model(state: MessagesState):\n",
    "    response = llm.invoke(state[\"messages\"])\n",
    "    return {\"messages\": response}\n",
    "\n",
    "workflow.add_edge(START, \"model\")\n",
    "workflow.add_node(\"model\", call_model)\n",
    "\n",
    "memory = MemorySaver()\n",
    "app = workflow.compile(checkpointer=memory)"
   ]
  },
  {
   "cell_type": "code",
   "execution_count": 3,
   "id": "5f98d40e-21fe-4d44-8577-5bf6697d32d6",
   "metadata": {},
   "outputs": [
    {
     "data": {
      "image/jpeg": "[encoded data removed]",
      "text/plain": [
       "<IPython.core.display.Image object>"
      ]
     },
     "metadata": {},
     "output_type": "display_data"
    }
   ],
   "source": [
    "try:\n",
    "    display(Image(app.get_graph().draw_mermaid_png()))\n",
    "except Exception:\n",
    "    # This requires some extra dependencies and is optional\n",
    "    pass"
   ]
  },
  {
   "cell_type": "markdown",
   "id": "131b56a5-76e4-48ba-a37f-9518568e18b6",
   "metadata": {},
   "source": [
    "## Pergunta para iniciar a conversa"
   ]
  },
  {
   "cell_type": "code",
   "execution_count": 4,
   "id": "24196b08-37af-492e-87f2-730a003cdf6b",
   "metadata": {},
   "outputs": [
    {
     "name": "stdout",
     "output_type": "stream",
     "text": [
      "==================================\u001b[1m Ai Message \u001b[0m==================================\n",
      "\n",
      "Albert Einstein foi um físico alemão nascido em 14 de março de 1879 e falecido em 18 de abril de 1955. Ele é considerado uma das maiores mentes da história, conhecido por suas contribuições fundamentais para a teoria da relatividade e pela interpretação mais ampla do efeito fotoelétrico.\n",
      "\n",
      "Einstein é famoso por seus trabalhos em física teórica e experimentação. Em 1905, publicou quatro artigos que revolucionaram nossa compreensão da realidade: a teoria especial da relatividade (que introduz a ideia de que o tempo e o espaço são relativos), o efeito fotoelétrico (que explicava como a luz pode causar a emissão de elétrons) e as equações da teoria quântica.\n",
      "\n",
      "Em 1915, Einstein desenvolveu a teoria geral da relatividade, que unifica a gravitação com a teoria especial da relatividade. Esta teoria revolucionou nossa compreensão do espaço-tempo e da natureza da gravidade.\n",
      "\n",
      "Einstein também é conhecido por suas ideias políticas e filosóficas. Ele foi um pacifista e um defensor dos direitos civis, e seu trabalho em questões de justiça social e ética continua a inspirar gerações de cientistas e pensadores.\n",
      "\n",
      "Algumas das contribuições notáveis de Einstein incluem:\n",
      "\n",
      "*   A teoria da relatividade especial (1905): introduziu a ideia de que o tempo e o espaço são relativos, dependendo do observador.\n",
      "*   O efeito fotoelétrico (1905): explicou como a luz pode causar a emissão de elétrons.\n",
      "*   As equações da teoria quântica (1905): estabeleceu as bases para a física quântica.\n",
      "*   A teoria geral da relatividade (1915): unificou a gravitação com a teoria especial da relatividade.\n",
      "\n",
      "Einstein recebeu vários prêmios e honrarias por suas contribuições, incluindo o Prêmio Nobel de Física em 1921. Ele é considerado um dos cientistas mais importantes do século XX e seu legado continua a inspirar pesquisadores e pensadores em todo o mundo.\n"
     ]
    }
   ],
   "source": [
    "config = {\"configurable\": {\"thread_id\": \"abc123\"}}\n",
    "\n",
    "query = \"Quem foi Albert Einstein?\"\n",
    "input_messages = [HumanMessage(query)]\n",
    "output = app.invoke({\"messages\": input_messages}, config)\n",
    "output[\"messages\"][-1].pretty_print()"
   ]
  },
  {
   "cell_type": "code",
   "execution_count": 5,
   "id": "62ed7c0b-e652-4f3f-b043-0e45589be19b",
   "metadata": {},
   "outputs": [
    {
     "data": {
      "text/plain": [
       "[HumanMessage(content='Quem foi Albert Einstein?', additional_kwargs={}, response_metadata={}, id='fafb1f28-a594-44ce-a7ea-1fb66b133ffc'),\n",
       " AIMessage(content='Albert Einstein foi um físico alemão nascido em 14 de março de 1879 e falecido em 18 de abril de 1955. Ele é considerado uma das maiores mentes da história, conhecido por suas contribuições fundamentais para a teoria da relatividade e pela interpretação mais ampla do efeito fotoelétrico.\\n\\nEinstein é famoso por seus trabalhos em física teórica e experimentação. Em 1905, publicou quatro artigos que revolucionaram nossa compreensão da realidade: a teoria especial da relatividade (que introduz a ideia de que o tempo e o espaço são relativos), o efeito fotoelétrico (que explicava como a luz pode causar a emissão de elétrons) e as equações da teoria quântica.\\n\\nEm 1915, Einstein desenvolveu a teoria geral da relatividade, que unifica a gravitação com a teoria especial da relatividade. Esta teoria revolucionou nossa compreensão do espaço-tempo e da natureza da gravidade.\\n\\nEinstein também é conhecido por suas ideias políticas e filosóficas. Ele foi um pacifista e um defensor dos direitos civis, e seu trabalho em questões de justiça social e ética continua a inspirar gerações de cientistas e pensadores.\\n\\nAlgumas das contribuições notáveis de Einstein incluem:\\n\\n*   A teoria da relatividade especial (1905): introduziu a ideia de que o tempo e o espaço são relativos, dependendo do observador.\\n*   O efeito fotoelétrico (1905): explicou como a luz pode causar a emissão de elétrons.\\n*   As equações da teoria quântica (1905): estabeleceu as bases para a física quântica.\\n*   A teoria geral da relatividade (1915): unificou a gravitação com a teoria especial da relatividade.\\n\\nEinstein recebeu vários prêmios e honrarias por suas contribuições, incluindo o Prêmio Nobel de Física em 1921. Ele é considerado um dos cientistas mais importantes do século XX e seu legado continua a inspirar pesquisadores e pensadores em todo o mundo.', additional_kwargs={}, response_metadata={'model': 'llama3.2', 'created_at': '2024-10-05T20:04:30.307854123Z', 'message': {'role': 'assistant', 'content': ''}, 'done_reason': 'stop', 'done': True, 'total_duration': 8937003196, 'load_duration': 16250099, 'prompt_eval_count': 31, 'prompt_eval_duration': 325719000, 'eval_count': 515, 'eval_duration': 8541822000}, id='run-f8043ff9-8f80-49d6-9dd1-610b43cf0cb6-0', usage_metadata={'input_tokens': 31, 'output_tokens': 515, 'total_tokens': 546})]"
      ]
     },
     "execution_count": 5,
     "metadata": {},
     "output_type": "execute_result"
    }
   ],
   "source": [
    "output[\"messages\"]"
   ]
  },
  {
   "cell_type": "markdown",
   "id": "128295bf-a454-4819-874b-85a01d393717",
   "metadata": {},
   "source": [
    "## O modelo consegue se lembrar do que acabou de responder"
   ]
  },
  {
   "cell_type": "code",
   "execution_count": 6,
   "id": "ef7c4a14-592a-4f12-a607-59f156a0c1ec",
   "metadata": {},
   "outputs": [
    {
     "name": "stdout",
     "output_type": "stream",
     "text": [
      "==================================\u001b[1m Ai Message \u001b[0m==================================\n",
      "\n",
      "Eu disse que Albert Einstein foi um físico alemão nascido em 1879 e falecido em 1955, conhecido por suas contribuições fundamentais para a teoria da relatividade e pela interpretação mais ampla do efeito fotoelétrico. Ele é considerado uma das maiores mentes da história, famoso por seus trabalhos em física teórica e experimentação.\n",
      "\n",
      "Einstein desenvolveu a teoria especial da relatividade, que introduziu a ideia de que o tempo e o espaço são relativos, dependendo do observador. Ele também desenvolveu a teoria geral da relatividade, que unificou a gravitação com a teoria especial da relatividade.\n",
      "\n",
      "Além disso, Einstein é conhecido por suas ideias políticas e filosóficas. Ele foi um pacifista e um defensor dos direitos civis, e seu trabalho em questões de justiça social e ética continua a inspirar gerações de cientistas e pensadores.\n",
      "\n",
      "Algumas das contribuições notáveis de Einstein incluem:\n",
      "\n",
      "*   A teoria da relatividade especial (1905): introduziu a ideia de que o tempo e o espaço são relativos, dependendo do observador.\n",
      "*   O efeito fotoelétrico (1905): explicou como a luz pode causar a emissão de elétrons.\n",
      "*   As equações da teoria quântica (1905): estabeleceu as bases para a física quântica.\n",
      "*   A teoria geral da relatividade (1915): unificou a gravitação com a teoria especial da relatividade.\n",
      "\n",
      "Einstein recebeu vários prêmios e honrarias por suas contribuições, incluindo o Prêmio Nobel de Física em 1921. Ele é considerado um dos cientistas mais importantes do século XX e seu legado continua a inspirar pesquisadores e pensadores em todo o mundo.\n"
     ]
    }
   ],
   "source": [
    "query = \"O que você disse?\"\n",
    "input_messages = [HumanMessage(query)]\n",
    "output = app.invoke({\"messages\": input_messages}, config)\n",
    "output[\"messages\"][-1].pretty_print()"
   ]
  },
  {
   "cell_type": "code",
   "execution_count": 7,
   "id": "54792fd1-4ef5-4158-b8bc-ef554a9e8c0e",
   "metadata": {},
   "outputs": [
    {
     "data": {
      "text/plain": [
       "[HumanMessage(content='Quem foi Albert Einstein?', additional_kwargs={}, response_metadata={}, id='fafb1f28-a594-44ce-a7ea-1fb66b133ffc'),\n",
       " AIMessage(content='Albert Einstein foi um físico alemão nascido em 14 de março de 1879 e falecido em 18 de abril de 1955. Ele é considerado uma das maiores mentes da história, conhecido por suas contribuições fundamentais para a teoria da relatividade e pela interpretação mais ampla do efeito fotoelétrico.\\n\\nEinstein é famoso por seus trabalhos em física teórica e experimentação. Em 1905, publicou quatro artigos que revolucionaram nossa compreensão da realidade: a teoria especial da relatividade (que introduz a ideia de que o tempo e o espaço são relativos), o efeito fotoelétrico (que explicava como a luz pode causar a emissão de elétrons) e as equações da teoria quântica.\\n\\nEm 1915, Einstein desenvolveu a teoria geral da relatividade, que unifica a gravitação com a teoria especial da relatividade. Esta teoria revolucionou nossa compreensão do espaço-tempo e da natureza da gravidade.\\n\\nEinstein também é conhecido por suas ideias políticas e filosóficas. Ele foi um pacifista e um defensor dos direitos civis, e seu trabalho em questões de justiça social e ética continua a inspirar gerações de cientistas e pensadores.\\n\\nAlgumas das contribuições notáveis de Einstein incluem:\\n\\n*   A teoria da relatividade especial (1905): introduziu a ideia de que o tempo e o espaço são relativos, dependendo do observador.\\n*   O efeito fotoelétrico (1905): explicou como a luz pode causar a emissão de elétrons.\\n*   As equações da teoria quântica (1905): estabeleceu as bases para a física quântica.\\n*   A teoria geral da relatividade (1915): unificou a gravitação com a teoria especial da relatividade.\\n\\nEinstein recebeu vários prêmios e honrarias por suas contribuições, incluindo o Prêmio Nobel de Física em 1921. Ele é considerado um dos cientistas mais importantes do século XX e seu legado continua a inspirar pesquisadores e pensadores em todo o mundo.', additional_kwargs={}, response_metadata={'model': 'llama3.2', 'created_at': '2024-10-05T20:04:30.307854123Z', 'message': {'role': 'assistant', 'content': ''}, 'done_reason': 'stop', 'done': True, 'total_duration': 8937003196, 'load_duration': 16250099, 'prompt_eval_count': 31, 'prompt_eval_duration': 325719000, 'eval_count': 515, 'eval_duration': 8541822000}, id='run-f8043ff9-8f80-49d6-9dd1-610b43cf0cb6-0', usage_metadata={'input_tokens': 31, 'output_tokens': 515, 'total_tokens': 546}),\n",
       " HumanMessage(content='O que você disse?', additional_kwargs={}, response_metadata={}, id='e98faed6-963c-4a27-9cac-cb27faadd3f7'),\n",
       " AIMessage(content='Eu disse que Albert Einstein foi um físico alemão nascido em 1879 e falecido em 1955, conhecido por suas contribuições fundamentais para a teoria da relatividade e pela interpretação mais ampla do efeito fotoelétrico. Ele é considerado uma das maiores mentes da história, famoso por seus trabalhos em física teórica e experimentação.\\n\\nEinstein desenvolveu a teoria especial da relatividade, que introduziu a ideia de que o tempo e o espaço são relativos, dependendo do observador. Ele também desenvolveu a teoria geral da relatividade, que unificou a gravitação com a teoria especial da relatividade.\\n\\nAlém disso, Einstein é conhecido por suas ideias políticas e filosóficas. Ele foi um pacifista e um defensor dos direitos civis, e seu trabalho em questões de justiça social e ética continua a inspirar gerações de cientistas e pensadores.\\n\\nAlgumas das contribuições notáveis de Einstein incluem:\\n\\n*   A teoria da relatividade especial (1905): introduziu a ideia de que o tempo e o espaço são relativos, dependendo do observador.\\n*   O efeito fotoelétrico (1905): explicou como a luz pode causar a emissão de elétrons.\\n*   As equações da teoria quântica (1905): estabeleceu as bases para a física quântica.\\n*   A teoria geral da relatividade (1915): unificou a gravitação com a teoria especial da relatividade.\\n\\nEinstein recebeu vários prêmios e honrarias por suas contribuições, incluindo o Prêmio Nobel de Física em 1921. Ele é considerado um dos cientistas mais importantes do século XX e seu legado continua a inspirar pesquisadores e pensadores em todo o mundo.', additional_kwargs={}, response_metadata={'model': 'llama3.2', 'created_at': '2024-10-05T20:04:37.924726057Z', 'message': {'role': 'assistant', 'content': ''}, 'done_reason': 'stop', 'done': True, 'total_duration': 7601259298, 'load_duration': 66046526, 'prompt_eval_count': 560, 'prompt_eval_duration': 135765000, 'eval_count': 431, 'eval_duration': 7248788000}, id='run-11593d11-1244-41af-a03b-be1e131f6fdd-0', usage_metadata={'input_tokens': 560, 'output_tokens': 431, 'total_tokens': 991})]"
      ]
     },
     "execution_count": 7,
     "metadata": {},
     "output_type": "execute_result"
    }
   ],
   "source": [
    "output[\"messages\"]"
   ]
  },
  {
   "cell_type": "code",
   "execution_count": 8,
   "id": "6246c289-78bc-4171-b464-9cd691ab4d4d",
   "metadata": {},
   "outputs": [
    {
     "name": "stdout",
     "output_type": "stream",
     "text": [
      "==================================\u001b[1m Ai Message \u001b[0m==================================\n",
      "\n",
      "Vou tentar explicar de outra forma.\n",
      "\n",
      "Eu disse que Albert Einstein foi um físico alemão muito importante, nascido em 1879 e falecido em 1955. Ele é conhecido por suas ideias revolucionárias sobre o tempo, o espaço e a gravidade.\n",
      "\n",
      "Einstein desenvolveu duas teorias principais:\n",
      "\n",
      "1.  A teoria da relatividade especial (1905), que afirma que o tempo e o espaço podem variar dependendo do observador.\n",
      "2.  A teoria geral da relatividade (1915), que unifica a gravitação com a teoria especial da relatividade.\n",
      "\n",
      "Além disso, Einstein é conhecido por suas ideias políticas e filosóficas. Ele foi um pacifista e um defensor dos direitos civis, o que significa que ele acreditava que a violência não era a melhor maneira de resolver conflitos e que todos os seres humanos têm direito à liberdade e à igualdade.\n",
      "\n",
      "Einstein recebeu muitas honrarias por suas contribuições para a ciência, incluindo o Prêmio Nobel de Física em 1921. Ele é considerado um dos cientistas mais importantes do século XX e seu legado continua a inspirar pessoas em todo o mundo.\n",
      "\n",
      "Quer que eu explique mais alguma coisa?\n"
     ]
    }
   ],
   "source": [
    "query = \"O que você disse? Ainda não consegui entender\"\n",
    "input_messages = [HumanMessage(query)]\n",
    "output = app.invoke({\"messages\": input_messages}, config)\n",
    "output[\"messages\"][-1].pretty_print()"
   ]
  },
  {
   "cell_type": "code",
   "execution_count": 9,
   "id": "ba830c69-5ad7-4890-b2f6-44fdf929e154",
   "metadata": {},
   "outputs": [
    {
     "data": {
      "text/plain": [
       "[HumanMessage(content='Quem foi Albert Einstein?', additional_kwargs={}, response_metadata={}, id='fafb1f28-a594-44ce-a7ea-1fb66b133ffc'),\n",
       " AIMessage(content='Albert Einstein foi um físico alemão nascido em 14 de março de 1879 e falecido em 18 de abril de 1955. Ele é considerado uma das maiores mentes da história, conhecido por suas contribuições fundamentais para a teoria da relatividade e pela interpretação mais ampla do efeito fotoelétrico.\\n\\nEinstein é famoso por seus trabalhos em física teórica e experimentação. Em 1905, publicou quatro artigos que revolucionaram nossa compreensão da realidade: a teoria especial da relatividade (que introduz a ideia de que o tempo e o espaço são relativos), o efeito fotoelétrico (que explicava como a luz pode causar a emissão de elétrons) e as equações da teoria quântica.\\n\\nEm 1915, Einstein desenvolveu a teoria geral da relatividade, que unifica a gravitação com a teoria especial da relatividade. Esta teoria revolucionou nossa compreensão do espaço-tempo e da natureza da gravidade.\\n\\nEinstein também é conhecido por suas ideias políticas e filosóficas. Ele foi um pacifista e um defensor dos direitos civis, e seu trabalho em questões de justiça social e ética continua a inspirar gerações de cientistas e pensadores.\\n\\nAlgumas das contribuições notáveis de Einstein incluem:\\n\\n*   A teoria da relatividade especial (1905): introduziu a ideia de que o tempo e o espaço são relativos, dependendo do observador.\\n*   O efeito fotoelétrico (1905): explicou como a luz pode causar a emissão de elétrons.\\n*   As equações da teoria quântica (1905): estabeleceu as bases para a física quântica.\\n*   A teoria geral da relatividade (1915): unificou a gravitação com a teoria especial da relatividade.\\n\\nEinstein recebeu vários prêmios e honrarias por suas contribuições, incluindo o Prêmio Nobel de Física em 1921. Ele é considerado um dos cientistas mais importantes do século XX e seu legado continua a inspirar pesquisadores e pensadores em todo o mundo.', additional_kwargs={}, response_metadata={'model': 'llama3.2', 'created_at': '2024-10-05T20:04:30.307854123Z', 'message': {'role': 'assistant', 'content': ''}, 'done_reason': 'stop', 'done': True, 'total_duration': 8937003196, 'load_duration': 16250099, 'prompt_eval_count': 31, 'prompt_eval_duration': 325719000, 'eval_count': 515, 'eval_duration': 8541822000}, id='run-f8043ff9-8f80-49d6-9dd1-610b43cf0cb6-0', usage_metadata={'input_tokens': 31, 'output_tokens': 515, 'total_tokens': 546}),\n",
       " HumanMessage(content='O que você disse?', additional_kwargs={}, response_metadata={}, id='e98faed6-963c-4a27-9cac-cb27faadd3f7'),\n",
       " AIMessage(content='Eu disse que Albert Einstein foi um físico alemão nascido em 1879 e falecido em 1955, conhecido por suas contribuições fundamentais para a teoria da relatividade e pela interpretação mais ampla do efeito fotoelétrico. Ele é considerado uma das maiores mentes da história, famoso por seus trabalhos em física teórica e experimentação.\\n\\nEinstein desenvolveu a teoria especial da relatividade, que introduziu a ideia de que o tempo e o espaço são relativos, dependendo do observador. Ele também desenvolveu a teoria geral da relatividade, que unificou a gravitação com a teoria especial da relatividade.\\n\\nAlém disso, Einstein é conhecido por suas ideias políticas e filosóficas. Ele foi um pacifista e um defensor dos direitos civis, e seu trabalho em questões de justiça social e ética continua a inspirar gerações de cientistas e pensadores.\\n\\nAlgumas das contribuições notáveis de Einstein incluem:\\n\\n*   A teoria da relatividade especial (1905): introduziu a ideia de que o tempo e o espaço são relativos, dependendo do observador.\\n*   O efeito fotoelétrico (1905): explicou como a luz pode causar a emissão de elétrons.\\n*   As equações da teoria quântica (1905): estabeleceu as bases para a física quântica.\\n*   A teoria geral da relatividade (1915): unificou a gravitação com a teoria especial da relatividade.\\n\\nEinstein recebeu vários prêmios e honrarias por suas contribuições, incluindo o Prêmio Nobel de Física em 1921. Ele é considerado um dos cientistas mais importantes do século XX e seu legado continua a inspirar pesquisadores e pensadores em todo o mundo.', additional_kwargs={}, response_metadata={'model': 'llama3.2', 'created_at': '2024-10-05T20:04:37.924726057Z', 'message': {'role': 'assistant', 'content': ''}, 'done_reason': 'stop', 'done': True, 'total_duration': 7601259298, 'load_duration': 66046526, 'prompt_eval_count': 560, 'prompt_eval_duration': 135765000, 'eval_count': 431, 'eval_duration': 7248788000}, id='run-11593d11-1244-41af-a03b-be1e131f6fdd-0', usage_metadata={'input_tokens': 560, 'output_tokens': 431, 'total_tokens': 991}),\n",
       " HumanMessage(content='O que você disse? Ainda não consegui entender', additional_kwargs={}, response_metadata={}, id='2b5f695b-6f37-4bdb-9716-590791364d32'),\n",
       " AIMessage(content='Vou tentar explicar de outra forma.\\n\\nEu disse que Albert Einstein foi um físico alemão muito importante, nascido em 1879 e falecido em 1955. Ele é conhecido por suas ideias revolucionárias sobre o tempo, o espaço e a gravidade.\\n\\nEinstein desenvolveu duas teorias principais:\\n\\n1.  A teoria da relatividade especial (1905), que afirma que o tempo e o espaço podem variar dependendo do observador.\\n2.  A teoria geral da relatividade (1915), que unifica a gravitação com a teoria especial da relatividade.\\n\\nAlém disso, Einstein é conhecido por suas ideias políticas e filosóficas. Ele foi um pacifista e um defensor dos direitos civis, o que significa que ele acreditava que a violência não era a melhor maneira de resolver conflitos e que todos os seres humanos têm direito à liberdade e à igualdade.\\n\\nEinstein recebeu muitas honrarias por suas contribuições para a ciência, incluindo o Prêmio Nobel de Física em 1921. Ele é considerado um dos cientistas mais importantes do século XX e seu legado continua a inspirar pessoas em todo o mundo.\\n\\nQuer que eu explique mais alguma coisa?', additional_kwargs={}, response_metadata={'model': 'llama3.2', 'created_at': '2024-10-05T20:04:43.340282391Z', 'message': {'role': 'assistant', 'content': ''}, 'done_reason': 'stop', 'done': True, 'total_duration': 5397968392, 'load_duration': 14323113, 'prompt_eval_count': 1011, 'prompt_eval_duration': 27060000, 'eval_count': 293, 'eval_duration': 5051905000}, id='run-9611d59a-c31a-4116-9c7f-ab13a9c35d65-0', usage_metadata={'input_tokens': 1011, 'output_tokens': 293, 'total_tokens': 1304})]"
      ]
     },
     "execution_count": 9,
     "metadata": {},
     "output_type": "execute_result"
    }
   ],
   "source": [
    "output[\"messages\"]"
   ]
  },
  {
   "cell_type": "code",
   "execution_count": 10,
   "id": "776055a8-7dc0-41c5-8a1c-e5068a9ea7d3",
   "metadata": {},
   "outputs": [
    {
     "name": "stdout",
     "output_type": "stream",
     "text": [
      "==================================\u001b[1m Ai Message \u001b[0m==================================\n",
      "\n",
      "Albert Einstein nasceu em Ulm, Alemanha (atualmente parte da Alemanha), em 14 de março de 1879. Ele é considerado um dos cientistas mais importantes do século XX e seu legado continua a inspirar pessoas em todo o mundo.\n",
      "\n",
      "Aqui estão algumas informações sobre sua infância:\n",
      "\n",
      "*   **Localização:** Ulm, Alemanha\n",
      "*   **Data de nascimento:** 14 de março de 1879\n",
      "*   **Morte:** 18 de abril de 1955\n",
      "*   **Profissão:** Físico teórico\n",
      "*   **Contribuições científicas:** Teoria da relatividade especial e geral, equações da teoria quântica, etc.\n",
      "\n",
      "Einstein cresceu em uma família judaica no sul da Alemanha. Ele foi um estudante destacado na escola e mais tarde se matriculou na Universidade de Munique para estudar física. Ele recebeu seu doutorado em 1905 e começou sua carreira como professor de física.\n",
      "\n",
      "Quer saber mais sobre a infância de Einstein?\n"
     ]
    }
   ],
   "source": [
    "query = \"Nasceu onde?\"\n",
    "input_messages = [HumanMessage(query)]\n",
    "output = app.invoke({\"messages\": input_messages}, config)\n",
    "output[\"messages\"][-1].pretty_print()"
   ]
  },
  {
   "cell_type": "code",
   "execution_count": 11,
   "id": "3fe000f7-effa-47c3-8af2-022cdf3f7d8a",
   "metadata": {},
   "outputs": [
    {
     "data": {
      "text/plain": [
       "[HumanMessage(content='Quem foi Albert Einstein?', additional_kwargs={}, response_metadata={}, id='fafb1f28-a594-44ce-a7ea-1fb66b133ffc'),\n",
       " AIMessage(content='Albert Einstein foi um físico alemão nascido em 14 de março de 1879 e falecido em 18 de abril de 1955. Ele é considerado uma das maiores mentes da história, conhecido por suas contribuições fundamentais para a teoria da relatividade e pela interpretação mais ampla do efeito fotoelétrico.\\n\\nEinstein é famoso por seus trabalhos em física teórica e experimentação. Em 1905, publicou quatro artigos que revolucionaram nossa compreensão da realidade: a teoria especial da relatividade (que introduz a ideia de que o tempo e o espaço são relativos), o efeito fotoelétrico (que explicava como a luz pode causar a emissão de elétrons) e as equações da teoria quântica.\\n\\nEm 1915, Einstein desenvolveu a teoria geral da relatividade, que unifica a gravitação com a teoria especial da relatividade. Esta teoria revolucionou nossa compreensão do espaço-tempo e da natureza da gravidade.\\n\\nEinstein também é conhecido por suas ideias políticas e filosóficas. Ele foi um pacifista e um defensor dos direitos civis, e seu trabalho em questões de justiça social e ética continua a inspirar gerações de cientistas e pensadores.\\n\\nAlgumas das contribuições notáveis de Einstein incluem:\\n\\n*   A teoria da relatividade especial (1905): introduziu a ideia de que o tempo e o espaço são relativos, dependendo do observador.\\n*   O efeito fotoelétrico (1905): explicou como a luz pode causar a emissão de elétrons.\\n*   As equações da teoria quântica (1905): estabeleceu as bases para a física quântica.\\n*   A teoria geral da relatividade (1915): unificou a gravitação com a teoria especial da relatividade.\\n\\nEinstein recebeu vários prêmios e honrarias por suas contribuições, incluindo o Prêmio Nobel de Física em 1921. Ele é considerado um dos cientistas mais importantes do século XX e seu legado continua a inspirar pesquisadores e pensadores em todo o mundo.', additional_kwargs={}, response_metadata={'model': 'llama3.2', 'created_at': '2024-10-05T20:04:30.307854123Z', 'message': {'role': 'assistant', 'content': ''}, 'done_reason': 'stop', 'done': True, 'total_duration': 8937003196, 'load_duration': 16250099, 'prompt_eval_count': 31, 'prompt_eval_duration': 325719000, 'eval_count': 515, 'eval_duration': 8541822000}, id='run-f8043ff9-8f80-49d6-9dd1-610b43cf0cb6-0', usage_metadata={'input_tokens': 31, 'output_tokens': 515, 'total_tokens': 546}),\n",
       " HumanMessage(content='O que você disse?', additional_kwargs={}, response_metadata={}, id='e98faed6-963c-4a27-9cac-cb27faadd3f7'),\n",
       " AIMessage(content='Eu disse que Albert Einstein foi um físico alemão nascido em 1879 e falecido em 1955, conhecido por suas contribuições fundamentais para a teoria da relatividade e pela interpretação mais ampla do efeito fotoelétrico. Ele é considerado uma das maiores mentes da história, famoso por seus trabalhos em física teórica e experimentação.\\n\\nEinstein desenvolveu a teoria especial da relatividade, que introduziu a ideia de que o tempo e o espaço são relativos, dependendo do observador. Ele também desenvolveu a teoria geral da relatividade, que unificou a gravitação com a teoria especial da relatividade.\\n\\nAlém disso, Einstein é conhecido por suas ideias políticas e filosóficas. Ele foi um pacifista e um defensor dos direitos civis, e seu trabalho em questões de justiça social e ética continua a inspirar gerações de cientistas e pensadores.\\n\\nAlgumas das contribuições notáveis de Einstein incluem:\\n\\n*   A teoria da relatividade especial (1905): introduziu a ideia de que o tempo e o espaço são relativos, dependendo do observador.\\n*   O efeito fotoelétrico (1905): explicou como a luz pode causar a emissão de elétrons.\\n*   As equações da teoria quântica (1905): estabeleceu as bases para a física quântica.\\n*   A teoria geral da relatividade (1915): unificou a gravitação com a teoria especial da relatividade.\\n\\nEinstein recebeu vários prêmios e honrarias por suas contribuições, incluindo o Prêmio Nobel de Física em 1921. Ele é considerado um dos cientistas mais importantes do século XX e seu legado continua a inspirar pesquisadores e pensadores em todo o mundo.', additional_kwargs={}, response_metadata={'model': 'llama3.2', 'created_at': '2024-10-05T20:04:37.924726057Z', 'message': {'role': 'assistant', 'content': ''}, 'done_reason': 'stop', 'done': True, 'total_duration': 7601259298, 'load_duration': 66046526, 'prompt_eval_count': 560, 'prompt_eval_duration': 135765000, 'eval_count': 431, 'eval_duration': 7248788000}, id='run-11593d11-1244-41af-a03b-be1e131f6fdd-0', usage_metadata={'input_tokens': 560, 'output_tokens': 431, 'total_tokens': 991}),\n",
       " HumanMessage(content='O que você disse? Ainda não consegui entender', additional_kwargs={}, response_metadata={}, id='2b5f695b-6f37-4bdb-9716-590791364d32'),\n",
       " AIMessage(content='Vou tentar explicar de outra forma.\\n\\nEu disse que Albert Einstein foi um físico alemão muito importante, nascido em 1879 e falecido em 1955. Ele é conhecido por suas ideias revolucionárias sobre o tempo, o espaço e a gravidade.\\n\\nEinstein desenvolveu duas teorias principais:\\n\\n1.  A teoria da relatividade especial (1905), que afirma que o tempo e o espaço podem variar dependendo do observador.\\n2.  A teoria geral da relatividade (1915), que unifica a gravitação com a teoria especial da relatividade.\\n\\nAlém disso, Einstein é conhecido por suas ideias políticas e filosóficas. Ele foi um pacifista e um defensor dos direitos civis, o que significa que ele acreditava que a violência não era a melhor maneira de resolver conflitos e que todos os seres humanos têm direito à liberdade e à igualdade.\\n\\nEinstein recebeu muitas honrarias por suas contribuições para a ciência, incluindo o Prêmio Nobel de Física em 1921. Ele é considerado um dos cientistas mais importantes do século XX e seu legado continua a inspirar pessoas em todo o mundo.\\n\\nQuer que eu explique mais alguma coisa?', additional_kwargs={}, response_metadata={'model': 'llama3.2', 'created_at': '2024-10-05T20:04:43.340282391Z', 'message': {'role': 'assistant', 'content': ''}, 'done_reason': 'stop', 'done': True, 'total_duration': 5397968392, 'load_duration': 14323113, 'prompt_eval_count': 1011, 'prompt_eval_duration': 27060000, 'eval_count': 293, 'eval_duration': 5051905000}, id='run-9611d59a-c31a-4116-9c7f-ab13a9c35d65-0', usage_metadata={'input_tokens': 1011, 'output_tokens': 293, 'total_tokens': 1304}),\n",
       " HumanMessage(content='Nasceu onde?', additional_kwargs={}, response_metadata={}, id='007cdfc3-7cd2-4878-94f5-23179d56943b'),\n",
       " AIMessage(content='Albert Einstein nasceu em Ulm, Alemanha (atualmente parte da Alemanha), em 14 de março de 1879. Ele é considerado um dos cientistas mais importantes do século XX e seu legado continua a inspirar pessoas em todo o mundo.\\n\\nAqui estão algumas informações sobre sua infância:\\n\\n*   **Localização:** Ulm, Alemanha\\n*   **Data de nascimento:** 14 de março de 1879\\n*   **Morte:** 18 de abril de 1955\\n*   **Profissão:** Físico teórico\\n*   **Contribuições científicas:** Teoria da relatividade especial e geral, equações da teoria quântica, etc.\\n\\nEinstein cresceu em uma família judaica no sul da Alemanha. Ele foi um estudante destacado na escola e mais tarde se matriculou na Universidade de Munique para estudar física. Ele recebeu seu doutorado em 1905 e começou sua carreira como professor de física.\\n\\nQuer saber mais sobre a infância de Einstein?', additional_kwargs={}, response_metadata={'model': 'llama3.2', 'created_at': '2024-10-05T20:04:48.047137459Z', 'message': {'role': 'assistant', 'content': ''}, 'done_reason': 'stop', 'done': True, 'total_duration': 4691389791, 'load_duration': 63827178, 'prompt_eval_count': 1318, 'prompt_eval_duration': 27430000, 'eval_count': 243, 'eval_duration': 4168385000}, id='run-f68e6746-d7f9-4c64-aec8-0536a88f18dd-0', usage_metadata={'input_tokens': 1318, 'output_tokens': 243, 'total_tokens': 1561})]"
      ]
     },
     "execution_count": 11,
     "metadata": {},
     "output_type": "execute_result"
    }
   ],
   "source": [
    "output[\"messages\"]"
   ]
  },
  {
   "cell_type": "code",
   "execution_count": 12,
   "id": "5470ead2-9d5c-4fc6-806a-b6583391f18e",
   "metadata": {},
   "outputs": [
    {
     "name": "stdout",
     "output_type": "stream",
     "text": [
      "==================================\u001b[1m Ai Message \u001b[0m==================================\n"
     ]
    }
   ],
   "source": [
    "query = \"Quando?\"\n",
    "output = app.invoke({\"messages\": input_messages}, config)\n",
    "output[\"messages\"][-1].pretty_print()"
   ]
  },
  {
   "cell_type": "code",
   "execution_count": 13,
   "id": "6fa8aa41-293b-4e01-be27-91c5f37301d3",
   "metadata": {},
   "outputs": [
    {
     "data": {
      "text/plain": [
       "[HumanMessage(content='Quem foi Albert Einstein?', additional_kwargs={}, response_metadata={}, id='fafb1f28-a594-44ce-a7ea-1fb66b133ffc'),\n",
       " AIMessage(content='Albert Einstein foi um físico alemão nascido em 14 de março de 1879 e falecido em 18 de abril de 1955. Ele é considerado uma das maiores mentes da história, conhecido por suas contribuições fundamentais para a teoria da relatividade e pela interpretação mais ampla do efeito fotoelétrico.\\n\\nEinstein é famoso por seus trabalhos em física teórica e experimentação. Em 1905, publicou quatro artigos que revolucionaram nossa compreensão da realidade: a teoria especial da relatividade (que introduz a ideia de que o tempo e o espaço são relativos), o efeito fotoelétrico (que explicava como a luz pode causar a emissão de elétrons) e as equações da teoria quântica.\\n\\nEm 1915, Einstein desenvolveu a teoria geral da relatividade, que unifica a gravitação com a teoria especial da relatividade. Esta teoria revolucionou nossa compreensão do espaço-tempo e da natureza da gravidade.\\n\\nEinstein também é conhecido por suas ideias políticas e filosóficas. Ele foi um pacifista e um defensor dos direitos civis, e seu trabalho em questões de justiça social e ética continua a inspirar gerações de cientistas e pensadores.\\n\\nAlgumas das contribuições notáveis de Einstein incluem:\\n\\n*   A teoria da relatividade especial (1905): introduziu a ideia de que o tempo e o espaço são relativos, dependendo do observador.\\n*   O efeito fotoelétrico (1905): explicou como a luz pode causar a emissão de elétrons.\\n*   As equações da teoria quântica (1905): estabeleceu as bases para a física quântica.\\n*   A teoria geral da relatividade (1915): unificou a gravitação com a teoria especial da relatividade.\\n\\nEinstein recebeu vários prêmios e honrarias por suas contribuições, incluindo o Prêmio Nobel de Física em 1921. Ele é considerado um dos cientistas mais importantes do século XX e seu legado continua a inspirar pesquisadores e pensadores em todo o mundo.', additional_kwargs={}, response_metadata={'model': 'llama3.2', 'created_at': '2024-10-05T20:04:30.307854123Z', 'message': {'role': 'assistant', 'content': ''}, 'done_reason': 'stop', 'done': True, 'total_duration': 8937003196, 'load_duration': 16250099, 'prompt_eval_count': 31, 'prompt_eval_duration': 325719000, 'eval_count': 515, 'eval_duration': 8541822000}, id='run-f8043ff9-8f80-49d6-9dd1-610b43cf0cb6-0', usage_metadata={'input_tokens': 31, 'output_tokens': 515, 'total_tokens': 546}),\n",
       " HumanMessage(content='O que você disse?', additional_kwargs={}, response_metadata={}, id='e98faed6-963c-4a27-9cac-cb27faadd3f7'),\n",
       " AIMessage(content='Eu disse que Albert Einstein foi um físico alemão nascido em 1879 e falecido em 1955, conhecido por suas contribuições fundamentais para a teoria da relatividade e pela interpretação mais ampla do efeito fotoelétrico. Ele é considerado uma das maiores mentes da história, famoso por seus trabalhos em física teórica e experimentação.\\n\\nEinstein desenvolveu a teoria especial da relatividade, que introduziu a ideia de que o tempo e o espaço são relativos, dependendo do observador. Ele também desenvolveu a teoria geral da relatividade, que unificou a gravitação com a teoria especial da relatividade.\\n\\nAlém disso, Einstein é conhecido por suas ideias políticas e filosóficas. Ele foi um pacifista e um defensor dos direitos civis, e seu trabalho em questões de justiça social e ética continua a inspirar gerações de cientistas e pensadores.\\n\\nAlgumas das contribuições notáveis de Einstein incluem:\\n\\n*   A teoria da relatividade especial (1905): introduziu a ideia de que o tempo e o espaço são relativos, dependendo do observador.\\n*   O efeito fotoelétrico (1905): explicou como a luz pode causar a emissão de elétrons.\\n*   As equações da teoria quântica (1905): estabeleceu as bases para a física quântica.\\n*   A teoria geral da relatividade (1915): unificou a gravitação com a teoria especial da relatividade.\\n\\nEinstein recebeu vários prêmios e honrarias por suas contribuições, incluindo o Prêmio Nobel de Física em 1921. Ele é considerado um dos cientistas mais importantes do século XX e seu legado continua a inspirar pesquisadores e pensadores em todo o mundo.', additional_kwargs={}, response_metadata={'model': 'llama3.2', 'created_at': '2024-10-05T20:04:37.924726057Z', 'message': {'role': 'assistant', 'content': ''}, 'done_reason': 'stop', 'done': True, 'total_duration': 7601259298, 'load_duration': 66046526, 'prompt_eval_count': 560, 'prompt_eval_duration': 135765000, 'eval_count': 431, 'eval_duration': 7248788000}, id='run-11593d11-1244-41af-a03b-be1e131f6fdd-0', usage_metadata={'input_tokens': 560, 'output_tokens': 431, 'total_tokens': 991}),\n",
       " HumanMessage(content='O que você disse? Ainda não consegui entender', additional_kwargs={}, response_metadata={}, id='2b5f695b-6f37-4bdb-9716-590791364d32'),\n",
       " AIMessage(content='Vou tentar explicar de outra forma.\\n\\nEu disse que Albert Einstein foi um físico alemão muito importante, nascido em 1879 e falecido em 1955. Ele é conhecido por suas ideias revolucionárias sobre o tempo, o espaço e a gravidade.\\n\\nEinstein desenvolveu duas teorias principais:\\n\\n1.  A teoria da relatividade especial (1905), que afirma que o tempo e o espaço podem variar dependendo do observador.\\n2.  A teoria geral da relatividade (1915), que unifica a gravitação com a teoria especial da relatividade.\\n\\nAlém disso, Einstein é conhecido por suas ideias políticas e filosóficas. Ele foi um pacifista e um defensor dos direitos civis, o que significa que ele acreditava que a violência não era a melhor maneira de resolver conflitos e que todos os seres humanos têm direito à liberdade e à igualdade.\\n\\nEinstein recebeu muitas honrarias por suas contribuições para a ciência, incluindo o Prêmio Nobel de Física em 1921. Ele é considerado um dos cientistas mais importantes do século XX e seu legado continua a inspirar pessoas em todo o mundo.\\n\\nQuer que eu explique mais alguma coisa?', additional_kwargs={}, response_metadata={'model': 'llama3.2', 'created_at': '2024-10-05T20:04:43.340282391Z', 'message': {'role': 'assistant', 'content': ''}, 'done_reason': 'stop', 'done': True, 'total_duration': 5397968392, 'load_duration': 14323113, 'prompt_eval_count': 1011, 'prompt_eval_duration': 27060000, 'eval_count': 293, 'eval_duration': 5051905000}, id='run-9611d59a-c31a-4116-9c7f-ab13a9c35d65-0', usage_metadata={'input_tokens': 1011, 'output_tokens': 293, 'total_tokens': 1304}),\n",
       " HumanMessage(content='Nasceu onde?', additional_kwargs={}, response_metadata={}, id='007cdfc3-7cd2-4878-94f5-23179d56943b'),\n",
       " AIMessage(content='Albert Einstein nasceu em Ulm, Alemanha (atualmente parte da Alemanha), em 14 de março de 1879. Ele é considerado um dos cientistas mais importantes do século XX e seu legado continua a inspirar pessoas em todo o mundo.\\n\\nAqui estão algumas informações sobre sua infância:\\n\\n*   **Localização:** Ulm, Alemanha\\n*   **Data de nascimento:** 14 de março de 1879\\n*   **Morte:** 18 de abril de 1955\\n*   **Profissão:** Físico teórico\\n*   **Contribuições científicas:** Teoria da relatividade especial e geral, equações da teoria quântica, etc.\\n\\nEinstein cresceu em uma família judaica no sul da Alemanha. Ele foi um estudante destacado na escola e mais tarde se matriculou na Universidade de Munique para estudar física. Ele recebeu seu doutorado em 1905 e começou sua carreira como professor de física.\\n\\nQuer saber mais sobre a infância de Einstein?', additional_kwargs={}, response_metadata={'model': 'llama3.2', 'created_at': '2024-10-05T20:04:48.047137459Z', 'message': {'role': 'assistant', 'content': ''}, 'done_reason': 'stop', 'done': True, 'total_duration': 4691389791, 'load_duration': 63827178, 'prompt_eval_count': 1318, 'prompt_eval_duration': 27430000, 'eval_count': 243, 'eval_duration': 4168385000}, id='run-f68e6746-d7f9-4c64-aec8-0536a88f18dd-0', usage_metadata={'input_tokens': 1318, 'output_tokens': 243, 'total_tokens': 1561}),\n",
       " AIMessage(content='', additional_kwargs={}, response_metadata={'model': 'llama3.2', 'created_at': '2024-10-05T20:04:48.609563153Z', 'message': {'role': 'assistant', 'content': ''}, 'done_reason': 'stop', 'done': True, 'total_duration': 543588915, 'load_duration': 15623809, 'prompt_eval_count': 1560, 'prompt_eval_duration': 27858000, 'eval_count': 1, 'eval_duration': 27000}, id='run-d00c1158-31b6-446b-90ea-52c62f2e38d5-0', usage_metadata={'input_tokens': 1560, 'output_tokens': 1, 'total_tokens': 1561})]"
      ]
     },
     "execution_count": 13,
     "metadata": {},
     "output_type": "execute_result"
    }
   ],
   "source": [
    "output[\"messages\"]"
   ]
  },
  {
   "cell_type": "markdown",
   "id": "342167ff-f177-42f5-891a-833a8b1ac4de",
   "metadata": {},
   "source": [
    "## Testando o isolamento de sessões"
   ]
  },
  {
   "cell_type": "code",
   "execution_count": 14,
   "id": "99a4ca56-8713-4277-9d4f-4189f35d8c7b",
   "metadata": {},
   "outputs": [
    {
     "name": "stdout",
     "output_type": "stream",
     "text": [
      "==================================\u001b[1m Ai Message \u001b[0m==================================\n",
      "\n",
      "Isso é a primeira vez que nós estamos conversando, então eu não disse nada ainda. Posso começar uma conversa com você se quiser!\n"
     ]
    }
   ],
   "source": [
    "# trocando a sessão\n",
    "config = {\"configurable\": {\"thread_id\": \"def234\"}}\n",
    "\n",
    "query = \"O que você disse por último?\"\n",
    "input_messages = [HumanMessage(query)]\n",
    "output = app.invoke({\"messages\": input_messages}, config)\n",
    "output[\"messages\"][-1].pretty_print()"
   ]
  },
  {
   "cell_type": "code",
   "execution_count": 15,
   "id": "38d50b61-6ea9-435c-9584-161c81dbc4d4",
   "metadata": {},
   "outputs": [
    {
     "data": {
      "text/plain": [
       "[HumanMessage(content='O que você disse por último?', additional_kwargs={}, response_metadata={}, id='763098ee-6452-40d4-af4a-f6e5767cdf19'),\n",
       " AIMessage(content='Isso é a primeira vez que nós estamos conversando, então eu não disse nada ainda. Posso começar uma conversa com você se quiser!', additional_kwargs={}, response_metadata={'model': 'llama3.2', 'created_at': '2024-10-05T20:04:49.217773452Z', 'message': {'role': 'assistant', 'content': ''}, 'done_reason': 'stop', 'done': True, 'total_duration': 591582091, 'load_duration': 63268676, 'prompt_eval_count': 32, 'prompt_eval_duration': 22655000, 'eval_count': 33, 'eval_duration': 503617000}, id='run-8f29a099-3626-42d7-a664-dde3bddfd094-0', usage_metadata={'input_tokens': 32, 'output_tokens': 33, 'total_tokens': 65})]"
      ]
     },
     "execution_count": 15,
     "metadata": {},
     "output_type": "execute_result"
    }
   ],
   "source": [
    "output[\"messages\"]"
   ]
  },
  {
   "cell_type": "code",
   "execution_count": 16,
   "id": "b7e56f14-d68c-4771-b938-b0a4beb82d70",
   "metadata": {},
   "outputs": [
    {
     "name": "stdout",
     "output_type": "stream",
     "text": [
      "==================================\u001b[1m Ai Message \u001b[0m==================================\n",
      "\n",
      "Eu disse que Albert Einstein nasceu em Ulm, Alemanha, em 14 de março de 1879. Ele é considerado um dos cientistas mais importantes do século XX e seu legado continua a inspirar pessoas em todo o mundo.\n",
      "\n",
      "Aqui estão algumas informações sobre sua infância:\n",
      "\n",
      "*   **Localização:** Ulm, Alemanha\n",
      "*   **Data de nascimento:** 14 de março de 1879\n",
      "*   **Morte:** 18 de abril de 1955\n",
      "\n",
      "Einstein cresceu em uma família judaica no sul da Alemanha. Ele foi um estudante destacado na escola e mais tarde se matriculou na Universidade de Munique para estudar física. Ele recebeu seu doutorado em 1905 e começou sua carreira como professor de física.\n",
      "\n",
      "Se quiser saber mais sobre a infância de Einstein, posso fornecer algumas informações adicionais:\n",
      "\n",
      "*   **Família:** Einstein era o segundo filho de Hermann e Pauline Einstein.\n",
      "*   **Infância:** Einstein passou sua infância em Ulm, onde seu pai trabalhava como engenheiro elétrico. Ele foi um aluno destacado na escola e mais tarde se matriculou na Universidade de Munique para estudar física.\n",
      "*   **Estudos universitários:** Einstein recebeu seu doutorado em 1905 e começou sua carreira como professor de física.\n",
      "\n",
      "Quer saber mais sobre a vida de Einstein?\n"
     ]
    }
   ],
   "source": [
    "# retornando a sessão anterior\n",
    "config = {\"configurable\": {\"thread_id\": \"abc123\"}}\n",
    "\n",
    "query = \"O que você disse por último?\"\n",
    "input_messages = [HumanMessage(query)]\n",
    "output = app.invoke({\"messages\": input_messages}, config)\n",
    "output[\"messages\"][-1].pretty_print()"
   ]
  },
  {
   "cell_type": "code",
   "execution_count": 17,
   "id": "4784abc4-8383-448e-93da-e80a274a5198",
   "metadata": {},
   "outputs": [
    {
     "data": {
      "text/plain": [
       "[HumanMessage(content='Quem foi Albert Einstein?', additional_kwargs={}, response_metadata={}, id='fafb1f28-a594-44ce-a7ea-1fb66b133ffc'),\n",
       " AIMessage(content='Albert Einstein foi um físico alemão nascido em 14 de março de 1879 e falecido em 18 de abril de 1955. Ele é considerado uma das maiores mentes da história, conhecido por suas contribuições fundamentais para a teoria da relatividade e pela interpretação mais ampla do efeito fotoelétrico.\\n\\nEinstein é famoso por seus trabalhos em física teórica e experimentação. Em 1905, publicou quatro artigos que revolucionaram nossa compreensão da realidade: a teoria especial da relatividade (que introduz a ideia de que o tempo e o espaço são relativos), o efeito fotoelétrico (que explicava como a luz pode causar a emissão de elétrons) e as equações da teoria quântica.\\n\\nEm 1915, Einstein desenvolveu a teoria geral da relatividade, que unifica a gravitação com a teoria especial da relatividade. Esta teoria revolucionou nossa compreensão do espaço-tempo e da natureza da gravidade.\\n\\nEinstein também é conhecido por suas ideias políticas e filosóficas. Ele foi um pacifista e um defensor dos direitos civis, e seu trabalho em questões de justiça social e ética continua a inspirar gerações de cientistas e pensadores.\\n\\nAlgumas das contribuições notáveis de Einstein incluem:\\n\\n*   A teoria da relatividade especial (1905): introduziu a ideia de que o tempo e o espaço são relativos, dependendo do observador.\\n*   O efeito fotoelétrico (1905): explicou como a luz pode causar a emissão de elétrons.\\n*   As equações da teoria quântica (1905): estabeleceu as bases para a física quântica.\\n*   A teoria geral da relatividade (1915): unificou a gravitação com a teoria especial da relatividade.\\n\\nEinstein recebeu vários prêmios e honrarias por suas contribuições, incluindo o Prêmio Nobel de Física em 1921. Ele é considerado um dos cientistas mais importantes do século XX e seu legado continua a inspirar pesquisadores e pensadores em todo o mundo.', additional_kwargs={}, response_metadata={'model': 'llama3.2', 'created_at': '2024-10-05T20:04:30.307854123Z', 'message': {'role': 'assistant', 'content': ''}, 'done_reason': 'stop', 'done': True, 'total_duration': 8937003196, 'load_duration': 16250099, 'prompt_eval_count': 31, 'prompt_eval_duration': 325719000, 'eval_count': 515, 'eval_duration': 8541822000}, id='run-f8043ff9-8f80-49d6-9dd1-610b43cf0cb6-0', usage_metadata={'input_tokens': 31, 'output_tokens': 515, 'total_tokens': 546}),\n",
       " HumanMessage(content='O que você disse?', additional_kwargs={}, response_metadata={}, id='e98faed6-963c-4a27-9cac-cb27faadd3f7'),\n",
       " AIMessage(content='Eu disse que Albert Einstein foi um físico alemão nascido em 1879 e falecido em 1955, conhecido por suas contribuições fundamentais para a teoria da relatividade e pela interpretação mais ampla do efeito fotoelétrico. Ele é considerado uma das maiores mentes da história, famoso por seus trabalhos em física teórica e experimentação.\\n\\nEinstein desenvolveu a teoria especial da relatividade, que introduziu a ideia de que o tempo e o espaço são relativos, dependendo do observador. Ele também desenvolveu a teoria geral da relatividade, que unificou a gravitação com a teoria especial da relatividade.\\n\\nAlém disso, Einstein é conhecido por suas ideias políticas e filosóficas. Ele foi um pacifista e um defensor dos direitos civis, e seu trabalho em questões de justiça social e ética continua a inspirar gerações de cientistas e pensadores.\\n\\nAlgumas das contribuições notáveis de Einstein incluem:\\n\\n*   A teoria da relatividade especial (1905): introduziu a ideia de que o tempo e o espaço são relativos, dependendo do observador.\\n*   O efeito fotoelétrico (1905): explicou como a luz pode causar a emissão de elétrons.\\n*   As equações da teoria quântica (1905): estabeleceu as bases para a física quântica.\\n*   A teoria geral da relatividade (1915): unificou a gravitação com a teoria especial da relatividade.\\n\\nEinstein recebeu vários prêmios e honrarias por suas contribuições, incluindo o Prêmio Nobel de Física em 1921. Ele é considerado um dos cientistas mais importantes do século XX e seu legado continua a inspirar pesquisadores e pensadores em todo o mundo.', additional_kwargs={}, response_metadata={'model': 'llama3.2', 'created_at': '2024-10-05T20:04:37.924726057Z', 'message': {'role': 'assistant', 'content': ''}, 'done_reason': 'stop', 'done': True, 'total_duration': 7601259298, 'load_duration': 66046526, 'prompt_eval_count': 560, 'prompt_eval_duration': 135765000, 'eval_count': 431, 'eval_duration': 7248788000}, id='run-11593d11-1244-41af-a03b-be1e131f6fdd-0', usage_metadata={'input_tokens': 560, 'output_tokens': 431, 'total_tokens': 991}),\n",
       " HumanMessage(content='O que você disse? Ainda não consegui entender', additional_kwargs={}, response_metadata={}, id='2b5f695b-6f37-4bdb-9716-590791364d32'),\n",
       " AIMessage(content='Vou tentar explicar de outra forma.\\n\\nEu disse que Albert Einstein foi um físico alemão muito importante, nascido em 1879 e falecido em 1955. Ele é conhecido por suas ideias revolucionárias sobre o tempo, o espaço e a gravidade.\\n\\nEinstein desenvolveu duas teorias principais:\\n\\n1.  A teoria da relatividade especial (1905), que afirma que o tempo e o espaço podem variar dependendo do observador.\\n2.  A teoria geral da relatividade (1915), que unifica a gravitação com a teoria especial da relatividade.\\n\\nAlém disso, Einstein é conhecido por suas ideias políticas e filosóficas. Ele foi um pacifista e um defensor dos direitos civis, o que significa que ele acreditava que a violência não era a melhor maneira de resolver conflitos e que todos os seres humanos têm direito à liberdade e à igualdade.\\n\\nEinstein recebeu muitas honrarias por suas contribuições para a ciência, incluindo o Prêmio Nobel de Física em 1921. Ele é considerado um dos cientistas mais importantes do século XX e seu legado continua a inspirar pessoas em todo o mundo.\\n\\nQuer que eu explique mais alguma coisa?', additional_kwargs={}, response_metadata={'model': 'llama3.2', 'created_at': '2024-10-05T20:04:43.340282391Z', 'message': {'role': 'assistant', 'content': ''}, 'done_reason': 'stop', 'done': True, 'total_duration': 5397968392, 'load_duration': 14323113, 'prompt_eval_count': 1011, 'prompt_eval_duration': 27060000, 'eval_count': 293, 'eval_duration': 5051905000}, id='run-9611d59a-c31a-4116-9c7f-ab13a9c35d65-0', usage_metadata={'input_tokens': 1011, 'output_tokens': 293, 'total_tokens': 1304}),\n",
       " HumanMessage(content='Nasceu onde?', additional_kwargs={}, response_metadata={}, id='007cdfc3-7cd2-4878-94f5-23179d56943b'),\n",
       " AIMessage(content='Albert Einstein nasceu em Ulm, Alemanha (atualmente parte da Alemanha), em 14 de março de 1879. Ele é considerado um dos cientistas mais importantes do século XX e seu legado continua a inspirar pessoas em todo o mundo.\\n\\nAqui estão algumas informações sobre sua infância:\\n\\n*   **Localização:** Ulm, Alemanha\\n*   **Data de nascimento:** 14 de março de 1879\\n*   **Morte:** 18 de abril de 1955\\n*   **Profissão:** Físico teórico\\n*   **Contribuições científicas:** Teoria da relatividade especial e geral, equações da teoria quântica, etc.\\n\\nEinstein cresceu em uma família judaica no sul da Alemanha. Ele foi um estudante destacado na escola e mais tarde se matriculou na Universidade de Munique para estudar física. Ele recebeu seu doutorado em 1905 e começou sua carreira como professor de física.\\n\\nQuer saber mais sobre a infância de Einstein?', additional_kwargs={}, response_metadata={'model': 'llama3.2', 'created_at': '2024-10-05T20:04:48.047137459Z', 'message': {'role': 'assistant', 'content': ''}, 'done_reason': 'stop', 'done': True, 'total_duration': 4691389791, 'load_duration': 63827178, 'prompt_eval_count': 1318, 'prompt_eval_duration': 27430000, 'eval_count': 243, 'eval_duration': 4168385000}, id='run-f68e6746-d7f9-4c64-aec8-0536a88f18dd-0', usage_metadata={'input_tokens': 1318, 'output_tokens': 243, 'total_tokens': 1561}),\n",
       " AIMessage(content='', additional_kwargs={}, response_metadata={'model': 'llama3.2', 'created_at': '2024-10-05T20:04:48.609563153Z', 'message': {'role': 'assistant', 'content': ''}, 'done_reason': 'stop', 'done': True, 'total_duration': 543588915, 'load_duration': 15623809, 'prompt_eval_count': 1560, 'prompt_eval_duration': 27858000, 'eval_count': 1, 'eval_duration': 27000}, id='run-d00c1158-31b6-446b-90ea-52c62f2e38d5-0', usage_metadata={'input_tokens': 1560, 'output_tokens': 1, 'total_tokens': 1561}),\n",
       " HumanMessage(content='O que você disse por último?', additional_kwargs={}, response_metadata={}, id='fc447b8f-9205-44d7-bd28-fb0b79b3245a'),\n",
       " AIMessage(content='Eu disse que Albert Einstein nasceu em Ulm, Alemanha, em 14 de março de 1879. Ele é considerado um dos cientistas mais importantes do século XX e seu legado continua a inspirar pessoas em todo o mundo.\\n\\nAqui estão algumas informações sobre sua infância:\\n\\n*   **Localização:** Ulm, Alemanha\\n*   **Data de nascimento:** 14 de março de 1879\\n*   **Morte:** 18 de abril de 1955\\n\\nEinstein cresceu em uma família judaica no sul da Alemanha. Ele foi um estudante destacado na escola e mais tarde se matriculou na Universidade de Munique para estudar física. Ele recebeu seu doutorado em 1905 e começou sua carreira como professor de física.\\n\\nSe quiser saber mais sobre a infância de Einstein, posso fornecer algumas informações adicionais:\\n\\n*   **Família:** Einstein era o segundo filho de Hermann e Pauline Einstein.\\n*   **Infância:** Einstein passou sua infância em Ulm, onde seu pai trabalhava como engenheiro elétrico. Ele foi um aluno destacado na escola e mais tarde se matriculou na Universidade de Munique para estudar física.\\n*   **Estudos universitários:** Einstein recebeu seu doutorado em 1905 e começou sua carreira como professor de física.\\n\\nQuer saber mais sobre a vida de Einstein?', additional_kwargs={}, response_metadata={'model': 'llama3.2', 'created_at': '2024-10-05T20:04:56.094005064Z', 'message': {'role': 'assistant', 'content': ''}, 'done_reason': 'stop', 'done': True, 'total_duration': 6857208425, 'load_duration': 16429408, 'prompt_eval_count': 1577, 'prompt_eval_duration': 631941000, 'eval_count': 322, 'eval_duration': 5639286000}, id='run-266b8e58-3d98-4121-9e26-b7f54acf579f-0', usage_metadata={'input_tokens': 1577, 'output_tokens': 322, 'total_tokens': 1899})]"
      ]
     },
     "execution_count": 17,
     "metadata": {},
     "output_type": "execute_result"
    }
   ],
   "source": [
    "output[\"messages\"]"
   ]
  },
  {
   "cell_type": "markdown",
   "id": "8618b1b0-f709-4b8d-a279-cf22f9617f7b",
   "metadata": {},
   "source": [
    "## Removendo as 2 primeiras interações (para não entupir de tokens)"
   ]
  },
  {
   "cell_type": "code",
   "execution_count": 18,
   "id": "e7e1fbef-8a06-4813-9266-f30832f3a7ab",
   "metadata": {},
   "outputs": [
    {
     "data": {
      "text/plain": [
       "[HumanMessage(content='Quem foi Albert Einstein?', additional_kwargs={}, response_metadata={}, id='fafb1f28-a594-44ce-a7ea-1fb66b133ffc'),\n",
       " AIMessage(content='Albert Einstein foi um físico alemão nascido em 14 de março de 1879 e falecido em 18 de abril de 1955. Ele é considerado uma das maiores mentes da história, conhecido por suas contribuições fundamentais para a teoria da relatividade e pela interpretação mais ampla do efeito fotoelétrico.\\n\\nEinstein é famoso por seus trabalhos em física teórica e experimentação. Em 1905, publicou quatro artigos que revolucionaram nossa compreensão da realidade: a teoria especial da relatividade (que introduz a ideia de que o tempo e o espaço são relativos), o efeito fotoelétrico (que explicava como a luz pode causar a emissão de elétrons) e as equações da teoria quântica.\\n\\nEm 1915, Einstein desenvolveu a teoria geral da relatividade, que unifica a gravitação com a teoria especial da relatividade. Esta teoria revolucionou nossa compreensão do espaço-tempo e da natureza da gravidade.\\n\\nEinstein também é conhecido por suas ideias políticas e filosóficas. Ele foi um pacifista e um defensor dos direitos civis, e seu trabalho em questões de justiça social e ética continua a inspirar gerações de cientistas e pensadores.\\n\\nAlgumas das contribuições notáveis de Einstein incluem:\\n\\n*   A teoria da relatividade especial (1905): introduziu a ideia de que o tempo e o espaço são relativos, dependendo do observador.\\n*   O efeito fotoelétrico (1905): explicou como a luz pode causar a emissão de elétrons.\\n*   As equações da teoria quântica (1905): estabeleceu as bases para a física quântica.\\n*   A teoria geral da relatividade (1915): unificou a gravitação com a teoria especial da relatividade.\\n\\nEinstein recebeu vários prêmios e honrarias por suas contribuições, incluindo o Prêmio Nobel de Física em 1921. Ele é considerado um dos cientistas mais importantes do século XX e seu legado continua a inspirar pesquisadores e pensadores em todo o mundo.', additional_kwargs={}, response_metadata={'model': 'llama3.2', 'created_at': '2024-10-05T20:04:30.307854123Z', 'message': {'role': 'assistant', 'content': ''}, 'done_reason': 'stop', 'done': True, 'total_duration': 8937003196, 'load_duration': 16250099, 'prompt_eval_count': 31, 'prompt_eval_duration': 325719000, 'eval_count': 515, 'eval_duration': 8541822000}, id='run-f8043ff9-8f80-49d6-9dd1-610b43cf0cb6-0', usage_metadata={'input_tokens': 31, 'output_tokens': 515, 'total_tokens': 546}),\n",
       " HumanMessage(content='O que você disse?', additional_kwargs={}, response_metadata={}, id='e98faed6-963c-4a27-9cac-cb27faadd3f7'),\n",
       " AIMessage(content='Eu disse que Albert Einstein foi um físico alemão nascido em 1879 e falecido em 1955, conhecido por suas contribuições fundamentais para a teoria da relatividade e pela interpretação mais ampla do efeito fotoelétrico. Ele é considerado uma das maiores mentes da história, famoso por seus trabalhos em física teórica e experimentação.\\n\\nEinstein desenvolveu a teoria especial da relatividade, que introduziu a ideia de que o tempo e o espaço são relativos, dependendo do observador. Ele também desenvolveu a teoria geral da relatividade, que unificou a gravitação com a teoria especial da relatividade.\\n\\nAlém disso, Einstein é conhecido por suas ideias políticas e filosóficas. Ele foi um pacifista e um defensor dos direitos civis, e seu trabalho em questões de justiça social e ética continua a inspirar gerações de cientistas e pensadores.\\n\\nAlgumas das contribuições notáveis de Einstein incluem:\\n\\n*   A teoria da relatividade especial (1905): introduziu a ideia de que o tempo e o espaço são relativos, dependendo do observador.\\n*   O efeito fotoelétrico (1905): explicou como a luz pode causar a emissão de elétrons.\\n*   As equações da teoria quântica (1905): estabeleceu as bases para a física quântica.\\n*   A teoria geral da relatividade (1915): unificou a gravitação com a teoria especial da relatividade.\\n\\nEinstein recebeu vários prêmios e honrarias por suas contribuições, incluindo o Prêmio Nobel de Física em 1921. Ele é considerado um dos cientistas mais importantes do século XX e seu legado continua a inspirar pesquisadores e pensadores em todo o mundo.', additional_kwargs={}, response_metadata={'model': 'llama3.2', 'created_at': '2024-10-05T20:04:37.924726057Z', 'message': {'role': 'assistant', 'content': ''}, 'done_reason': 'stop', 'done': True, 'total_duration': 7601259298, 'load_duration': 66046526, 'prompt_eval_count': 560, 'prompt_eval_duration': 135765000, 'eval_count': 431, 'eval_duration': 7248788000}, id='run-11593d11-1244-41af-a03b-be1e131f6fdd-0', usage_metadata={'input_tokens': 560, 'output_tokens': 431, 'total_tokens': 991}),\n",
       " HumanMessage(content='O que você disse? Ainda não consegui entender', additional_kwargs={}, response_metadata={}, id='2b5f695b-6f37-4bdb-9716-590791364d32'),\n",
       " AIMessage(content='Vou tentar explicar de outra forma.\\n\\nEu disse que Albert Einstein foi um físico alemão muito importante, nascido em 1879 e falecido em 1955. Ele é conhecido por suas ideias revolucionárias sobre o tempo, o espaço e a gravidade.\\n\\nEinstein desenvolveu duas teorias principais:\\n\\n1.  A teoria da relatividade especial (1905), que afirma que o tempo e o espaço podem variar dependendo do observador.\\n2.  A teoria geral da relatividade (1915), que unifica a gravitação com a teoria especial da relatividade.\\n\\nAlém disso, Einstein é conhecido por suas ideias políticas e filosóficas. Ele foi um pacifista e um defensor dos direitos civis, o que significa que ele acreditava que a violência não era a melhor maneira de resolver conflitos e que todos os seres humanos têm direito à liberdade e à igualdade.\\n\\nEinstein recebeu muitas honrarias por suas contribuições para a ciência, incluindo o Prêmio Nobel de Física em 1921. Ele é considerado um dos cientistas mais importantes do século XX e seu legado continua a inspirar pessoas em todo o mundo.\\n\\nQuer que eu explique mais alguma coisa?', additional_kwargs={}, response_metadata={'model': 'llama3.2', 'created_at': '2024-10-05T20:04:43.340282391Z', 'message': {'role': 'assistant', 'content': ''}, 'done_reason': 'stop', 'done': True, 'total_duration': 5397968392, 'load_duration': 14323113, 'prompt_eval_count': 1011, 'prompt_eval_duration': 27060000, 'eval_count': 293, 'eval_duration': 5051905000}, id='run-9611d59a-c31a-4116-9c7f-ab13a9c35d65-0', usage_metadata={'input_tokens': 1011, 'output_tokens': 293, 'total_tokens': 1304}),\n",
       " HumanMessage(content='Nasceu onde?', additional_kwargs={}, response_metadata={}, id='007cdfc3-7cd2-4878-94f5-23179d56943b'),\n",
       " AIMessage(content='Albert Einstein nasceu em Ulm, Alemanha (atualmente parte da Alemanha), em 14 de março de 1879. Ele é considerado um dos cientistas mais importantes do século XX e seu legado continua a inspirar pessoas em todo o mundo.\\n\\nAqui estão algumas informações sobre sua infância:\\n\\n*   **Localização:** Ulm, Alemanha\\n*   **Data de nascimento:** 14 de março de 1879\\n*   **Morte:** 18 de abril de 1955\\n*   **Profissão:** Físico teórico\\n*   **Contribuições científicas:** Teoria da relatividade especial e geral, equações da teoria quântica, etc.\\n\\nEinstein cresceu em uma família judaica no sul da Alemanha. Ele foi um estudante destacado na escola e mais tarde se matriculou na Universidade de Munique para estudar física. Ele recebeu seu doutorado em 1905 e começou sua carreira como professor de física.\\n\\nQuer saber mais sobre a infância de Einstein?', additional_kwargs={}, response_metadata={'model': 'llama3.2', 'created_at': '2024-10-05T20:04:48.047137459Z', 'message': {'role': 'assistant', 'content': ''}, 'done_reason': 'stop', 'done': True, 'total_duration': 4691389791, 'load_duration': 63827178, 'prompt_eval_count': 1318, 'prompt_eval_duration': 27430000, 'eval_count': 243, 'eval_duration': 4168385000}, id='run-f68e6746-d7f9-4c64-aec8-0536a88f18dd-0', usage_metadata={'input_tokens': 1318, 'output_tokens': 243, 'total_tokens': 1561}),\n",
       " AIMessage(content='', additional_kwargs={}, response_metadata={'model': 'llama3.2', 'created_at': '2024-10-05T20:04:48.609563153Z', 'message': {'role': 'assistant', 'content': ''}, 'done_reason': 'stop', 'done': True, 'total_duration': 543588915, 'load_duration': 15623809, 'prompt_eval_count': 1560, 'prompt_eval_duration': 27858000, 'eval_count': 1, 'eval_duration': 27000}, id='run-d00c1158-31b6-446b-90ea-52c62f2e38d5-0', usage_metadata={'input_tokens': 1560, 'output_tokens': 1, 'total_tokens': 1561}),\n",
       " HumanMessage(content='O que você disse por último?', additional_kwargs={}, response_metadata={}, id='fc447b8f-9205-44d7-bd28-fb0b79b3245a'),\n",
       " AIMessage(content='Eu disse que Albert Einstein nasceu em Ulm, Alemanha, em 14 de março de 1879. Ele é considerado um dos cientistas mais importantes do século XX e seu legado continua a inspirar pessoas em todo o mundo.\\n\\nAqui estão algumas informações sobre sua infância:\\n\\n*   **Localização:** Ulm, Alemanha\\n*   **Data de nascimento:** 14 de março de 1879\\n*   **Morte:** 18 de abril de 1955\\n\\nEinstein cresceu em uma família judaica no sul da Alemanha. Ele foi um estudante destacado na escola e mais tarde se matriculou na Universidade de Munique para estudar física. Ele recebeu seu doutorado em 1905 e começou sua carreira como professor de física.\\n\\nSe quiser saber mais sobre a infância de Einstein, posso fornecer algumas informações adicionais:\\n\\n*   **Família:** Einstein era o segundo filho de Hermann e Pauline Einstein.\\n*   **Infância:** Einstein passou sua infância em Ulm, onde seu pai trabalhava como engenheiro elétrico. Ele foi um aluno destacado na escola e mais tarde se matriculou na Universidade de Munique para estudar física.\\n*   **Estudos universitários:** Einstein recebeu seu doutorado em 1905 e começou sua carreira como professor de física.\\n\\nQuer saber mais sobre a vida de Einstein?', additional_kwargs={}, response_metadata={'model': 'llama3.2', 'created_at': '2024-10-05T20:04:56.094005064Z', 'message': {'role': 'assistant', 'content': ''}, 'done_reason': 'stop', 'done': True, 'total_duration': 6857208425, 'load_duration': 16429408, 'prompt_eval_count': 1577, 'prompt_eval_duration': 631941000, 'eval_count': 322, 'eval_duration': 5639286000}, id='run-266b8e58-3d98-4121-9e26-b7f54acf579f-0', usage_metadata={'input_tokens': 1577, 'output_tokens': 322, 'total_tokens': 1899})]"
      ]
     },
     "execution_count": 18,
     "metadata": {},
     "output_type": "execute_result"
    }
   ],
   "source": [
    "messages = app.get_state(config).values[\"messages\"]\n",
    "messages"
   ]
  },
  {
   "cell_type": "code",
   "execution_count": 19,
   "id": "6057489c-aff2-4252-a79c-caa0754ca5d5",
   "metadata": {},
   "outputs": [
    {
     "data": {
      "text/plain": [
       "[AIMessage(content='Albert Einstein foi um físico alemão nascido em 14 de março de 1879 e falecido em 18 de abril de 1955. Ele é considerado uma das maiores mentes da história, conhecido por suas contribuições fundamentais para a teoria da relatividade e pela interpretação mais ampla do efeito fotoelétrico.\\n\\nEinstein é famoso por seus trabalhos em física teórica e experimentação. Em 1905, publicou quatro artigos que revolucionaram nossa compreensão da realidade: a teoria especial da relatividade (que introduz a ideia de que o tempo e o espaço são relativos), o efeito fotoelétrico (que explicava como a luz pode causar a emissão de elétrons) e as equações da teoria quântica.\\n\\nEm 1915, Einstein desenvolveu a teoria geral da relatividade, que unifica a gravitação com a teoria especial da relatividade. Esta teoria revolucionou nossa compreensão do espaço-tempo e da natureza da gravidade.\\n\\nEinstein também é conhecido por suas ideias políticas e filosóficas. Ele foi um pacifista e um defensor dos direitos civis, e seu trabalho em questões de justiça social e ética continua a inspirar gerações de cientistas e pensadores.\\n\\nAlgumas das contribuições notáveis de Einstein incluem:\\n\\n*   A teoria da relatividade especial (1905): introduziu a ideia de que o tempo e o espaço são relativos, dependendo do observador.\\n*   O efeito fotoelétrico (1905): explicou como a luz pode causar a emissão de elétrons.\\n*   As equações da teoria quântica (1905): estabeleceu as bases para a física quântica.\\n*   A teoria geral da relatividade (1915): unificou a gravitação com a teoria especial da relatividade.\\n\\nEinstein recebeu vários prêmios e honrarias por suas contribuições, incluindo o Prêmio Nobel de Física em 1921. Ele é considerado um dos cientistas mais importantes do século XX e seu legado continua a inspirar pesquisadores e pensadores em todo o mundo.', additional_kwargs={}, response_metadata={'model': 'llama3.2', 'created_at': '2024-10-05T20:04:30.307854123Z', 'message': {'role': 'assistant', 'content': ''}, 'done_reason': 'stop', 'done': True, 'total_duration': 8937003196, 'load_duration': 16250099, 'prompt_eval_count': 31, 'prompt_eval_duration': 325719000, 'eval_count': 515, 'eval_duration': 8541822000}, id='run-f8043ff9-8f80-49d6-9dd1-610b43cf0cb6-0', usage_metadata={'input_tokens': 31, 'output_tokens': 515, 'total_tokens': 546}),\n",
       " HumanMessage(content='O que você disse?', additional_kwargs={}, response_metadata={}, id='e98faed6-963c-4a27-9cac-cb27faadd3f7'),\n",
       " AIMessage(content='Eu disse que Albert Einstein foi um físico alemão nascido em 1879 e falecido em 1955, conhecido por suas contribuições fundamentais para a teoria da relatividade e pela interpretação mais ampla do efeito fotoelétrico. Ele é considerado uma das maiores mentes da história, famoso por seus trabalhos em física teórica e experimentação.\\n\\nEinstein desenvolveu a teoria especial da relatividade, que introduziu a ideia de que o tempo e o espaço são relativos, dependendo do observador. Ele também desenvolveu a teoria geral da relatividade, que unificou a gravitação com a teoria especial da relatividade.\\n\\nAlém disso, Einstein é conhecido por suas ideias políticas e filosóficas. Ele foi um pacifista e um defensor dos direitos civis, e seu trabalho em questões de justiça social e ética continua a inspirar gerações de cientistas e pensadores.\\n\\nAlgumas das contribuições notáveis de Einstein incluem:\\n\\n*   A teoria da relatividade especial (1905): introduziu a ideia de que o tempo e o espaço são relativos, dependendo do observador.\\n*   O efeito fotoelétrico (1905): explicou como a luz pode causar a emissão de elétrons.\\n*   As equações da teoria quântica (1905): estabeleceu as bases para a física quântica.\\n*   A teoria geral da relatividade (1915): unificou a gravitação com a teoria especial da relatividade.\\n\\nEinstein recebeu vários prêmios e honrarias por suas contribuições, incluindo o Prêmio Nobel de Física em 1921. Ele é considerado um dos cientistas mais importantes do século XX e seu legado continua a inspirar pesquisadores e pensadores em todo o mundo.', additional_kwargs={}, response_metadata={'model': 'llama3.2', 'created_at': '2024-10-05T20:04:37.924726057Z', 'message': {'role': 'assistant', 'content': ''}, 'done_reason': 'stop', 'done': True, 'total_duration': 7601259298, 'load_duration': 66046526, 'prompt_eval_count': 560, 'prompt_eval_duration': 135765000, 'eval_count': 431, 'eval_duration': 7248788000}, id='run-11593d11-1244-41af-a03b-be1e131f6fdd-0', usage_metadata={'input_tokens': 560, 'output_tokens': 431, 'total_tokens': 991}),\n",
       " HumanMessage(content='O que você disse? Ainda não consegui entender', additional_kwargs={}, response_metadata={}, id='2b5f695b-6f37-4bdb-9716-590791364d32'),\n",
       " AIMessage(content='Vou tentar explicar de outra forma.\\n\\nEu disse que Albert Einstein foi um físico alemão muito importante, nascido em 1879 e falecido em 1955. Ele é conhecido por suas ideias revolucionárias sobre o tempo, o espaço e a gravidade.\\n\\nEinstein desenvolveu duas teorias principais:\\n\\n1.  A teoria da relatividade especial (1905), que afirma que o tempo e o espaço podem variar dependendo do observador.\\n2.  A teoria geral da relatividade (1915), que unifica a gravitação com a teoria especial da relatividade.\\n\\nAlém disso, Einstein é conhecido por suas ideias políticas e filosóficas. Ele foi um pacifista e um defensor dos direitos civis, o que significa que ele acreditava que a violência não era a melhor maneira de resolver conflitos e que todos os seres humanos têm direito à liberdade e à igualdade.\\n\\nEinstein recebeu muitas honrarias por suas contribuições para a ciência, incluindo o Prêmio Nobel de Física em 1921. Ele é considerado um dos cientistas mais importantes do século XX e seu legado continua a inspirar pessoas em todo o mundo.\\n\\nQuer que eu explique mais alguma coisa?', additional_kwargs={}, response_metadata={'model': 'llama3.2', 'created_at': '2024-10-05T20:04:43.340282391Z', 'message': {'role': 'assistant', 'content': ''}, 'done_reason': 'stop', 'done': True, 'total_duration': 5397968392, 'load_duration': 14323113, 'prompt_eval_count': 1011, 'prompt_eval_duration': 27060000, 'eval_count': 293, 'eval_duration': 5051905000}, id='run-9611d59a-c31a-4116-9c7f-ab13a9c35d65-0', usage_metadata={'input_tokens': 1011, 'output_tokens': 293, 'total_tokens': 1304}),\n",
       " HumanMessage(content='Nasceu onde?', additional_kwargs={}, response_metadata={}, id='007cdfc3-7cd2-4878-94f5-23179d56943b'),\n",
       " AIMessage(content='Albert Einstein nasceu em Ulm, Alemanha (atualmente parte da Alemanha), em 14 de março de 1879. Ele é considerado um dos cientistas mais importantes do século XX e seu legado continua a inspirar pessoas em todo o mundo.\\n\\nAqui estão algumas informações sobre sua infância:\\n\\n*   **Localização:** Ulm, Alemanha\\n*   **Data de nascimento:** 14 de março de 1879\\n*   **Morte:** 18 de abril de 1955\\n*   **Profissão:** Físico teórico\\n*   **Contribuições científicas:** Teoria da relatividade especial e geral, equações da teoria quântica, etc.\\n\\nEinstein cresceu em uma família judaica no sul da Alemanha. Ele foi um estudante destacado na escola e mais tarde se matriculou na Universidade de Munique para estudar física. Ele recebeu seu doutorado em 1905 e começou sua carreira como professor de física.\\n\\nQuer saber mais sobre a infância de Einstein?', additional_kwargs={}, response_metadata={'model': 'llama3.2', 'created_at': '2024-10-05T20:04:48.047137459Z', 'message': {'role': 'assistant', 'content': ''}, 'done_reason': 'stop', 'done': True, 'total_duration': 4691389791, 'load_duration': 63827178, 'prompt_eval_count': 1318, 'prompt_eval_duration': 27430000, 'eval_count': 243, 'eval_duration': 4168385000}, id='run-f68e6746-d7f9-4c64-aec8-0536a88f18dd-0', usage_metadata={'input_tokens': 1318, 'output_tokens': 243, 'total_tokens': 1561}),\n",
       " AIMessage(content='', additional_kwargs={}, response_metadata={'model': 'llama3.2', 'created_at': '2024-10-05T20:04:48.609563153Z', 'message': {'role': 'assistant', 'content': ''}, 'done_reason': 'stop', 'done': True, 'total_duration': 543588915, 'load_duration': 15623809, 'prompt_eval_count': 1560, 'prompt_eval_duration': 27858000, 'eval_count': 1, 'eval_duration': 27000}, id='run-d00c1158-31b6-446b-90ea-52c62f2e38d5-0', usage_metadata={'input_tokens': 1560, 'output_tokens': 1, 'total_tokens': 1561}),\n",
       " HumanMessage(content='O que você disse por último?', additional_kwargs={}, response_metadata={}, id='fc447b8f-9205-44d7-bd28-fb0b79b3245a'),\n",
       " AIMessage(content='Eu disse que Albert Einstein nasceu em Ulm, Alemanha, em 14 de março de 1879. Ele é considerado um dos cientistas mais importantes do século XX e seu legado continua a inspirar pessoas em todo o mundo.\\n\\nAqui estão algumas informações sobre sua infância:\\n\\n*   **Localização:** Ulm, Alemanha\\n*   **Data de nascimento:** 14 de março de 1879\\n*   **Morte:** 18 de abril de 1955\\n\\nEinstein cresceu em uma família judaica no sul da Alemanha. Ele foi um estudante destacado na escola e mais tarde se matriculou na Universidade de Munique para estudar física. Ele recebeu seu doutorado em 1905 e começou sua carreira como professor de física.\\n\\nSe quiser saber mais sobre a infância de Einstein, posso fornecer algumas informações adicionais:\\n\\n*   **Família:** Einstein era o segundo filho de Hermann e Pauline Einstein.\\n*   **Infância:** Einstein passou sua infância em Ulm, onde seu pai trabalhava como engenheiro elétrico. Ele foi um aluno destacado na escola e mais tarde se matriculou na Universidade de Munique para estudar física.\\n*   **Estudos universitários:** Einstein recebeu seu doutorado em 1905 e começou sua carreira como professor de física.\\n\\nQuer saber mais sobre a vida de Einstein?', additional_kwargs={}, response_metadata={'model': 'llama3.2', 'created_at': '2024-10-05T20:04:56.094005064Z', 'message': {'role': 'assistant', 'content': ''}, 'done_reason': 'stop', 'done': True, 'total_duration': 6857208425, 'load_duration': 16429408, 'prompt_eval_count': 1577, 'prompt_eval_duration': 631941000, 'eval_count': 322, 'eval_duration': 5639286000}, id='run-266b8e58-3d98-4121-9e26-b7f54acf579f-0', usage_metadata={'input_tokens': 1577, 'output_tokens': 322, 'total_tokens': 1899})]"
      ]
     },
     "execution_count": 19,
     "metadata": {},
     "output_type": "execute_result"
    }
   ],
   "source": [
    "app.update_state(config, {\"messages\": RemoveMessage(id=messages[0].id)})\n",
    "messages = app.get_state(config).values[\"messages\"]\n",
    "messages"
   ]
  },
  {
   "cell_type": "code",
   "execution_count": 20,
   "id": "85c43758-9efa-4074-a8b7-96861ae7cd95",
   "metadata": {},
   "outputs": [
    {
     "data": {
      "text/plain": [
       "[HumanMessage(content='O que você disse?', additional_kwargs={}, response_metadata={}, id='e98faed6-963c-4a27-9cac-cb27faadd3f7'),\n",
       " AIMessage(content='Eu disse que Albert Einstein foi um físico alemão nascido em 1879 e falecido em 1955, conhecido por suas contribuições fundamentais para a teoria da relatividade e pela interpretação mais ampla do efeito fotoelétrico. Ele é considerado uma das maiores mentes da história, famoso por seus trabalhos em física teórica e experimentação.\\n\\nEinstein desenvolveu a teoria especial da relatividade, que introduziu a ideia de que o tempo e o espaço são relativos, dependendo do observador. Ele também desenvolveu a teoria geral da relatividade, que unificou a gravitação com a teoria especial da relatividade.\\n\\nAlém disso, Einstein é conhecido por suas ideias políticas e filosóficas. Ele foi um pacifista e um defensor dos direitos civis, e seu trabalho em questões de justiça social e ética continua a inspirar gerações de cientistas e pensadores.\\n\\nAlgumas das contribuições notáveis de Einstein incluem:\\n\\n*   A teoria da relatividade especial (1905): introduziu a ideia de que o tempo e o espaço são relativos, dependendo do observador.\\n*   O efeito fotoelétrico (1905): explicou como a luz pode causar a emissão de elétrons.\\n*   As equações da teoria quântica (1905): estabeleceu as bases para a física quântica.\\n*   A teoria geral da relatividade (1915): unificou a gravitação com a teoria especial da relatividade.\\n\\nEinstein recebeu vários prêmios e honrarias por suas contribuições, incluindo o Prêmio Nobel de Física em 1921. Ele é considerado um dos cientistas mais importantes do século XX e seu legado continua a inspirar pesquisadores e pensadores em todo o mundo.', additional_kwargs={}, response_metadata={'model': 'llama3.2', 'created_at': '2024-10-05T20:04:37.924726057Z', 'message': {'role': 'assistant', 'content': ''}, 'done_reason': 'stop', 'done': True, 'total_duration': 7601259298, 'load_duration': 66046526, 'prompt_eval_count': 560, 'prompt_eval_duration': 135765000, 'eval_count': 431, 'eval_duration': 7248788000}, id='run-11593d11-1244-41af-a03b-be1e131f6fdd-0', usage_metadata={'input_tokens': 560, 'output_tokens': 431, 'total_tokens': 991}),\n",
       " HumanMessage(content='O que você disse? Ainda não consegui entender', additional_kwargs={}, response_metadata={}, id='2b5f695b-6f37-4bdb-9716-590791364d32'),\n",
       " AIMessage(content='Vou tentar explicar de outra forma.\\n\\nEu disse que Albert Einstein foi um físico alemão muito importante, nascido em 1879 e falecido em 1955. Ele é conhecido por suas ideias revolucionárias sobre o tempo, o espaço e a gravidade.\\n\\nEinstein desenvolveu duas teorias principais:\\n\\n1.  A teoria da relatividade especial (1905), que afirma que o tempo e o espaço podem variar dependendo do observador.\\n2.  A teoria geral da relatividade (1915), que unifica a gravitação com a teoria especial da relatividade.\\n\\nAlém disso, Einstein é conhecido por suas ideias políticas e filosóficas. Ele foi um pacifista e um defensor dos direitos civis, o que significa que ele acreditava que a violência não era a melhor maneira de resolver conflitos e que todos os seres humanos têm direito à liberdade e à igualdade.\\n\\nEinstein recebeu muitas honrarias por suas contribuições para a ciência, incluindo o Prêmio Nobel de Física em 1921. Ele é considerado um dos cientistas mais importantes do século XX e seu legado continua a inspirar pessoas em todo o mundo.\\n\\nQuer que eu explique mais alguma coisa?', additional_kwargs={}, response_metadata={'model': 'llama3.2', 'created_at': '2024-10-05T20:04:43.340282391Z', 'message': {'role': 'assistant', 'content': ''}, 'done_reason': 'stop', 'done': True, 'total_duration': 5397968392, 'load_duration': 14323113, 'prompt_eval_count': 1011, 'prompt_eval_duration': 27060000, 'eval_count': 293, 'eval_duration': 5051905000}, id='run-9611d59a-c31a-4116-9c7f-ab13a9c35d65-0', usage_metadata={'input_tokens': 1011, 'output_tokens': 293, 'total_tokens': 1304}),\n",
       " HumanMessage(content='Nasceu onde?', additional_kwargs={}, response_metadata={}, id='007cdfc3-7cd2-4878-94f5-23179d56943b'),\n",
       " AIMessage(content='Albert Einstein nasceu em Ulm, Alemanha (atualmente parte da Alemanha), em 14 de março de 1879. Ele é considerado um dos cientistas mais importantes do século XX e seu legado continua a inspirar pessoas em todo o mundo.\\n\\nAqui estão algumas informações sobre sua infância:\\n\\n*   **Localização:** Ulm, Alemanha\\n*   **Data de nascimento:** 14 de março de 1879\\n*   **Morte:** 18 de abril de 1955\\n*   **Profissão:** Físico teórico\\n*   **Contribuições científicas:** Teoria da relatividade especial e geral, equações da teoria quântica, etc.\\n\\nEinstein cresceu em uma família judaica no sul da Alemanha. Ele foi um estudante destacado na escola e mais tarde se matriculou na Universidade de Munique para estudar física. Ele recebeu seu doutorado em 1905 e começou sua carreira como professor de física.\\n\\nQuer saber mais sobre a infância de Einstein?', additional_kwargs={}, response_metadata={'model': 'llama3.2', 'created_at': '2024-10-05T20:04:48.047137459Z', 'message': {'role': 'assistant', 'content': ''}, 'done_reason': 'stop', 'done': True, 'total_duration': 4691389791, 'load_duration': 63827178, 'prompt_eval_count': 1318, 'prompt_eval_duration': 27430000, 'eval_count': 243, 'eval_duration': 4168385000}, id='run-f68e6746-d7f9-4c64-aec8-0536a88f18dd-0', usage_metadata={'input_tokens': 1318, 'output_tokens': 243, 'total_tokens': 1561}),\n",
       " AIMessage(content='', additional_kwargs={}, response_metadata={'model': 'llama3.2', 'created_at': '2024-10-05T20:04:48.609563153Z', 'message': {'role': 'assistant', 'content': ''}, 'done_reason': 'stop', 'done': True, 'total_duration': 543588915, 'load_duration': 15623809, 'prompt_eval_count': 1560, 'prompt_eval_duration': 27858000, 'eval_count': 1, 'eval_duration': 27000}, id='run-d00c1158-31b6-446b-90ea-52c62f2e38d5-0', usage_metadata={'input_tokens': 1560, 'output_tokens': 1, 'total_tokens': 1561}),\n",
       " HumanMessage(content='O que você disse por último?', additional_kwargs={}, response_metadata={}, id='fc447b8f-9205-44d7-bd28-fb0b79b3245a'),\n",
       " AIMessage(content='Eu disse que Albert Einstein nasceu em Ulm, Alemanha, em 14 de março de 1879. Ele é considerado um dos cientistas mais importantes do século XX e seu legado continua a inspirar pessoas em todo o mundo.\\n\\nAqui estão algumas informações sobre sua infância:\\n\\n*   **Localização:** Ulm, Alemanha\\n*   **Data de nascimento:** 14 de março de 1879\\n*   **Morte:** 18 de abril de 1955\\n\\nEinstein cresceu em uma família judaica no sul da Alemanha. Ele foi um estudante destacado na escola e mais tarde se matriculou na Universidade de Munique para estudar física. Ele recebeu seu doutorado em 1905 e começou sua carreira como professor de física.\\n\\nSe quiser saber mais sobre a infância de Einstein, posso fornecer algumas informações adicionais:\\n\\n*   **Família:** Einstein era o segundo filho de Hermann e Pauline Einstein.\\n*   **Infância:** Einstein passou sua infância em Ulm, onde seu pai trabalhava como engenheiro elétrico. Ele foi um aluno destacado na escola e mais tarde se matriculou na Universidade de Munique para estudar física.\\n*   **Estudos universitários:** Einstein recebeu seu doutorado em 1905 e começou sua carreira como professor de física.\\n\\nQuer saber mais sobre a vida de Einstein?', additional_kwargs={}, response_metadata={'model': 'llama3.2', 'created_at': '2024-10-05T20:04:56.094005064Z', 'message': {'role': 'assistant', 'content': ''}, 'done_reason': 'stop', 'done': True, 'total_duration': 6857208425, 'load_duration': 16429408, 'prompt_eval_count': 1577, 'prompt_eval_duration': 631941000, 'eval_count': 322, 'eval_duration': 5639286000}, id='run-266b8e58-3d98-4121-9e26-b7f54acf579f-0', usage_metadata={'input_tokens': 1577, 'output_tokens': 322, 'total_tokens': 1899})]"
      ]
     },
     "execution_count": 20,
     "metadata": {},
     "output_type": "execute_result"
    }
   ],
   "source": [
    "app.update_state(config, {\"messages\": RemoveMessage(id=messages[0].id)})\n",
    "messages = app.get_state(config).values[\"messages\"]\n",
    "messages"
   ]
  },
  {
   "cell_type": "markdown",
   "id": "5c889c81-3b7f-43ae-9df5-0a307556d78d",
   "metadata": {},
   "source": [
    "## Retomando a conversa (para verificar se continua coerente)"
   ]
  },
  {
   "cell_type": "code",
   "execution_count": 21,
   "id": "dcf1ca61-2282-4f0f-8c7f-e9d4737206cc",
   "metadata": {},
   "outputs": [
    {
     "name": "stdout",
     "output_type": "stream",
     "text": [
      "==================================\u001b[1m Ai Message \u001b[0m==================================\n",
      "\n",
      "A maior contribuição de Albert Einstein é considerada ser a teoria da relatividade, que ele desenvolveu em duas partes: a teoria da relatividade especial e a teoria geral da relatividade.\n",
      "\n",
      "*   **Teoria da Relatividade Especial:** A teoria da relatividade especial, introduzida por Einstein em 1905, afirma que o tempo e o espaço são relativos, dependendo do observador. Isso significa que a velocidade da luz é constante e independente de onde estamos, e que o tempo pode passar mais ou menos rapidamente dependendo da velocidade com que somos movidos.\n",
      "*   **Teoria Geral da Relatividade:** A teoria geral da relatividade, introduzida por Einstein em 1915, é uma extensão da teoria da relatividade especial. Ela afirma que a gravitação não é uma força, como era comumente entendida na época, mas sim uma curvatura do espaço e do tempo causada pela presença de massa e energia.\n",
      "\n",
      "Essas contribuições de Einstein revolucionaram nossa compreensão da física e tiveram um impacto profundo em muitos campos, incluindo a cosmologia, a gravidade e a física quântica. Elas também inspiraram muitas outras descobertas científicas e tecnológicas.\n",
      "\n",
      "Algumas das principais implicações da teoria da relatividade incluem:\n",
      "\n",
      "*   **A velocidade da luz é constante:** A teoria da relatividade especial afirma que a velocidade da luz é constante e independente de onde estamos.\n",
      "*   **O tempo é relativo:** O tempo pode passar mais ou menos rapidamente dependendo da velocidade com que somos movidos, de acordo com a teoria da relatividade especial.\n",
      "*   **A gravitação é uma curvatura do espaço-tempo:** A teoria geral da relatividade afirma que a gravitação não é uma força, mas sim uma curvatura do espaço e do tempo causada pela presença de massa e energia.\n",
      "\n",
      "Essas contribuições de Einstein são consideradas algumas das mais importantes da história da ciência e tiveram um impacto profundo em muitos campos.\n"
     ]
    }
   ],
   "source": [
    "query = \"Qual foi a maior contribuição dele?\"\n",
    "input_messages = [HumanMessage(query)]\n",
    "output = app.invoke({\"messages\": input_messages}, config)\n",
    "output[\"messages\"][-1].pretty_print()"
   ]
  },
  {
   "cell_type": "code",
   "execution_count": 22,
   "id": "2b01743a-0b36-434f-86a7-64335117a9c0",
   "metadata": {},
   "outputs": [
    {
     "data": {
      "text/plain": [
       "[HumanMessage(content='O que você disse?', additional_kwargs={}, response_metadata={}, id='e98faed6-963c-4a27-9cac-cb27faadd3f7'),\n",
       " AIMessage(content='Eu disse que Albert Einstein foi um físico alemão nascido em 1879 e falecido em 1955, conhecido por suas contribuições fundamentais para a teoria da relatividade e pela interpretação mais ampla do efeito fotoelétrico. Ele é considerado uma das maiores mentes da história, famoso por seus trabalhos em física teórica e experimentação.\\n\\nEinstein desenvolveu a teoria especial da relatividade, que introduziu a ideia de que o tempo e o espaço são relativos, dependendo do observador. Ele também desenvolveu a teoria geral da relatividade, que unificou a gravitação com a teoria especial da relatividade.\\n\\nAlém disso, Einstein é conhecido por suas ideias políticas e filosóficas. Ele foi um pacifista e um defensor dos direitos civis, e seu trabalho em questões de justiça social e ética continua a inspirar gerações de cientistas e pensadores.\\n\\nAlgumas das contribuições notáveis de Einstein incluem:\\n\\n*   A teoria da relatividade especial (1905): introduziu a ideia de que o tempo e o espaço são relativos, dependendo do observador.\\n*   O efeito fotoelétrico (1905): explicou como a luz pode causar a emissão de elétrons.\\n*   As equações da teoria quântica (1905): estabeleceu as bases para a física quântica.\\n*   A teoria geral da relatividade (1915): unificou a gravitação com a teoria especial da relatividade.\\n\\nEinstein recebeu vários prêmios e honrarias por suas contribuições, incluindo o Prêmio Nobel de Física em 1921. Ele é considerado um dos cientistas mais importantes do século XX e seu legado continua a inspirar pesquisadores e pensadores em todo o mundo.', additional_kwargs={}, response_metadata={'model': 'llama3.2', 'created_at': '2024-10-05T20:04:37.924726057Z', 'message': {'role': 'assistant', 'content': ''}, 'done_reason': 'stop', 'done': True, 'total_duration': 7601259298, 'load_duration': 66046526, 'prompt_eval_count': 560, 'prompt_eval_duration': 135765000, 'eval_count': 431, 'eval_duration': 7248788000}, id='run-11593d11-1244-41af-a03b-be1e131f6fdd-0', usage_metadata={'input_tokens': 560, 'output_tokens': 431, 'total_tokens': 991}),\n",
       " HumanMessage(content='O que você disse? Ainda não consegui entender', additional_kwargs={}, response_metadata={}, id='2b5f695b-6f37-4bdb-9716-590791364d32'),\n",
       " AIMessage(content='Vou tentar explicar de outra forma.\\n\\nEu disse que Albert Einstein foi um físico alemão muito importante, nascido em 1879 e falecido em 1955. Ele é conhecido por suas ideias revolucionárias sobre o tempo, o espaço e a gravidade.\\n\\nEinstein desenvolveu duas teorias principais:\\n\\n1.  A teoria da relatividade especial (1905), que afirma que o tempo e o espaço podem variar dependendo do observador.\\n2.  A teoria geral da relatividade (1915), que unifica a gravitação com a teoria especial da relatividade.\\n\\nAlém disso, Einstein é conhecido por suas ideias políticas e filosóficas. Ele foi um pacifista e um defensor dos direitos civis, o que significa que ele acreditava que a violência não era a melhor maneira de resolver conflitos e que todos os seres humanos têm direito à liberdade e à igualdade.\\n\\nEinstein recebeu muitas honrarias por suas contribuições para a ciência, incluindo o Prêmio Nobel de Física em 1921. Ele é considerado um dos cientistas mais importantes do século XX e seu legado continua a inspirar pessoas em todo o mundo.\\n\\nQuer que eu explique mais alguma coisa?', additional_kwargs={}, response_metadata={'model': 'llama3.2', 'created_at': '2024-10-05T20:04:43.340282391Z', 'message': {'role': 'assistant', 'content': ''}, 'done_reason': 'stop', 'done': True, 'total_duration': 5397968392, 'load_duration': 14323113, 'prompt_eval_count': 1011, 'prompt_eval_duration': 27060000, 'eval_count': 293, 'eval_duration': 5051905000}, id='run-9611d59a-c31a-4116-9c7f-ab13a9c35d65-0', usage_metadata={'input_tokens': 1011, 'output_tokens': 293, 'total_tokens': 1304}),\n",
       " HumanMessage(content='Nasceu onde?', additional_kwargs={}, response_metadata={}, id='007cdfc3-7cd2-4878-94f5-23179d56943b'),\n",
       " AIMessage(content='Albert Einstein nasceu em Ulm, Alemanha (atualmente parte da Alemanha), em 14 de março de 1879. Ele é considerado um dos cientistas mais importantes do século XX e seu legado continua a inspirar pessoas em todo o mundo.\\n\\nAqui estão algumas informações sobre sua infância:\\n\\n*   **Localização:** Ulm, Alemanha\\n*   **Data de nascimento:** 14 de março de 1879\\n*   **Morte:** 18 de abril de 1955\\n*   **Profissão:** Físico teórico\\n*   **Contribuições científicas:** Teoria da relatividade especial e geral, equações da teoria quântica, etc.\\n\\nEinstein cresceu em uma família judaica no sul da Alemanha. Ele foi um estudante destacado na escola e mais tarde se matriculou na Universidade de Munique para estudar física. Ele recebeu seu doutorado em 1905 e começou sua carreira como professor de física.\\n\\nQuer saber mais sobre a infância de Einstein?', additional_kwargs={}, response_metadata={'model': 'llama3.2', 'created_at': '2024-10-05T20:04:48.047137459Z', 'message': {'role': 'assistant', 'content': ''}, 'done_reason': 'stop', 'done': True, 'total_duration': 4691389791, 'load_duration': 63827178, 'prompt_eval_count': 1318, 'prompt_eval_duration': 27430000, 'eval_count': 243, 'eval_duration': 4168385000}, id='run-f68e6746-d7f9-4c64-aec8-0536a88f18dd-0', usage_metadata={'input_tokens': 1318, 'output_tokens': 243, 'total_tokens': 1561}),\n",
       " AIMessage(content='', additional_kwargs={}, response_metadata={'model': 'llama3.2', 'created_at': '2024-10-05T20:04:48.609563153Z', 'message': {'role': 'assistant', 'content': ''}, 'done_reason': 'stop', 'done': True, 'total_duration': 543588915, 'load_duration': 15623809, 'prompt_eval_count': 1560, 'prompt_eval_duration': 27858000, 'eval_count': 1, 'eval_duration': 27000}, id='run-d00c1158-31b6-446b-90ea-52c62f2e38d5-0', usage_metadata={'input_tokens': 1560, 'output_tokens': 1, 'total_tokens': 1561}),\n",
       " HumanMessage(content='O que você disse por último?', additional_kwargs={}, response_metadata={}, id='fc447b8f-9205-44d7-bd28-fb0b79b3245a'),\n",
       " AIMessage(content='Eu disse que Albert Einstein nasceu em Ulm, Alemanha, em 14 de março de 1879. Ele é considerado um dos cientistas mais importantes do século XX e seu legado continua a inspirar pessoas em todo o mundo.\\n\\nAqui estão algumas informações sobre sua infância:\\n\\n*   **Localização:** Ulm, Alemanha\\n*   **Data de nascimento:** 14 de março de 1879\\n*   **Morte:** 18 de abril de 1955\\n\\nEinstein cresceu em uma família judaica no sul da Alemanha. Ele foi um estudante destacado na escola e mais tarde se matriculou na Universidade de Munique para estudar física. Ele recebeu seu doutorado em 1905 e começou sua carreira como professor de física.\\n\\nSe quiser saber mais sobre a infância de Einstein, posso fornecer algumas informações adicionais:\\n\\n*   **Família:** Einstein era o segundo filho de Hermann e Pauline Einstein.\\n*   **Infância:** Einstein passou sua infância em Ulm, onde seu pai trabalhava como engenheiro elétrico. Ele foi um aluno destacado na escola e mais tarde se matriculou na Universidade de Munique para estudar física.\\n*   **Estudos universitários:** Einstein recebeu seu doutorado em 1905 e começou sua carreira como professor de física.\\n\\nQuer saber mais sobre a vida de Einstein?', additional_kwargs={}, response_metadata={'model': 'llama3.2', 'created_at': '2024-10-05T20:04:56.094005064Z', 'message': {'role': 'assistant', 'content': ''}, 'done_reason': 'stop', 'done': True, 'total_duration': 6857208425, 'load_duration': 16429408, 'prompt_eval_count': 1577, 'prompt_eval_duration': 631941000, 'eval_count': 322, 'eval_duration': 5639286000}, id='run-266b8e58-3d98-4121-9e26-b7f54acf579f-0', usage_metadata={'input_tokens': 1577, 'output_tokens': 322, 'total_tokens': 1899}),\n",
       " HumanMessage(content='Qual foi a maior contribuição dele?', additional_kwargs={}, response_metadata={}, id='7ec0b7b9-0ca9-410c-9a20-705bda123d1a'),\n",
       " AIMessage(content='A maior contribuição de Albert Einstein é considerada ser a teoria da relatividade, que ele desenvolveu em duas partes: a teoria da relatividade especial e a teoria geral da relatividade.\\n\\n*   **Teoria da Relatividade Especial:** A teoria da relatividade especial, introduzida por Einstein em 1905, afirma que o tempo e o espaço são relativos, dependendo do observador. Isso significa que a velocidade da luz é constante e independente de onde estamos, e que o tempo pode passar mais ou menos rapidamente dependendo da velocidade com que somos movidos.\\n*   **Teoria Geral da Relatividade:** A teoria geral da relatividade, introduzida por Einstein em 1915, é uma extensão da teoria da relatividade especial. Ela afirma que a gravitação não é uma força, como era comumente entendida na época, mas sim uma curvatura do espaço e do tempo causada pela presença de massa e energia.\\n\\nEssas contribuições de Einstein revolucionaram nossa compreensão da física e tiveram um impacto profundo em muitos campos, incluindo a cosmologia, a gravidade e a física quântica. Elas também inspiraram muitas outras descobertas científicas e tecnológicas.\\n\\nAlgumas das principais implicações da teoria da relatividade incluem:\\n\\n*   **A velocidade da luz é constante:** A teoria da relatividade especial afirma que a velocidade da luz é constante e independente de onde estamos.\\n*   **O tempo é relativo:** O tempo pode passar mais ou menos rapidamente dependendo da velocidade com que somos movidos, de acordo com a teoria da relatividade especial.\\n*   **A gravitação é uma curvatura do espaço-tempo:** A teoria geral da relatividade afirma que a gravitação não é uma força, mas sim uma curvatura do espaço e do tempo causada pela presença de massa e energia.\\n\\nEssas contribuições de Einstein são consideradas algumas das mais importantes da história da ciência e tiveram um impacto profundo em muitos campos.', additional_kwargs={}, response_metadata={'model': 'llama3.2', 'created_at': '2024-10-05T20:05:05.753169431Z', 'message': {'role': 'assistant', 'content': ''}, 'done_reason': 'stop', 'done': True, 'total_duration': 9615777583, 'load_duration': 14245336, 'prompt_eval_count': 1386, 'prompt_eval_duration': 537939000, 'eval_count': 481, 'eval_duration': 8495323000}, id='run-fbd7c72e-2a2d-43ba-8849-89330b82e742-0', usage_metadata={'input_tokens': 1386, 'output_tokens': 481, 'total_tokens': 1867})]"
      ]
     },
     "execution_count": 22,
     "metadata": {},
     "output_type": "execute_result"
    }
   ],
   "source": [
    "output[\"messages\"]"
   ]
  }
 ],
 "metadata": {
  "kernelspec": {
   "display_name": "Python 3 (ipykernel)",
   "language": "python",
   "name": "python3"
  },
  "language_info": {
   "codemirror_mode": {
    "name": "ipython",
    "version": 3
   },
   "file_extension": ".py",
   "mimetype": "text/x-python",
   "name": "python",
   "nbconvert_exporter": "python",
   "pygments_lexer": "ipython3",
   "version": "3.11.9"
  }
 },
 "nbformat": 4,
 "nbformat_minor": 5
}
