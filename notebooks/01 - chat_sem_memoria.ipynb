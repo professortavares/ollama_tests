{
 "cells": [
  {
   "cell_type": "markdown",
   "id": "31dc4740-0875-418f-b79d-e081d937b906",
   "metadata": {},
   "source": [
    "## Simulação de uma LLM sem memória da conversa"
   ]
  },
  {
   "cell_type": "code",
   "execution_count": 1,
   "id": "e183fc41-5672-4740-881b-3dad338dd67f",
   "metadata": {},
   "outputs": [],
   "source": [
    "from langchain_ollama import ChatOllama"
   ]
  },
  {
   "cell_type": "markdown",
   "id": "b20c92cc-caac-4f7b-af1a-d9b4b1837e15",
   "metadata": {},
   "source": [
    "## Utilização do llama3.1 com interface via ollama"
   ]
  },
  {
   "cell_type": "code",
   "execution_count": 2,
   "id": "13ec592a-9362-4242-b843-d208466d34c4",
   "metadata": {},
   "outputs": [],
   "source": [
    "chat = ChatOllama(model=\"llama3.2\")"
   ]
  },
  {
   "cell_type": "markdown",
   "id": "131b56a5-76e4-48ba-a37f-9518568e18b6",
   "metadata": {},
   "source": [
    "## Pergunta para iniciar a conversa"
   ]
  },
  {
   "cell_type": "code",
   "execution_count": 3,
   "id": "24196b08-37af-492e-87f2-730a003cdf6b",
   "metadata": {},
   "outputs": [
    {
     "data": {
      "text/plain": [
       "'Albert Einstein (1879-1955) foi um físico alemão que é amplamente considerado uma das figuras mais influentes da história da ciência. Ele é conhecido por sua contribuição revolucionária para a teoria da relatividade e pelo seu papel fundamental na desenvolvimento da mecânica quântica.\\n\\n**Vida e Carreira**\\n\\nEinstein nasceu em Munique, Alemanha, e cresceu em uma família judia. Ele estudou física no Instituto Técnico Federal de Zurique, na Suíça, e se formou em 1900. Depois de trabalhar como professor de física em várias universidades, Einstein foi convidado para se tornar professor em Princetown, Nova Jersey, nos Estados Unidos.\\n\\n**Contribuições Científicas**\\n\\nEinstein é famoso por suas contribuições à teoria da relatividade, que abordou a ideia de que o tempo e o espaço são relativos. Sua teoria da relatividade especial, publicada em 1905, desafiou a visão tradicional do tempo e do espaço, e introduziu a ideia de que a velocidade da luz é constante para todos os observadores.\\n\\nEm 1915, Einstein desenvolveu a teoria da relatividade geral, que abordou o gravidade como uma curvatura do espaço-tempo. Essa teoria explicou fenômenos como a precessão dos planetas e a anomalia de luz em um campo gravitacional forte.\\n\\n**Mecânica Quântica**\\n\\nEinstein também foi um dos principais defensores da mecânica quântica, uma teoria que descreve o comportamento atômico e subatômico. Ele é conhecido por sua rejeição inicial à ideia de que a luz pode ter comprimento e frequência finitas.\\n\\n**Prêmios e Reconhecimento**\\n\\nEinstein recebeu vários prêmios, incluindo o Prêmio Nobel de Física em 1921, pela sua explicação da anomalia da luz no campo gravitacional. Ele também foi condecorado com a Medalha Copley em 1925.\\n\\n**Legado**\\n\\nO legado de Einstein é imenso. Ele é considerado um dos cientistas mais influentes do século XX e seu trabalho continua a inspirar pesquisadores e cientistas em todo o mundo. Além disso, sua filosofia de que \"a imaginação é mais importante que o conhecimento\" continua a inspirar pessoas em todo o mundo.\\n\\nEm resumo, Albert Einstein foi um físico revolucionário que desafiou as ideias tradicionais da ciência e introduziu conceitos fundamentais para a nossa compreensão do universo.'"
      ]
     },
     "execution_count": 3,
     "metadata": {},
     "output_type": "execute_result"
    }
   ],
   "source": [
    "response = chat.invoke(\"Quem foi Albert Einstein?\")\n",
    "response.content"
   ]
  },
  {
   "cell_type": "code",
   "execution_count": 4,
   "id": "1ddbae67-c310-4b84-b035-816a10db0a17",
   "metadata": {},
   "outputs": [
    {
     "data": {
      "text/plain": [
       "{'input_tokens': 31, 'output_tokens': 602, 'total_tokens': 633}"
      ]
     },
     "execution_count": 4,
     "metadata": {},
     "output_type": "execute_result"
    }
   ],
   "source": [
    "response.usage_metadata"
   ]
  },
  {
   "cell_type": "markdown",
   "id": "128295bf-a454-4819-874b-85a01d393717",
   "metadata": {},
   "source": [
    "## O modelo não consegue se lembrar do que acabou de responder"
   ]
  },
  {
   "cell_type": "code",
   "execution_count": 5,
   "id": "ef7c4a14-592a-4f12-a607-59f156a0c1ec",
   "metadata": {},
   "outputs": [
    {
     "data": {
      "text/plain": [
       "'Nada, eu não disse nada ainda. Estou aqui para ajudar com qualquer pergunta ou tópico que você gostaria de discutir. Como posso te ajudar hoje?'"
      ]
     },
     "execution_count": 5,
     "metadata": {},
     "output_type": "execute_result"
    }
   ],
   "source": [
    "response = chat.invoke(\"O que você disse?\")\n",
    "response.content"
   ]
  },
  {
   "cell_type": "code",
   "execution_count": 6,
   "id": "6aab6055-b571-4657-a6f5-474c047b29b6",
   "metadata": {},
   "outputs": [
    {
     "data": {
      "text/plain": [
       "{'input_tokens': 30, 'output_tokens': 42, 'total_tokens': 72}"
      ]
     },
     "execution_count": 6,
     "metadata": {},
     "output_type": "execute_result"
    }
   ],
   "source": [
    "response.usage_metadata"
   ]
  },
  {
   "cell_type": "code",
   "execution_count": 7,
   "id": "a2c56a11-3c21-4e84-9ade-d4cd8f655389",
   "metadata": {},
   "outputs": [
    {
     "data": {
      "text/plain": [
       "'Nada! Nós não começamos nossa conversa ainda. Como posso ajudá-lo hoje?'"
      ]
     },
     "execution_count": 7,
     "metadata": {},
     "output_type": "execute_result"
    }
   ],
   "source": [
    "response = chat.invoke(\"O que você disse?\")\n",
    "response.content"
   ]
  },
  {
   "cell_type": "code",
   "execution_count": 8,
   "id": "d8ce6cf2-0e8c-426b-9927-e5a840509546",
   "metadata": {},
   "outputs": [
    {
     "data": {
      "text/plain": [
       "{'input_tokens': 30, 'output_tokens': 22, 'total_tokens': 52}"
      ]
     },
     "execution_count": 8,
     "metadata": {},
     "output_type": "execute_result"
    }
   ],
   "source": [
    "response.usage_metadata"
   ]
  }
 ],
 "metadata": {
  "kernelspec": {
   "display_name": "Python 3 (ipykernel)",
   "language": "python",
   "name": "python3"
  },
  "language_info": {
   "codemirror_mode": {
    "name": "ipython",
    "version": 3
   },
   "file_extension": ".py",
   "mimetype": "text/x-python",
   "name": "python",
   "nbconvert_exporter": "python",
   "pygments_lexer": "ipython3",
   "version": "3.11.9"
  }
 },
 "nbformat": 4,
 "nbformat_minor": 5
}
