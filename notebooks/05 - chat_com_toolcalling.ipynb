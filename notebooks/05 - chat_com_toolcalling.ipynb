{
 "cells": [
  {
   "cell_type": "markdown",
   "id": "31dc4740-0875-418f-b79d-e081d937b906",
   "metadata": {},
   "source": [
    "## Simulação de uma LLM com chamada de função (tool calling / function calling)\n",
    "\n",
    "ref.: \n",
    "* https://python.langchain.com/docs/how_to/message_history/\n",
    "* https://www.langchain.com/langgraph\n",
    "* https://langchain-ai.github.io/langgraph/how-tos/tool-calling/"
   ]
  },
  {
   "cell_type": "code",
   "execution_count": 1,
   "id": "e183fc41-5672-4740-881b-3dad338dd67f",
   "metadata": {},
   "outputs": [],
   "source": [
    "from typing import List, Tuple\n",
    "from typing_extensions import Annotated\n",
    "from langchain_ollama import ChatOllama\n",
    "from langchain_core.messages import ToolMessage\n",
    "from langchain_core.tools import tool\n",
    "from langgraph.prebuilt import InjectedState\n",
    "from langgraph.prebuilt import ToolNode, create_react_agent\n",
    "from langgraph.checkpoint.memory import MemorySaver\n",
    "from typing import List\n",
    "\n",
    "# this is the state schema used by the prebuilt create_react_agent we'll be using below\n",
    "from langgraph.prebuilt.chat_agent_executor import AgentState\n",
    "from langchain_core.documents import Document"
   ]
  },
  {
   "cell_type": "markdown",
   "id": "b20c92cc-caac-4f7b-af1a-d9b4b1837e15",
   "metadata": {},
   "source": [
    "## Utilização do llama3.1 com interface via ollama"
   ]
  },
  {
   "cell_type": "code",
   "execution_count": 2,
   "id": "13ec592a-9362-4242-b843-d208466d34c4",
   "metadata": {},
   "outputs": [],
   "source": [
    "class State(AgentState):\n",
    "    docs: List[str]\n",
    "    \n",
    "@tool\n",
    "def get_context(question: str, state: Annotated[dict, InjectedState]):\n",
    "    \"\"\"Get relevant context for answering the question, and check if it's related to a specific context.\"\"\"\n",
    "    \n",
    "    # Juntar todos os documentos do estado\n",
    "    context = \"\\n\\n\".join(doc for doc in state[\"docs\"])\n",
    "\n",
    "    # Verificar se a pergunta está relacionada a palavras ou frases específicas do contexto\n",
    "    related = any(keyword in question.lower() for keyword in context.lower().split())\n",
    "\n",
    "    if related:\n",
    "        return f\"A pergunta está relacionada ao contexto fornecido. Aqui está o contexto relevante:\\n\\n{context}\"\n",
    "    else:\n",
    "        return \"A pergunta não parece estar relacionada ao contexto disponível.\""
   ]
  },
  {
   "cell_type": "code",
   "execution_count": 3,
   "id": "e412b638-dacb-4be9-a3bd-376fa010c686",
   "metadata": {},
   "outputs": [],
   "source": [
    "model = ChatOllama(model=\"llama3.1:latest\")\n",
    "tools = [get_context]\n",
    "\n",
    "# ToolNode will automatically take care of injecting state into tools\n",
    "tool_node = ToolNode(tools)\n",
    "\n",
    "checkpointer = MemorySaver()\n",
    "graph = create_react_agent(model, tools, state_schema=State, checkpointer=checkpointer)"
   ]
  },
  {
   "cell_type": "markdown",
   "id": "131b56a5-76e4-48ba-a37f-9518568e18b6",
   "metadata": {},
   "source": [
    "## Pergunta para iniciar a conversa"
   ]
  },
  {
   "cell_type": "code",
   "execution_count": 4,
   "id": "24196b08-37af-492e-87f2-730a003cdf6b",
   "metadata": {},
   "outputs": [
    {
     "name": "stdout",
     "output_type": "stream",
     "text": [
      "================================\u001b[1m Human Message \u001b[0m=================================\n",
      "\n",
      "Quais são os dados relevantes sobre FooBar\n",
      "==================================\u001b[1m Ai Message \u001b[0m==================================\n",
      "Tool Calls:\n",
      "  get_context (7e1a91c9-c2b3-49f0-a1fb-0681047d5ae6)\n",
      " Call ID: 7e1a91c9-c2b3-49f0-a1fb-0681047d5ae6\n",
      "  Args:\n",
      "    question: Quais só os dados relevantes sobre FooBar\n",
      "=================================\u001b[1m Tool Message \u001b[0m=================================\n",
      "Name: get_context\n",
      "\n",
      "A pergunta está relacionada ao contexto fornecido. Aqui está o contexto relevante:\n",
      "\n",
      "A empresa FooBar acabou de arrecadar 1 bilhão de dólares!A empresa FooBar foi fundada em 2019.\n",
      "==================================\u001b[1m Ai Message \u001b[0m==================================\n",
      "\n",
      "Com base no contexto fornecido, os dados relevantes sobre FooBar são:\n",
      "\n",
      "* A empresa FooBar recebeu um investimento de 1 bilhão de dólares.\n",
      "* A empresa FooBar foi fundada em 2019.\n"
     ]
    }
   ],
   "source": [
    "docs = [\n",
    "    \"A empresa FooBar acabou de arrecadar 1 bilhão de dólares!\"\n",
    "    \"A empresa FooBar foi fundada em 2019.\"\n",
    "]\n",
    "\n",
    "inputs = {\n",
    "    \"messages\": [{\"type\": \"user\", \"content\": \"Quais são os dados relevantes sobre FooBar\"}],\n",
    "    \"docs\": docs,\n",
    "}\n",
    "config = {\"configurable\": {\"thread_id\": \"1\"}}\n",
    "for chunk in graph.stream(inputs, config, stream_mode=\"values\"):\n",
    "    chunk[\"messages\"][-1].pretty_print()"
   ]
  },
  {
   "cell_type": "code",
   "execution_count": 5,
   "id": "1b7896f4-c5ef-4e61-8957-32d3623243eb",
   "metadata": {},
   "outputs": [
    {
     "name": "stdout",
     "output_type": "stream",
     "text": [
      "================================\u001b[1m Human Message \u001b[0m=================================\n",
      "\n",
      "Quem foi albert einstein?\n",
      "==================================\u001b[1m Ai Message \u001b[0m==================================\n",
      "Tool Calls:\n",
      "  get_context (96533988-e647-4a66-baac-bc97facc24cf)\n",
      " Call ID: 96533988-e647-4a66-baac-bc97facc24cf\n",
      "  Args:\n",
      "    question: Quem foi albert einstein?\n",
      "=================================\u001b[1m Tool Message \u001b[0m=================================\n",
      "Name: get_context\n",
      "\n",
      "A pergunta está relacionada ao contexto fornecido. Aqui está o contexto relevante:\n",
      "\n",
      "A empresa FooBar acabou de arrecadar 1 bilhão de dólares!A empresa FooBar foi fundada em 2019.\n",
      "==================================\u001b[1m Ai Message \u001b[0m==================================\n",
      "\n",
      "Com base no contexto fornecido, não há informações relevantes sobre Albert Einstein. No entanto, posso fornecer informações gerais sobre ele:\n",
      "\n",
      "Albert Einstein (1879-1955) foi um físico alemão-estadunidense considerado um dos maiores cientistas da história. Ele é conhecido por suas contribuições fundamentais para a mecânica quântica e a teoria da relatividade, que revolucionaram nossa compreensão do universo.\n",
      "\n",
      "Einstein é mais conhecido por sua equação E=mc², que relaciona energia (E) à massa (m) e à velocidade da luz (c). Ele também desenvolveu a teoria da relatividade especial e geral, que descreve o comportamento da gravidade e do tempo em diferentes referências.\n",
      "\n",
      "Além disso, Einstein foi um defensor da paz e dos direitos humanos, e ele recebeu o Prêmio Nobel de Física em 1921 por seu trabalho sobre os fenômenos fotoelétricos.\n"
     ]
    }
   ],
   "source": [
    "inputs = {\n",
    "    \"messages\": [{\"type\": \"user\", \"content\": \"Quem foi albert einstein?\"}],\n",
    "    \"docs\": docs,\n",
    "}\n",
    "config = {\"configurable\": {\"thread_id\": \"1\"}}\n",
    "for chunk in graph.stream(inputs, config, stream_mode=\"values\"):\n",
    "    chunk[\"messages\"][-1].pretty_print()"
   ]
  },
  {
   "cell_type": "code",
   "execution_count": null,
   "id": "34103b89-9c33-4ce9-96e9-d3e8a18afbe8",
   "metadata": {},
   "outputs": [],
   "source": []
  }
 ],
 "metadata": {
  "kernelspec": {
   "display_name": "Python 3 (ipykernel)",
   "language": "python",
   "name": "python3"
  },
  "language_info": {
   "codemirror_mode": {
    "name": "ipython",
    "version": 3
   },
   "file_extension": ".py",
   "mimetype": "text/x-python",
   "name": "python",
   "nbconvert_exporter": "python",
   "pygments_lexer": "ipython3",
   "version": "3.11.9"
  }
 },
 "nbformat": 4,
 "nbformat_minor": 5
}
