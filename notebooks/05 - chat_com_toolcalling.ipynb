{
 "cells": [
  {
   "cell_type": "markdown",
   "id": "31dc4740-0875-418f-b79d-e081d937b906",
   "metadata": {},
   "source": [
    "## Simulação de uma LLM com chamada de função (tool calling / function calling)\n",
    "\n",
    "ref.: \n",
    "* https://python.langchain.com/docs/how_to/message_history/\n",
    "* https://www.langchain.com/langgraph\n",
    "* https://langchain-ai.github.io/langgraph/how-tos/tool-calling/"
   ]
  },
  {
   "cell_type": "code",
   "execution_count": 1,
   "id": "e183fc41-5672-4740-881b-3dad338dd67f",
   "metadata": {},
   "outputs": [],
   "source": [
    "from typing import List, Tuple\n",
    "from typing_extensions import Annotated\n",
    "from langchain_ollama import ChatOllama\n",
    "from langchain_core.messages import ToolMessage\n",
    "from langchain_core.tools import tool\n",
    "from langgraph.prebuilt import InjectedState\n",
    "from langgraph.prebuilt import ToolNode, create_react_agent\n",
    "from langgraph.checkpoint.memory import MemorySaver\n",
    "from typing import List\n",
    "\n",
    "# this is the state schema used by the prebuilt create_react_agent we'll be using below\n",
    "from langgraph.prebuilt.chat_agent_executor import AgentState\n",
    "from langchain_core.documents import Document"
   ]
  },
  {
   "cell_type": "markdown",
   "id": "b20c92cc-caac-4f7b-af1a-d9b4b1837e15",
   "metadata": {},
   "source": [
    "## Utilização do llama3.2 com interface via ollama"
   ]
  },
  {
   "cell_type": "code",
   "execution_count": 2,
   "id": "13ec592a-9362-4242-b843-d208466d34c4",
   "metadata": {},
   "outputs": [],
   "source": [
    "class State(AgentState):\n",
    "    docs: List[str]\n",
    "    \n",
    "@tool\n",
    "def get_context(question: str, state: Annotated[dict, InjectedState]):\n",
    "    \"\"\"Get relevant context for answering the question, and check if it's related to a specific context.\"\"\"\n",
    "    \n",
    "    # Juntar todos os documentos do estado\n",
    "    context = \"\\n\\n\".join(doc for doc in state[\"docs\"])\n",
    "\n",
    "    # Verificar se a pergunta está relacionada a palavras ou frases específicas do contexto\n",
    "    related = any(keyword in question.lower() for keyword in context.lower().split())\n",
    "\n",
    "    if related:\n",
    "        return f\"A pergunta está relacionada ao contexto fornecido. Aqui está o contexto relevante:\\n\\n{context}\"\n",
    "    else:\n",
    "        return \"A pergunta não parece estar relacionada ao contexto disponível.\""
   ]
  },
  {
   "cell_type": "code",
   "execution_count": 5,
   "id": "e412b638-dacb-4be9-a3bd-376fa010c686",
   "metadata": {},
   "outputs": [],
   "source": [
    "model = ChatOllama(model=\"llama3.2\")\n",
    "tools = [get_context]\n",
    "\n",
    "# ToolNode will automatically take care of injecting state into tools\n",
    "tool_node = ToolNode(tools)\n",
    "\n",
    "checkpointer = MemorySaver()\n",
    "graph = create_react_agent(model, tools, state_schema=State, checkpointer=checkpointer)"
   ]
  },
  {
   "cell_type": "markdown",
   "id": "131b56a5-76e4-48ba-a37f-9518568e18b6",
   "metadata": {},
   "source": [
    "## Pergunta para iniciar a conversa"
   ]
  },
  {
   "cell_type": "code",
   "execution_count": 6,
   "id": "24196b08-37af-492e-87f2-730a003cdf6b",
   "metadata": {},
   "outputs": [
    {
     "name": "stdout",
     "output_type": "stream",
     "text": [
      "================================\u001b[1m Human Message \u001b[0m=================================\n",
      "\n",
      "Quais são os dados relevantes sobre FooBar\n",
      "==================================\u001b[1m Ai Message \u001b[0m==================================\n",
      "Tool Calls:\n",
      "  get_context (50290b5e-66b5-40cf-a1e9-10628997c6b8)\n",
      " Call ID: 50290b5e-66b5-40cf-a1e9-10628997c6b8\n",
      "  Args:\n",
      "    question: Quais áo os dados relevantes sobre FooBar\n",
      "=================================\u001b[1m Tool Message \u001b[0m=================================\n",
      "Name: get_context\n",
      "\n",
      "A pergunta está relacionada ao contexto fornecido. Aqui está o contexto relevante:\n",
      "\n",
      "A empresa FooBar acabou de arrecadar 1 bilhão de dólares!A empresa FooBar foi fundada em 2019.\n",
      "==================================\u001b[1m Ai Message \u001b[0m==================================\n",
      "Tool Calls:\n",
      "  get_context (eff1d660-592b-4a48-b031-94423813277e)\n",
      " Call ID: eff1d660-592b-4a48-b031-94423813277e\n",
      "  Args:\n",
      "    question: Quais são os dados relevantes sobre FooBar\n",
      "=================================\u001b[1m Tool Message \u001b[0m=================================\n",
      "Name: get_context\n",
      "\n",
      "A pergunta está relacionada ao contexto fornecido. Aqui está o contexto relevante:\n",
      "\n",
      "A empresa FooBar acabou de arrecadar 1 bilhão de dólares!A empresa FooBar foi fundada em 2019.\n",
      "==================================\u001b[1m Ai Message \u001b[0m==================================\n",
      "Tool Calls:\n",
      "  get_context (dbb29991-d7d4-49ee-b805-2428e6f9ca73)\n",
      " Call ID: dbb29991-d7d4-49ee-b805-2428e6f9ca73\n",
      "  Args:\n",
      "    question: Quais são os dados relevantes sobre FooBar\n",
      "=================================\u001b[1m Tool Message \u001b[0m=================================\n",
      "Name: get_context\n",
      "\n",
      "A pergunta está relacionada ao contexto fornecido. Aqui está o contexto relevante:\n",
      "\n",
      "A empresa FooBar acabou de arrecadar 1 bilhão de dólares!A empresa FooBar foi fundada em 2019.\n",
      "==================================\u001b[1m Ai Message \u001b[0m==================================\n",
      "\n",
      "Parece que a resposta anterior não foi suficiente para responder à sua pergunta original.\n",
      "\n",
      "Para fornecer uma resposta mais precisa, aqui estão os dados relevantes sobre FooBar:\n",
      "\n",
      "* Nome: FooBar\n",
      "* Fundação: 2019\n",
      "* Arrecadação: 1 bilhão de dólares (último relatório disponível)\n",
      "* Setor: [informações não disponíveis]\n",
      "\n",
      "Se você tiver mais perguntas específicas sobre FooBar, estou aqui para ajudar!\n"
     ]
    }
   ],
   "source": [
    "docs = [\n",
    "    \"A empresa FooBar acabou de arrecadar 1 bilhão de dólares!\"\n",
    "    \"A empresa FooBar foi fundada em 2019.\"\n",
    "]\n",
    "\n",
    "inputs = {\n",
    "    \"messages\": [{\"type\": \"user\", \"content\": \"Quais são os dados relevantes sobre FooBar\"}],\n",
    "    \"docs\": docs,\n",
    "}\n",
    "config = {\"configurable\": {\"thread_id\": \"1\"}}\n",
    "for chunk in graph.stream(inputs, config, stream_mode=\"values\"):\n",
    "    chunk[\"messages\"][-1].pretty_print()"
   ]
  },
  {
   "cell_type": "code",
   "execution_count": 7,
   "id": "1b7896f4-c5ef-4e61-8957-32d3623243eb",
   "metadata": {},
   "outputs": [
    {
     "name": "stdout",
     "output_type": "stream",
     "text": [
      "================================\u001b[1m Human Message \u001b[0m=================================\n",
      "\n",
      "Quem foi albert einstein?\n",
      "==================================\u001b[1m Ai Message \u001b[0m==================================\n",
      "Tool Calls:\n",
      "  get_context (ee948de5-f72a-489a-bf3e-5bf795c115b8)\n",
      " Call ID: ee948de5-f72a-489a-bf3e-5bf795c115b8\n",
      "  Args:\n",
      "    question: Quem foi Albert Einstein\n",
      "=================================\u001b[1m Tool Message \u001b[0m=================================\n",
      "Name: get_context\n",
      "\n",
      "A pergunta está relacionada ao contexto fornecido. Aqui está o contexto relevante:\n",
      "\n",
      "A empresa FooBar acabou de arrecadar 1 bilhão de dólares!A empresa FooBar foi fundada em 2019.\n",
      "==================================\u001b[1m Ai Message \u001b[0m==================================\n",
      "\n",
      "Peço desculpas, mas isso não é relevante para a sua pergunta.\n",
      "\n",
      "Albert Einstein foi um físico teórico alemão-estadunidense que é considerado uma das maiores mentes do século XX. Ele é mais conhecido por sua equação E=mc² e suas contribuições para a teoria da relatividade.\n",
      "\n",
      "Einstein nasceu em 1879 na Suíça e cresceu em uma família judaica. Ele estudou física na Universidade Técnica de Zurique e posteriormente trabalhou como engenheiro patenteador.\n",
      "\n",
      "Em 1905, Einstein publicou quatro artigos que revolucionaram a compreensão da física, incluindo sua explicação da fotoeléctrica e a introdução da teoria especial da relatividade. Em 1915, ele desenvolveu a teoria geral da relatividade.\n",
      "\n",
      "Einstein recebeu vários prêmios por seu trabalho, incluindo o Prêmio Nobel de Física em 1921. Ele também foi um defensor da paz e da justiça social, e foi um dos fundadores do Partido Comunista Alemão.\n",
      "\n",
      "Einstein morreu em 1955, mas sua influência na física e na cultura continua a ser sentida até hoje.\n"
     ]
    }
   ],
   "source": [
    "inputs = {\n",
    "    \"messages\": [{\"type\": \"user\", \"content\": \"Quem foi albert einstein?\"}],\n",
    "    \"docs\": docs,\n",
    "}\n",
    "config = {\"configurable\": {\"thread_id\": \"1\"}}\n",
    "for chunk in graph.stream(inputs, config, stream_mode=\"values\"):\n",
    "    chunk[\"messages\"][-1].pretty_print()"
   ]
  },
  {
   "cell_type": "code",
   "execution_count": null,
   "id": "34103b89-9c33-4ce9-96e9-d3e8a18afbe8",
   "metadata": {},
   "outputs": [],
   "source": []
  }
 ],
 "metadata": {
  "kernelspec": {
   "display_name": "Python 3 (ipykernel)",
   "language": "python",
   "name": "python3"
  },
  "language_info": {
   "codemirror_mode": {
    "name": "ipython",
    "version": 3
   },
   "file_extension": ".py",
   "mimetype": "text/x-python",
   "name": "python",
   "nbconvert_exporter": "python",
   "pygments_lexer": "ipython3",
   "version": "3.11.9"
  }
 },
 "nbformat": 4,
 "nbformat_minor": 5
}
