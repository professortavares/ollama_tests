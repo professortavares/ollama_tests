{
 "cells": [
  {
   "cell_type": "markdown",
   "id": "b472c7df-507e-4f0e-a6f6-9f746c24830f",
   "metadata": {},
   "source": [
    "# Avaliação automatizada de LLMs utilizando DeepEval - Faithfulness (Fidelidade)\n"
   ]
  },
  {
   "cell_type": "code",
   "execution_count": 1,
   "id": "4e069e35-2b5b-442d-99df-67e76c5dd264",
   "metadata": {},
   "outputs": [
    {
     "name": "stderr",
     "output_type": "stream",
     "text": [
      "C:\\Users\\leona\\Documents\\GitHub\\ollama_tests\\.venv\\Lib\\site-packages\\deepeval\\__init__.py:49: UserWarning: You are using deepeval version 1.4.9, however version 1.5.0 is available. You should consider upgrading via the \"pip install --upgrade deepeval\" command.\n",
      "  warnings.warn(\n"
     ]
    }
   ],
   "source": [
    "import os\n",
    "from dotenv import load_dotenv\n",
    "\n",
    "from langchain_openai import ChatOpenAI\n",
    "from deepeval.test_case import LLMTestCase\n",
    "from deepeval.metrics import FaithfulnessMetric\n",
    "\n",
    "from IPython.display import display, Markdown"
   ]
  },
  {
   "cell_type": "code",
   "execution_count": 2,
   "id": "b1422e3a-6614-46e3-b0da-0b09dd34b248",
   "metadata": {},
   "outputs": [],
   "source": [
    "load_dotenv()\n",
    "openai_api_key = os.getenv(\"OPENAI_API_KEY\")"
   ]
  },
  {
   "cell_type": "markdown",
   "id": "7ebf7c24-865d-44c4-b5a1-8fb9537b9792",
   "metadata": {},
   "source": [
    "## 1. Fidelidade\n",
    "\n",
    "Alinhada factual e semanticamente com o conteúdo fornecido no contexto de recuperação. Em outras palavras, ela verifica se a resposta do modelo é fiel às informações presentes no contexto recuperado, garantindo que não haja contradições ou informações não suportadas pelo contexto fornecido.\n",
    "\n",
    "Diferentemente da métrica de \"Alucinação\" (HallucinationMetric), que foca em identificar informações inventadas pelo modelo, a métrica de Fidedignidade concentra-se em detectar contradições entre a saída gerada e o contexto de recuperação."
   ]
  },
  {
   "cell_type": "markdown",
   "id": "449feffc-5a7c-43d0-b69e-b09d32ee413b",
   "metadata": {},
   "source": [
    "**Alice’s Adventures in Wonderland** Chapter 1\n",
    "\n",
    "Ref do livro: https://www.gutenberg.org/files/11/11-0.txt"
   ]
  },
  {
   "cell_type": "code",
   "execution_count": 3,
   "id": "ab9f1861-2a84-4d35-8e5b-c898fcf84bc2",
   "metadata": {},
   "outputs": [
    {
     "data": {
      "text/markdown": [
       "CHAPTER I.\n",
       "Down the Rabbit-Hole\n",
       "\n",
       "Alice was beginning to get very tired of sitting by her sister on the\n",
       "bank, and of having nothing to do: once or twice she had peeped into\n",
       "the book her sister was reading, but it had no pictures or\n",
       "conversations in it, “and what is the use of a book,” thought Alice\n",
       "“without pictures or conversations?”\n",
       "\n",
       "So she was considering in her own mind (as well as she could, for the\n",
       "hot day made her feel very sleepy and stupid), whether the pleasure of\n",
       "making a daisy...\n",
       "\n",
       "...\n",
       "\n",
       "...ate a little bit, and said anxiously to herself, “Which way? Which\n",
       "way?”, holding her hand on the top of her head to feel which way it was\n",
       "growing, and she was quite surprised to find that she remained the same\n",
       "size: to be sure, this generally happens when one eats cake, but Alice\n",
       "had got so much into the way of expecting nothing but out-of-the-way\n",
       "things to happen, that it seemed quite dull and stupid for life to go\n",
       "on in the common way.\n",
       "\n",
       "So she set to work, and very soon finished off the cake."
      ],
      "text/plain": [
       "<IPython.core.display.Markdown object>"
      ]
     },
     "metadata": {},
     "output_type": "display_data"
    },
    {
     "name": "stdout",
     "output_type": "stream",
     "text": [
      "11285\n"
     ]
    }
   ],
   "source": [
    "livro_cp1 = \"\"\n",
    "with open(\"./short_story.txt\", \"r\", encoding=\"utf-8\") as arquivo:\n",
    "    livro_cp1 = arquivo.read()\n",
    "\n",
    "\n",
    "display(Markdown(f'{livro_cp1[:492]}...\\n\\n...\\n\\n...{livro_cp1[-500:]}'))\n",
    "print(len(livro_cp1))"
   ]
  },
  {
   "cell_type": "code",
   "execution_count": 4,
   "id": "5cbbc70b-8885-4f29-bfd7-cded1b3a28e9",
   "metadata": {},
   "outputs": [
    {
     "data": {
      "text/markdown": [
       "\n",
       "\"Read the following excerpt from the book carefully. Pay attention to the details and try to imagine the scene as described. Once you’ve thoroughly understood the passage, consider any characters Alice might envision interacting with as she experiences this moment. After reading, answer the question thoughtfully and accurately based on the text.\n",
       "\n",
       "Here is the text:\n",
       "\n",
       "CHAPTER I.\n",
       "Down the Rabbit-Hole\n",
       "\n",
       "Alice was beginning to get very tired of sitting by her sister on the\n",
       "bank, and of having nothing to do: once or twice she had peeped into\n",
       "the book her sister was reading, but it had no pictures or\n",
       "conversations in it, “and what is the use of a book,” thought Alice\n",
       "“without pictures or conversations?”\n",
       "\n",
       "So she was considering in her own mind (as well as she could, for the\n",
       "hot day made her feel very sleepy and stupid), whether the pleasure of\n",
       "making a daisy-chain would be worth the trouble of getting up and\n",
       "picking the daisies, when suddenly a White Rabbit with pink eyes ran\n",
       "close by her.\n",
       "\n",
       "The..."
      ],
      "text/plain": [
       "<IPython.core.display.Markdown object>"
      ]
     },
     "metadata": {},
     "output_type": "display_data"
    }
   ],
   "source": [
    "PROMPT = f\"\"\"\n",
    "\"Read the following excerpt from the book carefully. Pay attention to the details and try to imagine the scene as described. Once you’ve thoroughly understood the passage, consider any characters Alice might envision interacting with as she experiences this moment. After reading, answer the question thoughtfully and accurately based on the text.\n",
    "\n",
    "Here is the text:\n",
    "\n",
    "{{TEXT}}\n",
    "\n",
    "Question: While falling down the rabbit hole, who does Alice imagine having a conversation with?\"\n",
    "\"\"\"\n",
    "\n",
    "prompt = PROMPT.format(TEXT = livro_cp1)\n",
    "display(Markdown(f'{prompt[:1000]}...'))"
   ]
  },
  {
   "cell_type": "code",
   "execution_count": 5,
   "id": "abb54821-8373-47c0-96cf-42eb89cac08c",
   "metadata": {},
   "outputs": [],
   "source": [
    "chat = ChatOpenAI(model=\"gpt-4o-mini\")\n",
    "response = chat.invoke(prompt)"
   ]
  },
  {
   "cell_type": "code",
   "execution_count": 6,
   "id": "3d4f32be-271b-4b49-b145-b76f12defb51",
   "metadata": {},
   "outputs": [
    {
     "data": {
      "text/markdown": [
       "While falling down the rabbit hole, Alice imagines having a conversation with her cat, Dinah. She expresses her thoughts about Dinah missing her and wonders if Dinah would enjoy being with her in this strange situation. Alice also muses about whether cats eat bats, reflecting her whimsical and curious nature as she tumbles through the air."
      ],
      "text/plain": [
       "<IPython.core.display.Markdown object>"
      ]
     },
     "metadata": {},
     "output_type": "display_data"
    }
   ],
   "source": [
    "display(Markdown(f'{response.content}'))"
   ]
  },
  {
   "cell_type": "markdown",
   "id": "d84d923f-ed80-4f8c-86d2-3e373e1ee98b",
   "metadata": {},
   "source": [
    "### Avaliação da resposta\n",
    "\n",
    "ref.: https://www.sparknotes.com/lit/alice/section1/?quickquiz_id=1709"
   ]
  },
  {
   "cell_type": "code",
   "execution_count": 7,
   "id": "3d712570-0e47-4f14-b93f-1cca8009f8ff",
   "metadata": {},
   "outputs": [
    {
     "data": {
      "application/vnd.jupyter.widget-view+json": {
       "model_id": "",
       "version_major": 2,
       "version_minor": 0
      },
      "text/plain": [
       "Output()"
      ]
     },
     "metadata": {},
     "output_type": "display_data"
    },
    {
     "data": {
      "text/html": [
       "<pre style=\"white-space:pre;overflow-x:auto;line-height:normal;font-family:Menlo,'DejaVu Sans Mono',consolas,'Courier New',monospace\">Event loop is already running. Applying nest_asyncio patch to allow async execution...\n",
       "</pre>\n"
      ],
      "text/plain": [
       "Event loop is already running. Applying nest_asyncio patch to allow async execution...\n"
      ]
     },
     "metadata": {},
     "output_type": "display_data"
    },
    {
     "data": {
      "text/html": [
       "<pre style=\"white-space:pre;overflow-x:auto;line-height:normal;font-family:Menlo,'DejaVu Sans Mono',consolas,'Courier New',monospace\"></pre>\n"
      ],
      "text/plain": []
     },
     "metadata": {},
     "output_type": "display_data"
    },
    {
     "name": "stdout",
     "output_type": "stream",
     "text": [
      "0.8\n",
      "The score is 0.80 because the actual output fails to capture Alice's imaginative aspect of having a conversation with her cat, Dinah, which was an important detail in the retrieval context.\n"
     ]
    }
   ],
   "source": [
    "actual_output = response.content\n",
    "\n",
    "# Replace this with the actual retrieved context from your RAG pipeline\n",
    "retrieval_context = [livro_cp1]\n",
    "\n",
    "metric = FaithfulnessMetric(\n",
    "    model=\"gpt-4o-mini\",\n",
    "    include_reason=True\n",
    ")\n",
    "test_case = LLMTestCase(\n",
    "    input=\"While falling down the rabbit hole, who does Alice imagine having a conversation with?\",\n",
    "    actual_output=actual_output,\n",
    "    retrieval_context=retrieval_context\n",
    ")\n",
    "\n",
    "metric.measure(test_case)\n",
    "print(metric.score)\n",
    "print(metric.reason)"
   ]
  },
  {
   "cell_type": "code",
   "execution_count": null,
   "id": "fa8d0d38-86df-4827-af9a-6983a921c14f",
   "metadata": {},
   "outputs": [],
   "source": []
  }
 ],
 "metadata": {
  "kernelspec": {
   "display_name": "Python 3 (ipykernel)",
   "language": "python",
   "name": "python3"
  },
  "language_info": {
   "codemirror_mode": {
    "name": "ipython",
    "version": 3
   },
   "file_extension": ".py",
   "mimetype": "text/x-python",
   "name": "python",
   "nbconvert_exporter": "python",
   "pygments_lexer": "ipython3",
   "version": "3.11.9"
  }
 },
 "nbformat": 4,
 "nbformat_minor": 5
}
