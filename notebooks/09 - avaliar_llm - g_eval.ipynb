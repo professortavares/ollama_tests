{
 "cells": [
  {
   "cell_type": "markdown",
   "id": "1eff2589-e61e-4953-a974-28466d8ed1fe",
   "metadata": {},
   "source": [
    "# Avaliação automatizada de LLMs utilizando DeepEval"
   ]
  },
  {
   "cell_type": "markdown",
   "id": "80d2abb5-5184-40cc-b384-55cc8a0b2623",
   "metadata": {},
   "source": [
    "Atenção: \n",
    "\n",
    "Executar os comandos abaixo no prompt antes de iniciar os testes:\n",
    "\n",
    "```bash\n",
    ".venv\\Scripts\\activate\n",
    "deepeval set-local-model \\\n",
    "         --model-name=llama3.2:latest \\\n",
    "         --base-url=\"http://localhost:11434/v1/\" \\\n",
    "         --api-key=\"ollama\"\n",
    "```\n",
    "\n",
    "ref.: https://docs.confident-ai.com/docs/metrics-llm-evals"
   ]
  },
  {
   "cell_type": "code",
   "execution_count": 1,
   "id": "6a828c71-caf7-4437-9345-4f499b339b49",
   "metadata": {},
   "outputs": [],
   "source": [
    "from deepeval.test_case import LLMTestCase\n",
    "from deepeval.test_case import LLMTestCaseParams\n",
    "from deepeval.metrics import GEval"
   ]
  },
  {
   "cell_type": "markdown",
   "id": "4498eabd-6b8a-4f9d-af4a-21fb1a44a165",
   "metadata": {},
   "source": [
    "## 1. Corretude"
   ]
  },
  {
   "cell_type": "code",
   "execution_count": 2,
   "id": "cce997bf-bc1b-4ff7-8551-62b8896ec272",
   "metadata": {},
   "outputs": [],
   "source": [
    "# Define a métrica GEval para avaliar a \"Corretude\" da saída do LLM\n",
    "metric = GEval(\n",
    "    name=\"Correctness\",  # Nome da métrica, que neste caso avalia a exatidão factual da resposta\n",
    "    criteria=\"Determine if the current output is factually correct based on the expected output.\",  # Descreve o objetivo da métrica\n",
    "    evaluation_steps=[\n",
    "        # Passos para a avaliação:\n",
    "        \"Check if any facts in the 'current output' contradict any facts in the 'expected output'.\",  # Checa contradições entre a resposta e o esperado\n",
    "        \"Heavily penalize the omission of important details.\",  # Define uma penalidade maior para omissões importantes\n",
    "        \"Vague language or contradictory opinions are not acceptable.\"  # Explicita que linguagem vaga afeta a avaliação\n",
    "    ],\n",
    "    # Parâmetros a serem usados na avaliação (entrada, saída atual e saída esperada)\n",
    "    evaluation_params=[LLMTestCaseParams.INPUT, LLMTestCaseParams.ACTUAL_OUTPUT, LLMTestCaseParams.EXPECTED_OUTPUT],\n",
    ")"
   ]
  },
  {
   "cell_type": "code",
   "execution_count": 3,
   "id": "c4a2891f-0a57-4713-b4ad-0b0c5cc3f066",
   "metadata": {},
   "outputs": [
    {
     "data": {
      "application/vnd.jupyter.widget-view+json": {
       "model_id": "",
       "version_major": 2,
       "version_minor": 0
      },
      "text/plain": [
       "Output()"
      ]
     },
     "metadata": {},
     "output_type": "display_data"
    },
    {
     "data": {
      "text/html": [
       "<pre style=\"white-space:pre;overflow-x:auto;line-height:normal;font-family:Menlo,'DejaVu Sans Mono',consolas,'Courier New',monospace\">Event loop is already running. Applying nest_asyncio patch to allow async execution...\n",
       "</pre>\n"
      ],
      "text/plain": [
       "Event loop is already running. Applying nest_asyncio patch to allow async execution...\n"
      ]
     },
     "metadata": {},
     "output_type": "display_data"
    },
    {
     "data": {
      "text/html": [
       "<pre style=\"white-space:pre;overflow-x:auto;line-height:normal;font-family:Menlo,'DejaVu Sans Mono',consolas,'Courier New',monospace\"></pre>\n"
      ],
      "text/plain": []
     },
     "metadata": {},
     "output_type": "display_data"
    },
    {
     "name": "stdout",
     "output_type": "stream",
     "text": [
      "Score: 1.0\n",
      "Reason: The output matches the expected output, with no contradictions or omissions of important details.\n"
     ]
    }
   ],
   "source": [
    "# Define um caso de teste que contém a entrada, a saída gerada e a saída esperada para a comparação\n",
    "test_case = LLMTestCase(\n",
    "    input=\"Who was the first president of Brazil?\",  # Entrada fornecida ao modelo\n",
    "    actual_output=\"The first president of Brazil was Deodoro da Fonseca.\",  # Resposta gerada pelo modelo\n",
    "    expected_output=\"The first president of Brazil was Deodoro da Fonseca.\"  # Resposta correta esperada\n",
    ")\n",
    "\n",
    "# Aplica a métrica ao caso de teste e realiza a avaliação\n",
    "metric.measure(test_case)\n",
    "\n",
    "# Exibe o score calculado pela métrica, que representa o nível de corretude factual da saída\n",
    "print(f\"Score: {metric.score}\")\n",
    "# Exibe a justificativa para o score atribuído, explicando eventuais discrepâncias\n",
    "print(f\"Reason: {metric.reason}\")"
   ]
  },
  {
   "cell_type": "code",
   "execution_count": 4,
   "id": "ec7dc349-447c-4988-aaf6-0c64b2a704b9",
   "metadata": {},
   "outputs": [
    {
     "data": {
      "application/vnd.jupyter.widget-view+json": {
       "model_id": "",
       "version_major": 2,
       "version_minor": 0
      },
      "text/plain": [
       "Output()"
      ]
     },
     "metadata": {},
     "output_type": "display_data"
    },
    {
     "data": {
      "text/html": [
       "<pre style=\"white-space:pre;overflow-x:auto;line-height:normal;font-family:Menlo,'DejaVu Sans Mono',consolas,'Courier New',monospace\">Event loop is already running. Applying nest_asyncio patch to allow async execution...\n",
       "</pre>\n"
      ],
      "text/plain": [
       "Event loop is already running. Applying nest_asyncio patch to allow async execution...\n"
      ]
     },
     "metadata": {},
     "output_type": "display_data"
    },
    {
     "data": {
      "text/html": [
       "<pre style=\"white-space:pre;overflow-x:auto;line-height:normal;font-family:Menlo,'DejaVu Sans Mono',consolas,'Courier New',monospace\"></pre>\n"
      ],
      "text/plain": []
     },
     "metadata": {},
     "output_type": "display_data"
    },
    {
     "name": "stdout",
     "output_type": "stream",
     "text": [
      "Score: 0.8\n",
      "Reason: The actual output omits important details, but the language is clear and the opinion is consistent.\n"
     ]
    }
   ],
   "source": [
    "test_case = LLMTestCase(\n",
    "    input=\"Who was the first president of Brazil?\",  # Entrada fornecida ao modelo\n",
    "    actual_output=\"It was Deodoro da Fonseca.\",  # Resposta gerada pelo modelo\n",
    "    expected_output=\"The first president of Brazil was Deodoro da Fonseca.\"  # Resposta correta esperada\n",
    ")\n",
    "\n",
    "metric.measure(test_case)\n",
    "\n",
    "print(f\"Score: {metric.score}\")\n",
    "print(f\"Reason: {metric.reason}\")"
   ]
  },
  {
   "cell_type": "code",
   "execution_count": 6,
   "id": "9eda548e-74bb-4c8a-b1e1-2b4927756914",
   "metadata": {},
   "outputs": [
    {
     "data": {
      "application/vnd.jupyter.widget-view+json": {
       "model_id": "",
       "version_major": 2,
       "version_minor": 0
      },
      "text/plain": [
       "Output()"
      ]
     },
     "metadata": {},
     "output_type": "display_data"
    },
    {
     "data": {
      "text/html": [
       "<pre style=\"white-space:pre;overflow-x:auto;line-height:normal;font-family:Menlo,'DejaVu Sans Mono',consolas,'Courier New',monospace\">Event loop is already running. Applying nest_asyncio patch to allow async execution...\n",
       "</pre>\n"
      ],
      "text/plain": [
       "Event loop is already running. Applying nest_asyncio patch to allow async execution...\n"
      ]
     },
     "metadata": {},
     "output_type": "display_data"
    },
    {
     "data": {
      "text/html": [
       "<pre style=\"white-space:pre;overflow-x:auto;line-height:normal;font-family:Menlo,'DejaVu Sans Mono',consolas,'Courier New',monospace\"></pre>\n"
      ],
      "text/plain": []
     },
     "metadata": {},
     "output_type": "display_data"
    },
    {
     "name": "stdout",
     "output_type": "stream",
     "text": [
      "Score: 0.0\n",
      "Reason: The actual output contains a contradictory fact about Roberto Carlos da Fonseca being the first president, whereas the expected output clearly states Deodoro da Fonseca as the correct answer.\n"
     ]
    }
   ],
   "source": [
    "test_case = LLMTestCase(\n",
    "    input=\"Who was the first president of Brazil?\", \n",
    "    actual_output=\"It was the singer Roberto Carlos da Fonseca!\",\n",
    "    expected_output=\"The first president of Brazil was Deodoro da Fonseca.\" \n",
    ")\n",
    "\n",
    "metric.measure(test_case)\n",
    "\n",
    "print(f\"Score: {metric.score}\")\n",
    "print(f\"Reason: {metric.reason}\")\n"
   ]
  },
  {
   "cell_type": "markdown",
   "id": "54867b0f-54d6-4990-b057-bb28dfd1184f",
   "metadata": {},
   "source": [
    "## 2. Coerência\n",
    "\n",
    "Verifica se a resposta é logicamente consistente e mantém uma sequência de ideias clara."
   ]
  },
  {
   "cell_type": "code",
   "execution_count": 7,
   "id": "58cbf368-d36c-4aab-a061-5259f5b6295f",
   "metadata": {},
   "outputs": [],
   "source": [
    "metric = GEval(\n",
    "    name=\"Coherence\", \n",
    "    criteria=\"Evaluate if the current output is logically consistent and maintains a clear sequence of ideas.\",\n",
    "    evaluation_steps=[\n",
    "        \"Ensure the response maintains a logical progression of thoughts.\",\n",
    "        \"Identify any contradictions or deviations in the flow of information.\",\n",
    "        \"Consider if the response is understandable and follows a cohesive structure.\"\n",
    "    ],\n",
    "    evaluation_params=[LLMTestCaseParams.INPUT, LLMTestCaseParams.ACTUAL_OUTPUT],\n",
    ")\n"
   ]
  },
  {
   "cell_type": "code",
   "execution_count": 8,
   "id": "745290bc-02f9-4744-9fa5-effdff839999",
   "metadata": {},
   "outputs": [
    {
     "data": {
      "application/vnd.jupyter.widget-view+json": {
       "model_id": "",
       "version_major": 2,
       "version_minor": 0
      },
      "text/plain": [
       "Output()"
      ]
     },
     "metadata": {},
     "output_type": "display_data"
    },
    {
     "data": {
      "text/html": [
       "<pre style=\"white-space:pre;overflow-x:auto;line-height:normal;font-family:Menlo,'DejaVu Sans Mono',consolas,'Courier New',monospace\">Event loop is already running. Applying nest_asyncio patch to allow async execution...\n",
       "</pre>\n"
      ],
      "text/plain": [
       "Event loop is already running. Applying nest_asyncio patch to allow async execution...\n"
      ]
     },
     "metadata": {},
     "output_type": "display_data"
    },
    {
     "data": {
      "text/html": [
       "<pre style=\"white-space:pre;overflow-x:auto;line-height:normal;font-family:Menlo,'DejaVu Sans Mono',consolas,'Courier New',monospace\"></pre>\n"
      ],
      "text/plain": []
     },
     "metadata": {},
     "output_type": "display_data"
    },
    {
     "name": "stdout",
     "output_type": "stream",
     "text": [
      "Score: 0.9\n",
      "Reason: The response follows a logical progression of thoughts, identifies no contradictions, and is understandable with a cohesive structure.\n"
     ]
    }
   ],
   "source": [
    "test_case = LLMTestCase(\n",
    "    input=\"Explain the process of photosynthesis.\",\n",
    "    actual_output=(\n",
    "        \"Photosynthesis is the process by which plants convert sunlight into chemical energy. \"\n",
    "        \"First, plants absorb water through their roots and carbon dioxide through their leaves. \"\n",
    "        \"Sunlight is captured by chlorophyll in the chloroplasts, initiating a reaction that produces glucose and oxygen. \"\n",
    "        \"This process is essential for the production of oxygen and is a crucial part of the Earth’s ecosystem.\"\n",
    "    )\n",
    ")\n",
    "\n",
    "metric.measure(test_case)\n",
    "\n",
    "print(f\"Score: {metric.score}\")\n",
    "print(f\"Reason: {metric.reason}\")"
   ]
  },
  {
   "cell_type": "code",
   "execution_count": 9,
   "id": "9fc0032b-106d-46e2-abb9-18e3c1520b63",
   "metadata": {},
   "outputs": [
    {
     "data": {
      "application/vnd.jupyter.widget-view+json": {
       "model_id": "",
       "version_major": 2,
       "version_minor": 0
      },
      "text/plain": [
       "Output()"
      ]
     },
     "metadata": {},
     "output_type": "display_data"
    },
    {
     "data": {
      "text/html": [
       "<pre style=\"white-space:pre;overflow-x:auto;line-height:normal;font-family:Menlo,'DejaVu Sans Mono',consolas,'Courier New',monospace\">Event loop is already running. Applying nest_asyncio patch to allow async execution...\n",
       "</pre>\n"
      ],
      "text/plain": [
       "Event loop is already running. Applying nest_asyncio patch to allow async execution...\n"
      ]
     },
     "metadata": {},
     "output_type": "display_data"
    },
    {
     "data": {
      "text/html": [
       "<pre style=\"white-space:pre;overflow-x:auto;line-height:normal;font-family:Menlo,'DejaVu Sans Mono',consolas,'Courier New',monospace\"></pre>\n"
      ],
      "text/plain": []
     },
     "metadata": {},
     "output_type": "display_data"
    },
    {
     "name": "stdout",
     "output_type": "stream",
     "text": [
      "Score: 0.3\n",
      "Reason: The response contains contradictions (animals capturing sunlight) and deviations from the process of photosynthesis, and lacks a clear explanation of how plants use sunlight to produce sugar.\n"
     ]
    }
   ],
   "source": [
    "test_case = LLMTestCase(\n",
    "    input=\"Explain the process of photosynthesis.\",\n",
    "    actual_output=(\n",
    "        \"Photosynthesis is the process where plants absorb sunlight and produce sugar. \"\n",
    "        \"In this process, animals also play a role in capturing sunlight. \"\n",
    "        \"This helps plants release water into the atmosphere. \"\n",
    "        \"Overall, photosynthesis is about how plants make use of moonlight to grow faster.\"\n",
    "    )\n",
    ")\n",
    "\n",
    "metric.measure(test_case)\n",
    "\n",
    "print(f\"Score: {metric.score}\")\n",
    "print(f\"Reason: {metric.reason}\")"
   ]
  },
  {
   "cell_type": "markdown",
   "id": "bfb1f614-9e85-4fe1-9e15-7164af2a42fc",
   "metadata": {},
   "source": [
    "## 3. Relevância\n",
    "\n",
    "Avalia se a resposta está diretamente relacionada à pergunta ou ao contexto fornecido."
   ]
  },
  {
   "cell_type": "code",
   "execution_count": 10,
   "id": "69de26af-2259-4ac0-98fc-6fae8ec6b2fe",
   "metadata": {},
   "outputs": [],
   "source": [
    "metric = GEval(\n",
    "    name=\"Relevance\",\n",
    "    criteria=\"Evaluate if the current output is directly related to the main subject of the question or context provided.\",\n",
    "    evaluation_steps=[\n",
    "        \"Ensure the response directly addresses the main subject of the question, specifically looking for a clear answer to 'What is the capital of France?'.\",\n",
    "        \"Identify if any extraneous or unrelated information is included.\",\n",
    "        \"Penalize responses that provide background information without answering the question directly.\"\n",
    "    ],\n",
    "    evaluation_params=[LLMTestCaseParams.INPUT, LLMTestCaseParams.ACTUAL_OUTPUT],\n",
    ")\n"
   ]
  },
  {
   "cell_type": "code",
   "execution_count": 11,
   "id": "e42168e9-0f21-45ce-a2fc-de2912f6023d",
   "metadata": {},
   "outputs": [
    {
     "data": {
      "application/vnd.jupyter.widget-view+json": {
       "model_id": "",
       "version_major": 2,
       "version_minor": 0
      },
      "text/plain": [
       "Output()"
      ]
     },
     "metadata": {},
     "output_type": "display_data"
    },
    {
     "data": {
      "text/html": [
       "<pre style=\"white-space:pre;overflow-x:auto;line-height:normal;font-family:Menlo,'DejaVu Sans Mono',consolas,'Courier New',monospace\">Event loop is already running. Applying nest_asyncio patch to allow async execution...\n",
       "</pre>\n"
      ],
      "text/plain": [
       "Event loop is already running. Applying nest_asyncio patch to allow async execution...\n"
      ]
     },
     "metadata": {},
     "output_type": "display_data"
    },
    {
     "data": {
      "text/html": [
       "<pre style=\"white-space:pre;overflow-x:auto;line-height:normal;font-family:Menlo,'DejaVu Sans Mono',consolas,'Courier New',monospace\"></pre>\n"
      ],
      "text/plain": []
     },
     "metadata": {},
     "output_type": "display_data"
    },
    {
     "name": "stdout",
     "output_type": "stream",
     "text": [
      "Score: 1.0\n",
      "Reason: The response directly addresses the main subject of the question and provides a clear answer to 'What is the capital of France?'\n"
     ]
    }
   ],
   "source": [
    "test_case = LLMTestCase(\n",
    "    input=\"What is the capital of France?\",\n",
    "    actual_output=\"The capital of France is Paris.\"\n",
    ")\n",
    "\n",
    "metric.measure(test_case)\n",
    "\n",
    "print(f\"Score: {metric.score}\")\n",
    "print(f\"Reason: {metric.reason}\")"
   ]
  },
  {
   "cell_type": "code",
   "execution_count": 12,
   "id": "b8dfd696-e4d7-4931-9faf-664a42a96332",
   "metadata": {},
   "outputs": [
    {
     "data": {
      "application/vnd.jupyter.widget-view+json": {
       "model_id": "",
       "version_major": 2,
       "version_minor": 0
      },
      "text/plain": [
       "Output()"
      ]
     },
     "metadata": {},
     "output_type": "display_data"
    },
    {
     "data": {
      "text/html": [
       "<pre style=\"white-space:pre;overflow-x:auto;line-height:normal;font-family:Menlo,'DejaVu Sans Mono',consolas,'Courier New',monospace\">Event loop is already running. Applying nest_asyncio patch to allow async execution...\n",
       "</pre>\n"
      ],
      "text/plain": [
       "Event loop is already running. Applying nest_asyncio patch to allow async execution...\n"
      ]
     },
     "metadata": {},
     "output_type": "display_data"
    },
    {
     "data": {
      "text/html": [
       "<pre style=\"white-space:pre;overflow-x:auto;line-height:normal;font-family:Menlo,'DejaVu Sans Mono',consolas,'Courier New',monospace\"></pre>\n"
      ],
      "text/plain": []
     },
     "metadata": {},
     "output_type": "display_data"
    },
    {
     "name": "stdout",
     "output_type": "stream",
     "text": [
      "Score: 0.0\n",
      "Reason: The response provides background information about Buenos Aires and makes a comparison to France, but fails to directly answer the question about the capital of France.\n"
     ]
    }
   ],
   "source": [
    "test_case = LLMTestCase(\n",
    "    input=\"What is the capital of France?\",\n",
    "    actual_output=\"Buenos Aires is known for its rich culture and famous landmarks... \"\n",
    "                  \"and some say it looks a lot like France\"\n",
    ")\n",
    "\n",
    "metric.measure(test_case)\n",
    "\n",
    "print(f\"Score: {metric.score}\")\n",
    "print(f\"Reason: {metric.reason}\")"
   ]
  },
  {
   "cell_type": "markdown",
   "id": "828499c8-b7a2-4ddd-8977-e34826724d5f",
   "metadata": {},
   "source": [
    "## 4. Fluência\n",
    "\n",
    "Analisa a gramática, a estrutura das frases e a naturalidade da linguagem utilizada na resposta."
   ]
  },
  {
   "cell_type": "code",
   "execution_count": 13,
   "id": "813b1375-fcdf-4cfd-8df7-59176f28c7a1",
   "metadata": {},
   "outputs": [],
   "source": [
    "metric = GEval(\n",
    "    name=\"Fluency\",\n",
    "    criteria=\"Evaluate if the current output is grammatically correct, well-structured, and uses natural language.\",  # Descreve o objetivo da métrica\n",
    "    evaluation_steps=[\n",
    "        \"Check if the response is free of grammatical errors; if errors exist, identify them.\",  # Verifica e identifica erros gramaticais\n",
    "        \"Ensure the sentence structure is clear and well-formed; specify any issues with structure.\",  # Garante que a estrutura da frase é clara, especificando problemas\n",
    "        \"Assess if the language sounds natural and fluent; indicate any awkward phrasing or unnatural language.\"  # Identifica frases ou construções pouco naturais\n",
    "    ],\n",
    "    evaluation_params=[LLMTestCaseParams.ACTUAL_OUTPUT]\n",
    ")\n",
    "\n"
   ]
  },
  {
   "cell_type": "code",
   "execution_count": 14,
   "id": "2eb35cdf-aef3-4de0-be27-9d3658f0afc6",
   "metadata": {},
   "outputs": [
    {
     "data": {
      "application/vnd.jupyter.widget-view+json": {
       "model_id": "",
       "version_major": 2,
       "version_minor": 0
      },
      "text/plain": [
       "Output()"
      ]
     },
     "metadata": {},
     "output_type": "display_data"
    },
    {
     "data": {
      "text/html": [
       "<pre style=\"white-space:pre;overflow-x:auto;line-height:normal;font-family:Menlo,'DejaVu Sans Mono',consolas,'Courier New',monospace\">Event loop is already running. Applying nest_asyncio patch to allow async execution...\n",
       "</pre>\n"
      ],
      "text/plain": [
       "Event loop is already running. Applying nest_asyncio patch to allow async execution...\n"
      ]
     },
     "metadata": {},
     "output_type": "display_data"
    },
    {
     "data": {
      "text/html": [
       "<pre style=\"white-space:pre;overflow-x:auto;line-height:normal;font-family:Menlo,'DejaVu Sans Mono',consolas,'Courier New',monospace\"></pre>\n"
      ],
      "text/plain": []
     },
     "metadata": {},
     "output_type": "display_data"
    },
    {
     "name": "stdout",
     "output_type": "stream",
     "text": [
      "Score: 0.9\n",
      "Reason: The text is free of grammatical errors, has clear and well-formed sentence structure, and natural language.\n"
     ]
    }
   ],
   "source": [
    "test_case = LLMTestCase(\n",
    "    input=\"Explain the purpose of photosynthesis in plants.\",\n",
    "    actual_output=\"Photosynthesis allows plants to convert sunlight into energy. Through this process, plants produce oxygen and glucose, which they use for growth and energy storage. This process is essential for plant survival and supports life on Earth by producing oxygen.\"\n",
    ")\n",
    "metric.measure(test_case)\n",
    "\n",
    "print(f\"Score: {metric.score}\")\n",
    "print(f\"Reason: {metric.reason}\")"
   ]
  },
  {
   "cell_type": "code",
   "execution_count": 17,
   "id": "d2625601-70ee-440b-bfe1-e81732ddcce8",
   "metadata": {},
   "outputs": [
    {
     "data": {
      "application/vnd.jupyter.widget-view+json": {
       "model_id": "",
       "version_major": 2,
       "version_minor": 0
      },
      "text/plain": [
       "Output()"
      ]
     },
     "metadata": {},
     "output_type": "display_data"
    },
    {
     "data": {
      "text/html": [
       "<pre style=\"white-space:pre;overflow-x:auto;line-height:normal;font-family:Menlo,'DejaVu Sans Mono',consolas,'Courier New',monospace\">Event loop is already running. Applying nest_asyncio patch to allow async execution...\n",
       "</pre>\n"
      ],
      "text/plain": [
       "Event loop is already running. Applying nest_asyncio patch to allow async execution...\n"
      ]
     },
     "metadata": {},
     "output_type": "display_data"
    },
    {
     "data": {
      "text/html": [
       "<pre style=\"white-space:pre;overflow-x:auto;line-height:normal;font-family:Menlo,'DejaVu Sans Mono',consolas,'Courier New',monospace\"></pre>\n"
      ],
      "text/plain": []
     },
     "metadata": {},
     "output_type": "display_data"
    },
    {
     "name": "stdout",
     "output_type": "stream",
     "text": [
      "Score: 0.4\n",
      "Reason: The sentence structure is unclear, with multiple sentences that seem to be run together. The language sounds somewhat natural but contains awkward phrasing.\n"
     ]
    }
   ],
   "source": [
    "test_case = LLMTestCase(\n",
    "    input=\"Explain the purpose of photosynthesis in plants.\",\n",
    "    actual_output=\"Photosynthesis very important process it make plant food from sun energy. Plants use water, light for make food oxygen make by plants.\"\n",
    ")\n",
    "\n",
    "metric.measure(test_case)\n",
    "\n",
    "print(f\"Score: {metric.score}\")\n",
    "print(f\"Reason: {metric.reason}\")"
   ]
  },
  {
   "cell_type": "markdown",
   "id": "bfd83cac-68c4-4bc1-8349-00207a6631fd",
   "metadata": {},
   "source": [
    "## 5. Consistência \n",
    "\n",
    "Determina se a resposta é internamente consistente e não apresenta contradições."
   ]
  },
  {
   "cell_type": "code",
   "execution_count": 18,
   "id": "66c503c3-56cc-4a3e-99e3-72900b74e232",
   "metadata": {},
   "outputs": [],
   "source": [
    "metric = GEval(\n",
    "    name=\"Consistency\",\n",
    "    criteria=\"Evaluate if the current output is internally consistent and does not contain contradictions.\",\n",
    "    evaluation_steps=[\n",
    "        \"Ensure there are no contradictions within the response.\",\n",
    "        \"Check if the response maintains a consistent stance or information throughout.\",\n",
    "        \"Identify and penalize any shifts in perspective or conflicting statements within the answer.\"\n",
    "    ],\n",
    "    evaluation_params=[LLMTestCaseParams.ACTUAL_OUTPUT]\n",
    ")"
   ]
  },
  {
   "cell_type": "code",
   "execution_count": 19,
   "id": "5cd35d5f-50f4-4af3-a324-2ee452fb90ee",
   "metadata": {},
   "outputs": [
    {
     "data": {
      "application/vnd.jupyter.widget-view+json": {
       "model_id": "",
       "version_major": 2,
       "version_minor": 0
      },
      "text/plain": [
       "Output()"
      ]
     },
     "metadata": {},
     "output_type": "display_data"
    },
    {
     "data": {
      "text/html": [
       "<pre style=\"white-space:pre;overflow-x:auto;line-height:normal;font-family:Menlo,'DejaVu Sans Mono',consolas,'Courier New',monospace\">Event loop is already running. Applying nest_asyncio patch to allow async execution...\n",
       "</pre>\n"
      ],
      "text/plain": [
       "Event loop is already running. Applying nest_asyncio patch to allow async execution...\n"
      ]
     },
     "metadata": {},
     "output_type": "display_data"
    },
    {
     "data": {
      "text/html": [
       "<pre style=\"white-space:pre;overflow-x:auto;line-height:normal;font-family:Menlo,'DejaVu Sans Mono',consolas,'Courier New',monospace\"></pre>\n"
      ],
      "text/plain": []
     },
     "metadata": {},
     "output_type": "display_data"
    },
    {
     "name": "stdout",
     "output_type": "stream",
     "text": [
      "Score: 0.9\n",
      "Reason: The response maintains a consistent stance on recycling's importance, and there are no apparent contradictions or shifts in perspective.\n"
     ]
    }
   ],
   "source": [
    "test_case = LLMTestCase(\n",
    "    input=\"Explain the importance of recycling.\",\n",
    "    actual_output=(\n",
    "        \"Recycling is essential for reducing waste and conserving natural resources. \"\n",
    "        \"By reusing materials like paper, plastic, and metal, we reduce the need for new resources, \"\n",
    "        \"which can help preserve ecosystems and reduce pollution. Recycling also reduces the amount of waste sent to landfills, \"\n",
    "        \"which can decrease greenhouse gas emissions and help combat climate change.\"\n",
    "    )\n",
    ")\n",
    "metric.measure(test_case)\n",
    "\n",
    "print(f\"Score: {metric.score}\")\n",
    "print(f\"Reason: {metric.reason}\")"
   ]
  },
  {
   "cell_type": "code",
   "execution_count": 20,
   "id": "87dbbcec-66ba-45d8-ba50-66f4ad16f5ed",
   "metadata": {},
   "outputs": [
    {
     "data": {
      "application/vnd.jupyter.widget-view+json": {
       "model_id": "",
       "version_major": 2,
       "version_minor": 0
      },
      "text/plain": [
       "Output()"
      ]
     },
     "metadata": {},
     "output_type": "display_data"
    },
    {
     "data": {
      "text/html": [
       "<pre style=\"white-space:pre;overflow-x:auto;line-height:normal;font-family:Menlo,'DejaVu Sans Mono',consolas,'Courier New',monospace\">Event loop is already running. Applying nest_asyncio patch to allow async execution...\n",
       "</pre>\n"
      ],
      "text/plain": [
       "Event loop is already running. Applying nest_asyncio patch to allow async execution...\n"
      ]
     },
     "metadata": {},
     "output_type": "display_data"
    },
    {
     "data": {
      "text/html": [
       "<pre style=\"white-space:pre;overflow-x:auto;line-height:normal;font-family:Menlo,'DejaVu Sans Mono',consolas,'Courier New',monospace\"></pre>\n"
      ],
      "text/plain": []
     },
     "metadata": {},
     "output_type": "display_data"
    },
    {
     "name": "stdout",
     "output_type": "stream",
     "text": [
      "Score: 0.4\n",
      "Reason: The text acknowledges both benefits and limitations of exercise on mental health, but fails to maintain a consistent stance or perspective throughout.\n"
     ]
    }
   ],
   "source": [
    "test_case = LLMTestCase(\n",
    "    input=\"Is exercise beneficial for mental health?\",\n",
    "    actual_output=(\n",
    "        \"Exercise is highly beneficial for mental health. Regular physical activity releases endorphins, \"\n",
    "        \"which can improve mood and reduce stress. However, exercise does not significantly impact mental well-being, \"\n",
    "        \"and some studies suggest that physical activity might not be effective for mental health improvement.\"\n",
    "    )\n",
    ")\n",
    "metric.measure(test_case)\n",
    "\n",
    "print(f\"Score: {metric.score}\")\n",
    "print(f\"Reason: {metric.reason}\")"
   ]
  },
  {
   "cell_type": "markdown",
   "id": "b3623b75-8b9e-40d7-bbf3-ae534ec35d3f",
   "metadata": {},
   "source": [
    "## 6. Detalhamento \n",
    "\n",
    "Avalia o nível de profundidade e especificidade das informações fornecidas na resposta."
   ]
  },
  {
   "cell_type": "code",
   "execution_count": 21,
   "id": "f8ca52bf-76aa-420b-94fa-b6920aa3b32a",
   "metadata": {},
   "outputs": [],
   "source": [
    "metric = GEval(\n",
    "    name=\"Detailing\",\n",
    "    criteria=\"Evaluate if the current output provides sufficient depth and specificity in the information given.\",\n",
    "    evaluation_steps=[\n",
    "        \"Check if the response covers key aspects of the topic with sufficient depth.\",\n",
    "        \"Identify if any important details are missing or only briefly mentioned.\",\n",
    "        \"Assess if the response avoids vague language and provides specific, informative content.\"\n",
    "    ],\n",
    "    evaluation_params=[LLMTestCaseParams.INPUT, LLMTestCaseParams.ACTUAL_OUTPUT]\n",
    ")\n"
   ]
  },
  {
   "cell_type": "code",
   "execution_count": 22,
   "id": "8bceca29-6cf3-44fa-8775-4e538540aaea",
   "metadata": {},
   "outputs": [
    {
     "data": {
      "application/vnd.jupyter.widget-view+json": {
       "model_id": "",
       "version_major": 2,
       "version_minor": 0
      },
      "text/plain": [
       "Output()"
      ]
     },
     "metadata": {},
     "output_type": "display_data"
    },
    {
     "data": {
      "text/html": [
       "<pre style=\"white-space:pre;overflow-x:auto;line-height:normal;font-family:Menlo,'DejaVu Sans Mono',consolas,'Courier New',monospace\">Event loop is already running. Applying nest_asyncio patch to allow async execution...\n",
       "</pre>\n"
      ],
      "text/plain": [
       "Event loop is already running. Applying nest_asyncio patch to allow async execution...\n"
      ]
     },
     "metadata": {},
     "output_type": "display_data"
    },
    {
     "data": {
      "text/html": [
       "<pre style=\"white-space:pre;overflow-x:auto;line-height:normal;font-family:Menlo,'DejaVu Sans Mono',consolas,'Courier New',monospace\"></pre>\n"
      ],
      "text/plain": []
     },
     "metadata": {},
     "output_type": "display_data"
    },
    {
     "name": "stdout",
     "output_type": "stream",
     "text": [
      "Score: 0.9\n",
      "Reason: The response covers key aspects of composting, provides a balanced ratio of carbon-rich and nitrogen-rich materials, and mentions benefits such as reducing landfill waste and enhancing water retention.\n"
     ]
    }
   ],
   "source": [
    "test_case = LLMTestCase(\n",
    "    input=\"Explain the process and benefits of composting.\",\n",
    "    actual_output=(\n",
    "        \"Composting is the process of breaking down organic waste, such as food scraps and yard waste, \"\n",
    "        \"into a nutrient-rich soil amendment. The process involves combining carbon-rich materials (like leaves and straw) \"\n",
    "        \"with nitrogen-rich materials (like food scraps and grass clippings) in a balanced ratio. Microorganisms then decompose \"\n",
    "        \"these materials in the presence of moisture and oxygen. Benefits of composting include reducing landfill waste, \"\n",
    "        \"enriching soil with nutrients, improving soil structure, and enhancing water retention. This process also reduces the need \"\n",
    "        \"for chemical fertilizers and decreases greenhouse gas emissions from organic waste in landfills.\"\n",
    "    )\n",
    ")\n",
    "\n",
    "metric.measure(test_case)\n",
    "\n",
    "print(f\"Score: {metric.score}\")\n",
    "print(f\"Reason: {metric.reason}\")"
   ]
  },
  {
   "cell_type": "code",
   "execution_count": 23,
   "id": "1d94dc58-6ad1-4de5-9054-a56fb0f507bc",
   "metadata": {},
   "outputs": [
    {
     "data": {
      "application/vnd.jupyter.widget-view+json": {
       "model_id": "",
       "version_major": 2,
       "version_minor": 0
      },
      "text/plain": [
       "Output()"
      ]
     },
     "metadata": {},
     "output_type": "display_data"
    },
    {
     "data": {
      "text/html": [
       "<pre style=\"white-space:pre;overflow-x:auto;line-height:normal;font-family:Menlo,'DejaVu Sans Mono',consolas,'Courier New',monospace\">Event loop is already running. Applying nest_asyncio patch to allow async execution...\n",
       "</pre>\n"
      ],
      "text/plain": [
       "Event loop is already running. Applying nest_asyncio patch to allow async execution...\n"
      ]
     },
     "metadata": {},
     "output_type": "display_data"
    },
    {
     "data": {
      "text/html": [
       "<pre style=\"white-space:pre;overflow-x:auto;line-height:normal;font-family:Menlo,'DejaVu Sans Mono',consolas,'Courier New',monospace\"></pre>\n"
      ],
      "text/plain": []
     },
     "metadata": {},
     "output_type": "display_data"
    },
    {
     "name": "stdout",
     "output_type": "stream",
     "text": [
      "Score: 0.4\n",
      "Reason: The response lacks depth on the topic, fails to mention benefits, and uses vague language.\n"
     ]
    }
   ],
   "source": [
    "test_case = LLMTestCase(\n",
    "    input=\"Explain the process and benefits of composting.\",\n",
    "    actual_output=(\n",
    "        \"Composting is a way to recycle.\"\n",
    "    )\n",
    ")\n",
    "\n",
    "metric.measure(test_case)\n",
    "\n",
    "print(f\"Score: {metric.score}\")\n",
    "print(f\"Reason: {metric.reason}\")"
   ]
  },
  {
   "cell_type": "markdown",
   "id": "d4a186bb-39f1-49c6-a52b-d1025cad41f2",
   "metadata": {},
   "source": [
    "## 7. Originalidade\n",
    "\n",
    "Verifica se a resposta apresenta ideias ou informações novas, evitando repetições ou clichês."
   ]
  },
  {
   "cell_type": "code",
   "execution_count": 24,
   "id": "b759e232-7287-4f78-8cb3-39f642234a15",
   "metadata": {},
   "outputs": [],
   "source": [
    "metric = GEval(\n",
    "    name=\"Originality\",\n",
    "    criteria=\"Evaluate if the current output provides new ideas or information and avoids clichés or repetitive content.\",  # Descreve o objetivo da métrica\n",
    "    evaluation_steps=[\n",
    "        \"Check if the response introduces fresh perspectives or unique information on the topic.\",  # Verifica se há ideias ou perspectivas novas\n",
    "        \"Identify if there is any repetitive content or overused phrases, and penalize them.\",  # Penaliza o uso de clichês ou repetições\n",
    "        \"Assess if the response is free from common or predictable statements, aiming for originality and creativity.\"  # Avalia se a resposta evita declarações previsíveis\n",
    "    ],\n",
    "    evaluation_params=[LLMTestCaseParams.INPUT, LLMTestCaseParams.ACTUAL_OUTPUT]\n",
    ")"
   ]
  },
  {
   "cell_type": "code",
   "execution_count": 25,
   "id": "1ffe6ad8-cbb1-4d64-a1db-b1f47e7fa577",
   "metadata": {},
   "outputs": [
    {
     "data": {
      "application/vnd.jupyter.widget-view+json": {
       "model_id": "",
       "version_major": 2,
       "version_minor": 0
      },
      "text/plain": [
       "Output()"
      ]
     },
     "metadata": {},
     "output_type": "display_data"
    },
    {
     "data": {
      "text/html": [
       "<pre style=\"white-space:pre;overflow-x:auto;line-height:normal;font-family:Menlo,'DejaVu Sans Mono',consolas,'Courier New',monospace\">Event loop is already running. Applying nest_asyncio patch to allow async execution...\n",
       "</pre>\n"
      ],
      "text/plain": [
       "Event loop is already running. Applying nest_asyncio patch to allow async execution...\n"
      ]
     },
     "metadata": {},
     "output_type": "display_data"
    },
    {
     "data": {
      "text/html": [
       "<pre style=\"white-space:pre;overflow-x:auto;line-height:normal;font-family:Menlo,'DejaVu Sans Mono',consolas,'Courier New',monospace\"></pre>\n"
      ],
      "text/plain": []
     },
     "metadata": {},
     "output_type": "display_data"
    },
    {
     "name": "stdout",
     "output_type": "stream",
     "text": [
      "Score: 0.9\n",
      "Reason: The response introduces fresh perspectives, avoids repetitive content, and presents original ideas for reducing plastic waste.\n"
     ]
    }
   ],
   "source": [
    "test_case = LLMTestCase(\n",
    "    input=\"What are some unique ways to reduce plastic waste?\",\n",
    "    actual_output=(\n",
    "        \"One innovative approach to reducing plastic waste is to support companies that develop biodegradable packaging made from seaweed. \"\n",
    "        \"Another idea is to use refill stations at grocery stores where customers bring their own containers for essentials like grains, oil, and cleaning products. \"\n",
    "        \"Additionally, some communities are introducing plastic-free libraries, where people can borrow reusable items like bags and containers, minimizing the need for single-use plastics.\"\n",
    "    )\n",
    ")\n",
    "\n",
    "metric.measure(test_case)\n",
    "\n",
    "print(f\"Score: {metric.score}\")\n",
    "print(f\"Reason: {metric.reason}\")"
   ]
  },
  {
   "cell_type": "code",
   "execution_count": 30,
   "id": "c1af0e2e-8537-46e8-a2ac-8991475a150c",
   "metadata": {},
   "outputs": [
    {
     "data": {
      "application/vnd.jupyter.widget-view+json": {
       "model_id": "",
       "version_major": 2,
       "version_minor": 0
      },
      "text/plain": [
       "Output()"
      ]
     },
     "metadata": {},
     "output_type": "display_data"
    },
    {
     "data": {
      "text/html": [
       "<pre style=\"white-space:pre;overflow-x:auto;line-height:normal;font-family:Menlo,'DejaVu Sans Mono',consolas,'Courier New',monospace\">Event loop is already running. Applying nest_asyncio patch to allow async execution...\n",
       "</pre>\n"
      ],
      "text/plain": [
       "Event loop is already running. Applying nest_asyncio patch to allow async execution...\n"
      ]
     },
     "metadata": {},
     "output_type": "display_data"
    },
    {
     "data": {
      "text/html": [
       "<pre style=\"white-space:pre;overflow-x:auto;line-height:normal;font-family:Menlo,'DejaVu Sans Mono',consolas,'Courier New',monospace\"></pre>\n"
      ],
      "text/plain": []
     },
     "metadata": {},
     "output_type": "display_data"
    },
    {
     "name": "stdout",
     "output_type": "stream",
     "text": [
      "Score: 0.4\n",
      "Reason: The response lacks fresh perspectives, contains repetitive content, and relies on predictable statements.\n"
     ]
    }
   ],
   "source": [
    "test_case = LLMTestCase(\n",
    "    input=\"What are some unique ways to reduce plastic waste?\",\n",
    "    actual_output=(\n",
    "        \"To reduce plastic waste, remember to always recycle.\" \n",
    "    )\n",
    ")\n",
    "\n",
    "metric.measure(test_case)\n",
    "\n",
    "print(f\"Score: {metric.score}\")\n",
    "print(f\"Reason: {metric.reason}\")"
   ]
  },
  {
   "cell_type": "markdown",
   "id": "f939dcd5-d1c1-4838-9021-a6b9bc1f254f",
   "metadata": {},
   "source": [
    "## 8. Adequação ao Público\n",
    "\n",
    "Analisa se a resposta é apropriada para o público-alvo em termos de linguagem, formalidade e conteúdo."
   ]
  },
  {
   "cell_type": "code",
   "execution_count": 31,
   "id": "bd9be393-99bb-4b8d-8873-4ea9a474a100",
   "metadata": {},
   "outputs": [],
   "source": [
    "metric = GEval(\n",
    "    name=\"Audience Appropriateness\",\n",
    "    criteria=\"Evaluate if the current output is appropriate for a young audience (up to 5 years old) in terms of language, formality, and content.\",  # Descreve o objetivo da métrica\n",
    "    evaluation_steps=[\n",
    "        \"Check if the language is simple and easy to understand for young children (up to 5 years old).\",\n",
    "        \"Ensure that the content is age-appropriate, avoiding complex or mature topics.\",\n",
    "        \"Assess if the tone is friendly and engaging, suitable for a young audience.\"\n",
    "    ],\n",
    "    evaluation_params=[LLMTestCaseParams.INPUT, LLMTestCaseParams.ACTUAL_OUTPUT]\n",
    ")\n"
   ]
  },
  {
   "cell_type": "code",
   "execution_count": 32,
   "id": "2a0548a9-080c-40d2-8089-ffaa3b4f1f70",
   "metadata": {},
   "outputs": [
    {
     "data": {
      "application/vnd.jupyter.widget-view+json": {
       "model_id": "",
       "version_major": 2,
       "version_minor": 0
      },
      "text/plain": [
       "Output()"
      ]
     },
     "metadata": {},
     "output_type": "display_data"
    },
    {
     "data": {
      "text/html": [
       "<pre style=\"white-space:pre;overflow-x:auto;line-height:normal;font-family:Menlo,'DejaVu Sans Mono',consolas,'Courier New',monospace\">Event loop is already running. Applying nest_asyncio patch to allow async execution...\n",
       "</pre>\n"
      ],
      "text/plain": [
       "Event loop is already running. Applying nest_asyncio patch to allow async execution...\n"
      ]
     },
     "metadata": {},
     "output_type": "display_data"
    },
    {
     "data": {
      "text/html": [
       "<pre style=\"white-space:pre;overflow-x:auto;line-height:normal;font-family:Menlo,'DejaVu Sans Mono',consolas,'Courier New',monospace\"></pre>\n"
      ],
      "text/plain": []
     },
     "metadata": {},
     "output_type": "display_data"
    },
    {
     "name": "stdout",
     "output_type": "stream",
     "text": [
      "Score: 1.0\n",
      "Reason: The content is age-appropriate, the tone is friendly and engaging, and the language is simple and easy to understand for young children.\n"
     ]
    }
   ],
   "source": [
    "test_case = LLMTestCase(\n",
    "    input=\"What is a rainbow?\",\n",
    "    actual_output=(\n",
    "        \"A rainbow is a big, colorful bow in the sky! It happens when sunshine and rain mix with raindrops. \"\n",
    "        \"You might see red, yellow, blue, and lots of pretty colors. Isn’t it magical?\"\n",
    "    )\n",
    ")\n",
    "\n",
    "metric.measure(test_case)\n",
    "\n",
    "print(f\"Score: {metric.score}\")\n",
    "print(f\"Reason: {metric.reason}\")"
   ]
  },
  {
   "cell_type": "code",
   "execution_count": 33,
   "id": "0be54cdd-73d4-41e5-85be-4a63579fb050",
   "metadata": {},
   "outputs": [
    {
     "data": {
      "application/vnd.jupyter.widget-view+json": {
       "model_id": "",
       "version_major": 2,
       "version_minor": 0
      },
      "text/plain": [
       "Output()"
      ]
     },
     "metadata": {},
     "output_type": "display_data"
    },
    {
     "data": {
      "text/html": [
       "<pre style=\"white-space:pre;overflow-x:auto;line-height:normal;font-family:Menlo,'DejaVu Sans Mono',consolas,'Courier New',monospace\">Event loop is already running. Applying nest_asyncio patch to allow async execution...\n",
       "</pre>\n"
      ],
      "text/plain": [
       "Event loop is already running. Applying nest_asyncio patch to allow async execution...\n"
      ]
     },
     "metadata": {},
     "output_type": "display_data"
    },
    {
     "data": {
      "text/html": [
       "<pre style=\"white-space:pre;overflow-x:auto;line-height:normal;font-family:Menlo,'DejaVu Sans Mono',consolas,'Courier New',monospace\"></pre>\n"
      ],
      "text/plain": []
     },
     "metadata": {},
     "output_type": "display_data"
    },
    {
     "name": "stdout",
     "output_type": "stream",
     "text": [
      "Score: 0.0\n",
      "Reason: The content is too complex for young children and lacks a friendly tone.\n"
     ]
    }
   ],
   "source": [
    "test_case = LLMTestCase(\n",
    "    input=\"What is a rainbow?\",\n",
    "    actual_output=(\n",
    "        \"A rainbow forms when sunlight enters raindrops and bends, reflecting and refracting within the droplets. \"\n",
    "        \"The light is split into multiple wavelengths, resulting in a spectrum. This process involves intricate optical physics, \"\n",
    "        \"and the resulting visual effect is dependent on precise angles between the observer, sunlight, and water droplets.\"\n",
    "    )\n",
    ")\n",
    "\n",
    "metric.measure(test_case)\n",
    "\n",
    "print(f\"Score: {metric.score}\")\n",
    "print(f\"Reason: {metric.reason}\")"
   ]
  },
  {
   "cell_type": "markdown",
   "id": "a9876a03-7217-4c4f-8f1e-f410118c1bc6",
   "metadata": {},
   "source": [
    "## 9. Empatia \n",
    "\n",
    "Avalia se a resposta demonstra compreensão e consideração pelas emoções ou perspectivas do interlocutor."
   ]
  },
  {
   "cell_type": "code",
   "execution_count": 34,
   "id": "158b8076-adc6-4251-9f68-0c2b5cfaf2cf",
   "metadata": {},
   "outputs": [],
   "source": [
    "metric = GEval(\n",
    "    name=\"Empathy\",\n",
    "    criteria=\"Evaluate if the current output demonstrates understanding and consideration for the emotions or perspectives of a sensitive audience.\",\n",
    "    evaluation_steps=[\n",
    "        \"Check if the response acknowledges and respects the emotions or concerns of the audience.\",\n",
    "        \"Ensure that the language used is sensitive and avoids triggering phrases or dismissive tones.\",\n",
    "        \"Assess if the response shows support, compassion, or reassurance where appropriate.\"\n",
    "    ],\n",
    "    evaluation_params=[LLMTestCaseParams.INPUT, LLMTestCaseParams.ACTUAL_OUTPUT]\n",
    ")\n"
   ]
  },
  {
   "cell_type": "code",
   "execution_count": 35,
   "id": "e710af79-9548-4ca9-a995-001a415ae256",
   "metadata": {},
   "outputs": [
    {
     "data": {
      "application/vnd.jupyter.widget-view+json": {
       "model_id": "",
       "version_major": 2,
       "version_minor": 0
      },
      "text/plain": [
       "Output()"
      ]
     },
     "metadata": {},
     "output_type": "display_data"
    },
    {
     "data": {
      "text/html": [
       "<pre style=\"white-space:pre;overflow-x:auto;line-height:normal;font-family:Menlo,'DejaVu Sans Mono',consolas,'Courier New',monospace\">Event loop is already running. Applying nest_asyncio patch to allow async execution...\n",
       "</pre>\n"
      ],
      "text/plain": [
       "Event loop is already running. Applying nest_asyncio patch to allow async execution...\n"
      ]
     },
     "metadata": {},
     "output_type": "display_data"
    },
    {
     "data": {
      "text/html": [
       "<pre style=\"white-space:pre;overflow-x:auto;line-height:normal;font-family:Menlo,'DejaVu Sans Mono',consolas,'Courier New',monospace\"></pre>\n"
      ],
      "text/plain": []
     },
     "metadata": {},
     "output_type": "display_data"
    },
    {
     "name": "stdout",
     "output_type": "stream",
     "text": [
      "Score: 0.9\n",
      "Reason: The response acknowledges and respects the emotions of the audience, uses sensitive language, and shows support and compassion.\n"
     ]
    }
   ],
   "source": [
    "test_case = LLMTestCase(\n",
    "    input=\"I'm feeling really anxious about my job security.\",\n",
    "    actual_output=(\n",
    "        \"I'm so sorry you're feeling this way. Job security concerns can be very overwhelming, \"\n",
    "        \"and it’s completely natural to feel anxious about it. Remember that it’s okay to feel worried, \"\n",
    "        \"and there are people who can support you during this time. Taking things one step at a time can help, \"\n",
    "        \"and don’t hesitate to reach out if you need someone to talk to.\"\n",
    "    )\n",
    ")\n",
    "\n",
    "metric.measure(test_case)\n",
    "\n",
    "print(f\"Score: {metric.score}\")\n",
    "print(f\"Reason: {metric.reason}\")"
   ]
  },
  {
   "cell_type": "code",
   "execution_count": 36,
   "id": "03056db6-0ea7-4803-8334-20c3cc384366",
   "metadata": {},
   "outputs": [
    {
     "data": {
      "application/vnd.jupyter.widget-view+json": {
       "model_id": "",
       "version_major": 2,
       "version_minor": 0
      },
      "text/plain": [
       "Output()"
      ]
     },
     "metadata": {},
     "output_type": "display_data"
    },
    {
     "data": {
      "text/html": [
       "<pre style=\"white-space:pre;overflow-x:auto;line-height:normal;font-family:Menlo,'DejaVu Sans Mono',consolas,'Courier New',monospace\">Event loop is already running. Applying nest_asyncio patch to allow async execution...\n",
       "</pre>\n"
      ],
      "text/plain": [
       "Event loop is already running. Applying nest_asyncio patch to allow async execution...\n"
      ]
     },
     "metadata": {},
     "output_type": "display_data"
    },
    {
     "data": {
      "text/html": [
       "<pre style=\"white-space:pre;overflow-x:auto;line-height:normal;font-family:Menlo,'DejaVu Sans Mono',consolas,'Courier New',monospace\"></pre>\n"
      ],
      "text/plain": []
     },
     "metadata": {},
     "output_type": "display_data"
    },
    {
     "name": "stdout",
     "output_type": "stream",
     "text": [
      "Score: 0.0\n",
      "Reason: The response acknowledges no emotions, uses dismissive language and tone, and lacks support or compassion.\n"
     ]
    }
   ],
   "source": [
    "test_case = LLMTestCase(\n",
    "    input=\"I'm feeling really anxious about my job security.\",\n",
    "    actual_output=(\n",
    "        \"Just stop complaining and get back to work rigth now!!!\"\n",
    "    )\n",
    ")\n",
    "\n",
    "metric.measure(test_case)\n",
    "\n",
    "print(f\"Score: {metric.score}\")\n",
    "print(f\"Reason: {metric.reason}\")"
   ]
  },
  {
   "cell_type": "code",
   "execution_count": null,
   "id": "5bc4c060-6fa4-4645-ba8d-25a0a854369e",
   "metadata": {},
   "outputs": [],
   "source": []
  }
 ],
 "metadata": {
  "kernelspec": {
   "display_name": "Python 3 (ipykernel)",
   "language": "python",
   "name": "python3"
  },
  "language_info": {
   "codemirror_mode": {
    "name": "ipython",
    "version": 3
   },
   "file_extension": ".py",
   "mimetype": "text/x-python",
   "name": "python",
   "nbconvert_exporter": "python",
   "pygments_lexer": "ipython3",
   "version": "3.11.9"
  }
 },
 "nbformat": 4,
 "nbformat_minor": 5
}
