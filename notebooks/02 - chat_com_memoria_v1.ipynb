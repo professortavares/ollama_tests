{
 "cells": [
  {
   "cell_type": "markdown",
   "id": "31dc4740-0875-418f-b79d-e081d937b906",
   "metadata": {},
   "source": [
    "## Simulação de uma LLM com memória da conversa"
   ]
  },
  {
   "cell_type": "code",
   "execution_count": 1,
   "id": "e183fc41-5672-4740-881b-3dad338dd67f",
   "metadata": {},
   "outputs": [],
   "source": [
    "from langchain_ollama import ChatOllama\n",
    "from langchain.chains import ConversationChain\n",
    "from langchain.memory import ConversationBufferMemory"
   ]
  },
  {
   "cell_type": "markdown",
   "id": "b20c92cc-caac-4f7b-af1a-d9b4b1837e15",
   "metadata": {},
   "source": [
    "## Utilização do llama3.1 com interface via ollama\n",
    "\n",
    "**todo** Resolver a questão da biblioteca que está 'deprecated'\n",
    "\n",
    "```\n",
    "LangChainDeprecationWarning: Please see the migration guide at: https://python.langchain.com/docs/versions/migrating_memory/\n",
    "  memory = ConversationBufferMemory()\n",
    "C:\\Users\\leona\\AppData\\Local\\Temp\\ipykernel_19720\\3554979581.py:3: LangChainDeprecationWarning: The class `ConversationChain` was deprecated in LangChain 0.2.7 and will be removed in 1.0. Use :meth:`~RunnableWithMessageHistory: https://python.langchain.com/v0.2/api_reference/core/runnables/langchain_core.runnables.history.RunnableWithMessageHistory.html` instead.\n",
    "  conversation = ConversationChain(\n",
    "```\n"
   ]
  },
  {
   "cell_type": "code",
   "execution_count": 2,
   "id": "13ec592a-9362-4242-b843-d208466d34c4",
   "metadata": {},
   "outputs": [
    {
     "name": "stderr",
     "output_type": "stream",
     "text": [
      "C:\\Users\\leona\\AppData\\Local\\Temp\\ipykernel_27720\\214146847.py:2: LangChainDeprecationWarning: Please see the migration guide at: https://python.langchain.com/docs/versions/migrating_memory/\n",
      "  memory = ConversationBufferMemory()\n",
      "C:\\Users\\leona\\AppData\\Local\\Temp\\ipykernel_27720\\214146847.py:3: LangChainDeprecationWarning: The class `ConversationChain` was deprecated in LangChain 0.2.7 and will be removed in 1.0. Use :meth:`~RunnableWithMessageHistory: https://python.langchain.com/v0.2/api_reference/core/runnables/langchain_core.runnables.history.RunnableWithMessageHistory.html` instead.\n",
      "  conversation = ConversationChain(\n"
     ]
    }
   ],
   "source": [
    "chat = ChatOllama(model=\"llama3.2\")\n",
    "memory = ConversationBufferMemory()\n",
    "conversation = ConversationChain(\n",
    "    llm=chat,\n",
    "    memory=memory\n",
    ")"
   ]
  },
  {
   "cell_type": "markdown",
   "id": "131b56a5-76e4-48ba-a37f-9518568e18b6",
   "metadata": {},
   "source": [
    "## Pergunta para iniciar a conversa"
   ]
  },
  {
   "cell_type": "code",
   "execution_count": 3,
   "id": "24196b08-37af-492e-87f2-730a003cdf6b",
   "metadata": {},
   "outputs": [
    {
     "name": "stdout",
     "output_type": "stream",
     "text": [
      "Olá! É um prazer conversar com você!\n",
      "\n",
      "Albert Einstein foi uma das figuras mais influentes do século XX. Ele nasceu em 14 de março de 1879, na cidade de Ulm, na Alemanha, e é considerado um dos físicos mais importantes da história.\n",
      "\n",
      "Einstein é famoso por sua teoria da relatividade, que revolucionou nossa compreensão do espaço e do tempo. Ele também desenvolveu a fórmula E=mc², que relaciona a energia (E) com a massa (m) e a velocidade da luz (c).\n",
      "\n",
      "Além disso, Einstein foi um teórico e físico que defendeu o uso de fontes de energia nucleares para fins pacíficos. Ele também foi um ativista contra a guerra e defendeu os direitos civis.\n",
      "\n",
      "Einstein recebeu vários prêmios importantes, incluindo o Prêmio Nobel de Física em 1921, por sua teoria da relatividade geral. Ele é considerado um dos científicos mais influentes do século XX e continua a ser uma figura importante na cultura popular até hoje.\n",
      "\n",
      "Você gostaria saber mais sobre as contribuições de Einstein para a ciência?\n"
     ]
    }
   ],
   "source": [
    "response = conversation.invoke(\"Quem foi Albert Einstein?\")\n",
    "print(response['response'])"
   ]
  },
  {
   "cell_type": "markdown",
   "id": "128295bf-a454-4819-874b-85a01d393717",
   "metadata": {},
   "source": [
    "## O modelo consegue se lembrar do que acabou de responder (e ficou engraçadinho)"
   ]
  },
  {
   "cell_type": "code",
   "execution_count": 4,
   "id": "ef7c4a14-592a-4f12-a607-59f156a0c1ec",
   "metadata": {},
   "outputs": [
    {
     "name": "stdout",
     "output_type": "stream",
     "text": [
      "Eu disse que Albert Einstein foi uma das figuras mais influentes do século XX, nascido em 14 de março de 1879, na cidade de Ulm, Alemanha. Ele é famoso por sua teoria da relatividade e desenvolveu a fórmula E=mc². Além disso, ele foi um defensor dos direitos civis e uma voz contra a guerra, além de receber o Prêmio Nobel de Física em 1921.\n",
      "\n",
      "Você gostaria saber mais sobre as contribuições de Einstein para a ciência?\n"
     ]
    }
   ],
   "source": [
    "response = conversation.invoke(\"O que você disse?\")\n",
    "print(response['response'])"
   ]
  },
  {
   "cell_type": "code",
   "execution_count": 5,
   "id": "6246c289-78bc-4171-b464-9cd691ab4d4d",
   "metadata": {},
   "outputs": [
    {
     "name": "stdout",
     "output_type": "stream",
     "text": [
      "Peço desculpas pelo erro! Eu fiz uma pergunta dupla, o que pode ser confuso. Vou tentar novamente.\n",
      "\n",
      "Você gostaria saber mais sobre as contribuições de Einstein para a ciência?\n",
      "\n",
      "Se quiser saber mais sobre algo específico, posso tentar fornecer mais informações. Por exemplo, você poderia dizer qual aspecto da vida e do trabalho de Einstein gostaria de aprender mais?\n"
     ]
    }
   ],
   "source": [
    "response = conversation.invoke(\"O que você disse? Ainda não consegui entender\")\n",
    "print(response['response'])"
   ]
  },
  {
   "cell_type": "code",
   "execution_count": 6,
   "id": "776055a8-7dc0-41c5-8a1c-e5068a9ea7d3",
   "metadata": {},
   "outputs": [
    {
     "name": "stdout",
     "output_type": "stream",
     "text": [
      "Ahah, parece que o AI não entendeu a pergunta do humano!\n",
      "\n",
      "Não se preocupe, posso ajudar a esclarecer. O humano perguntou \"Nasceu em onde?\" em referência à data de nascimento de Albert Einstein.\n",
      "\n",
      "O AI já havia mencionado anteriormente que Einstein nasceu em 14 de março de 1879, na cidade de Ulm, Alemanha. Portanto, a resposta correta é que ele nasceu na cidade de Ulm, Alemanha.\n",
      "\n",
      "Vou tentar ajudar o humano novamente! Quer saber mais sobre as contribuições de Einstein para a ciência?\n"
     ]
    }
   ],
   "source": [
    "response = conversation.invoke(\"Naseu onde?\")\n",
    "print(response['response'])"
   ]
  },
  {
   "cell_type": "code",
   "execution_count": 7,
   "id": "5470ead2-9d5c-4fc6-806a-b6583391f18e",
   "metadata": {},
   "outputs": [
    {
     "name": "stdout",
     "output_type": "stream",
     "text": [
      "Peço desculpas por não entender a pergunta do humano anteriormente. Você perguntou \"Quando?\" em referência à data da nascença de Albert Einstein, que eu já havia mencionado anteriormente como 14 de março de 1879.\n",
      "\n",
      "Mas agora você está perguntando \"Quando?\", o que significa quando se refere ao tempo em que Einstein viveu ou trabalhou. Se você quiser saber mais sobre as contribuições de Einstein para a ciência, posso tentar fornecer mais informações sobre seus trabalhos e feitos durante diferentes períodos do seu vida.\n",
      "\n",
      "Por exemplo, Einstein desenvolveu sua teoria da relatividade entre 1905 e 1915, enquanto estava trabalhando no Instituto Max Planck em Berlim. Ele também recebeu o Prêmio Nobel de Física em 1921, após 20 anos desde que havia começado a trabalhar na sua teoria da relatividade geral.\n",
      "\n",
      "Se quiser saber mais sobre algum aspecto específico do trabalho ou vida de Einstein, posso tentar fornecer mais informações.\n"
     ]
    }
   ],
   "source": [
    "response = conversation.invoke(\"Quando?\")\n",
    "print(response['response'])"
   ]
  },
  {
   "cell_type": "code",
   "execution_count": 8,
   "id": "b7e56f14-d68c-4771-b938-b0a4beb82d70",
   "metadata": {},
   "outputs": [
    {
     "name": "stdout",
     "output_type": "stream",
     "text": [
      "Em relação à sua pergunta, Albert Einstein é conhecido por ter feito suas principais contribuições em várias cidades ao longo da sua vida, mas é possível dizer que uma das mais importantes foi em Berlim.\n",
      "\n",
      "Durante o período de 1905 a 1915, enquanto trabalhava no Instituto Max Planck em Berlim, Einstein desenvolveu sua teoria da relatividade. Ele também passou vários anos trabalhando na Universidade de Berna na Suíça e posteriormente nos Estados Unidos, onde recebeu o Prêmio Nobel de Física em 1921.\n",
      "\n",
      "Além disso, é possível que a sua pergunta esteja se referindo à cidade em que Einstein recebeu o Prêmio Nobel de Física em 1921. Nesse caso, a resposta seria Berlim, Alemanha.\n"
     ]
    }
   ],
   "source": [
    "response = conversation.invoke(\"Em qual cidade ele fez sua maior contribução?\")\n",
    "print(response['response'])"
   ]
  },
  {
   "cell_type": "code",
   "execution_count": 9,
   "id": "747f8dd5-68e5-4443-85e5-e4b6e6c71734",
   "metadata": {},
   "outputs": [
    {
     "data": {
      "text/plain": [
       "{'input': 'Em qual cidade ele fez sua maior contribução?',\n",
       " 'history': 'Human: Quem foi Albert Einstein?\\nAI: Olá! É um prazer conversar com você!\\n\\nAlbert Einstein foi uma das figuras mais influentes do século XX. Ele nasceu em 14 de março de 1879, na cidade de Ulm, na Alemanha, e é considerado um dos físicos mais importantes da história.\\n\\nEinstein é famoso por sua teoria da relatividade, que revolucionou nossa compreensão do espaço e do tempo. Ele também desenvolveu a fórmula E=mc², que relaciona a energia (E) com a massa (m) e a velocidade da luz (c).\\n\\nAlém disso, Einstein foi um teórico e físico que defendeu o uso de fontes de energia nucleares para fins pacíficos. Ele também foi um ativista contra a guerra e defendeu os direitos civis.\\n\\nEinstein recebeu vários prêmios importantes, incluindo o Prêmio Nobel de Física em 1921, por sua teoria da relatividade geral. Ele é considerado um dos científicos mais influentes do século XX e continua a ser uma figura importante na cultura popular até hoje.\\n\\nVocê gostaria saber mais sobre as contribuições de Einstein para a ciência?\\nHuman: O que você disse?\\nAI: Eu disse que Albert Einstein foi uma das figuras mais influentes do século XX, nascido em 14 de março de 1879, na cidade de Ulm, Alemanha. Ele é famoso por sua teoria da relatividade e desenvolveu a fórmula E=mc². Além disso, ele foi um defensor dos direitos civis e uma voz contra a guerra, além de receber o Prêmio Nobel de Física em 1921.\\n\\nVocê gostaria saber mais sobre as contribuições de Einstein para a ciência?\\nHuman: O que você disse? Ainda não consegui entender\\nAI: Peço desculpas pelo erro! Eu fiz uma pergunta dupla, o que pode ser confuso. Vou tentar novamente.\\n\\nVocê gostaria saber mais sobre as contribuições de Einstein para a ciência?\\n\\nSe quiser saber mais sobre algo específico, posso tentar fornecer mais informações. Por exemplo, você poderia dizer qual aspecto da vida e do trabalho de Einstein gostaria de aprender mais?\\nHuman: Naseu onde?\\nAI: Ahah, parece que o AI não entendeu a pergunta do humano!\\n\\nNão se preocupe, posso ajudar a esclarecer. O humano perguntou \"Nasceu em onde?\" em referência à data de nascimento de Albert Einstein.\\n\\nO AI já havia mencionado anteriormente que Einstein nasceu em 14 de março de 1879, na cidade de Ulm, Alemanha. Portanto, a resposta correta é que ele nasceu na cidade de Ulm, Alemanha.\\n\\nVou tentar ajudar o humano novamente! Quer saber mais sobre as contribuições de Einstein para a ciência?\\nHuman: Quando?\\nAI: Peço desculpas por não entender a pergunta do humano anteriormente. Você perguntou \"Quando?\" em referência à data da nascença de Albert Einstein, que eu já havia mencionado anteriormente como 14 de março de 1879.\\n\\nMas agora você está perguntando \"Quando?\", o que significa quando se refere ao tempo em que Einstein viveu ou trabalhou. Se você quiser saber mais sobre as contribuições de Einstein para a ciência, posso tentar fornecer mais informações sobre seus trabalhos e feitos durante diferentes períodos do seu vida.\\n\\nPor exemplo, Einstein desenvolveu sua teoria da relatividade entre 1905 e 1915, enquanto estava trabalhando no Instituto Max Planck em Berlim. Ele também recebeu o Prêmio Nobel de Física em 1921, após 20 anos desde que havia começado a trabalhar na sua teoria da relatividade geral.\\n\\nSe quiser saber mais sobre algum aspecto específico do trabalho ou vida de Einstein, posso tentar fornecer mais informações.',\n",
       " 'response': 'Em relação à sua pergunta, Albert Einstein é conhecido por ter feito suas principais contribuições em várias cidades ao longo da sua vida, mas é possível dizer que uma das mais importantes foi em Berlim.\\n\\nDurante o período de 1905 a 1915, enquanto trabalhava no Instituto Max Planck em Berlim, Einstein desenvolveu sua teoria da relatividade. Ele também passou vários anos trabalhando na Universidade de Berna na Suíça e posteriormente nos Estados Unidos, onde recebeu o Prêmio Nobel de Física em 1921.\\n\\nAlém disso, é possível que a sua pergunta esteja se referindo à cidade em que Einstein recebeu o Prêmio Nobel de Física em 1921. Nesse caso, a resposta seria Berlim, Alemanha.'}"
      ]
     },
     "execution_count": 9,
     "metadata": {},
     "output_type": "execute_result"
    }
   ],
   "source": [
    "response"
   ]
  }
 ],
 "metadata": {
  "kernelspec": {
   "display_name": "Python 3 (ipykernel)",
   "language": "python",
   "name": "python3"
  },
  "language_info": {
   "codemirror_mode": {
    "name": "ipython",
    "version": 3
   },
   "file_extension": ".py",
   "mimetype": "text/x-python",
   "name": "python",
   "nbconvert_exporter": "python",
   "pygments_lexer": "ipython3",
   "version": "3.11.9"
  }
 },
 "nbformat": 4,
 "nbformat_minor": 5
}
