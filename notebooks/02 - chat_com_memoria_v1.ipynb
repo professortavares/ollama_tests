{
 "cells": [
  {
   "cell_type": "markdown",
   "id": "31dc4740-0875-418f-b79d-e081d937b906",
   "metadata": {},
   "source": [
    "## Simulação de uma LLM com memória da conversa"
   ]
  },
  {
   "cell_type": "code",
   "execution_count": 1,
   "id": "e183fc41-5672-4740-881b-3dad338dd67f",
   "metadata": {},
   "outputs": [],
   "source": [
    "from langchain_ollama import ChatOllama\n",
    "from langchain.chains import ConversationChain\n",
    "from langchain.memory import ConversationBufferMemory"
   ]
  },
  {
   "cell_type": "markdown",
   "id": "b20c92cc-caac-4f7b-af1a-d9b4b1837e15",
   "metadata": {},
   "source": [
    "## Utilização do llama3.1 com interface via ollama\n",
    "\n",
    "**todo** Resolver a questão da biblioteca que está 'deprecated'\n",
    "\n",
    "```\n",
    "LangChainDeprecationWarning: Please see the migration guide at: https://python.langchain.com/docs/versions/migrating_memory/\n",
    "  memory = ConversationBufferMemory()\n",
    "C:\\Users\\leona\\AppData\\Local\\Temp\\ipykernel_19720\\3554979581.py:3: LangChainDeprecationWarning: The class `ConversationChain` was deprecated in LangChain 0.2.7 and will be removed in 1.0. Use :meth:`~RunnableWithMessageHistory: https://python.langchain.com/v0.2/api_reference/core/runnables/langchain_core.runnables.history.RunnableWithMessageHistory.html` instead.\n",
    "  conversation = ConversationChain(\n",
    "```\n"
   ]
  },
  {
   "cell_type": "code",
   "execution_count": 2,
   "id": "13ec592a-9362-4242-b843-d208466d34c4",
   "metadata": {},
   "outputs": [
    {
     "name": "stderr",
     "output_type": "stream",
     "text": [
      "C:\\Users\\leona\\AppData\\Local\\Temp\\ipykernel_19720\\3554979581.py:2: LangChainDeprecationWarning: Please see the migration guide at: https://python.langchain.com/docs/versions/migrating_memory/\n",
      "  memory = ConversationBufferMemory()\n",
      "C:\\Users\\leona\\AppData\\Local\\Temp\\ipykernel_19720\\3554979581.py:3: LangChainDeprecationWarning: The class `ConversationChain` was deprecated in LangChain 0.2.7 and will be removed in 1.0. Use :meth:`~RunnableWithMessageHistory: https://python.langchain.com/v0.2/api_reference/core/runnables/langchain_core.runnables.history.RunnableWithMessageHistory.html` instead.\n",
      "  conversation = ConversationChain(\n"
     ]
    }
   ],
   "source": [
    "chat = ChatOllama(model=\"llama3.1:latest\")\n",
    "memory = ConversationBufferMemory()\n",
    "conversation = ConversationChain(\n",
    "    llm=chat,\n",
    "    memory=memory\n",
    ")"
   ]
  },
  {
   "cell_type": "markdown",
   "id": "131b56a5-76e4-48ba-a37f-9518568e18b6",
   "metadata": {},
   "source": [
    "## Pergunta para iniciar a conversa"
   ]
  },
  {
   "cell_type": "code",
   "execution_count": 3,
   "id": "24196b08-37af-492e-87f2-730a003cdf6b",
   "metadata": {},
   "outputs": [
    {
     "name": "stdout",
     "output_type": "stream",
     "text": [
      "Foi o famoso físico teórico alemão! Nascido em 14 de março de 1879, em Ulma, Império Alemão (hoje Alemanha), Einstein é mais conhecido por sua equação E=mc² e suas contribuições para a teoria da relatividade. Ele recebeu o Prêmio Nobel de Física em 1921 por seu trabalho sobre os fótons e a teoria quântica, mas infelizmente não recebeu um prêmio Nobel pela sua teoria da relatividade, embora seja considerada uma das suas maiores contribuições. Einstein foi conhecido por sua barba comprida e bigode característicos, assim como por seu óculos redondos. Ele morreu em 18 de abril de 1955, em Princetown, Nova Jérsei, EUA, aos 76 anos de idade!\n"
     ]
    }
   ],
   "source": [
    "response = conversation.invoke(\"Quem foi Albert Einstein?\")\n",
    "print(response['response'])"
   ]
  },
  {
   "cell_type": "markdown",
   "id": "128295bf-a454-4819-874b-85a01d393717",
   "metadata": {},
   "source": [
    "## O modelo consegue se lembrar do que acabou de responder (e ficou engraçadinho)"
   ]
  },
  {
   "cell_type": "code",
   "execution_count": 4,
   "id": "ef7c4a14-592a-4f12-a607-59f156a0c1ec",
   "metadata": {},
   "outputs": [
    {
     "name": "stdout",
     "output_type": "stream",
     "text": [
      "Desculpe! Parece que eu me empolgou demais com a informação sobre Einstein. Eu disse um pouco mais do que o necessário, não é? Em resumo, Albert Einstein foi um famoso físico teórico alemão conhecido por sua equação E=mc² e suas contribuições para a teoria da relatividade. Ele recebeu o Prêmio Nobel de Física em 1921 e morreu em 1955 aos 76 anos. Isso resume bem quem foi Einstein, não é?\n"
     ]
    }
   ],
   "source": [
    "response = conversation.invoke(\"O que você disse?\")\n",
    "print(response['response'])"
   ]
  },
  {
   "cell_type": "code",
   "execution_count": 5,
   "id": "6246c289-78bc-4171-b464-9cd691ab4d4d",
   "metadata": {},
   "outputs": [
    {
     "name": "stdout",
     "output_type": "stream",
     "text": [
      "Desculpe se eu estava sendo muito detalhista! Vou tentar explicar de outra forma.\n",
      "\n",
      "Albert Einstein foi um cientista famoso que viveu no século 20. Ele fez contribuições importantes para a física e é conhecido por sua fórmula E=mc², que relaciona energia e massa. Você está me entendendo melhor agora?\n"
     ]
    }
   ],
   "source": [
    "response = conversation.invoke(\"O que você disse? Ainda não consegui entender\")\n",
    "print(response['response'])"
   ]
  },
  {
   "cell_type": "code",
   "execution_count": 6,
   "id": "776055a8-7dc0-41c5-8a1c-e5068a9ea7d3",
   "metadata": {},
   "outputs": [
    {
     "name": "stdout",
     "output_type": "stream",
     "text": [
      "A pergunta da qual você está mais ansioso! Albert Einstein nasceu em Ulma, no Império Alemão (hoje Alemanha), em 14 de março de 1879. Isso deve estar claro agora!\n"
     ]
    }
   ],
   "source": [
    "response = conversation.invoke(\"Naseu onde?\")\n",
    "print(response['response'])"
   ]
  },
  {
   "cell_type": "code",
   "execution_count": 7,
   "id": "5470ead2-9d5c-4fc6-806a-b6583391f18e",
   "metadata": {},
   "outputs": [
    {
     "name": "stdout",
     "output_type": "stream",
     "text": [
      "Ahah, aqui vai a resposta final! Quando Albert Einstein nasceu? Fácil! Ele nasceu em 14 de março de 1879! Está tudo bem agora?\n"
     ]
    }
   ],
   "source": [
    "response = conversation.invoke(\"Quando?\")\n",
    "print(response['response'])"
   ]
  },
  {
   "cell_type": "code",
   "execution_count": 8,
   "id": "b7e56f14-d68c-4771-b938-b0a4beb82d70",
   "metadata": {},
   "outputs": [
    {
     "name": "stdout",
     "output_type": "stream",
     "text": [
      "A pergunta certa! Albert Einstein fez suas maiores contribuições para a física enquanto trabalhava na Universidade de Princeton, nos Estados Unidos. Foi lá que ele desenvolveu sua teoria da relatividade e outras ideias revolucionárias que mudaram a forma como as pessoas entendem o universo. É uma cidade importante em sua história científica!\n"
     ]
    }
   ],
   "source": [
    "response = conversation.invoke(\"Em qual cidade ele fez sua maior contribução?\")\n",
    "print(response['response'])"
   ]
  }
 ],
 "metadata": {
  "kernelspec": {
   "display_name": "Python 3 (ipykernel)",
   "language": "python",
   "name": "python3"
  },
  "language_info": {
   "codemirror_mode": {
    "name": "ipython",
    "version": 3
   },
   "file_extension": ".py",
   "mimetype": "text/x-python",
   "name": "python",
   "nbconvert_exporter": "python",
   "pygments_lexer": "ipython3",
   "version": "3.11.9"
  }
 },
 "nbformat": 4,
 "nbformat_minor": 5
}
