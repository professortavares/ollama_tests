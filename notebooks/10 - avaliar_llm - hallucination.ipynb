{
 "cells": [
  {
   "cell_type": "markdown",
   "id": "b472c7df-507e-4f0e-a6f6-9f746c24830f",
   "metadata": {},
   "source": [
    "# Avaliação automatizada de LLMs utilizando DeepEval - Hallucination"
   ]
  },
  {
   "cell_type": "code",
   "execution_count": 1,
   "id": "4e069e35-2b5b-442d-99df-67e76c5dd264",
   "metadata": {},
   "outputs": [
    {
     "name": "stderr",
     "output_type": "stream",
     "text": [
      "C:\\Users\\leona\\Documents\\GitHub\\ollama_tests\\.venv\\Lib\\site-packages\\deepeval\\__init__.py:49: UserWarning: You are using deepeval version 1.4.9, however version 1.5.0 is available. You should consider upgrading via the \"pip install --upgrade deepeval\" command.\n",
      "  warnings.warn(\n"
     ]
    }
   ],
   "source": [
    "import os\n",
    "from dotenv import load_dotenv\n",
    "\n",
    "from langchain_openai import ChatOpenAI\n",
    "from deepeval.test_case import LLMTestCase\n",
    "from deepeval.metrics import HallucinationMetric\n",
    "\n",
    "from IPython.display import display, Markdown"
   ]
  },
  {
   "cell_type": "code",
   "execution_count": 2,
   "id": "b1422e3a-6614-46e3-b0da-0b09dd34b248",
   "metadata": {},
   "outputs": [],
   "source": [
    "load_dotenv()\n",
    "openai_api_key = os.getenv(\"OPENAI_API_KEY\")"
   ]
  },
  {
   "cell_type": "markdown",
   "id": "7ebf7c24-865d-44c4-b5a1-8fb9537b9792",
   "metadata": {},
   "source": [
    "## 1. Alucinação\n",
    "\n",
    "Garantir que o modelo não introduza informações falsas ou não fundamentadas, assegurando a precisão e confiabilidade das respostas geradas.\n",
    "\n",
    "Em outras palavras, ela verifica se a resposta do modelo está alinhada com as informações presentes no contexto, identificando possíveis informações inventadas ou não suportadas pelo conteúdo fornecido."
   ]
  },
  {
   "cell_type": "markdown",
   "id": "449feffc-5a7c-43d0-b69e-b09d32ee413b",
   "metadata": {},
   "source": [
    "**Alice’s Adventures in Wonderland** Chapter 1\n",
    "\n",
    "Ref do livro: https://www.gutenberg.org/files/11/11-0.txt"
   ]
  },
  {
   "cell_type": "code",
   "execution_count": 3,
   "id": "ab9f1861-2a84-4d35-8e5b-c898fcf84bc2",
   "metadata": {},
   "outputs": [
    {
     "data": {
      "text/markdown": [
       "CHAPTER I.\n",
       "Down the Rabbit-Hole\n",
       "\n",
       "Alice was beginning to get very tired of sitting by her sister on the\n",
       "bank, and of having nothing to do: once or twice she had peeped into\n",
       "the book her sister was reading, but it had no pictures or\n",
       "conversations in it, “and what is the use of a book,” thought Alice\n",
       "“without pictures or conversations?”\n",
       "\n",
       "So she was considering in her own mind (as well as she could, for the\n",
       "hot day made her feel very sleepy and stupid), whether the pleasure of\n",
       "making a daisy...\n",
       "\n",
       "...\n",
       "\n",
       "...ate a little bit, and said anxiously to herself, “Which way? Which\n",
       "way?”, holding her hand on the top of her head to feel which way it was\n",
       "growing, and she was quite surprised to find that she remained the same\n",
       "size: to be sure, this generally happens when one eats cake, but Alice\n",
       "had got so much into the way of expecting nothing but out-of-the-way\n",
       "things to happen, that it seemed quite dull and stupid for life to go\n",
       "on in the common way.\n",
       "\n",
       "So she set to work, and very soon finished off the cake."
      ],
      "text/plain": [
       "<IPython.core.display.Markdown object>"
      ]
     },
     "metadata": {},
     "output_type": "display_data"
    },
    {
     "name": "stdout",
     "output_type": "stream",
     "text": [
      "11285\n"
     ]
    }
   ],
   "source": [
    "livro_cp1 = \"\"\n",
    "with open(\"./short_story.txt\", \"r\", encoding=\"utf-8\") as arquivo:\n",
    "    livro_cp1 = arquivo.read()\n",
    "\n",
    "\n",
    "display(Markdown(f'{livro_cp1[:492]}...\\n\\n...\\n\\n...{livro_cp1[-500:]}'))\n",
    "print(len(livro_cp1))"
   ]
  },
  {
   "cell_type": "code",
   "execution_count": 4,
   "id": "5cbbc70b-8885-4f29-bfd7-cded1b3a28e9",
   "metadata": {},
   "outputs": [
    {
     "data": {
      "text/markdown": [
       "\n",
       "\"Read the following excerpt from the book carefully. Pay attention to the details and try to imagine the scene as described. Once you’ve thoroughly understood the passage, consider any characters Alice might envision interacting with as she experiences this moment. After reading, answer the question thoughtfully and accurately based on the text.\n",
       "\n",
       "Here is the text:\n",
       "\n",
       "CHAPTER I.\n",
       "Down the Rabbit-Hole\n",
       "\n",
       "Alice was beginning to get very tired of sitting by her sister on the\n",
       "bank, and of having nothing to do: once or twice she had peeped into\n",
       "the book her sister was reading, but it had no pictures or\n",
       "conversations in it, “and what is the use of a book,” thought Alice\n",
       "“without pictures or conversations?”\n",
       "\n",
       "So she was considering in her own mind (as well as she could, for the\n",
       "hot day made her feel very sleepy and stupid), whether the pleasure of\n",
       "making a daisy-chain would be worth the trouble of getting up and\n",
       "picking the daisies, when suddenly a White Rabbit with pink eyes ran\n",
       "close by her.\n",
       "\n",
       "The..."
      ],
      "text/plain": [
       "<IPython.core.display.Markdown object>"
      ]
     },
     "metadata": {},
     "output_type": "display_data"
    }
   ],
   "source": [
    "PROMPT = f\"\"\"\n",
    "\"Read the following excerpt from the book carefully. Pay attention to the details and try to imagine the scene as described. Once you’ve thoroughly understood the passage, consider any characters Alice might envision interacting with as she experiences this moment. After reading, answer the question thoughtfully and accurately based on the text.\n",
    "\n",
    "Here is the text:\n",
    "\n",
    "{{TEXT}}\n",
    "\n",
    "Question: Alice isn't surprised to overhear the White Rabbit talking to itself. Which of the White Rabbit's actions does surprise Alice, and why?\n",
    "\"\"\"\n",
    "\n",
    "prompt = PROMPT.format(TEXT = livro_cp1)\n",
    "display(Markdown(f'{prompt[:1000]}...'))"
   ]
  },
  {
   "cell_type": "code",
   "execution_count": 5,
   "id": "abb54821-8373-47c0-96cf-42eb89cac08c",
   "metadata": {},
   "outputs": [],
   "source": [
    "chat = ChatOpenAI(model=\"gpt-4o-mini\")\n",
    "response = chat.invoke(prompt)"
   ]
  },
  {
   "cell_type": "code",
   "execution_count": 6,
   "id": "3d4f32be-271b-4b49-b145-b76f12defb51",
   "metadata": {},
   "outputs": [
    {
     "data": {
      "text/markdown": [
       "Alice is surprised when the White Rabbit actually takes a watch out of its waistcoat-pocket and looks at it. This action amazes her because she has never seen a rabbit with a waistcoat-pocket or a watch before. Up to that point, she finds the Rabbit's behavior somewhat natural, but the moment it produces a watch from its pocket highlights a level of anthropomorphism that she finds extraordinary. This unexpected and fantastical behavior ignites her curiosity and prompts her to chase after the Rabbit, leading her down the rabbit-hole into her adventurous journey."
      ],
      "text/plain": [
       "<IPython.core.display.Markdown object>"
      ]
     },
     "metadata": {},
     "output_type": "display_data"
    }
   ],
   "source": [
    "display(Markdown(f'{response.content}'))"
   ]
  },
  {
   "cell_type": "markdown",
   "id": "d84d923f-ed80-4f8c-86d2-3e373e1ee98b",
   "metadata": {},
   "source": [
    "### Avaliação da resposta\n",
    "\n",
    "ref.: https://www.coursehero.com/lit/Alice-in-Wonderland/discussion-questions/page-1/"
   ]
  },
  {
   "cell_type": "code",
   "execution_count": 7,
   "id": "3d712570-0e47-4f14-b93f-1cca8009f8ff",
   "metadata": {},
   "outputs": [
    {
     "data": {
      "application/vnd.jupyter.widget-view+json": {
       "model_id": "",
       "version_major": 2,
       "version_minor": 0
      },
      "text/plain": [
       "Output()"
      ]
     },
     "metadata": {},
     "output_type": "display_data"
    },
    {
     "data": {
      "text/html": [
       "<pre style=\"white-space:pre;overflow-x:auto;line-height:normal;font-family:Menlo,'DejaVu Sans Mono',consolas,'Courier New',monospace\"></pre>\n"
      ],
      "text/plain": []
     },
     "metadata": {},
     "output_type": "display_data"
    },
    {
     "name": "stdout",
     "output_type": "stream",
     "text": [
      "0.0\n",
      "The score is 0.00 because the actual output perfectly aligns with the provided context and there are no contradictions.\n"
     ]
    }
   ],
   "source": [
    "actual_output = response.content\n",
    "\n",
    "retrieval_context = [livro_cp1]\n",
    "\n",
    "metric = HallucinationMetric(\n",
    "    model=\"gpt-4\",\n",
    "    include_reason=True\n",
    ")\n",
    "\n",
    "test_case = LLMTestCase(\n",
    "    input=\"Alice isn't surprised to overhear the White Rabbit talking to itself. Which of the White Rabbit's actions does surprise Alice, and why?\",\n",
    "    actual_output=actual_output,\n",
    "    context=retrieval_context,\n",
    ")\n",
    "\n",
    "metric.measure(test_case)\n",
    "print(metric.score)\n",
    "print(metric.reason)"
   ]
  },
  {
   "cell_type": "code",
   "execution_count": 8,
   "id": "fa8d0d38-86df-4827-af9a-6983a921c14f",
   "metadata": {},
   "outputs": [
    {
     "data": {
      "application/vnd.jupyter.widget-view+json": {
       "model_id": "",
       "version_major": 2,
       "version_minor": 0
      },
      "text/plain": [
       "Output()"
      ]
     },
     "metadata": {},
     "output_type": "display_data"
    },
    {
     "data": {
      "text/html": [
       "<pre style=\"white-space:pre;overflow-x:auto;line-height:normal;font-family:Menlo,'DejaVu Sans Mono',consolas,'Courier New',monospace\"></pre>\n"
      ],
      "text/plain": []
     },
     "metadata": {},
     "output_type": "display_data"
    },
    {
     "name": "stdout",
     "output_type": "stream",
     "text": [
      "1.0\n",
      "The score is 1.00 because the actual output introduces a fact (the Rabbit taking out a compass) that is not supported by the context, leading to a complete contradiction.\n"
     ]
    }
   ],
   "source": [
    "# troquei relógio por bússola\n",
    "resposta_alucinada = \"\"\"Alice is surprised when she sees the White Rabbit take a\n",
    "watch out of its waistcoat pocket and look at it. This action astonishes \n",
    "her because she has never encountered a rabbit that not only wears a waistcoat \n",
    "but also possesses a watch to check the time. Additionally, the rabbit pulls \n",
    "out a small compass to check its direction, an action that confuses \n",
    "Alice even further, as she has never seen a rabbit with navigational tools. \n",
    "The sight of a rabbit engaging in such human-like behavior—carrying a watch, a \n",
    "compass, and expressing concern about being late—sparks Alice's curiosity and \n",
    "prompts her to follow the Rabbit down the rabbit-hole. This moment signifies the \n",
    "start of her adventures in a curious and fantastical world, highlighting her initial \n",
    "sense of wonder and intrigue about the unusual events unfolding around her.\"\"\"\n",
    "\n",
    "retrieval_context = [livro_cp1]\n",
    "\n",
    "metric = HallucinationMetric(\n",
    "    model=\"gpt-4o-mini\",\n",
    "    include_reason=True\n",
    ")\n",
    "\n",
    "test_case = LLMTestCase(\n",
    "    input=\"Alice isn't surprised to overhear the White Rabbit talking to itself. Which of the White Rabbit's actions does surprise Alice, and why?\",\n",
    "    actual_output=resposta_alucinada,\n",
    "    context=retrieval_context,\n",
    ")\n",
    "\n",
    "metric.measure(test_case)\n",
    "print(metric.score)\n",
    "print(metric.reason)"
   ]
  },
  {
   "cell_type": "code",
   "execution_count": null,
   "id": "85ae1d4d-081d-4dd4-acbe-dbf77530ce9e",
   "metadata": {},
   "outputs": [],
   "source": []
  }
 ],
 "metadata": {
  "kernelspec": {
   "display_name": "Python 3 (ipykernel)",
   "language": "python",
   "name": "python3"
  },
  "language_info": {
   "codemirror_mode": {
    "name": "ipython",
    "version": 3
   },
   "file_extension": ".py",
   "mimetype": "text/x-python",
   "name": "python",
   "nbconvert_exporter": "python",
   "pygments_lexer": "ipython3",
   "version": "3.11.9"
  }
 },
 "nbformat": 4,
 "nbformat_minor": 5
}
