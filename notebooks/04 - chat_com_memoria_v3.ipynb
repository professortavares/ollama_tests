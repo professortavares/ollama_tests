{
 "cells": [
  {
   "cell_type": "markdown",
   "id": "31dc4740-0875-418f-b79d-e081d937b906",
   "metadata": {},
   "source": [
    "## Simulação de uma LLM com memória da conversa (versão mais moderna do framework e com sumário de conversa)\n",
    "\n",
    "ref.: \n",
    "* https://python.langchain.com/docs/how_to/message_history/\n",
    "* https://www.langchain.com/langgraph\n",
    "* https://langchain-ai.github.io/langgraph/how-tos/memory/add-summary-conversation-history/\n",
    "\n",
    "**todo**:\n",
    "- Tentar gerenciar a memória da conversa de forma automatizada"
   ]
  },
  {
   "cell_type": "code",
   "execution_count": 1,
   "id": "e183fc41-5672-4740-881b-3dad338dd67f",
   "metadata": {},
   "outputs": [],
   "source": [
    "from langchain_ollama import ChatOllama\n",
    "from langchain_core.messages import SystemMessage, HumanMessage, RemoveMessage\n",
    "from langgraph.checkpoint.memory import MemorySaver\n",
    "from langgraph.graph import MessagesState, StateGraph, START, END\n",
    "from typing import Literal"
   ]
  },
  {
   "cell_type": "markdown",
   "id": "b20c92cc-caac-4f7b-af1a-d9b4b1837e15",
   "metadata": {},
   "source": [
    "## Utilização do llama3.1 com interface via ollama"
   ]
  },
  {
   "cell_type": "code",
   "execution_count": 2,
   "id": "13ec592a-9362-4242-b843-d208466d34c4",
   "metadata": {},
   "outputs": [],
   "source": [
    "# Inicialize o modelo ChatOllama\n",
    "llm = ChatOllama(model=\"llama3.1:latest\")\n",
    "\n",
    "# Adicione um `summary` ao estado além das mensagens\n",
    "class State(MessagesState):\n",
    "    summary: str\n",
    "\n",
    "# Defina o gráfico de estados\n",
    "workflow = StateGraph(state_schema=State)\n",
    "\n",
    "# Função que chama o modelo\n",
    "def call_model(state: State):\n",
    "    # Adiciona um resumo se ele existir\n",
    "    summary = state.get(\"summary\", \"\")\n",
    "    if summary:\n",
    "        system_message = f\"Resumo da conversa anterior: {summary}\"\n",
    "        messages = [SystemMessage(content=system_message)] + state[\"messages\"]\n",
    "    else:\n",
    "        messages = state[\"messages\"]\n",
    "    \n",
    "    response = llm.invoke(messages)\n",
    "    return {\"messages\": [response]}\n",
    "\n",
    "# Função que decide quando resumir a conversa\n",
    "def should_continue(state: State) -> Literal[\"summarize_conversation\", END]:\n",
    "    if len(state[\"messages\"]) > 6:  # Se mais de 6 mensagens, sumarizar\n",
    "        return \"summarize_conversation\"\n",
    "    return END\n",
    "\n",
    "# Função que realiza o resumo da conversa\n",
    "def summarize_conversation(state: State):\n",
    "    summary = state.get(\"summary\", \"\")\n",
    "    if summary:\n",
    "        summary_message = (\n",
    "            f\"Este é o resumo da conversa até o momento: {summary}\\n\\n\"\n",
    "            \"Estenda o resumo considerando as novas mensagens acima:\"\n",
    "        )\n",
    "    else:\n",
    "        summary_message = \"Crie um resumo da conversa acima:\"\n",
    "    \n",
    "    messages = state[\"messages\"] + [HumanMessage(content=summary_message)]\n",
    "    response = llm.invoke(messages)\n",
    "    \n",
    "    # Exclui mensagens antigas, mantendo apenas as últimas duas\n",
    "    delete_messages = [RemoveMessage(id=m.id) for m in state[\"messages\"][:-2]]\n",
    "    return {\"summary\": response.content, \"messages\": delete_messages}\n",
    "\n",
    "# Configuração do gráfico de estados\n",
    "workflow.add_node(\"conversation\", call_model)\n",
    "workflow.add_node(\"summarize_conversation\", summarize_conversation)\n",
    "\n",
    "workflow.add_edge(START, \"conversation\")\n",
    "\n",
    "workflow.add_conditional_edges(\n",
    "    \"conversation\",\n",
    "    should_continue,\n",
    ")\n",
    "\n",
    "workflow.add_edge(\"summarize_conversation\", END)\n",
    "\n",
    "# Inicialize a memória\n",
    "memory = MemorySaver()\n",
    "app = workflow.compile(checkpointer=memory)\n",
    "\n",
    "# Função para exibir as atualizações\n",
    "def print_update(update):\n",
    "    for k, v in update.items():\n",
    "        for m in v[\"messages\"]:\n",
    "            m.pretty_print()\n",
    "        if \"summary\" in v:\n",
    "            print(v[\"summary\"])\n",
    "\n",
    "# Configuração de thread\n",
    "config = {\"configurable\": {\"thread_id\": \"abc123\"}}"
   ]
  },
  {
   "cell_type": "markdown",
   "id": "131b56a5-76e4-48ba-a37f-9518568e18b6",
   "metadata": {},
   "source": [
    "## Pergunta para iniciar a conversa"
   ]
  },
  {
   "cell_type": "code",
   "execution_count": 3,
   "id": "24196b08-37af-492e-87f2-730a003cdf6b",
   "metadata": {},
   "outputs": [
    {
     "name": "stdout",
     "output_type": "stream",
     "text": [
      "================================\u001b[1m Human Message \u001b[0m=================================\n",
      "\n",
      "Quem foi Albert Einstein?\n",
      "==================================\u001b[1m Ai Message \u001b[0m==================================\n",
      "\n",
      "O físico alemão, mais conhecido por seu contributo para o desenvolvimento da teoria da relatividade.\n"
     ]
    }
   ],
   "source": [
    "config = {\"configurable\": {\"thread_id\": \"abc123\"}}\n",
    "\n",
    "query = \"Quem foi Albert Einstein?\"\n",
    "input_message = HumanMessage(content=query)\n",
    "input_message.pretty_print()\n",
    "for event in app.stream({\"messages\": [input_message]}, config, stream_mode=\"updates\"):\n",
    "    print_update(event)"
   ]
  },
  {
   "cell_type": "code",
   "execution_count": 4,
   "id": "7db9f4b9-8ad0-40ea-8dfd-db3054704f05",
   "metadata": {},
   "outputs": [
    {
     "data": {
      "text/plain": [
       "{'messages': [HumanMessage(content='Quem foi Albert Einstein?', additional_kwargs={}, response_metadata={}, id='2a77269d-9586-4fba-b3c8-5f325fef0166'),\n",
       "  AIMessage(content='O físico alemão, mais conhecido por seu contributo para o desenvolvimento da teoria da relatividade.', additional_kwargs={}, response_metadata={'model': 'llama3.1:latest', 'created_at': '2024-10-05T12:15:03.052475871Z', 'message': {'role': 'assistant', 'content': ''}, 'done_reason': 'stop', 'done': True, 'total_duration': 1993552782, 'load_duration': 11239315, 'prompt_eval_count': 16, 'prompt_eval_duration': 405975000, 'eval_count': 26, 'eval_duration': 1535052000}, id='run-a57a6bd9-39b8-47af-8d0b-ec1715579375-0', usage_metadata={'input_tokens': 16, 'output_tokens': 26, 'total_tokens': 42})]}"
      ]
     },
     "execution_count": 4,
     "metadata": {},
     "output_type": "execute_result"
    }
   ],
   "source": [
    "values = app.get_state(config).values\n",
    "values"
   ]
  },
  {
   "cell_type": "markdown",
   "id": "128295bf-a454-4819-874b-85a01d393717",
   "metadata": {},
   "source": [
    "## O modelo consegue se lembrar do que acabou de responder"
   ]
  },
  {
   "cell_type": "code",
   "execution_count": 5,
   "id": "ef7c4a14-592a-4f12-a607-59f156a0c1ec",
   "metadata": {},
   "outputs": [
    {
     "name": "stdout",
     "output_type": "stream",
     "text": [
      "================================\u001b[1m Human Message \u001b[0m=================================\n",
      "\n",
      "O que você disse?\n",
      "==================================\u001b[1m Ai Message \u001b[0m==================================\n",
      "\n",
      "Peço desculpas pelo acréscimo! A resposta simples é: Albert Einstein foi um dos cientistas mais importantes do século XX, reconhecido como o pai da física moderna. Ele desenvolveu a Teoria da Relatividade e recebeu o Prêmio Nobel de Física em 1921 por sua contribuição para a mecânica quântica.\n"
     ]
    }
   ],
   "source": [
    "query = \"O que você disse?\"\n",
    "input_message = HumanMessage(content=query)\n",
    "input_message.pretty_print()\n",
    "for event in app.stream({\"messages\": [input_message]}, config, stream_mode=\"updates\"):\n",
    "    print_update(event)"
   ]
  },
  {
   "cell_type": "code",
   "execution_count": 6,
   "id": "54792fd1-4ef5-4158-b8bc-ef554a9e8c0e",
   "metadata": {},
   "outputs": [
    {
     "data": {
      "text/plain": [
       "{'messages': [HumanMessage(content='Quem foi Albert Einstein?', additional_kwargs={}, response_metadata={}, id='2a77269d-9586-4fba-b3c8-5f325fef0166'),\n",
       "  AIMessage(content='O físico alemão, mais conhecido por seu contributo para o desenvolvimento da teoria da relatividade.', additional_kwargs={}, response_metadata={'model': 'llama3.1:latest', 'created_at': '2024-10-05T12:15:03.052475871Z', 'message': {'role': 'assistant', 'content': ''}, 'done_reason': 'stop', 'done': True, 'total_duration': 1993552782, 'load_duration': 11239315, 'prompt_eval_count': 16, 'prompt_eval_duration': 405975000, 'eval_count': 26, 'eval_duration': 1535052000}, id='run-a57a6bd9-39b8-47af-8d0b-ec1715579375-0', usage_metadata={'input_tokens': 16, 'output_tokens': 26, 'total_tokens': 42}),\n",
       "  HumanMessage(content='O que você disse?', additional_kwargs={}, response_metadata={}, id='47204337-5db4-42b5-b53e-8a482d21295b'),\n",
       "  AIMessage(content='Peço desculpas pelo acréscimo! A resposta simples é: Albert Einstein foi um dos cientistas mais importantes do século XX, reconhecido como o pai da física moderna. Ele desenvolveu a Teoria da Relatividade e recebeu o Prêmio Nobel de Física em 1921 por sua contribuição para a mecânica quântica.', additional_kwargs={}, response_metadata={'model': 'llama3.1:latest', 'created_at': '2024-10-05T12:15:08.596799428Z', 'message': {'role': 'assistant', 'content': ''}, 'done_reason': 'stop', 'done': True, 'total_duration': 5524666846, 'load_duration': 58663947, 'prompt_eval_count': 56, 'prompt_eval_duration': 150047000, 'eval_count': 84, 'eval_duration': 5164943000}, id='run-8ea6d787-cbd8-43a1-88b6-0e487c4f3896-0', usage_metadata={'input_tokens': 56, 'output_tokens': 84, 'total_tokens': 140})]}"
      ]
     },
     "execution_count": 6,
     "metadata": {},
     "output_type": "execute_result"
    }
   ],
   "source": [
    "values = app.get_state(config).values\n",
    "values"
   ]
  },
  {
   "cell_type": "code",
   "execution_count": 7,
   "id": "6246c289-78bc-4171-b464-9cd691ab4d4d",
   "metadata": {},
   "outputs": [
    {
     "name": "stdout",
     "output_type": "stream",
     "text": [
      "================================\u001b[1m Human Message \u001b[0m=================================\n",
      "\n",
      "O que você disse? Ainda não consegui entender\n",
      "==================================\u001b[1m Ai Message \u001b[0m==================================\n",
      "\n",
      "Não se preocupe! Vou explicar melhor.\n",
      "\n",
      "Albert Einstein foi um físico (cientista que estuda a matéria e a energia) muito importante. Ele viveu no século XX e fez descobertas incríveis sobre o universo.\n",
      "\n",
      "Algumas das coisas mais importantes que ele descobriu incluem:\n",
      "\n",
      "* A Teoria da Relatividade: uma ideia que mostra como o tempo e o espaço são relacionados.\n",
      "* A famosa equação E=mc²: que mostra que a energia (E) é igual à massa (m) multiplicada pela velocidade da luz ao quadrado (c).\n",
      "\n",
      "Ele também recebeu um prêmio muito importante, chamado Prêmio Nobel, por suas descobertas.\n",
      "\n",
      "Einstein é considerado um dos cientistas mais importantes de todos os tempos!\n"
     ]
    }
   ],
   "source": [
    "query = \"O que você disse? Ainda não consegui entender\"\n",
    "input_message = HumanMessage(content=query)\n",
    "input_message.pretty_print()\n",
    "for event in app.stream({\"messages\": [input_message]}, config, stream_mode=\"updates\"):\n",
    "    print_update(event)"
   ]
  },
  {
   "cell_type": "code",
   "execution_count": 8,
   "id": "ba830c69-5ad7-4890-b2f6-44fdf929e154",
   "metadata": {},
   "outputs": [
    {
     "data": {
      "text/plain": [
       "{'messages': [HumanMessage(content='Quem foi Albert Einstein?', additional_kwargs={}, response_metadata={}, id='2a77269d-9586-4fba-b3c8-5f325fef0166'),\n",
       "  AIMessage(content='O físico alemão, mais conhecido por seu contributo para o desenvolvimento da teoria da relatividade.', additional_kwargs={}, response_metadata={'model': 'llama3.1:latest', 'created_at': '2024-10-05T12:15:03.052475871Z', 'message': {'role': 'assistant', 'content': ''}, 'done_reason': 'stop', 'done': True, 'total_duration': 1993552782, 'load_duration': 11239315, 'prompt_eval_count': 16, 'prompt_eval_duration': 405975000, 'eval_count': 26, 'eval_duration': 1535052000}, id='run-a57a6bd9-39b8-47af-8d0b-ec1715579375-0', usage_metadata={'input_tokens': 16, 'output_tokens': 26, 'total_tokens': 42}),\n",
       "  HumanMessage(content='O que você disse?', additional_kwargs={}, response_metadata={}, id='47204337-5db4-42b5-b53e-8a482d21295b'),\n",
       "  AIMessage(content='Peço desculpas pelo acréscimo! A resposta simples é: Albert Einstein foi um dos cientistas mais importantes do século XX, reconhecido como o pai da física moderna. Ele desenvolveu a Teoria da Relatividade e recebeu o Prêmio Nobel de Física em 1921 por sua contribuição para a mecânica quântica.', additional_kwargs={}, response_metadata={'model': 'llama3.1:latest', 'created_at': '2024-10-05T12:15:08.596799428Z', 'message': {'role': 'assistant', 'content': ''}, 'done_reason': 'stop', 'done': True, 'total_duration': 5524666846, 'load_duration': 58663947, 'prompt_eval_count': 56, 'prompt_eval_duration': 150047000, 'eval_count': 84, 'eval_duration': 5164943000}, id='run-8ea6d787-cbd8-43a1-88b6-0e487c4f3896-0', usage_metadata={'input_tokens': 56, 'output_tokens': 84, 'total_tokens': 140}),\n",
       "  HumanMessage(content='O que você disse? Ainda não consegui entender', additional_kwargs={}, response_metadata={}, id='1e9f60f3-bc13-4c95-91d3-589eb56ce6bb'),\n",
       "  AIMessage(content='Não se preocupe! Vou explicar melhor.\\n\\nAlbert Einstein foi um físico (cientista que estuda a matéria e a energia) muito importante. Ele viveu no século XX e fez descobertas incríveis sobre o universo.\\n\\nAlgumas das coisas mais importantes que ele descobriu incluem:\\n\\n* A Teoria da Relatividade: uma ideia que mostra como o tempo e o espaço são relacionados.\\n* A famosa equação E=mc²: que mostra que a energia (E) é igual à massa (m) multiplicada pela velocidade da luz ao quadrado (c).\\n\\nEle também recebeu um prêmio muito importante, chamado Prêmio Nobel, por suas descobertas.\\n\\nEinstein é considerado um dos cientistas mais importantes de todos os tempos!', additional_kwargs={}, response_metadata={'model': 'llama3.1:latest', 'created_at': '2024-10-05T12:15:19.922516427Z', 'message': {'role': 'assistant', 'content': ''}, 'done_reason': 'stop', 'done': True, 'total_duration': 11308903849, 'load_duration': 11302816, 'prompt_eval_count': 160, 'prompt_eval_duration': 215261000, 'eval_count': 175, 'eval_duration': 10772772000}, id='run-54f88b0a-4054-4ec7-a5a6-aa4438319ee7-0', usage_metadata={'input_tokens': 160, 'output_tokens': 175, 'total_tokens': 335})]}"
      ]
     },
     "execution_count": 8,
     "metadata": {},
     "output_type": "execute_result"
    }
   ],
   "source": [
    "values = app.get_state(config).values\n",
    "values"
   ]
  },
  {
   "cell_type": "code",
   "execution_count": 9,
   "id": "776055a8-7dc0-41c5-8a1c-e5068a9ea7d3",
   "metadata": {},
   "outputs": [
    {
     "name": "stdout",
     "output_type": "stream",
     "text": [
      "================================\u001b[1m Human Message \u001b[0m=================================\n",
      "\n",
      "Nasceu onde?\n",
      "==================================\u001b[1m Ai Message \u001b[0m==================================\n",
      "\n",
      "Albert Einstein nasceu em 14 de março de 1879 em Ulma, no Reino da Alemanha (atualmente na Alemanha).\n",
      "================================\u001b[1m Remove Message \u001b[0m================================\n",
      "\n",
      "\n",
      "================================\u001b[1m Remove Message \u001b[0m================================\n",
      "\n",
      "\n",
      "================================\u001b[1m Remove Message \u001b[0m================================\n",
      "\n",
      "\n",
      "================================\u001b[1m Remove Message \u001b[0m================================\n",
      "\n",
      "\n",
      "================================\u001b[1m Remove Message \u001b[0m================================\n",
      "\n",
      "\n",
      "================================\u001b[1m Remove Message \u001b[0m================================\n",
      "\n",
      "\n",
      "Aqui está o resumo:\n",
      "\n",
      "**Conversa sobre Albert Einstein**\n",
      "\n",
      "* O que foi dito:\n",
      " + Albert Einstein foi um dos cientistas mais importantes do século XX.\n",
      " + Ele desenvolveu a Teoria da Relatividade e recebeu o Prêmio Nobel de Física em 1921.\n",
      "* Informações adicionais:\n",
      " + Ele nasceu em Ulma, Alemanha, em 14 de março de 1879.\n",
      " + Sua teoria mais famosa é E=mc².\n",
      "\n",
      "Espero que isso ajude!\n"
     ]
    }
   ],
   "source": [
    "query = \"Nasceu onde?\"\n",
    "input_message = HumanMessage(content=query)\n",
    "input_message.pretty_print()\n",
    "for event in app.stream({\"messages\": [input_message]}, config, stream_mode=\"updates\"):\n",
    "    print_update(event)"
   ]
  },
  {
   "cell_type": "code",
   "execution_count": 10,
   "id": "3fe000f7-effa-47c3-8af2-022cdf3f7d8a",
   "metadata": {},
   "outputs": [
    {
     "data": {
      "text/plain": [
       "{'messages': [HumanMessage(content='Nasceu onde?', additional_kwargs={}, response_metadata={}, id='a32e5485-2693-4531-9dd9-f685bf491f25'),\n",
       "  AIMessage(content='Albert Einstein nasceu em 14 de março de 1879 em Ulma, no Reino da Alemanha (atualmente na Alemanha).', additional_kwargs={}, response_metadata={'model': 'llama3.1:latest', 'created_at': '2024-10-05T12:15:25.637938011Z', 'message': {'role': 'assistant', 'content': ''}, 'done_reason': 'stop', 'done': True, 'total_duration': 5701073488, 'load_duration': 11612920, 'prompt_eval_count': 349, 'prompt_eval_duration': 483096000, 'eval_count': 35, 'eval_duration': 2121982000}, id='run-71972bea-28a3-4c59-bfd3-c9a14ac95ac1-0', usage_metadata={'input_tokens': 349, 'output_tokens': 35, 'total_tokens': 384})],\n",
       " 'summary': 'Aqui está o resumo:\\n\\n**Conversa sobre Albert Einstein**\\n\\n* O que foi dito:\\n + Albert Einstein foi um dos cientistas mais importantes do século XX.\\n + Ele desenvolveu a Teoria da Relatividade e recebeu o Prêmio Nobel de Física em 1921.\\n* Informações adicionais:\\n + Ele nasceu em Ulma, Alemanha, em 14 de março de 1879.\\n + Sua teoria mais famosa é E=mc².\\n\\nEspero que isso ajude!'}"
      ]
     },
     "execution_count": 10,
     "metadata": {},
     "output_type": "execute_result"
    }
   ],
   "source": [
    "values = app.get_state(config).values\n",
    "values"
   ]
  },
  {
   "cell_type": "code",
   "execution_count": 11,
   "id": "5470ead2-9d5c-4fc6-806a-b6583391f18e",
   "metadata": {},
   "outputs": [
    {
     "name": "stdout",
     "output_type": "stream",
     "text": [
      "================================\u001b[1m Human Message \u001b[0m=================================\n",
      "\n",
      "Quando é o aniversário dele?\n",
      "==================================\u001b[1m Ai Message \u001b[0m==================================\n",
      "\n",
      "O aniversário do Albert Einstein é em 14 de março.\n"
     ]
    }
   ],
   "source": [
    "query = \"Quando é o aniversário dele?\"\n",
    "input_message = HumanMessage(content=query)\n",
    "input_message.pretty_print()\n",
    "for event in app.stream({\"messages\": [input_message]}, config, stream_mode=\"updates\"):\n",
    "    print_update(event)"
   ]
  },
  {
   "cell_type": "code",
   "execution_count": 12,
   "id": "6fa8aa41-293b-4e01-be27-91c5f37301d3",
   "metadata": {},
   "outputs": [
    {
     "data": {
      "text/plain": [
       "{'messages': [HumanMessage(content='Nasceu onde?', additional_kwargs={}, response_metadata={}, id='a32e5485-2693-4531-9dd9-f685bf491f25'),\n",
       "  AIMessage(content='Albert Einstein nasceu em 14 de março de 1879 em Ulma, no Reino da Alemanha (atualmente na Alemanha).', additional_kwargs={}, response_metadata={'model': 'llama3.1:latest', 'created_at': '2024-10-05T12:15:25.637938011Z', 'message': {'role': 'assistant', 'content': ''}, 'done_reason': 'stop', 'done': True, 'total_duration': 5701073488, 'load_duration': 11612920, 'prompt_eval_count': 349, 'prompt_eval_duration': 483096000, 'eval_count': 35, 'eval_duration': 2121982000}, id='run-71972bea-28a3-4c59-bfd3-c9a14ac95ac1-0', usage_metadata={'input_tokens': 349, 'output_tokens': 35, 'total_tokens': 384}),\n",
       "  HumanMessage(content='Quando é o aniversário dele?', additional_kwargs={}, response_metadata={}, id='e2e7b5d2-77fa-410b-8f23-8aa59382e8bd'),\n",
       "  AIMessage(content='O aniversário do Albert Einstein é em 14 de março.', additional_kwargs={}, response_metadata={'model': 'llama3.1:latest', 'created_at': '2024-10-05T12:15:36.069751684Z', 'message': {'role': 'assistant', 'content': ''}, 'done_reason': 'stop', 'done': True, 'total_duration': 1538464445, 'load_duration': 12429141, 'prompt_eval_count': 197, 'prompt_eval_duration': 385383000, 'eval_count': 16, 'eval_duration': 943071000}, id='run-5d4804fe-34fd-4f74-89d8-ea4b73f0e060-0', usage_metadata={'input_tokens': 197, 'output_tokens': 16, 'total_tokens': 213})],\n",
       " 'summary': 'Aqui está o resumo:\\n\\n**Conversa sobre Albert Einstein**\\n\\n* O que foi dito:\\n + Albert Einstein foi um dos cientistas mais importantes do século XX.\\n + Ele desenvolveu a Teoria da Relatividade e recebeu o Prêmio Nobel de Física em 1921.\\n* Informações adicionais:\\n + Ele nasceu em Ulma, Alemanha, em 14 de março de 1879.\\n + Sua teoria mais famosa é E=mc².\\n\\nEspero que isso ajude!'}"
      ]
     },
     "execution_count": 12,
     "metadata": {},
     "output_type": "execute_result"
    }
   ],
   "source": [
    "values = app.get_state(config).values\n",
    "values"
   ]
  },
  {
   "cell_type": "code",
   "execution_count": 13,
   "id": "b7e56f14-d68c-4771-b938-b0a4beb82d70",
   "metadata": {},
   "outputs": [
    {
     "name": "stdout",
     "output_type": "stream",
     "text": [
      "================================\u001b[1m Human Message \u001b[0m=================================\n",
      "\n",
      "O que você disse por último?\n",
      "==================================\u001b[1m Ai Message \u001b[0m==================================\n",
      "\n",
      "Disse que o aniversário do Albert Einstein é em 14 de março, ou seja, seu nascimento ocorreu no dia 14 de março.\n"
     ]
    }
   ],
   "source": [
    "query = \"O que você disse por último?\"\n",
    "input_message = HumanMessage(content=query)\n",
    "input_message.pretty_print()\n",
    "for event in app.stream({\"messages\": [input_message]}, config, stream_mode=\"updates\"):\n",
    "    print_update(event)"
   ]
  },
  {
   "cell_type": "code",
   "execution_count": 14,
   "id": "754a05ce-79a4-4ed2-90f4-e06467a3077d",
   "metadata": {},
   "outputs": [
    {
     "data": {
      "text/plain": [
       "{'messages': [HumanMessage(content='Nasceu onde?', additional_kwargs={}, response_metadata={}, id='a32e5485-2693-4531-9dd9-f685bf491f25'),\n",
       "  AIMessage(content='Albert Einstein nasceu em 14 de março de 1879 em Ulma, no Reino da Alemanha (atualmente na Alemanha).', additional_kwargs={}, response_metadata={'model': 'llama3.1:latest', 'created_at': '2024-10-05T12:15:25.637938011Z', 'message': {'role': 'assistant', 'content': ''}, 'done_reason': 'stop', 'done': True, 'total_duration': 5701073488, 'load_duration': 11612920, 'prompt_eval_count': 349, 'prompt_eval_duration': 483096000, 'eval_count': 35, 'eval_duration': 2121982000}, id='run-71972bea-28a3-4c59-bfd3-c9a14ac95ac1-0', usage_metadata={'input_tokens': 349, 'output_tokens': 35, 'total_tokens': 384}),\n",
       "  HumanMessage(content='Quando é o aniversário dele?', additional_kwargs={}, response_metadata={}, id='e2e7b5d2-77fa-410b-8f23-8aa59382e8bd'),\n",
       "  AIMessage(content='O aniversário do Albert Einstein é em 14 de março.', additional_kwargs={}, response_metadata={'model': 'llama3.1:latest', 'created_at': '2024-10-05T12:15:36.069751684Z', 'message': {'role': 'assistant', 'content': ''}, 'done_reason': 'stop', 'done': True, 'total_duration': 1538464445, 'load_duration': 12429141, 'prompt_eval_count': 197, 'prompt_eval_duration': 385383000, 'eval_count': 16, 'eval_duration': 943071000}, id='run-5d4804fe-34fd-4f74-89d8-ea4b73f0e060-0', usage_metadata={'input_tokens': 197, 'output_tokens': 16, 'total_tokens': 213}),\n",
       "  HumanMessage(content='O que você disse por último?', additional_kwargs={}, response_metadata={}, id='30338820-4d01-48f0-9afa-45a7a3609631'),\n",
       "  AIMessage(content='Disse que o aniversário do Albert Einstein é em 14 de março, ou seja, seu nascimento ocorreu no dia 14 de março.', additional_kwargs={}, response_metadata={'model': 'llama3.1:latest', 'created_at': '2024-10-05T12:15:38.793609045Z', 'message': {'role': 'assistant', 'content': ''}, 'done_reason': 'stop', 'done': True, 'total_duration': 2703894264, 'load_duration': 11643328, 'prompt_eval_count': 229, 'prompt_eval_duration': 193896000, 'eval_count': 35, 'eval_duration': 2128002000}, id='run-48f66d42-0443-496b-9d46-9e84103bcf72-0', usage_metadata={'input_tokens': 229, 'output_tokens': 35, 'total_tokens': 264})],\n",
       " 'summary': 'Aqui está o resumo:\\n\\n**Conversa sobre Albert Einstein**\\n\\n* O que foi dito:\\n + Albert Einstein foi um dos cientistas mais importantes do século XX.\\n + Ele desenvolveu a Teoria da Relatividade e recebeu o Prêmio Nobel de Física em 1921.\\n* Informações adicionais:\\n + Ele nasceu em Ulma, Alemanha, em 14 de março de 1879.\\n + Sua teoria mais famosa é E=mc².\\n\\nEspero que isso ajude!'}"
      ]
     },
     "execution_count": 14,
     "metadata": {},
     "output_type": "execute_result"
    }
   ],
   "source": [
    "values = app.get_state(config).values\n",
    "values"
   ]
  },
  {
   "cell_type": "code",
   "execution_count": 15,
   "id": "dcf1ca61-2282-4f0f-8c7f-e9d4737206cc",
   "metadata": {},
   "outputs": [
    {
     "name": "stdout",
     "output_type": "stream",
     "text": [
      "================================\u001b[1m Human Message \u001b[0m=================================\n",
      "\n",
      "Qual foi a maior contribuição dele?\n",
      "==================================\u001b[1m Ai Message \u001b[0m==================================\n",
      "\n",
      "A maior contribuição de Albert Einstein é ter desenvolvido a Teoria da Relatividade, que revolucionou o entendimento da física e do espaço-tempo. Uma das equações mais famosas dela é E=mc².\n",
      "================================\u001b[1m Remove Message \u001b[0m================================\n",
      "\n",
      "\n",
      "================================\u001b[1m Remove Message \u001b[0m================================\n",
      "\n",
      "\n",
      "================================\u001b[1m Remove Message \u001b[0m================================\n",
      "\n",
      "\n",
      "================================\u001b[1m Remove Message \u001b[0m================================\n",
      "\n",
      "\n",
      "================================\u001b[1m Remove Message \u001b[0m================================\n",
      "\n",
      "\n",
      "================================\u001b[1m Remove Message \u001b[0m================================\n",
      "\n",
      "\n",
      "Aqui está o resumo atualizado:\n",
      "\n",
      "**Conversa sobre Albert Einstein**\n",
      "\n",
      "* O que foi dito:\n",
      " + Albert Einstein nasceu em Ulma, Alemanha, em 14 de março de 1879.\n",
      " + Sua data de nascimento é lembrada em 14 de março.\n",
      " + A maior contribuição dele foi desenvolver a Teoria da Relatividade e uma das equações mais famosas dela é E=mc².\n",
      "* Informações adicionais:\n",
      " + Ele desenvolveu a Teoria da Relatividade, que revolucionou o entendimento da física e do espaço-tempo.\n",
      " + Sua teoria mais famosa é E=mc².\n",
      "\n",
      "Espero que isso esteja correto!\n"
     ]
    }
   ],
   "source": [
    "query = \"Qual foi a maior contribuição dele?\"\n",
    "input_message = HumanMessage(content=query)\n",
    "input_message.pretty_print()\n",
    "for event in app.stream({\"messages\": [input_message]}, config, stream_mode=\"updates\"):\n",
    "    print_update(event)"
   ]
  },
  {
   "cell_type": "code",
   "execution_count": 16,
   "id": "2b01743a-0b36-434f-86a7-64335117a9c0",
   "metadata": {},
   "outputs": [
    {
     "data": {
      "text/plain": [
       "{'messages': [HumanMessage(content='Qual foi a maior contribuição dele?', additional_kwargs={}, response_metadata={}, id='4158d5f0-6fd7-421e-91d0-90a0cee3aa51'),\n",
       "  AIMessage(content='A maior contribuição de Albert Einstein é ter desenvolvido a Teoria da Relatividade, que revolucionou o entendimento da física e do espaço-tempo. Uma das equações mais famosas dela é E=mc².', additional_kwargs={}, response_metadata={'model': 'llama3.1:latest', 'created_at': '2024-10-05T12:15:42.629319115Z', 'message': {'role': 'assistant', 'content': ''}, 'done_reason': 'stop', 'done': True, 'total_duration': 3820325466, 'load_duration': 61772585, 'prompt_eval_count': 281, 'prompt_eval_duration': 190885000, 'eval_count': 51, 'eval_duration': 3096398000}, id='run-909222f9-ef36-4b43-9a6f-bc61843285d5-0', usage_metadata={'input_tokens': 281, 'output_tokens': 51, 'total_tokens': 332})],\n",
       " 'summary': 'Aqui está o resumo atualizado:\\n\\n**Conversa sobre Albert Einstein**\\n\\n* O que foi dito:\\n + Albert Einstein nasceu em Ulma, Alemanha, em 14 de março de 1879.\\n + Sua data de nascimento é lembrada em 14 de março.\\n + A maior contribuição dele foi desenvolver a Teoria da Relatividade e uma das equações mais famosas dela é E=mc².\\n* Informações adicionais:\\n + Ele desenvolveu a Teoria da Relatividade, que revolucionou o entendimento da física e do espaço-tempo.\\n + Sua teoria mais famosa é E=mc².\\n\\nEspero que isso esteja correto!'}"
      ]
     },
     "execution_count": 16,
     "metadata": {},
     "output_type": "execute_result"
    }
   ],
   "source": [
    "values = app.get_state(config).values\n",
    "values"
   ]
  },
  {
   "cell_type": "code",
   "execution_count": 17,
   "id": "98f08774-42a3-4a5a-9b6e-2e02fb9e3c77",
   "metadata": {},
   "outputs": [
    {
     "name": "stdout",
     "output_type": "stream",
     "text": [
      "================================\u001b[1m Human Message \u001b[0m=================================\n",
      "\n",
      "O que você disse por último?\n",
      "==================================\u001b[1m Ai Message \u001b[0m==================================\n",
      "\n",
      "Eu disse que a maior contribuição de Albert Einstein foi ter desenvolvido a Teoria da Relatividade, e uma das equações mais famosas dela é E=mc².\n"
     ]
    }
   ],
   "source": [
    "query = \"O que você disse por último?\"\n",
    "input_message = HumanMessage(content=query)\n",
    "input_message.pretty_print()\n",
    "for event in app.stream({\"messages\": [input_message]}, config, stream_mode=\"updates\"):\n",
    "    print_update(event)"
   ]
  },
  {
   "cell_type": "code",
   "execution_count": 18,
   "id": "71bd8e60-5b26-4e0e-88cd-84c8926d47c4",
   "metadata": {},
   "outputs": [
    {
     "data": {
      "text/plain": [
       "{'messages': [HumanMessage(content='Qual foi a maior contribuição dele?', additional_kwargs={}, response_metadata={}, id='4158d5f0-6fd7-421e-91d0-90a0cee3aa51'),\n",
       "  AIMessage(content='A maior contribuição de Albert Einstein é ter desenvolvido a Teoria da Relatividade, que revolucionou o entendimento da física e do espaço-tempo. Uma das equações mais famosas dela é E=mc².', additional_kwargs={}, response_metadata={'model': 'llama3.1:latest', 'created_at': '2024-10-05T12:15:42.629319115Z', 'message': {'role': 'assistant', 'content': ''}, 'done_reason': 'stop', 'done': True, 'total_duration': 3820325466, 'load_duration': 61772585, 'prompt_eval_count': 281, 'prompt_eval_duration': 190885000, 'eval_count': 51, 'eval_duration': 3096398000}, id='run-909222f9-ef36-4b43-9a6f-bc61843285d5-0', usage_metadata={'input_tokens': 281, 'output_tokens': 51, 'total_tokens': 332}),\n",
       "  HumanMessage(content='O que você disse por último?', additional_kwargs={}, response_metadata={}, id='88e8a026-8f1c-40f4-a2d7-7d7413a4d3ec'),\n",
       "  AIMessage(content='Eu disse que a maior contribuição de Albert Einstein foi ter desenvolvido a Teoria da Relatividade, e uma das equações mais famosas dela é E=mc².', additional_kwargs={}, response_metadata={'model': 'llama3.1:latest', 'created_at': '2024-10-05T12:23:37.909070323Z', 'message': {'role': 'assistant', 'content': ''}, 'done_reason': 'stop', 'done': True, 'total_duration': 6041617379, 'load_duration': 3173162388, 'prompt_eval_count': 253, 'prompt_eval_duration': 313063000, 'eval_count': 39, 'eval_duration': 2302830000}, id='run-a1d74c32-d684-4958-ae11-4a6cb85d3a0b-0', usage_metadata={'input_tokens': 253, 'output_tokens': 39, 'total_tokens': 292})],\n",
       " 'summary': 'Aqui está o resumo atualizado:\\n\\n**Conversa sobre Albert Einstein**\\n\\n* O que foi dito:\\n + Albert Einstein nasceu em Ulma, Alemanha, em 14 de março de 1879.\\n + Sua data de nascimento é lembrada em 14 de março.\\n + A maior contribuição dele foi desenvolver a Teoria da Relatividade e uma das equações mais famosas dela é E=mc².\\n* Informações adicionais:\\n + Ele desenvolveu a Teoria da Relatividade, que revolucionou o entendimento da física e do espaço-tempo.\\n + Sua teoria mais famosa é E=mc².\\n\\nEspero que isso esteja correto!'}"
      ]
     },
     "execution_count": 18,
     "metadata": {},
     "output_type": "execute_result"
    }
   ],
   "source": [
    "values = app.get_state(config).values\n",
    "values"
   ]
  }
 ],
 "metadata": {
  "kernelspec": {
   "display_name": "Python 3 (ipykernel)",
   "language": "python",
   "name": "python3"
  },
  "language_info": {
   "codemirror_mode": {
    "name": "ipython",
    "version": 3
   },
   "file_extension": ".py",
   "mimetype": "text/x-python",
   "name": "python",
   "nbconvert_exporter": "python",
   "pygments_lexer": "ipython3",
   "version": "3.11.9"
  }
 },
 "nbformat": 4,
 "nbformat_minor": 5
}
