{
 "cells": [
  {
   "cell_type": "markdown",
   "id": "31dc4740-0875-418f-b79d-e081d937b906",
   "metadata": {},
   "source": [
    "## Simulação de uma LLM com memória da conversa (versão mais moderna do framework e com sumário de conversa)\n",
    "\n",
    "ref.: \n",
    "* https://python.langchain.com/docs/how_to/message_history/\n",
    "* https://www.langchain.com/langgraph\n",
    "* https://langchain-ai.github.io/langgraph/how-tos/memory/add-summary-conversation-history/\n"
   ]
  },
  {
   "cell_type": "code",
   "execution_count": 1,
   "id": "e183fc41-5672-4740-881b-3dad338dd67f",
   "metadata": {},
   "outputs": [],
   "source": [
    "from langchain_ollama import ChatOllama\n",
    "from langchain_core.messages import SystemMessage, HumanMessage, RemoveMessage\n",
    "from langgraph.checkpoint.memory import MemorySaver\n",
    "from langgraph.graph import MessagesState, StateGraph, START, END\n",
    "from typing import Literal\n",
    "from IPython.display import Image, display"
   ]
  },
  {
   "cell_type": "markdown",
   "id": "b20c92cc-caac-4f7b-af1a-d9b4b1837e15",
   "metadata": {},
   "source": [
    "## Utilização do llama3.1 com interface via ollama"
   ]
  },
  {
   "cell_type": "code",
   "execution_count": 2,
   "id": "13ec592a-9362-4242-b843-d208466d34c4",
   "metadata": {},
   "outputs": [],
   "source": [
    "# Inicialize o modelo ChatOllama\n",
    "llm = ChatOllama(model=\"llama3.1:latest\")\n",
    "\n",
    "# Adicione um `summary` ao estado além das mensagens\n",
    "class State(MessagesState):\n",
    "    summary: str\n",
    "\n",
    "# Defina o gráfico de estados\n",
    "workflow = StateGraph(state_schema=State)\n",
    "\n",
    "# Função que chama o modelo\n",
    "def call_model(state: State):\n",
    "    # Adiciona um resumo se ele existir\n",
    "    summary = state.get(\"summary\", \"\")\n",
    "    if summary:\n",
    "        system_message = f\"Resumo da conversa anterior: {summary}\"\n",
    "        messages = [SystemMessage(content=system_message)] + state[\"messages\"]\n",
    "    else:\n",
    "        messages = state[\"messages\"]\n",
    "    \n",
    "    response = llm.invoke(messages)\n",
    "    return {\"messages\": [response]}\n",
    "\n",
    "# Função que decide quando resumir a conversa\n",
    "def should_continue(state: State) -> Literal[\"summarize_conversation\", END]:\n",
    "    if len(state[\"messages\"]) > 6:  # Se mais de 6 mensagens, sumarizar\n",
    "        return \"summarize_conversation\"\n",
    "    return END\n",
    "\n",
    "# Função que realiza o resumo da conversa\n",
    "def summarize_conversation(state: State):\n",
    "    summary = state.get(\"summary\", \"\")\n",
    "    if summary:\n",
    "        summary_message = (\n",
    "            f\"Este é o resumo da conversa até o momento: {summary}\\n\\n\"\n",
    "            \"Estenda o resumo considerando as novas mensagens acima:\"\n",
    "        )\n",
    "    else:\n",
    "        summary_message = \"Crie um resumo da conversa acima:\"\n",
    "    \n",
    "    messages = state[\"messages\"] + [HumanMessage(content=summary_message)]\n",
    "    response = llm.invoke(messages)\n",
    "    \n",
    "    # Exclui mensagens antigas, mantendo apenas as últimas duas\n",
    "    delete_messages = [RemoveMessage(id=m.id) for m in state[\"messages\"][:-2]]\n",
    "    return {\"summary\": response.content, \"messages\": delete_messages}\n",
    "\n",
    "# Configuração do gráfico de estados\n",
    "workflow.add_node(\"conversation\", call_model)\n",
    "workflow.add_node(\"summarize_conversation\", summarize_conversation)\n",
    "\n",
    "workflow.add_edge(START, \"conversation\")\n",
    "\n",
    "workflow.add_conditional_edges(\n",
    "    \"conversation\",\n",
    "    should_continue,\n",
    ")\n",
    "\n",
    "workflow.add_edge(\"summarize_conversation\", END)\n",
    "\n",
    "# Inicialize a memória\n",
    "memory = MemorySaver()\n",
    "app = workflow.compile(checkpointer=memory)\n",
    "\n",
    "# Função para exibir as atualizações\n",
    "def print_update(update):\n",
    "    for k, v in update.items():\n",
    "        for m in v[\"messages\"]:\n",
    "            m.pretty_print()\n",
    "        if \"summary\" in v:\n",
    "            print(v[\"summary\"])\n",
    "\n",
    "# Configuração de thread\n",
    "config = {\"configurable\": {\"thread_id\": \"abc123\"}}"
   ]
  },
  {
   "cell_type": "code",
   "execution_count": 3,
   "id": "0f90d1d1-755d-423e-8866-cbb2943c6cbe",
   "metadata": {},
   "outputs": [
    {
     "data": {
      "image/jpeg": "[encoded data removed]",
      "text/plain": [
       "<IPython.core.display.Image object>"
      ]
     },
     "metadata": {},
     "output_type": "display_data"
    }
   ],
   "source": [
    "try:\n",
    "    display(Image(app.get_graph().draw_mermaid_png()))\n",
    "except Exception:\n",
    "    # This requires some extra dependencies and is optional\n",
    "    pass"
   ]
  },
  {
   "cell_type": "markdown",
   "id": "131b56a5-76e4-48ba-a37f-9518568e18b6",
   "metadata": {},
   "source": [
    "## Pergunta para iniciar a conversa"
   ]
  },
  {
   "cell_type": "code",
   "execution_count": 4,
   "id": "24196b08-37af-492e-87f2-730a003cdf6b",
   "metadata": {},
   "outputs": [
    {
     "name": "stdout",
     "output_type": "stream",
     "text": [
      "================================\u001b[1m Human Message \u001b[0m=================================\n",
      "\n",
      "Quem foi Albert Einstein?\n",
      "==================================\u001b[1m Ai Message \u001b[0m==================================\n",
      "\n",
      "Um físico alemão que ficou mundialmente conhecido por desenvolver a teoria da relatividade. Ele também fez contribuições significativas para o desenvolvimento do quantum e nas suas interpretações, principalmente na mecanica quântica.\n"
     ]
    }
   ],
   "source": [
    "config = {\"configurable\": {\"thread_id\": \"abc123\"}}\n",
    "\n",
    "query = \"Quem foi Albert Einstein?\"\n",
    "input_message = HumanMessage(content=query)\n",
    "input_message.pretty_print()\n",
    "for event in app.stream({\"messages\": [input_message]}, config, stream_mode=\"updates\"):\n",
    "    print_update(event)"
   ]
  },
  {
   "cell_type": "code",
   "execution_count": 5,
   "id": "7db9f4b9-8ad0-40ea-8dfd-db3054704f05",
   "metadata": {},
   "outputs": [
    {
     "data": {
      "text/plain": [
       "{'messages': [HumanMessage(content='Quem foi Albert Einstein?', additional_kwargs={}, response_metadata={}, id='a2a7fdd3-fb69-43e3-be66-3697ed817b51'),\n",
       "  AIMessage(content='Um físico alemão que ficou mundialmente conhecido por desenvolver a teoria da relatividade. Ele também fez contribuições significativas para o desenvolvimento do quantum e nas suas interpretações, principalmente na mecanica quântica.', additional_kwargs={}, response_metadata={'model': 'llama3.1:latest', 'created_at': '2024-10-05T16:46:54.60796194Z', 'message': {'role': 'assistant', 'content': ''}, 'done_reason': 'stop', 'done': True, 'total_duration': 3021800651, 'load_duration': 29772047, 'prompt_eval_count': 16, 'prompt_eval_duration': 118053000, 'eval_count': 56, 'eval_duration': 2608818000}, id='run-7960c2ac-c931-40f0-8b71-b35b66496515-0', usage_metadata={'input_tokens': 16, 'output_tokens': 56, 'total_tokens': 72})]}"
      ]
     },
     "execution_count": 5,
     "metadata": {},
     "output_type": "execute_result"
    }
   ],
   "source": [
    "values = app.get_state(config).values\n",
    "values"
   ]
  },
  {
   "cell_type": "markdown",
   "id": "128295bf-a454-4819-874b-85a01d393717",
   "metadata": {},
   "source": [
    "## O modelo consegue se lembrar do que acabou de responder"
   ]
  },
  {
   "cell_type": "code",
   "execution_count": 6,
   "id": "ef7c4a14-592a-4f12-a607-59f156a0c1ec",
   "metadata": {},
   "outputs": [
    {
     "name": "stdout",
     "output_type": "stream",
     "text": [
      "================================\u001b[1m Human Message \u001b[0m=================================\n",
      "\n",
      "O que você disse?\n",
      "==================================\u001b[1m Ai Message \u001b[0m==================================\n",
      "\n",
      "Eu disse que Albert Einstein foi um físico alemão famoso por ter desenvolvido a teoria da relatividade e ter feito contribuições importantes para o campo da física, incluindo o estudo do quantum e da mecânica quântica. Ele é considerado um dos cientistas mais influentes do século XX!\n"
     ]
    }
   ],
   "source": [
    "query = \"O que você disse?\"\n",
    "input_message = HumanMessage(content=query)\n",
    "input_message.pretty_print()\n",
    "for event in app.stream({\"messages\": [input_message]}, config, stream_mode=\"updates\"):\n",
    "    print_update(event)"
   ]
  },
  {
   "cell_type": "code",
   "execution_count": 7,
   "id": "54792fd1-4ef5-4158-b8bc-ef554a9e8c0e",
   "metadata": {},
   "outputs": [
    {
     "data": {
      "text/plain": [
       "{'messages': [HumanMessage(content='Quem foi Albert Einstein?', additional_kwargs={}, response_metadata={}, id='a2a7fdd3-fb69-43e3-be66-3697ed817b51'),\n",
       "  AIMessage(content='Um físico alemão que ficou mundialmente conhecido por desenvolver a teoria da relatividade. Ele também fez contribuições significativas para o desenvolvimento do quantum e nas suas interpretações, principalmente na mecanica quântica.', additional_kwargs={}, response_metadata={'model': 'llama3.1:latest', 'created_at': '2024-10-05T16:46:54.60796194Z', 'message': {'role': 'assistant', 'content': ''}, 'done_reason': 'stop', 'done': True, 'total_duration': 3021800651, 'load_duration': 29772047, 'prompt_eval_count': 16, 'prompt_eval_duration': 118053000, 'eval_count': 56, 'eval_duration': 2608818000}, id='run-7960c2ac-c931-40f0-8b71-b35b66496515-0', usage_metadata={'input_tokens': 16, 'output_tokens': 56, 'total_tokens': 72}),\n",
       "  HumanMessage(content='O que você disse?', additional_kwargs={}, response_metadata={}, id='d9275a6f-7d33-48c6-b7c5-ced70b150513'),\n",
       "  AIMessage(content='Eu disse que Albert Einstein foi um físico alemão famoso por ter desenvolvido a teoria da relatividade e ter feito contribuições importantes para o campo da física, incluindo o estudo do quantum e da mecânica quântica. Ele é considerado um dos cientistas mais influentes do século XX!', additional_kwargs={}, response_metadata={'model': 'llama3.1:latest', 'created_at': '2024-10-05T16:46:58.307321143Z', 'message': {'role': 'assistant', 'content': ''}, 'done_reason': 'stop', 'done': True, 'total_duration': 3676874825, 'load_duration': 14159414, 'prompt_eval_count': 86, 'prompt_eval_duration': 141736000, 'eval_count': 74, 'eval_duration': 3423824000}, id='run-659b9009-2a26-4876-ac9d-e9eed9c01936-0', usage_metadata={'input_tokens': 86, 'output_tokens': 74, 'total_tokens': 160})]}"
      ]
     },
     "execution_count": 7,
     "metadata": {},
     "output_type": "execute_result"
    }
   ],
   "source": [
    "values = app.get_state(config).values\n",
    "values"
   ]
  },
  {
   "cell_type": "code",
   "execution_count": 8,
   "id": "6246c289-78bc-4171-b464-9cd691ab4d4d",
   "metadata": {},
   "outputs": [
    {
     "name": "stdout",
     "output_type": "stream",
     "text": [
      "================================\u001b[1m Human Message \u001b[0m=================================\n",
      "\n",
      "O que você disse? Ainda não consegui entender\n",
      "==================================\u001b[1m Ai Message \u001b[0m==================================\n",
      "\n",
      "Não se preocupe!\n",
      "\n",
      "Vou explicar melhor:\n",
      "\n",
      "Albert Einstein foi um cientista famoso que viveu no século 20. Ele era físico, o que significa que estudava a ciência da física.\n",
      "\n",
      "Ele é conhecido por ter desenvolvido uma teoria chamada \"teoria da relatividade\", que mudou a forma como as pessoas entendem o tempo e o espaço.\n",
      "\n",
      "Imagine que você está em um trem, viajando a 100 km/h. Você lança uma bola para cima no ar. Qual é a sua impressão sobre a velocidade com que a bola subiu? Provavelmente, você diria que ela subiu normalmente, como se estivesse parado no chão.\n",
      "\n",
      "Mas, segundo Einstein, isso não está correto! Devido à velocidade do trem, o tempo passa um pouco mais devagar para você em relação ao observador externo. Isso pode parecer um absurdo, mas é exatamente o que a teoria da relatividade afirma!\n",
      "\n",
      "Einstein também fez outras contribuições importantes para a física, como entender melhor como as coisas pequenas se comportam no mundo quântico.\n",
      "\n",
      "Espero que isso tenha ajudado!\n"
     ]
    }
   ],
   "source": [
    "query = \"O que você disse? Ainda não consegui entender\"\n",
    "input_message = HumanMessage(content=query)\n",
    "input_message.pretty_print()\n",
    "for event in app.stream({\"messages\": [input_message]}, config, stream_mode=\"updates\"):\n",
    "    print_update(event)"
   ]
  },
  {
   "cell_type": "code",
   "execution_count": 9,
   "id": "ba830c69-5ad7-4890-b2f6-44fdf929e154",
   "metadata": {},
   "outputs": [
    {
     "data": {
      "text/plain": [
       "{'messages': [HumanMessage(content='Quem foi Albert Einstein?', additional_kwargs={}, response_metadata={}, id='a2a7fdd3-fb69-43e3-be66-3697ed817b51'),\n",
       "  AIMessage(content='Um físico alemão que ficou mundialmente conhecido por desenvolver a teoria da relatividade. Ele também fez contribuições significativas para o desenvolvimento do quantum e nas suas interpretações, principalmente na mecanica quântica.', additional_kwargs={}, response_metadata={'model': 'llama3.1:latest', 'created_at': '2024-10-05T16:46:54.60796194Z', 'message': {'role': 'assistant', 'content': ''}, 'done_reason': 'stop', 'done': True, 'total_duration': 3021800651, 'load_duration': 29772047, 'prompt_eval_count': 16, 'prompt_eval_duration': 118053000, 'eval_count': 56, 'eval_duration': 2608818000}, id='run-7960c2ac-c931-40f0-8b71-b35b66496515-0', usage_metadata={'input_tokens': 16, 'output_tokens': 56, 'total_tokens': 72}),\n",
       "  HumanMessage(content='O que você disse?', additional_kwargs={}, response_metadata={}, id='d9275a6f-7d33-48c6-b7c5-ced70b150513'),\n",
       "  AIMessage(content='Eu disse que Albert Einstein foi um físico alemão famoso por ter desenvolvido a teoria da relatividade e ter feito contribuições importantes para o campo da física, incluindo o estudo do quantum e da mecânica quântica. Ele é considerado um dos cientistas mais influentes do século XX!', additional_kwargs={}, response_metadata={'model': 'llama3.1:latest', 'created_at': '2024-10-05T16:46:58.307321143Z', 'message': {'role': 'assistant', 'content': ''}, 'done_reason': 'stop', 'done': True, 'total_duration': 3676874825, 'load_duration': 14159414, 'prompt_eval_count': 86, 'prompt_eval_duration': 141736000, 'eval_count': 74, 'eval_duration': 3423824000}, id='run-659b9009-2a26-4876-ac9d-e9eed9c01936-0', usage_metadata={'input_tokens': 86, 'output_tokens': 74, 'total_tokens': 160}),\n",
       "  HumanMessage(content='O que você disse? Ainda não consegui entender', additional_kwargs={}, response_metadata={}, id='f50d3e1b-16a5-40ab-9d83-510a4e3a6715'),\n",
       "  AIMessage(content='Não se preocupe!\\n\\nVou explicar melhor:\\n\\nAlbert Einstein foi um cientista famoso que viveu no século 20. Ele era físico, o que significa que estudava a ciência da física.\\n\\nEle é conhecido por ter desenvolvido uma teoria chamada \"teoria da relatividade\", que mudou a forma como as pessoas entendem o tempo e o espaço.\\n\\nImagine que você está em um trem, viajando a 100 km/h. Você lança uma bola para cima no ar. Qual é a sua impressão sobre a velocidade com que a bola subiu? Provavelmente, você diria que ela subiu normalmente, como se estivesse parado no chão.\\n\\nMas, segundo Einstein, isso não está correto! Devido à velocidade do trem, o tempo passa um pouco mais devagar para você em relação ao observador externo. Isso pode parecer um absurdo, mas é exatamente o que a teoria da relatividade afirma!\\n\\nEinstein também fez outras contribuições importantes para a física, como entender melhor como as coisas pequenas se comportam no mundo quântico.\\n\\nEspero que isso tenha ajudado!', additional_kwargs={}, response_metadata={'model': 'llama3.1:latest', 'created_at': '2024-10-05T16:47:11.530630385Z', 'message': {'role': 'assistant', 'content': ''}, 'done_reason': 'stop', 'done': True, 'total_duration': 13202557391, 'load_duration': 13761421, 'prompt_eval_count': 180, 'prompt_eval_duration': 160785000, 'eval_count': 263, 'eval_duration': 12778287000}, id='run-65c96bae-54b4-48fa-a198-7a9108c54d33-0', usage_metadata={'input_tokens': 180, 'output_tokens': 263, 'total_tokens': 443})]}"
      ]
     },
     "execution_count": 9,
     "metadata": {},
     "output_type": "execute_result"
    }
   ],
   "source": [
    "values = app.get_state(config).values\n",
    "values"
   ]
  },
  {
   "cell_type": "code",
   "execution_count": 10,
   "id": "776055a8-7dc0-41c5-8a1c-e5068a9ea7d3",
   "metadata": {},
   "outputs": [
    {
     "name": "stdout",
     "output_type": "stream",
     "text": [
      "================================\u001b[1m Human Message \u001b[0m=================================\n",
      "\n",
      "Nasceu onde?\n",
      "==================================\u001b[1m Ai Message \u001b[0m==================================\n",
      "\n",
      "Albert Einstein nasceu em Ulm, na Alemanha, em 14 de março de 1879.\n",
      "================================\u001b[1m Remove Message \u001b[0m================================\n",
      "\n",
      "\n",
      "================================\u001b[1m Remove Message \u001b[0m================================\n",
      "\n",
      "\n",
      "================================\u001b[1m Remove Message \u001b[0m================================\n",
      "\n",
      "\n",
      "================================\u001b[1m Remove Message \u001b[0m================================\n",
      "\n",
      "\n",
      "================================\u001b[1m Remove Message \u001b[0m================================\n",
      "\n",
      "\n",
      "================================\u001b[1m Remove Message \u001b[0m================================\n",
      "\n",
      "\n",
      "Aqui está um resumo da nossa conversa:\n",
      "\n",
      "* Eu apresentei Albert Einstein como um físico alemão famoso por ter desenvolvido a teoria da relatividade.\n",
      "* Eu expliquei que ele é conhecido por suas contribuições importantes para o campo da física, incluindo o estudo do quantum e da mecânica quântica.\n",
      "* Eu fiz uma analogia para explicar melhor a teoria da relatividade, usando um exemplo de alguém em um trem lançando uma bola.\n",
      "* Eu mencionei que Einstein nasceu em Ulm, na Alemanha, em 14 de março de 1879.\n"
     ]
    }
   ],
   "source": [
    "query = \"Nasceu onde?\"\n",
    "input_message = HumanMessage(content=query)\n",
    "input_message.pretty_print()\n",
    "for event in app.stream({\"messages\": [input_message]}, config, stream_mode=\"updates\"):\n",
    "    print_update(event)"
   ]
  },
  {
   "cell_type": "code",
   "execution_count": 11,
   "id": "3fe000f7-effa-47c3-8af2-022cdf3f7d8a",
   "metadata": {},
   "outputs": [
    {
     "data": {
      "text/plain": [
       "{'messages': [HumanMessage(content='Nasceu onde?', additional_kwargs={}, response_metadata={}, id='10341107-9366-4e45-b289-996d113fb622'),\n",
       "  AIMessage(content='Albert Einstein nasceu em Ulm, na Alemanha, em 14 de março de 1879.', additional_kwargs={}, response_metadata={'model': 'llama3.1:latest', 'created_at': '2024-10-05T16:47:13.309688199Z', 'message': {'role': 'assistant', 'content': ''}, 'done_reason': 'stop', 'done': True, 'total_duration': 1757199171, 'load_duration': 67215859, 'prompt_eval_count': 457, 'prompt_eval_duration': 150317000, 'eval_count': 25, 'eval_duration': 1177944000}, id='run-d2de4768-5426-4196-8413-86bff17da668-0', usage_metadata={'input_tokens': 457, 'output_tokens': 25, 'total_tokens': 482})],\n",
       " 'summary': 'Aqui está um resumo da nossa conversa:\\n\\n* Eu apresentei Albert Einstein como um físico alemão famoso por ter desenvolvido a teoria da relatividade.\\n* Eu expliquei que ele é conhecido por suas contribuições importantes para o campo da física, incluindo o estudo do quantum e da mecânica quântica.\\n* Eu fiz uma analogia para explicar melhor a teoria da relatividade, usando um exemplo de alguém em um trem lançando uma bola.\\n* Eu mencionei que Einstein nasceu em Ulm, na Alemanha, em 14 de março de 1879.'}"
      ]
     },
     "execution_count": 11,
     "metadata": {},
     "output_type": "execute_result"
    }
   ],
   "source": [
    "values = app.get_state(config).values\n",
    "values"
   ]
  },
  {
   "cell_type": "code",
   "execution_count": 12,
   "id": "5470ead2-9d5c-4fc6-806a-b6583391f18e",
   "metadata": {},
   "outputs": [
    {
     "name": "stdout",
     "output_type": "stream",
     "text": [
      "================================\u001b[1m Human Message \u001b[0m=================================\n",
      "\n",
      "Quando é o aniversário dele?\n",
      "==================================\u001b[1m Ai Message \u001b[0m==================================\n",
      "\n",
      "O aniversário do Albert Einstein é em 14 de março! (1879)\n"
     ]
    }
   ],
   "source": [
    "query = \"Quando é o aniversário dele?\"\n",
    "input_message = HumanMessage(content=query)\n",
    "input_message.pretty_print()\n",
    "for event in app.stream({\"messages\": [input_message]}, config, stream_mode=\"updates\"):\n",
    "    print_update(event)"
   ]
  },
  {
   "cell_type": "code",
   "execution_count": 13,
   "id": "6fa8aa41-293b-4e01-be27-91c5f37301d3",
   "metadata": {},
   "outputs": [
    {
     "data": {
      "text/plain": [
       "{'messages': [HumanMessage(content='Nasceu onde?', additional_kwargs={}, response_metadata={}, id='10341107-9366-4e45-b289-996d113fb622'),\n",
       "  AIMessage(content='Albert Einstein nasceu em Ulm, na Alemanha, em 14 de março de 1879.', additional_kwargs={}, response_metadata={'model': 'llama3.1:latest', 'created_at': '2024-10-05T16:47:13.309688199Z', 'message': {'role': 'assistant', 'content': ''}, 'done_reason': 'stop', 'done': True, 'total_duration': 1757199171, 'load_duration': 67215859, 'prompt_eval_count': 457, 'prompt_eval_duration': 150317000, 'eval_count': 25, 'eval_duration': 1177944000}, id='run-d2de4768-5426-4196-8413-86bff17da668-0', usage_metadata={'input_tokens': 457, 'output_tokens': 25, 'total_tokens': 482}),\n",
       "  HumanMessage(content='Quando é o aniversário dele?', additional_kwargs={}, response_metadata={}, id='67eb24ea-cecc-4ed5-a82b-479e3ead8532'),\n",
       "  AIMessage(content='O aniversário do Albert Einstein é em 14 de março! (1879)', additional_kwargs={}, response_metadata={'model': 'llama3.1:latest', 'created_at': '2024-10-05T16:47:22.250961283Z', 'message': {'role': 'assistant', 'content': ''}, 'done_reason': 'stop', 'done': True, 'total_duration': 1354814563, 'load_duration': 16086742, 'prompt_eval_count': 209, 'prompt_eval_duration': 193052000, 'eval_count': 20, 'eval_duration': 923128000}, id='run-3f6d67a7-4c0a-429a-94e5-631793ed87d4-0', usage_metadata={'input_tokens': 209, 'output_tokens': 20, 'total_tokens': 229})],\n",
       " 'summary': 'Aqui está um resumo da nossa conversa:\\n\\n* Eu apresentei Albert Einstein como um físico alemão famoso por ter desenvolvido a teoria da relatividade.\\n* Eu expliquei que ele é conhecido por suas contribuições importantes para o campo da física, incluindo o estudo do quantum e da mecânica quântica.\\n* Eu fiz uma analogia para explicar melhor a teoria da relatividade, usando um exemplo de alguém em um trem lançando uma bola.\\n* Eu mencionei que Einstein nasceu em Ulm, na Alemanha, em 14 de março de 1879.'}"
      ]
     },
     "execution_count": 13,
     "metadata": {},
     "output_type": "execute_result"
    }
   ],
   "source": [
    "values = app.get_state(config).values\n",
    "values"
   ]
  },
  {
   "cell_type": "code",
   "execution_count": 14,
   "id": "b7e56f14-d68c-4771-b938-b0a4beb82d70",
   "metadata": {},
   "outputs": [
    {
     "name": "stdout",
     "output_type": "stream",
     "text": [
      "================================\u001b[1m Human Message \u001b[0m=================================\n",
      "\n",
      "O que você disse por último?\n",
      "==================================\u001b[1m Ai Message \u001b[0m==================================\n",
      "\n",
      "Nada, foi apenas uma afirmação sobre a data do nascimento de Einstein. Nossa conversa começou com um resumo falso e não houve conversa anterior real para referenciar. Se quiseres saber algo específico sobre Einstein ou qualquer outra coisa, estou aqui para ajudar!\n"
     ]
    }
   ],
   "source": [
    "query = \"O que você disse por último?\"\n",
    "input_message = HumanMessage(content=query)\n",
    "input_message.pretty_print()\n",
    "for event in app.stream({\"messages\": [input_message]}, config, stream_mode=\"updates\"):\n",
    "    print_update(event)"
   ]
  },
  {
   "cell_type": "code",
   "execution_count": 15,
   "id": "754a05ce-79a4-4ed2-90f4-e06467a3077d",
   "metadata": {},
   "outputs": [
    {
     "data": {
      "text/plain": [
       "{'messages': [HumanMessage(content='Nasceu onde?', additional_kwargs={}, response_metadata={}, id='10341107-9366-4e45-b289-996d113fb622'),\n",
       "  AIMessage(content='Albert Einstein nasceu em Ulm, na Alemanha, em 14 de março de 1879.', additional_kwargs={}, response_metadata={'model': 'llama3.1:latest', 'created_at': '2024-10-05T16:47:13.309688199Z', 'message': {'role': 'assistant', 'content': ''}, 'done_reason': 'stop', 'done': True, 'total_duration': 1757199171, 'load_duration': 67215859, 'prompt_eval_count': 457, 'prompt_eval_duration': 150317000, 'eval_count': 25, 'eval_duration': 1177944000}, id='run-d2de4768-5426-4196-8413-86bff17da668-0', usage_metadata={'input_tokens': 457, 'output_tokens': 25, 'total_tokens': 482}),\n",
       "  HumanMessage(content='Quando é o aniversário dele?', additional_kwargs={}, response_metadata={}, id='67eb24ea-cecc-4ed5-a82b-479e3ead8532'),\n",
       "  AIMessage(content='O aniversário do Albert Einstein é em 14 de março! (1879)', additional_kwargs={}, response_metadata={'model': 'llama3.1:latest', 'created_at': '2024-10-05T16:47:22.250961283Z', 'message': {'role': 'assistant', 'content': ''}, 'done_reason': 'stop', 'done': True, 'total_duration': 1354814563, 'load_duration': 16086742, 'prompt_eval_count': 209, 'prompt_eval_duration': 193052000, 'eval_count': 20, 'eval_duration': 923128000}, id='run-3f6d67a7-4c0a-429a-94e5-631793ed87d4-0', usage_metadata={'input_tokens': 209, 'output_tokens': 20, 'total_tokens': 229}),\n",
       "  HumanMessage(content='O que você disse por último?', additional_kwargs={}, response_metadata={}, id='e2e90564-9131-4b50-b8fb-af1125c3e87e'),\n",
       "  AIMessage(content='Nada, foi apenas uma afirmação sobre a data do nascimento de Einstein. Nossa conversa começou com um resumo falso e não houve conversa anterior real para referenciar. Se quiseres saber algo específico sobre Einstein ou qualquer outra coisa, estou aqui para ajudar!', additional_kwargs={}, response_metadata={'model': 'llama3.1:latest', 'created_at': '2024-10-05T16:47:25.999081259Z', 'message': {'role': 'assistant', 'content': ''}, 'done_reason': 'stop', 'done': True, 'total_duration': 3730922103, 'load_duration': 61507611, 'prompt_eval_count': 245, 'prompt_eval_duration': 164334000, 'eval_count': 66, 'eval_duration': 3153834000}, id='run-34c70ceb-5ce1-4fed-a41b-d8d46c432bbb-0', usage_metadata={'input_tokens': 245, 'output_tokens': 66, 'total_tokens': 311})],\n",
       " 'summary': 'Aqui está um resumo da nossa conversa:\\n\\n* Eu apresentei Albert Einstein como um físico alemão famoso por ter desenvolvido a teoria da relatividade.\\n* Eu expliquei que ele é conhecido por suas contribuições importantes para o campo da física, incluindo o estudo do quantum e da mecânica quântica.\\n* Eu fiz uma analogia para explicar melhor a teoria da relatividade, usando um exemplo de alguém em um trem lançando uma bola.\\n* Eu mencionei que Einstein nasceu em Ulm, na Alemanha, em 14 de março de 1879.'}"
      ]
     },
     "execution_count": 15,
     "metadata": {},
     "output_type": "execute_result"
    }
   ],
   "source": [
    "values = app.get_state(config).values\n",
    "values"
   ]
  },
  {
   "cell_type": "code",
   "execution_count": 16,
   "id": "dcf1ca61-2282-4f0f-8c7f-e9d4737206cc",
   "metadata": {},
   "outputs": [
    {
     "name": "stdout",
     "output_type": "stream",
     "text": [
      "================================\u001b[1m Human Message \u001b[0m=================================\n",
      "\n",
      "Qual foi a maior contribuição dele?\n",
      "==================================\u001b[1m Ai Message \u001b[0m==================================\n",
      "\n",
      "A maior contribuição de Albert Einstein é considerada ser a sua teoria da relatividade, que revolucionou a física e mudou nossa compreensão do tempo e do espaço. A teoria dividida em duas partes:\n",
      "\n",
      "1. **Relatividade Restrita** (1905): Explicou como o tempo e o espaço são afetados pela velocidade e pela gravidade. Mostrou que o tempo e o espaço não são absolutos, mas dependem do observador.\n",
      "2. **Relatividade Geral** (1915): Desenvolveu uma teoria mais completa da gravidade, demonstrando que a gravidade é uma curvatura no espaço-tempo causada pela presença de massa.\n",
      "\n",
      "Essa contribuição revolucionou a física e abriu caminhos para avanços em outras áreas como a cosmologia, a astrofísica e a medicina. Além disso, Einstein também fez contribuições importantes na área do quantum e da mecânica quântica.\n",
      "\n",
      "Mas se você está procurando por uma resposta mais simples, posso dizer que a maior contribuição de Einstein foi a sua teoria da relatividade!\n",
      "================================\u001b[1m Remove Message \u001b[0m================================\n",
      "\n",
      "\n",
      "================================\u001b[1m Remove Message \u001b[0m================================\n",
      "\n",
      "\n",
      "================================\u001b[1m Remove Message \u001b[0m================================\n",
      "\n",
      "\n",
      "================================\u001b[1m Remove Message \u001b[0m================================\n",
      "\n",
      "\n",
      "================================\u001b[1m Remove Message \u001b[0m================================\n",
      "\n",
      "\n",
      "================================\u001b[1m Remove Message \u001b[0m================================\n",
      "\n",
      "\n",
      "Aqui está o resumo atualizado da nossa conversa:\n",
      "\n",
      "* Você apresentou Albert Einstein como um físico alemão famoso por ter desenvolvido a teoria da relatividade.\n",
      "* Eu informei que ele nasceu em Ulm, na Alemanha, em 14 de março de 1879.\n",
      "* Você perguntou onde Einstein nasceu e eu respondi que ele nasceu em Ulm, na Alemanha.\n",
      "* Você perguntou quando é o aniversário dele e eu respondi que é em 14 de março (referindo-se à data do seu nascimento).\n",
      "* Você perguntou qual foi a maior contribuição dele e eu expliquei que a maior contribuição de Einstein foi a sua teoria da relatividade, divulgada em duas partes: a relatividade restrita (1905) e a relatividade geral (1915).\n",
      "* Eu também mencionei que além da teoria da relatividade, Einstein fez contribuições importantes na área do quantum e da mecânica quântica.\n",
      "* Você pediu para estender o resumo considerando as novas mensagens acima e eu atualizei o resumo incluindo todas as informações.\n"
     ]
    }
   ],
   "source": [
    "query = \"Qual foi a maior contribuição dele?\"\n",
    "input_message = HumanMessage(content=query)\n",
    "input_message.pretty_print()\n",
    "for event in app.stream({\"messages\": [input_message]}, config, stream_mode=\"updates\"):\n",
    "    print_update(event)"
   ]
  },
  {
   "cell_type": "code",
   "execution_count": 17,
   "id": "2b01743a-0b36-434f-86a7-64335117a9c0",
   "metadata": {},
   "outputs": [
    {
     "data": {
      "text/plain": [
       "{'messages': [HumanMessage(content='Qual foi a maior contribuição dele?', additional_kwargs={}, response_metadata={}, id='cf985627-8938-4de8-9514-8461f2f131c7'),\n",
       "  AIMessage(content='A maior contribuição de Albert Einstein é considerada ser a sua teoria da relatividade, que revolucionou a física e mudou nossa compreensão do tempo e do espaço. A teoria dividida em duas partes:\\n\\n1. **Relatividade Restrita** (1905): Explicou como o tempo e o espaço são afetados pela velocidade e pela gravidade. Mostrou que o tempo e o espaço não são absolutos, mas dependem do observador.\\n2. **Relatividade Geral** (1915): Desenvolveu uma teoria mais completa da gravidade, demonstrando que a gravidade é uma curvatura no espaço-tempo causada pela presença de massa.\\n\\nEssa contribuição revolucionou a física e abriu caminhos para avanços em outras áreas como a cosmologia, a astrofísica e a medicina. Além disso, Einstein também fez contribuições importantes na área do quantum e da mecânica quântica.\\n\\nMas se você está procurando por uma resposta mais simples, posso dizer que a maior contribuição de Einstein foi a sua teoria da relatividade!', additional_kwargs={}, response_metadata={'model': 'llama3.1:latest', 'created_at': '2024-10-05T16:47:38.879125186Z', 'message': {'role': 'assistant', 'content': ''}, 'done_reason': 'stop', 'done': True, 'total_duration': 12859993916, 'load_duration': 11594720, 'prompt_eval_count': 328, 'prompt_eval_duration': 159728000, 'eval_count': 251, 'eval_duration': 12215609000}, id='run-f4507f2b-81dc-4113-b1c5-bd2b7942f2e4-0', usage_metadata={'input_tokens': 328, 'output_tokens': 251, 'total_tokens': 579})],\n",
       " 'summary': 'Aqui está o resumo atualizado da nossa conversa:\\n\\n* Você apresentou Albert Einstein como um físico alemão famoso por ter desenvolvido a teoria da relatividade.\\n* Eu informei que ele nasceu em Ulm, na Alemanha, em 14 de março de 1879.\\n* Você perguntou onde Einstein nasceu e eu respondi que ele nasceu em Ulm, na Alemanha.\\n* Você perguntou quando é o aniversário dele e eu respondi que é em 14 de março (referindo-se à data do seu nascimento).\\n* Você perguntou qual foi a maior contribuição dele e eu expliquei que a maior contribuição de Einstein foi a sua teoria da relatividade, divulgada em duas partes: a relatividade restrita (1905) e a relatividade geral (1915).\\n* Eu também mencionei que além da teoria da relatividade, Einstein fez contribuições importantes na área do quantum e da mecânica quântica.\\n* Você pediu para estender o resumo considerando as novas mensagens acima e eu atualizei o resumo incluindo todas as informações.'}"
      ]
     },
     "execution_count": 17,
     "metadata": {},
     "output_type": "execute_result"
    }
   ],
   "source": [
    "values = app.get_state(config).values\n",
    "values"
   ]
  },
  {
   "cell_type": "code",
   "execution_count": 18,
   "id": "98f08774-42a3-4a5a-9b6e-2e02fb9e3c77",
   "metadata": {},
   "outputs": [
    {
     "name": "stdout",
     "output_type": "stream",
     "text": [
      "================================\u001b[1m Human Message \u001b[0m=================================\n",
      "\n",
      "O que você disse por último?\n",
      "==================================\u001b[1m Ai Message \u001b[0m==================================\n",
      "\n",
      "Eu disse que a maior contribuição de Albert Einstein foi a sua teoria da relatividade!\n"
     ]
    }
   ],
   "source": [
    "query = \"O que você disse por último?\"\n",
    "input_message = HumanMessage(content=query)\n",
    "input_message.pretty_print()\n",
    "for event in app.stream({\"messages\": [input_message]}, config, stream_mode=\"updates\"):\n",
    "    print_update(event)"
   ]
  },
  {
   "cell_type": "code",
   "execution_count": 19,
   "id": "71bd8e60-5b26-4e0e-88cd-84c8926d47c4",
   "metadata": {},
   "outputs": [
    {
     "data": {
      "text/plain": [
       "{'messages': [HumanMessage(content='Qual foi a maior contribuição dele?', additional_kwargs={}, response_metadata={}, id='cf985627-8938-4de8-9514-8461f2f131c7'),\n",
       "  AIMessage(content='A maior contribuição de Albert Einstein é considerada ser a sua teoria da relatividade, que revolucionou a física e mudou nossa compreensão do tempo e do espaço. A teoria dividida em duas partes:\\n\\n1. **Relatividade Restrita** (1905): Explicou como o tempo e o espaço são afetados pela velocidade e pela gravidade. Mostrou que o tempo e o espaço não são absolutos, mas dependem do observador.\\n2. **Relatividade Geral** (1915): Desenvolveu uma teoria mais completa da gravidade, demonstrando que a gravidade é uma curvatura no espaço-tempo causada pela presença de massa.\\n\\nEssa contribuição revolucionou a física e abriu caminhos para avanços em outras áreas como a cosmologia, a astrofísica e a medicina. Além disso, Einstein também fez contribuições importantes na área do quantum e da mecânica quântica.\\n\\nMas se você está procurando por uma resposta mais simples, posso dizer que a maior contribuição de Einstein foi a sua teoria da relatividade!', additional_kwargs={}, response_metadata={'model': 'llama3.1:latest', 'created_at': '2024-10-05T16:47:38.879125186Z', 'message': {'role': 'assistant', 'content': ''}, 'done_reason': 'stop', 'done': True, 'total_duration': 12859993916, 'load_duration': 11594720, 'prompt_eval_count': 328, 'prompt_eval_duration': 159728000, 'eval_count': 251, 'eval_duration': 12215609000}, id='run-f4507f2b-81dc-4113-b1c5-bd2b7942f2e4-0', usage_metadata={'input_tokens': 328, 'output_tokens': 251, 'total_tokens': 579}),\n",
       "  HumanMessage(content='O que você disse por último?', additional_kwargs={}, response_metadata={}, id='c246901c-f49f-4cb2-ba33-120127a31ee0'),\n",
       "  AIMessage(content='Eu disse que a maior contribuição de Albert Einstein foi a sua teoria da relatividade!', additional_kwargs={}, response_metadata={'model': 'llama3.1:latest', 'created_at': '2024-10-05T16:47:54.536734257Z', 'message': {'role': 'assistant', 'content': ''}, 'done_reason': 'stop', 'done': True, 'total_duration': 1753766649, 'load_duration': 18452316, 'prompt_eval_count': 553, 'prompt_eval_duration': 499276000, 'eval_count': 20, 'eval_duration': 956992000}, id='run-3b483d77-2d82-4cf4-863b-f5c238f04995-0', usage_metadata={'input_tokens': 553, 'output_tokens': 20, 'total_tokens': 573})],\n",
       " 'summary': 'Aqui está o resumo atualizado da nossa conversa:\\n\\n* Você apresentou Albert Einstein como um físico alemão famoso por ter desenvolvido a teoria da relatividade.\\n* Eu informei que ele nasceu em Ulm, na Alemanha, em 14 de março de 1879.\\n* Você perguntou onde Einstein nasceu e eu respondi que ele nasceu em Ulm, na Alemanha.\\n* Você perguntou quando é o aniversário dele e eu respondi que é em 14 de março (referindo-se à data do seu nascimento).\\n* Você perguntou qual foi a maior contribuição dele e eu expliquei que a maior contribuição de Einstein foi a sua teoria da relatividade, divulgada em duas partes: a relatividade restrita (1905) e a relatividade geral (1915).\\n* Eu também mencionei que além da teoria da relatividade, Einstein fez contribuições importantes na área do quantum e da mecânica quântica.\\n* Você pediu para estender o resumo considerando as novas mensagens acima e eu atualizei o resumo incluindo todas as informações.'}"
      ]
     },
     "execution_count": 19,
     "metadata": {},
     "output_type": "execute_result"
    }
   ],
   "source": [
    "values = app.get_state(config).values\n",
    "values"
   ]
  }
 ],
 "metadata": {
  "kernelspec": {
   "display_name": "Python 3 (ipykernel)",
   "language": "python",
   "name": "python3"
  },
  "language_info": {
   "codemirror_mode": {
    "name": "ipython",
    "version": 3
   },
   "file_extension": ".py",
   "mimetype": "text/x-python",
   "name": "python",
   "nbconvert_exporter": "python",
   "pygments_lexer": "ipython3",
   "version": "3.11.9"
  }
 },
 "nbformat": 4,
 "nbformat_minor": 5
}
