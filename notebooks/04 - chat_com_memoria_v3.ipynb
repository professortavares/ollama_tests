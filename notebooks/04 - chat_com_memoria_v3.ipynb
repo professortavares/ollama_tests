{
 "cells": [
  {
   "cell_type": "markdown",
   "id": "31dc4740-0875-418f-b79d-e081d937b906",
   "metadata": {},
   "source": [
    "## Simulação de uma LLM com memória da conversa (versão mais moderna do framework e com sumário de conversa)\n",
    "\n",
    "ref.: \n",
    "* https://python.langchain.com/docs/how_to/message_history/\n",
    "* https://www.langchain.com/langgraph\n",
    "* https://langchain-ai.github.io/langgraph/how-tos/memory/add-summary-conversation-history/\n"
   ]
  },
  {
   "cell_type": "code",
   "execution_count": 1,
   "id": "e183fc41-5672-4740-881b-3dad338dd67f",
   "metadata": {},
   "outputs": [],
   "source": [
    "from langchain_ollama import ChatOllama\n",
    "from langchain_core.messages import SystemMessage, HumanMessage, RemoveMessage\n",
    "from langgraph.checkpoint.memory import MemorySaver\n",
    "from langgraph.graph import MessagesState, StateGraph, START, END\n",
    "from typing import Literal\n",
    "from IPython.display import Image, display"
   ]
  },
  {
   "cell_type": "markdown",
   "id": "b20c92cc-caac-4f7b-af1a-d9b4b1837e15",
   "metadata": {},
   "source": [
    "## Utilização do llama3.2 com interface via ollama"
   ]
  },
  {
   "cell_type": "code",
   "execution_count": 2,
   "id": "13ec592a-9362-4242-b843-d208466d34c4",
   "metadata": {},
   "outputs": [],
   "source": [
    "# Inicialize o modelo ChatOllama\n",
    "llm = ChatOllama(model=\"llama3.2\")\n",
    "\n",
    "# Adicione um `summary` ao estado além das mensagens\n",
    "class State(MessagesState):\n",
    "    summary: str\n",
    "\n",
    "# Defina o gráfico de estados\n",
    "workflow = StateGraph(state_schema=State)\n",
    "\n",
    "# Função que chama o modelo\n",
    "def call_model(state: State):\n",
    "    # Adiciona um resumo se ele existir\n",
    "    summary = state.get(\"summary\", \"\")\n",
    "    if summary:\n",
    "        system_message = f\"Resumo da conversa anterior: {summary}\"\n",
    "        messages = [SystemMessage(content=system_message)] + state[\"messages\"]\n",
    "    else:\n",
    "        messages = state[\"messages\"]\n",
    "    \n",
    "    response = llm.invoke(messages)\n",
    "    return {\"messages\": [response]}\n",
    "\n",
    "# Função que decide quando resumir a conversa\n",
    "def should_continue(state: State) -> Literal[\"summarize_conversation\", END]:\n",
    "    if len(state[\"messages\"]) > 6:  # Se mais de 6 mensagens, sumarizar\n",
    "        return \"summarize_conversation\"\n",
    "    return END\n",
    "\n",
    "# Função que realiza o resumo da conversa\n",
    "def summarize_conversation(state: State):\n",
    "    summary = state.get(\"summary\", \"\")\n",
    "    if summary:\n",
    "        summary_message = (\n",
    "            f\"Este é o resumo da conversa até o momento: {summary}\\n\\n\"\n",
    "            \"Estenda o resumo considerando as novas mensagens acima:\"\n",
    "        )\n",
    "    else:\n",
    "        summary_message = \"Crie um resumo da conversa acima:\"\n",
    "    \n",
    "    messages = state[\"messages\"] + [HumanMessage(content=summary_message)]\n",
    "    response = llm.invoke(messages)\n",
    "    \n",
    "    # Exclui mensagens antigas, mantendo apenas as últimas duas\n",
    "    delete_messages = [RemoveMessage(id=m.id) for m in state[\"messages\"][:-2]]\n",
    "    return {\"summary\": response.content, \"messages\": delete_messages}\n",
    "\n",
    "# Configuração do gráfico de estados\n",
    "workflow.add_node(\"conversation\", call_model)\n",
    "workflow.add_node(\"summarize_conversation\", summarize_conversation)\n",
    "\n",
    "workflow.add_edge(START, \"conversation\")\n",
    "\n",
    "workflow.add_conditional_edges(\n",
    "    \"conversation\",\n",
    "    should_continue,\n",
    ")\n",
    "\n",
    "workflow.add_edge(\"summarize_conversation\", END)\n",
    "\n",
    "# Inicialize a memória\n",
    "memory = MemorySaver()\n",
    "app = workflow.compile(checkpointer=memory)\n",
    "\n",
    "# Função para exibir as atualizações\n",
    "def print_update(update):\n",
    "    for k, v in update.items():\n",
    "        for m in v[\"messages\"]:\n",
    "            m.pretty_print()\n",
    "        if \"summary\" in v:\n",
    "            print(v[\"summary\"])\n",
    "\n",
    "# Configuração de thread\n",
    "config = {\"configurable\": {\"thread_id\": \"abc123\"}}"
   ]
  },
  {
   "cell_type": "code",
   "execution_count": 3,
   "id": "0f90d1d1-755d-423e-8866-cbb2943c6cbe",
   "metadata": {},
   "outputs": [
    {
     "data": {
      "image/jpeg": "[encoded data removed]",
      "text/plain": [
       "<IPython.core.display.Image object>"
      ]
     },
     "metadata": {},
     "output_type": "display_data"
    }
   ],
   "source": [
    "try:\n",
    "    display(Image(app.get_graph().draw_mermaid_png()))\n",
    "except Exception:\n",
    "    # This requires some extra dependencies and is optional\n",
    "    pass"
   ]
  },
  {
   "cell_type": "markdown",
   "id": "131b56a5-76e4-48ba-a37f-9518568e18b6",
   "metadata": {},
   "source": [
    "## Pergunta para iniciar a conversa"
   ]
  },
  {
   "cell_type": "code",
   "execution_count": 4,
   "id": "24196b08-37af-492e-87f2-730a003cdf6b",
   "metadata": {},
   "outputs": [
    {
     "name": "stdout",
     "output_type": "stream",
     "text": [
      "================================\u001b[1m Human Message \u001b[0m=================================\n",
      "\n",
      "Quem foi Albert Einstein?\n",
      "==================================\u001b[1m Ai Message \u001b[0m==================================\n",
      "\n",
      "Albert Einstein foi um físico alemão que é amplamente considerado um dos mais importantes cientistas do século XX. Ele é famoso por sua teoria da relatividade, que revolucionou nossa compreensão do espaço e do tempo.\n",
      "\n",
      "**Vida e Carreira**\n",
      "\n",
      "Einstein nasceu em 14 de março de 1879, em Ulm, Alemanha. Ele começou a estudar física no Instituto Técnico Federal em Munique, onde se formou em 1900. Durante sua carreira, Einstein trabalhou como professor e pesquisador em várias universidades, incluindo a Universidade de Berna e a Universidade de Prússia.\n",
      "\n",
      "**Teoria da Relatividade**\n",
      "\n",
      "A teoria da relatividade é uma das contribuições mais importantes de Einstein à física. Ela consiste em duas partes: a relatividade restrita e a relatividade geral. A relatividade restrita descreve como as leis da física são as mesmas para todos os observadores em movimento uniforme. A relatividade geral, por outro lado, descreve a gravidade como curvatura do espaço-tempo causada pela massa e energia.\n",
      "\n",
      "**Outras Contribuições**\n",
      "\n",
      "Além da teoria da relatividade, Einstein fez várias outras contribuições importantes para a física, incluindo:\n",
      "\n",
      "* **Efeito fotoelétrico**: Einstein descobriu que os fótons podem transferir eletrons de uma metalização para um material.\n",
      "* **Equação E = mc²**: Esta equação relaciona a energia (E) e a massa (m) de uma partícula, mostrando que a energia pode ser convertida em massa e vice-versa.\n",
      "\n",
      "**Prêmios e Reconhecimento**\n",
      "\n",
      "Durante sua carreira, Einstein recebeu vários prêmios e reconhecimentos, incluindo:\n",
      "\n",
      "* **Nobel de Física**: Em 1921, Einstein foi condecorado com o Nobel de Física por seu trabalho sobre a fotoelétrico.\n",
      "* **Presidência da Sociedade Alemã de Física**: Em 1914, Einstein foi eleito presidente da Sociedade Alemã de Física.\n",
      "\n",
      "**Legado**\n",
      "\n",
      "O legado de Albert Einstein é imenso. Ele é considerado um dos mais importantes cientistas do século XX e sua teoria da relatividade continua a influenciar nossa compreensão do universo. Além disso, ele também foi um defensor da paz e da justiça social, e suas ideias continue a inspirar gerações de cientistas e pensadores.\n"
     ]
    }
   ],
   "source": [
    "config = {\"configurable\": {\"thread_id\": \"abc123\"}}\n",
    "\n",
    "query = \"Quem foi Albert Einstein?\"\n",
    "input_message = HumanMessage(content=query)\n",
    "input_message.pretty_print()\n",
    "for event in app.stream({\"messages\": [input_message]}, config, stream_mode=\"updates\"):\n",
    "    print_update(event)"
   ]
  },
  {
   "cell_type": "code",
   "execution_count": 5,
   "id": "7db9f4b9-8ad0-40ea-8dfd-db3054704f05",
   "metadata": {},
   "outputs": [
    {
     "data": {
      "text/plain": [
       "{'messages': [HumanMessage(content='Quem foi Albert Einstein?', additional_kwargs={}, response_metadata={}, id='4e9535c0-387d-4256-a9bf-b2ce78427f22'),\n",
       "  AIMessage(content='Albert Einstein foi um físico alemão que é amplamente considerado um dos mais importantes cientistas do século XX. Ele é famoso por sua teoria da relatividade, que revolucionou nossa compreensão do espaço e do tempo.\\n\\n**Vida e Carreira**\\n\\nEinstein nasceu em 14 de março de 1879, em Ulm, Alemanha. Ele começou a estudar física no Instituto Técnico Federal em Munique, onde se formou em 1900. Durante sua carreira, Einstein trabalhou como professor e pesquisador em várias universidades, incluindo a Universidade de Berna e a Universidade de Prússia.\\n\\n**Teoria da Relatividade**\\n\\nA teoria da relatividade é uma das contribuições mais importantes de Einstein à física. Ela consiste em duas partes: a relatividade restrita e a relatividade geral. A relatividade restrita descreve como as leis da física são as mesmas para todos os observadores em movimento uniforme. A relatividade geral, por outro lado, descreve a gravidade como curvatura do espaço-tempo causada pela massa e energia.\\n\\n**Outras Contribuições**\\n\\nAlém da teoria da relatividade, Einstein fez várias outras contribuições importantes para a física, incluindo:\\n\\n* **Efeito fotoelétrico**: Einstein descobriu que os fótons podem transferir eletrons de uma metalização para um material.\\n* **Equação E = mc²**: Esta equação relaciona a energia (E) e a massa (m) de uma partícula, mostrando que a energia pode ser convertida em massa e vice-versa.\\n\\n**Prêmios e Reconhecimento**\\n\\nDurante sua carreira, Einstein recebeu vários prêmios e reconhecimentos, incluindo:\\n\\n* **Nobel de Física**: Em 1921, Einstein foi condecorado com o Nobel de Física por seu trabalho sobre a fotoelétrico.\\n* **Presidência da Sociedade Alemã de Física**: Em 1914, Einstein foi eleito presidente da Sociedade Alemã de Física.\\n\\n**Legado**\\n\\nO legado de Albert Einstein é imenso. Ele é considerado um dos mais importantes cientistas do século XX e sua teoria da relatividade continua a influenciar nossa compreensão do universo. Além disso, ele também foi um defensor da paz e da justiça social, e suas ideias continue a inspirar gerações de cientistas e pensadores.', additional_kwargs={}, response_metadata={'model': 'llama3.2:latest', 'created_at': '2024-10-05T20:03:30.637862543Z', 'message': {'role': 'assistant', 'content': ''}, 'done_reason': 'stop', 'done': True, 'total_duration': 9547696214, 'load_duration': 12376173, 'prompt_eval_count': 31, 'prompt_eval_duration': 232266000, 'eval_count': 565, 'eval_duration': 9244565000}, id='run-0e50fd01-60dc-41ec-94cb-8c51b2d620a6-0', usage_metadata={'input_tokens': 31, 'output_tokens': 565, 'total_tokens': 596})]}"
      ]
     },
     "execution_count": 5,
     "metadata": {},
     "output_type": "execute_result"
    }
   ],
   "source": [
    "values = app.get_state(config).values\n",
    "values"
   ]
  },
  {
   "cell_type": "markdown",
   "id": "128295bf-a454-4819-874b-85a01d393717",
   "metadata": {},
   "source": [
    "## O modelo consegue se lembrar do que acabou de responder"
   ]
  },
  {
   "cell_type": "code",
   "execution_count": 6,
   "id": "ef7c4a14-592a-4f12-a607-59f156a0c1ec",
   "metadata": {},
   "outputs": [
    {
     "name": "stdout",
     "output_type": "stream",
     "text": [
      "================================\u001b[1m Human Message \u001b[0m=================================\n",
      "\n",
      "O que você disse?\n",
      "==================================\u001b[1m Ai Message \u001b[0m==================================\n",
      "\n",
      "Peço desculpas pelo erro! Eu disse uma longa resposta sobre Albert Einstein, mas não resolvi o problema que você colocou no início da nossa conversa.\n",
      "\n",
      "Você me perguntou quem foi Albert Einstein, e eu respondi com uma longa biografia. Se você quiser saber apenas quem é Albert Einstein, posso dizer que ele foi um físico alemão famoso por sua teoria da relatividade.\n",
      "\n",
      "Se você quiser saber mais sobre a vida e as contribuições de Einstein, posso continuar a responder à sua pergunta original!\n"
     ]
    }
   ],
   "source": [
    "query = \"O que você disse?\"\n",
    "input_message = HumanMessage(content=query)\n",
    "input_message.pretty_print()\n",
    "for event in app.stream({\"messages\": [input_message]}, config, stream_mode=\"updates\"):\n",
    "    print_update(event)"
   ]
  },
  {
   "cell_type": "code",
   "execution_count": 7,
   "id": "54792fd1-4ef5-4158-b8bc-ef554a9e8c0e",
   "metadata": {},
   "outputs": [
    {
     "data": {
      "text/plain": [
       "{'messages': [HumanMessage(content='Quem foi Albert Einstein?', additional_kwargs={}, response_metadata={}, id='4e9535c0-387d-4256-a9bf-b2ce78427f22'),\n",
       "  AIMessage(content='Albert Einstein foi um físico alemão que é amplamente considerado um dos mais importantes cientistas do século XX. Ele é famoso por sua teoria da relatividade, que revolucionou nossa compreensão do espaço e do tempo.\\n\\n**Vida e Carreira**\\n\\nEinstein nasceu em 14 de março de 1879, em Ulm, Alemanha. Ele começou a estudar física no Instituto Técnico Federal em Munique, onde se formou em 1900. Durante sua carreira, Einstein trabalhou como professor e pesquisador em várias universidades, incluindo a Universidade de Berna e a Universidade de Prússia.\\n\\n**Teoria da Relatividade**\\n\\nA teoria da relatividade é uma das contribuições mais importantes de Einstein à física. Ela consiste em duas partes: a relatividade restrita e a relatividade geral. A relatividade restrita descreve como as leis da física são as mesmas para todos os observadores em movimento uniforme. A relatividade geral, por outro lado, descreve a gravidade como curvatura do espaço-tempo causada pela massa e energia.\\n\\n**Outras Contribuições**\\n\\nAlém da teoria da relatividade, Einstein fez várias outras contribuições importantes para a física, incluindo:\\n\\n* **Efeito fotoelétrico**: Einstein descobriu que os fótons podem transferir eletrons de uma metalização para um material.\\n* **Equação E = mc²**: Esta equação relaciona a energia (E) e a massa (m) de uma partícula, mostrando que a energia pode ser convertida em massa e vice-versa.\\n\\n**Prêmios e Reconhecimento**\\n\\nDurante sua carreira, Einstein recebeu vários prêmios e reconhecimentos, incluindo:\\n\\n* **Nobel de Física**: Em 1921, Einstein foi condecorado com o Nobel de Física por seu trabalho sobre a fotoelétrico.\\n* **Presidência da Sociedade Alemã de Física**: Em 1914, Einstein foi eleito presidente da Sociedade Alemã de Física.\\n\\n**Legado**\\n\\nO legado de Albert Einstein é imenso. Ele é considerado um dos mais importantes cientistas do século XX e sua teoria da relatividade continua a influenciar nossa compreensão do universo. Além disso, ele também foi um defensor da paz e da justiça social, e suas ideias continue a inspirar gerações de cientistas e pensadores.', additional_kwargs={}, response_metadata={'model': 'llama3.2:latest', 'created_at': '2024-10-05T20:03:30.637862543Z', 'message': {'role': 'assistant', 'content': ''}, 'done_reason': 'stop', 'done': True, 'total_duration': 9547696214, 'load_duration': 12376173, 'prompt_eval_count': 31, 'prompt_eval_duration': 232266000, 'eval_count': 565, 'eval_duration': 9244565000}, id='run-0e50fd01-60dc-41ec-94cb-8c51b2d620a6-0', usage_metadata={'input_tokens': 31, 'output_tokens': 565, 'total_tokens': 596}),\n",
       "  HumanMessage(content='O que você disse?', additional_kwargs={}, response_metadata={}, id='344854de-a70e-45d4-bd79-2c341dc4a457'),\n",
       "  AIMessage(content='Peço desculpas pelo erro! Eu disse uma longa resposta sobre Albert Einstein, mas não resolvi o problema que você colocou no início da nossa conversa.\\n\\nVocê me perguntou quem foi Albert Einstein, e eu respondi com uma longa biografia. Se você quiser saber apenas quem é Albert Einstein, posso dizer que ele foi um físico alemão famoso por sua teoria da relatividade.\\n\\nSe você quiser saber mais sobre a vida e as contribuições de Einstein, posso continuar a responder à sua pergunta original!', additional_kwargs={}, response_metadata={'model': 'llama3.2:latest', 'created_at': '2024-10-05T20:03:32.91113718Z', 'message': {'role': 'assistant', 'content': ''}, 'done_reason': 'stop', 'done': True, 'total_duration': 2254883638, 'load_duration': 53357124, 'prompt_eval_count': 610, 'prompt_eval_duration': 26577000, 'eval_count': 121, 'eval_duration': 2024141000}, id='run-71245e88-745f-4822-b271-845d44868569-0', usage_metadata={'input_tokens': 610, 'output_tokens': 121, 'total_tokens': 731})]}"
      ]
     },
     "execution_count": 7,
     "metadata": {},
     "output_type": "execute_result"
    }
   ],
   "source": [
    "values = app.get_state(config).values\n",
    "values"
   ]
  },
  {
   "cell_type": "code",
   "execution_count": 8,
   "id": "6246c289-78bc-4171-b464-9cd691ab4d4d",
   "metadata": {},
   "outputs": [
    {
     "name": "stdout",
     "output_type": "stream",
     "text": [
      "================================\u001b[1m Human Message \u001b[0m=================================\n",
      "\n",
      "O que você disse? Ainda não consegui entender\n",
      "==================================\u001b[1m Ai Message \u001b[0m==================================\n",
      "\n",
      "Peço desculpas novamente!\n",
      "\n",
      "Eu disse que Albert Einstein foi um físico alemão famoso por sua teoria da relatividade. No entanto, parece que eu não resolvi a sua pergunta de forma clara.\n",
      "\n",
      "Vou tentar novamente:\n",
      "\n",
      "Quem é Albert Einstein?\n",
      "\n",
      "Albert Einstein foi um físico alemão que nasceu em 1879 e morreu em 1955. Ele é conhecido por suas contribuições importantes para a teoria da relatividade, que revolucionou nossa compreensão do universo.\n",
      "\n",
      "Eis uma resposta mais concisa!\n",
      "\n",
      "Você gostaria de saber mais sobre sua vida ou contribuições?\n"
     ]
    }
   ],
   "source": [
    "query = \"O que você disse? Ainda não consegui entender\"\n",
    "input_message = HumanMessage(content=query)\n",
    "input_message.pretty_print()\n",
    "for event in app.stream({\"messages\": [input_message]}, config, stream_mode=\"updates\"):\n",
    "    print_update(event)"
   ]
  },
  {
   "cell_type": "code",
   "execution_count": 9,
   "id": "ba830c69-5ad7-4890-b2f6-44fdf929e154",
   "metadata": {},
   "outputs": [
    {
     "data": {
      "text/plain": [
       "{'messages': [HumanMessage(content='Quem foi Albert Einstein?', additional_kwargs={}, response_metadata={}, id='4e9535c0-387d-4256-a9bf-b2ce78427f22'),\n",
       "  AIMessage(content='Albert Einstein foi um físico alemão que é amplamente considerado um dos mais importantes cientistas do século XX. Ele é famoso por sua teoria da relatividade, que revolucionou nossa compreensão do espaço e do tempo.\\n\\n**Vida e Carreira**\\n\\nEinstein nasceu em 14 de março de 1879, em Ulm, Alemanha. Ele começou a estudar física no Instituto Técnico Federal em Munique, onde se formou em 1900. Durante sua carreira, Einstein trabalhou como professor e pesquisador em várias universidades, incluindo a Universidade de Berna e a Universidade de Prússia.\\n\\n**Teoria da Relatividade**\\n\\nA teoria da relatividade é uma das contribuições mais importantes de Einstein à física. Ela consiste em duas partes: a relatividade restrita e a relatividade geral. A relatividade restrita descreve como as leis da física são as mesmas para todos os observadores em movimento uniforme. A relatividade geral, por outro lado, descreve a gravidade como curvatura do espaço-tempo causada pela massa e energia.\\n\\n**Outras Contribuições**\\n\\nAlém da teoria da relatividade, Einstein fez várias outras contribuições importantes para a física, incluindo:\\n\\n* **Efeito fotoelétrico**: Einstein descobriu que os fótons podem transferir eletrons de uma metalização para um material.\\n* **Equação E = mc²**: Esta equação relaciona a energia (E) e a massa (m) de uma partícula, mostrando que a energia pode ser convertida em massa e vice-versa.\\n\\n**Prêmios e Reconhecimento**\\n\\nDurante sua carreira, Einstein recebeu vários prêmios e reconhecimentos, incluindo:\\n\\n* **Nobel de Física**: Em 1921, Einstein foi condecorado com o Nobel de Física por seu trabalho sobre a fotoelétrico.\\n* **Presidência da Sociedade Alemã de Física**: Em 1914, Einstein foi eleito presidente da Sociedade Alemã de Física.\\n\\n**Legado**\\n\\nO legado de Albert Einstein é imenso. Ele é considerado um dos mais importantes cientistas do século XX e sua teoria da relatividade continua a influenciar nossa compreensão do universo. Além disso, ele também foi um defensor da paz e da justiça social, e suas ideias continue a inspirar gerações de cientistas e pensadores.', additional_kwargs={}, response_metadata={'model': 'llama3.2:latest', 'created_at': '2024-10-05T20:03:30.637862543Z', 'message': {'role': 'assistant', 'content': ''}, 'done_reason': 'stop', 'done': True, 'total_duration': 9547696214, 'load_duration': 12376173, 'prompt_eval_count': 31, 'prompt_eval_duration': 232266000, 'eval_count': 565, 'eval_duration': 9244565000}, id='run-0e50fd01-60dc-41ec-94cb-8c51b2d620a6-0', usage_metadata={'input_tokens': 31, 'output_tokens': 565, 'total_tokens': 596}),\n",
       "  HumanMessage(content='O que você disse?', additional_kwargs={}, response_metadata={}, id='344854de-a70e-45d4-bd79-2c341dc4a457'),\n",
       "  AIMessage(content='Peço desculpas pelo erro! Eu disse uma longa resposta sobre Albert Einstein, mas não resolvi o problema que você colocou no início da nossa conversa.\\n\\nVocê me perguntou quem foi Albert Einstein, e eu respondi com uma longa biografia. Se você quiser saber apenas quem é Albert Einstein, posso dizer que ele foi um físico alemão famoso por sua teoria da relatividade.\\n\\nSe você quiser saber mais sobre a vida e as contribuições de Einstein, posso continuar a responder à sua pergunta original!', additional_kwargs={}, response_metadata={'model': 'llama3.2:latest', 'created_at': '2024-10-05T20:03:32.91113718Z', 'message': {'role': 'assistant', 'content': ''}, 'done_reason': 'stop', 'done': True, 'total_duration': 2254883638, 'load_duration': 53357124, 'prompt_eval_count': 610, 'prompt_eval_duration': 26577000, 'eval_count': 121, 'eval_duration': 2024141000}, id='run-71245e88-745f-4822-b271-845d44868569-0', usage_metadata={'input_tokens': 610, 'output_tokens': 121, 'total_tokens': 731}),\n",
       "  HumanMessage(content='O que você disse? Ainda não consegui entender', additional_kwargs={}, response_metadata={}, id='943bfdf1-1f64-4993-ba18-401198711c00'),\n",
       "  AIMessage(content='Peço desculpas novamente!\\n\\nEu disse que Albert Einstein foi um físico alemão famoso por sua teoria da relatividade. No entanto, parece que eu não resolvi a sua pergunta de forma clara.\\n\\nVou tentar novamente:\\n\\nQuem é Albert Einstein?\\n\\nAlbert Einstein foi um físico alemão que nasceu em 1879 e morreu em 1955. Ele é conhecido por suas contribuições importantes para a teoria da relatividade, que revolucionou nossa compreensão do universo.\\n\\nEis uma resposta mais concisa!\\n\\nVocê gostaria de saber mais sobre sua vida ou contribuições?', additional_kwargs={}, response_metadata={'model': 'llama3.2:latest', 'created_at': '2024-10-05T20:03:35.61650904Z', 'message': {'role': 'assistant', 'content': ''}, 'done_reason': 'stop', 'done': True, 'total_duration': 2688796385, 'load_duration': 13747309, 'prompt_eval_count': 751, 'prompt_eval_duration': 27122000, 'eval_count': 139, 'eval_duration': 2316942000}, id='run-a9acb17b-d933-4da5-b3e5-1ad527682b5a-0', usage_metadata={'input_tokens': 751, 'output_tokens': 139, 'total_tokens': 890})]}"
      ]
     },
     "execution_count": 9,
     "metadata": {},
     "output_type": "execute_result"
    }
   ],
   "source": [
    "values = app.get_state(config).values\n",
    "values"
   ]
  },
  {
   "cell_type": "code",
   "execution_count": 10,
   "id": "776055a8-7dc0-41c5-8a1c-e5068a9ea7d3",
   "metadata": {},
   "outputs": [
    {
     "name": "stdout",
     "output_type": "stream",
     "text": [
      "================================\u001b[1m Human Message \u001b[0m=================================\n",
      "\n",
      "Nasceu onde?\n",
      "==================================\u001b[1m Ai Message \u001b[0m==================================\n",
      "\n",
      "Albert Einstein nasceu em Ulm, Alemanha, em 14 de março de 1879.\n",
      "================================\u001b[1m Remove Message \u001b[0m================================\n",
      "\n",
      "\n",
      "================================\u001b[1m Remove Message \u001b[0m================================\n",
      "\n",
      "\n",
      "================================\u001b[1m Remove Message \u001b[0m================================\n",
      "\n",
      "\n",
      "================================\u001b[1m Remove Message \u001b[0m================================\n",
      "\n",
      "\n",
      "================================\u001b[1m Remove Message \u001b[0m================================\n",
      "\n",
      "\n",
      "================================\u001b[1m Remove Message \u001b[0m================================\n",
      "\n",
      "\n",
      "Aqui está um resumo da nossa conversa:\n",
      "\n",
      "* Você me perguntou quem era Albert Einstein.\n",
      "* Eu resolvi a pergunta com uma longa resposta sobre a vida e as contribuições de Einstein.\n",
      "* Você pediu que eu revisasse a resposta, pois não havia entendido nada.\n",
      "* Eu reescrevi a resposta para ser mais concisa.\n",
      "* Você me perguntou onde Albert Einstein nasceu.\n",
      "* Eu resolvi essa pergunta respondendo que ele nasceu em Ulm, Alemanha.\n"
     ]
    }
   ],
   "source": [
    "query = \"Nasceu onde?\"\n",
    "input_message = HumanMessage(content=query)\n",
    "input_message.pretty_print()\n",
    "for event in app.stream({\"messages\": [input_message]}, config, stream_mode=\"updates\"):\n",
    "    print_update(event)"
   ]
  },
  {
   "cell_type": "code",
   "execution_count": 11,
   "id": "3fe000f7-effa-47c3-8af2-022cdf3f7d8a",
   "metadata": {},
   "outputs": [
    {
     "data": {
      "text/plain": [
       "{'messages': [HumanMessage(content='Nasceu onde?', additional_kwargs={}, response_metadata={}, id='4b04b166-30c6-4a8d-99f3-bdcf19779dd9'),\n",
       "  AIMessage(content='Albert Einstein nasceu em Ulm, Alemanha, em 14 de março de 1879.', additional_kwargs={}, response_metadata={'model': 'llama3.2:latest', 'created_at': '2024-10-05T20:03:36.547522601Z', 'message': {'role': 'assistant', 'content': ''}, 'done_reason': 'stop', 'done': True, 'total_duration': 911947312, 'load_duration': 12909791, 'prompt_eval_count': 904, 'prompt_eval_duration': 39188000, 'eval_count': 24, 'eval_duration': 387806000}, id='run-4ddc7df7-0b90-4f1e-b7d5-cbab677c4585-0', usage_metadata={'input_tokens': 904, 'output_tokens': 24, 'total_tokens': 928})],\n",
       " 'summary': 'Aqui está um resumo da nossa conversa:\\n\\n* Você me perguntou quem era Albert Einstein.\\n* Eu resolvi a pergunta com uma longa resposta sobre a vida e as contribuições de Einstein.\\n* Você pediu que eu revisasse a resposta, pois não havia entendido nada.\\n* Eu reescrevi a resposta para ser mais concisa.\\n* Você me perguntou onde Albert Einstein nasceu.\\n* Eu resolvi essa pergunta respondendo que ele nasceu em Ulm, Alemanha.'}"
      ]
     },
     "execution_count": 11,
     "metadata": {},
     "output_type": "execute_result"
    }
   ],
   "source": [
    "values = app.get_state(config).values\n",
    "values"
   ]
  },
  {
   "cell_type": "code",
   "execution_count": 12,
   "id": "5470ead2-9d5c-4fc6-806a-b6583391f18e",
   "metadata": {},
   "outputs": [
    {
     "name": "stdout",
     "output_type": "stream",
     "text": [
      "================================\u001b[1m Human Message \u001b[0m=================================\n",
      "\n",
      "Quando é o aniversário dele?\n",
      "==================================\u001b[1m Ai Message \u001b[0m==================================\n",
      "\n",
      "O aniversário do famoso físico Albert Einstein é celebrado em 14 de março, data do seu nascimento.\n"
     ]
    }
   ],
   "source": [
    "query = \"Quando é o aniversário dele?\"\n",
    "input_message = HumanMessage(content=query)\n",
    "input_message.pretty_print()\n",
    "for event in app.stream({\"messages\": [input_message]}, config, stream_mode=\"updates\"):\n",
    "    print_update(event)"
   ]
  },
  {
   "cell_type": "code",
   "execution_count": 13,
   "id": "6fa8aa41-293b-4e01-be27-91c5f37301d3",
   "metadata": {},
   "outputs": [
    {
     "data": {
      "text/plain": [
       "{'messages': [HumanMessage(content='Nasceu onde?', additional_kwargs={}, response_metadata={}, id='4b04b166-30c6-4a8d-99f3-bdcf19779dd9'),\n",
       "  AIMessage(content='Albert Einstein nasceu em Ulm, Alemanha, em 14 de março de 1879.', additional_kwargs={}, response_metadata={'model': 'llama3.2:latest', 'created_at': '2024-10-05T20:03:36.547522601Z', 'message': {'role': 'assistant', 'content': ''}, 'done_reason': 'stop', 'done': True, 'total_duration': 911947312, 'load_duration': 12909791, 'prompt_eval_count': 904, 'prompt_eval_duration': 39188000, 'eval_count': 24, 'eval_duration': 387806000}, id='run-4ddc7df7-0b90-4f1e-b7d5-cbab677c4585-0', usage_metadata={'input_tokens': 904, 'output_tokens': 24, 'total_tokens': 928}),\n",
       "  HumanMessage(content='Quando é o aniversário dele?', additional_kwargs={}, response_metadata={}, id='1cbae27a-50ed-4cc6-88e2-f43928cd3a51'),\n",
       "  AIMessage(content='O aniversário do famoso físico Albert Einstein é celebrado em 14 de março, data do seu nascimento.', additional_kwargs={}, response_metadata={'model': 'llama3.2:latest', 'created_at': '2024-10-05T20:03:39.759089873Z', 'message': {'role': 'assistant', 'content': ''}, 'done_reason': 'stop', 'done': True, 'total_duration': 714024435, 'load_duration': 12441164, 'prompt_eval_count': 192, 'prompt_eval_duration': 56939000, 'eval_count': 28, 'eval_duration': 441990000}, id='run-6db79aa3-1c6e-4429-9205-501791c1beb9-0', usage_metadata={'input_tokens': 192, 'output_tokens': 28, 'total_tokens': 220})],\n",
       " 'summary': 'Aqui está um resumo da nossa conversa:\\n\\n* Você me perguntou quem era Albert Einstein.\\n* Eu resolvi a pergunta com uma longa resposta sobre a vida e as contribuições de Einstein.\\n* Você pediu que eu revisasse a resposta, pois não havia entendido nada.\\n* Eu reescrevi a resposta para ser mais concisa.\\n* Você me perguntou onde Albert Einstein nasceu.\\n* Eu resolvi essa pergunta respondendo que ele nasceu em Ulm, Alemanha.'}"
      ]
     },
     "execution_count": 13,
     "metadata": {},
     "output_type": "execute_result"
    }
   ],
   "source": [
    "values = app.get_state(config).values\n",
    "values"
   ]
  },
  {
   "cell_type": "code",
   "execution_count": 14,
   "id": "b7e56f14-d68c-4771-b938-b0a4beb82d70",
   "metadata": {},
   "outputs": [
    {
     "name": "stdout",
     "output_type": "stream",
     "text": [
      "================================\u001b[1m Human Message \u001b[0m=================================\n",
      "\n",
      "O que você disse por último?\n",
      "==================================\u001b[1m Ai Message \u001b[0m==================================\n",
      "\n",
      "Acabei de dizer que o aniversário de Albert Einstein é celebrado em 14 de março.\n"
     ]
    }
   ],
   "source": [
    "query = \"O que você disse por último?\"\n",
    "input_message = HumanMessage(content=query)\n",
    "input_message.pretty_print()\n",
    "for event in app.stream({\"messages\": [input_message]}, config, stream_mode=\"updates\"):\n",
    "    print_update(event)"
   ]
  },
  {
   "cell_type": "code",
   "execution_count": 15,
   "id": "754a05ce-79a4-4ed2-90f4-e06467a3077d",
   "metadata": {},
   "outputs": [
    {
     "data": {
      "text/plain": [
       "{'messages': [HumanMessage(content='Nasceu onde?', additional_kwargs={}, response_metadata={}, id='4b04b166-30c6-4a8d-99f3-bdcf19779dd9'),\n",
       "  AIMessage(content='Albert Einstein nasceu em Ulm, Alemanha, em 14 de março de 1879.', additional_kwargs={}, response_metadata={'model': 'llama3.2:latest', 'created_at': '2024-10-05T20:03:36.547522601Z', 'message': {'role': 'assistant', 'content': ''}, 'done_reason': 'stop', 'done': True, 'total_duration': 911947312, 'load_duration': 12909791, 'prompt_eval_count': 904, 'prompt_eval_duration': 39188000, 'eval_count': 24, 'eval_duration': 387806000}, id='run-4ddc7df7-0b90-4f1e-b7d5-cbab677c4585-0', usage_metadata={'input_tokens': 904, 'output_tokens': 24, 'total_tokens': 928}),\n",
       "  HumanMessage(content='Quando é o aniversário dele?', additional_kwargs={}, response_metadata={}, id='1cbae27a-50ed-4cc6-88e2-f43928cd3a51'),\n",
       "  AIMessage(content='O aniversário do famoso físico Albert Einstein é celebrado em 14 de março, data do seu nascimento.', additional_kwargs={}, response_metadata={'model': 'llama3.2:latest', 'created_at': '2024-10-05T20:03:39.759089873Z', 'message': {'role': 'assistant', 'content': ''}, 'done_reason': 'stop', 'done': True, 'total_duration': 714024435, 'load_duration': 12441164, 'prompt_eval_count': 192, 'prompt_eval_duration': 56939000, 'eval_count': 28, 'eval_duration': 441990000}, id='run-6db79aa3-1c6e-4429-9205-501791c1beb9-0', usage_metadata={'input_tokens': 192, 'output_tokens': 28, 'total_tokens': 220}),\n",
       "  HumanMessage(content='O que você disse por último?', additional_kwargs={}, response_metadata={}, id='01caec50-2fb0-4977-989c-780d50fe792e'),\n",
       "  AIMessage(content='Acabei de dizer que o aniversário de Albert Einstein é celebrado em 14 de março.', additional_kwargs={}, response_metadata={'model': 'llama3.2:latest', 'created_at': '2024-10-05T20:03:40.486575391Z', 'message': {'role': 'assistant', 'content': ''}, 'done_reason': 'stop', 'done': True, 'total_duration': 707377285, 'load_duration': 10895177, 'prompt_eval_count': 236, 'prompt_eval_duration': 22664000, 'eval_count': 24, 'eval_duration': 371121000}, id='run-632e7dfe-e27a-43e6-9340-2354e2cf27b8-0', usage_metadata={'input_tokens': 236, 'output_tokens': 24, 'total_tokens': 260})],\n",
       " 'summary': 'Aqui está um resumo da nossa conversa:\\n\\n* Você me perguntou quem era Albert Einstein.\\n* Eu resolvi a pergunta com uma longa resposta sobre a vida e as contribuições de Einstein.\\n* Você pediu que eu revisasse a resposta, pois não havia entendido nada.\\n* Eu reescrevi a resposta para ser mais concisa.\\n* Você me perguntou onde Albert Einstein nasceu.\\n* Eu resolvi essa pergunta respondendo que ele nasceu em Ulm, Alemanha.'}"
      ]
     },
     "execution_count": 15,
     "metadata": {},
     "output_type": "execute_result"
    }
   ],
   "source": [
    "values = app.get_state(config).values\n",
    "values"
   ]
  },
  {
   "cell_type": "code",
   "execution_count": 16,
   "id": "dcf1ca61-2282-4f0f-8c7f-e9d4737206cc",
   "metadata": {},
   "outputs": [
    {
     "name": "stdout",
     "output_type": "stream",
     "text": [
      "================================\u001b[1m Human Message \u001b[0m=================================\n",
      "\n",
      "Qual foi a maior contribuição dele?\n",
      "==================================\u001b[1m Ai Message \u001b[0m==================================\n",
      "\n",
      "Uma das maiores contribuições de Albert Einstein é a teoria da relatividade, que inclui duas partes principais: a relatividade restrita e a relatividade geral.\n",
      "\n",
      "A relatividade restrita (1905) revolucionou nossa compreensão do tempo, espaço e movimento, e introduziu conceitos como o tempo dilatado e a velocidade da luz constante.\n",
      "\n",
      "A relatividade geral (1915), por outro lado, expandiu ainda mais as ideias da teoria original, introduzindo a gravitação como uma curvatura do espaço-tempo causada pela massa e energia. Essa teoria revolucionou nossa compreensão do universo e teve um impacto profundo em muitas áreas da física, incluindo a cosmologia e a astronomia.\n",
      "\n",
      "A teoria da relatividade de Einstein é considerada uma das maiores conquistas intelectuais da história, e continua a ser fundamental para a nossa compreensão do universo.\n",
      "================================\u001b[1m Remove Message \u001b[0m================================\n",
      "\n",
      "\n",
      "================================\u001b[1m Remove Message \u001b[0m================================\n",
      "\n",
      "\n",
      "================================\u001b[1m Remove Message \u001b[0m================================\n",
      "\n",
      "\n",
      "================================\u001b[1m Remove Message \u001b[0m================================\n",
      "\n",
      "\n",
      "================================\u001b[1m Remove Message \u001b[0m================================\n",
      "\n",
      "\n",
      "================================\u001b[1m Remove Message \u001b[0m================================\n",
      "\n",
      "\n",
      "Aqui está o resumo atualizado da nossa conversa:\n",
      "\n",
      "* Você me perguntou quem era Albert Einstein.\n",
      "* Eu resolvi a pergunta com uma longa resposta sobre a vida e as contribuições de Einstein.\n",
      "* Você pediu que eu revisasse a resposta, pois não havia entendido nada.\n",
      "* Eu reescrevi a resposta para ser mais concisa.\n",
      "* Você me perguntou onde Albert Einstein nasceu.\n",
      "* Eu resolvi essa pergunta respondendo que ele nasceu em Ulm, Alemanha.\n",
      "* Você me perguntou quando é o aniversário dele.\n",
      "* Eu resolvi essa pergunta respondendo que é celebrado em 14 de março.\n",
      "* Você me perguntou qual foi a maior contribuição dele.\n",
      "* Eu resolvi essa pergunta respondendo sobre as contribuições da teoria da relatividade de Einstein.\n",
      "\n",
      "Obrigado por corrigir e completar o resumo!\n"
     ]
    }
   ],
   "source": [
    "query = \"Qual foi a maior contribuição dele?\"\n",
    "input_message = HumanMessage(content=query)\n",
    "input_message.pretty_print()\n",
    "for event in app.stream({\"messages\": [input_message]}, config, stream_mode=\"updates\"):\n",
    "    print_update(event)"
   ]
  },
  {
   "cell_type": "code",
   "execution_count": 17,
   "id": "2b01743a-0b36-434f-86a7-64335117a9c0",
   "metadata": {},
   "outputs": [
    {
     "data": {
      "text/plain": [
       "{'messages': [HumanMessage(content='Qual foi a maior contribuição dele?', additional_kwargs={}, response_metadata={}, id='de93e928-9436-47d8-a2b7-654ba988e302'),\n",
       "  AIMessage(content='Uma das maiores contribuições de Albert Einstein é a teoria da relatividade, que inclui duas partes principais: a relatividade restrita e a relatividade geral.\\n\\nA relatividade restrita (1905) revolucionou nossa compreensão do tempo, espaço e movimento, e introduziu conceitos como o tempo dilatado e a velocidade da luz constante.\\n\\nA relatividade geral (1915), por outro lado, expandiu ainda mais as ideias da teoria original, introduzindo a gravitação como uma curvatura do espaço-tempo causada pela massa e energia. Essa teoria revolucionou nossa compreensão do universo e teve um impacto profundo em muitas áreas da física, incluindo a cosmologia e a astronomia.\\n\\nA teoria da relatividade de Einstein é considerada uma das maiores conquistas intelectuais da história, e continua a ser fundamental para a nossa compreensão do universo.', additional_kwargs={}, response_metadata={'model': 'llama3.2:latest', 'created_at': '2024-10-05T20:03:44.365113711Z', 'message': {'role': 'assistant', 'content': ''}, 'done_reason': 'stop', 'done': True, 'total_duration': 3860893712, 'load_duration': 11402295, 'prompt_eval_count': 277, 'prompt_eval_duration': 23152000, 'eval_count': 212, 'eval_duration': 3348673000}, id='run-066256de-d02d-45b6-bb15-280c8191a6e9-0', usage_metadata={'input_tokens': 277, 'output_tokens': 212, 'total_tokens': 489})],\n",
       " 'summary': 'Aqui está o resumo atualizado da nossa conversa:\\n\\n* Você me perguntou quem era Albert Einstein.\\n* Eu resolvi a pergunta com uma longa resposta sobre a vida e as contribuições de Einstein.\\n* Você pediu que eu revisasse a resposta, pois não havia entendido nada.\\n* Eu reescrevi a resposta para ser mais concisa.\\n* Você me perguntou onde Albert Einstein nasceu.\\n* Eu resolvi essa pergunta respondendo que ele nasceu em Ulm, Alemanha.\\n* Você me perguntou quando é o aniversário dele.\\n* Eu resolvi essa pergunta respondendo que é celebrado em 14 de março.\\n* Você me perguntou qual foi a maior contribuição dele.\\n* Eu resolvi essa pergunta respondendo sobre as contribuições da teoria da relatividade de Einstein.\\n\\nObrigado por corrigir e completar o resumo!'}"
      ]
     },
     "execution_count": 17,
     "metadata": {},
     "output_type": "execute_result"
    }
   ],
   "source": [
    "values = app.get_state(config).values\n",
    "values"
   ]
  },
  {
   "cell_type": "code",
   "execution_count": 18,
   "id": "98f08774-42a3-4a5a-9b6e-2e02fb9e3c77",
   "metadata": {},
   "outputs": [
    {
     "name": "stdout",
     "output_type": "stream",
     "text": [
      "================================\u001b[1m Human Message \u001b[0m=================================\n",
      "\n",
      "O que você disse por último?\n",
      "==================================\u001b[1m Ai Message \u001b[0m==================================\n",
      "\n",
      "Eu disse sobre a teoria da relatividade de Albert Einstein como uma das maiores contribuições dele. Em outras palavras, eu resolvi a pergunta sobre qual foi a maior contribuição de Einstein respondendo sobre suas ideias revolucionárias na física, especialmente em relação à teoria da relatividade.\n"
     ]
    }
   ],
   "source": [
    "query = \"O que você disse por último?\"\n",
    "input_message = HumanMessage(content=query)\n",
    "input_message.pretty_print()\n",
    "for event in app.stream({\"messages\": [input_message]}, config, stream_mode=\"updates\"):\n",
    "    print_update(event)"
   ]
  },
  {
   "cell_type": "code",
   "execution_count": 19,
   "id": "71bd8e60-5b26-4e0e-88cd-84c8926d47c4",
   "metadata": {},
   "outputs": [
    {
     "data": {
      "text/plain": [
       "{'messages': [HumanMessage(content='Qual foi a maior contribuição dele?', additional_kwargs={}, response_metadata={}, id='de93e928-9436-47d8-a2b7-654ba988e302'),\n",
       "  AIMessage(content='Uma das maiores contribuições de Albert Einstein é a teoria da relatividade, que inclui duas partes principais: a relatividade restrita e a relatividade geral.\\n\\nA relatividade restrita (1905) revolucionou nossa compreensão do tempo, espaço e movimento, e introduziu conceitos como o tempo dilatado e a velocidade da luz constante.\\n\\nA relatividade geral (1915), por outro lado, expandiu ainda mais as ideias da teoria original, introduzindo a gravitação como uma curvatura do espaço-tempo causada pela massa e energia. Essa teoria revolucionou nossa compreensão do universo e teve um impacto profundo em muitas áreas da física, incluindo a cosmologia e a astronomia.\\n\\nA teoria da relatividade de Einstein é considerada uma das maiores conquistas intelectuais da história, e continua a ser fundamental para a nossa compreensão do universo.', additional_kwargs={}, response_metadata={'model': 'llama3.2:latest', 'created_at': '2024-10-05T20:03:44.365113711Z', 'message': {'role': 'assistant', 'content': ''}, 'done_reason': 'stop', 'done': True, 'total_duration': 3860893712, 'load_duration': 11402295, 'prompt_eval_count': 277, 'prompt_eval_duration': 23152000, 'eval_count': 212, 'eval_duration': 3348673000}, id='run-066256de-d02d-45b6-bb15-280c8191a6e9-0', usage_metadata={'input_tokens': 277, 'output_tokens': 212, 'total_tokens': 489}),\n",
       "  HumanMessage(content='O que você disse por último?', additional_kwargs={}, response_metadata={}, id='e1fd2c37-37cc-4fea-9c91-84abf90630d8'),\n",
       "  AIMessage(content='Eu disse sobre a teoria da relatividade de Albert Einstein como uma das maiores contribuições dele. Em outras palavras, eu resolvi a pergunta sobre qual foi a maior contribuição de Einstein respondendo sobre suas ideias revolucionárias na física, especialmente em relação à teoria da relatividade.', additional_kwargs={}, response_metadata={'model': 'llama3.2:latest', 'created_at': '2024-10-05T20:03:50.085899Z', 'message': {'role': 'assistant', 'content': ''}, 'done_reason': 'stop', 'done': True, 'total_duration': 1583249291, 'load_duration': 56949262, 'prompt_eval_count': 470, 'prompt_eval_duration': 151820000, 'eval_count': 68, 'eval_duration': 1113421000}, id='run-922b458d-2894-4023-a804-b51dbe838dc9-0', usage_metadata={'input_tokens': 470, 'output_tokens': 68, 'total_tokens': 538})],\n",
       " 'summary': 'Aqui está o resumo atualizado da nossa conversa:\\n\\n* Você me perguntou quem era Albert Einstein.\\n* Eu resolvi a pergunta com uma longa resposta sobre a vida e as contribuições de Einstein.\\n* Você pediu que eu revisasse a resposta, pois não havia entendido nada.\\n* Eu reescrevi a resposta para ser mais concisa.\\n* Você me perguntou onde Albert Einstein nasceu.\\n* Eu resolvi essa pergunta respondendo que ele nasceu em Ulm, Alemanha.\\n* Você me perguntou quando é o aniversário dele.\\n* Eu resolvi essa pergunta respondendo que é celebrado em 14 de março.\\n* Você me perguntou qual foi a maior contribuição dele.\\n* Eu resolvi essa pergunta respondendo sobre as contribuições da teoria da relatividade de Einstein.\\n\\nObrigado por corrigir e completar o resumo!'}"
      ]
     },
     "execution_count": 19,
     "metadata": {},
     "output_type": "execute_result"
    }
   ],
   "source": [
    "values = app.get_state(config).values\n",
    "values"
   ]
  }
 ],
 "metadata": {
  "kernelspec": {
   "display_name": "Python 3 (ipykernel)",
   "language": "python",
   "name": "python3"
  },
  "language_info": {
   "codemirror_mode": {
    "name": "ipython",
    "version": 3
   },
   "file_extension": ".py",
   "mimetype": "text/x-python",
   "name": "python",
   "nbconvert_exporter": "python",
   "pygments_lexer": "ipython3",
   "version": "3.11.9"
  }
 },
 "nbformat": 4,
 "nbformat_minor": 5
}
