{
 "cells": [
  {
   "cell_type": "markdown",
   "id": "38b81d45-b6a9-4053-bc29-ca300090836c",
   "metadata": {},
   "source": [
    "# Simulação de rag via ollama \n",
    "\n",
    "ref.: \n",
    "- https://medium.com/@imabhi1216/implementing-rag-using-langchain-and-ollama-93bdf4a9027c\n",
    "- release de resultados - petrobras: https://api.mziq.com/mzfilemanager/v2/d/25fdf098-34f5-4608-b7fa-17d60b2de47d/ebaa356a-b332-7a81-b61d-4a3ebb107157?origin=1"
   ]
  },
  {
   "cell_type": "code",
   "execution_count": 1,
   "id": "360a3167-8a56-4c02-b018-61446c267b13",
   "metadata": {},
   "outputs": [],
   "source": [
    "from langchain_community.document_loaders import PDFPlumberLoader\n",
    "\n",
    "from langchain_experimental.text_splitter import SemanticChunker\n",
    "from langchain.embeddings import HuggingFaceEmbeddings\n",
    "from langchain_community.embeddings import HuggingFaceEmbeddings\n",
    "from langchain_community.vectorstores import FAISS\n",
    "\n",
    "from langchain_ollama import ChatOllama\n",
    "from langchain_community.llms import Ollama\n",
    "from langchain.chains import RetrievalQA\n",
    "from langchain.chains.llm import LLMChain\n",
    "from langchain.chains.combine_documents.stuff import StuffDocumentsChain\n",
    "from langchain.prompts import PromptTemplate"
   ]
  },
  {
   "cell_type": "markdown",
   "id": "c8b0ebc8-7d45-49da-951f-e4c725cc11b0",
   "metadata": {},
   "source": [
    "## Lendo o pdf"
   ]
  },
  {
   "cell_type": "code",
   "execution_count": 2,
   "id": "9ec22f32-bc17-457b-95ac-c63911c602fe",
   "metadata": {},
   "outputs": [
    {
     "name": "stdout",
     "output_type": "stream",
     "text": [
      "Número de paginas: 18\n"
     ]
    }
   ],
   "source": [
    "loader = PDFPlumberLoader(\"./resultados_petrobras.pdf\")\n",
    "docs = loader.load()\n",
    "# Check the number of pages\n",
    "print(\"Número de paginas:\",len(docs))"
   ]
  },
  {
   "cell_type": "code",
   "execution_count": 3,
   "id": "272a6b28-a911-4a9a-8ced-8cdf772dc7af",
   "metadata": {},
   "outputs": [
    {
     "data": {
      "text/plain": [
       "'Nossos Resultados Operacionais\\nDestaques - 2T24\\nNo 2T24 a produção média de óleo, LGN e gás natural da\\nProdução Total Própria\\nPetrobras alcançou 2.699 Mboed. Na comparação com a\\nmilhões boed\\nprodução do mesmo período do ano anterior (2T23),\\ntivemos um aumento de 2,4%. Dentre os principais\\n2,64 2,78 2,70\\nfatores para essa variação podemos destacar o ramp-up\\ndos FPSOs Almirante Barroso, P-71, Anna Nery, Anita 0,04 0,03 0,03\\nGaribaldi e Sepetiba, além da entrada em produção de 12 0,50 0,51 0,51\\nnovos poços de projetos complementares, sendo 8 na\\nBacia de Campos e 4 na Bacia de Santos.\\n2,10 2,24 2,16\\nEm comparação com 1T24, a produção foi 2,8% inferior\\ndevido, principalmente, ao maior volume de perdas por\\nparadas para manutenções, dentro do previsto no Plano\\nEstratégico 2024-2028+ (PE 2024-2028+), e ao declínio\\n2T23 1T24 2T24\\nnatural de campos maduros. Esses fatores foram\\nparcialmente compensados pela entrada de novos poços Óleo Gás Óleo e Gás - exterior\\nde projetos complementares nas Bacias de Campos e\\nSantos e pelo avanço do ramp-up do FPSO Sepetiba, no\\ncampo de Mero.\\nCabe destacar que, em 29 de junho, entrou em produção o segundo poço produtor do FPSO Sepetiba, no\\ncampo de Mero, elevando a produção operada da plataforma para o patamar de 90 Mbpd de óleo.\\nNo segmento de Refino, Transporte e Comercialização, no 2T24 as vendas de derivados no mercado interno\\naumentaram 3,2% em comparação com o trimestre anterior, alinhadas à sazonalidade de mercado. No que\\nse refere ao fator de utilização total (FUT) do parque de refino, o patamar continuou elevado, 91% no 2T24,\\nmesmo considerando as relevantes paradas programadas realizadas nas refinarias REPLAN, REDUC, RECAP,\\nREVAP e REGAP. Esses eventos concluíram com êxito grande parte das paradas previstas para 2024 e\\nenvolveram cerca de 5.400 pessoas, todos realizados com respeito aos requisitos de segurança, meio\\nambiente e saúde e dentro dos prazos planejados.\\nAtingimos recorde trimestral na participação do óleo do pré-sal na carga, de 69%, 2\\np.p. maior que no 1T24, favorecendo a produção de derivados de maior valor\\nagregado e a diminuição de emissões.\\nAs vendas de diesel S-10 no 2T24 representaram 63,9% das vendas totais de óleo\\ndiesel pela Petrobras, estabelecendo um novo recorde trimestral. O diesel S-10\\nassume importância cada vez maior no portfólio de produtos da empresa,\\napresentando baixo teor de enxofre e melhores resultados ambientais.\\nPETROBRAS | Relatório de Produção e Vendas | 2T24 3\\n'"
      ]
     },
     "execution_count": 3,
     "metadata": {},
     "output_type": "execute_result"
    }
   ],
   "source": [
    "# Load the random page content\n",
    "docs[2].page_content"
   ]
  },
  {
   "cell_type": "markdown",
   "id": "c2d5a689-a1c5-4af2-b596-ceb4e12573d2",
   "metadata": {},
   "source": [
    "## Criação de chunks"
   ]
  },
  {
   "cell_type": "code",
   "execution_count": 4,
   "id": "0e875ee6-1463-487b-a481-a882940af2a6",
   "metadata": {},
   "outputs": [
    {
     "name": "stderr",
     "output_type": "stream",
     "text": [
      "C:\\Users\\leona\\AppData\\Local\\Temp\\ipykernel_33524\\2474015895.py:1: LangChainDeprecationWarning: The class `HuggingFaceEmbeddings` was deprecated in LangChain 0.2.2 and will be removed in 1.0. An updated version of the class exists in the :class:`~langchain-huggingface package and should be used instead. To use it run `pip install -U :class:`~langchain-huggingface` and import as `from :class:`~langchain_huggingface import HuggingFaceEmbeddings``.\n",
      "  text_splitter = SemanticChunker(HuggingFaceEmbeddings())\n",
      "C:\\Users\\leona\\AppData\\Local\\Temp\\ipykernel_33524\\2474015895.py:1: LangChainDeprecationWarning: Default values for HuggingFaceEmbeddings.model_name were deprecated in LangChain 0.2.16 and will be removed in 0.4.0. Explicitly pass a model_name to the HuggingFaceEmbeddings constructor instead.\n",
      "  text_splitter = SemanticChunker(HuggingFaceEmbeddings())\n",
      "C:\\Users\\leona\\Documents\\GitHub\\ollama_tests\\.venv\\Lib\\site-packages\\sentence_transformers\\cross_encoder\\CrossEncoder.py:13: TqdmWarning: IProgress not found. Please update jupyter and ipywidgets. See https://ipywidgets.readthedocs.io/en/stable/user_install.html\n",
      "  from tqdm.autonotebook import tqdm, trange\n",
      "C:\\Users\\leona\\Documents\\GitHub\\ollama_tests\\.venv\\Lib\\site-packages\\transformers\\tokenization_utils_base.py:1617: FutureWarning: `clean_up_tokenization_spaces` was not set. It will be set to `True` by default. This behavior will be deprecated in transformers v4.45, and will be then set to `False` by default. For more details check this issue: https://github.com/huggingface/transformers/issues/31884\n",
      "  warnings.warn(\n"
     ]
    }
   ],
   "source": [
    "text_splitter = SemanticChunker(HuggingFaceEmbeddings())\n",
    "documents = text_splitter.split_documents(docs)"
   ]
  },
  {
   "cell_type": "code",
   "execution_count": 5,
   "id": "a74fc219-8a33-4301-9f51-78a9be1491f1",
   "metadata": {},
   "outputs": [
    {
     "name": "stdout",
     "output_type": "stream",
     "text": [
      "Número de chunks criados:  32\n",
      "\n",
      "CHUNK : 1\n",
      "Relatório de\n",
      "Produção e Vendas\n",
      "2T24\n",
      "—\n",
      "\n",
      "\n",
      "CHUNK : 2\n",
      "Sumário\n",
      "Destaques - 2T24 3\n",
      "Nossos Resultados Operacionais 4\n",
      "Exploração & Produção 4\n",
      "Refino, Transporte e Comercialização 6\n",
      "Gás e Energias de Baixo Carbono 9\n",
      "Emissões Atmosféricas 10\n",
      "Anexos 12\n",
      "ANEXO I - VOLUME DE VENDAS CONSOLIDADO 12\n",
      "ANEXO II - EXPORTAÇÃO E IMPORTAÇÃO LÍQUIDA 13\n",
      "ANEXO III - EXPORTAÇÕES DE PETRÓLEO 13\n",
      "ANEXO IV – EXPORTAÇÕES DE DERIVADOS 14\n",
      "Glossário 15\n",
      "AVISO\n",
      "Este relatório pode conter previsões acerca de eventos futuros. Tais previsões refletem apenas expectativas dos\n",
      "administradores da companhia sobre condições futuras da economia, além do setor de atuação, do desempenho\n",
      "e dos resultados financeiros da companhia, dentre outros. Os termos “antecipa\", \"acredita\", \"espera\", \"prevê\",\n",
      "\"pretende\", \"planeja\", \"projeta\", \"objetiva\", \"deverá\", bem como outros termos similares, visam a identificar tais\n",
      "previsões, as quais, evidentemente, envolvem riscos e incertezas previstos ou não pela companhia e,\n",
      "consequentemente, não são garantias de resultados futuros da companhia. Portanto, os resultados futuros das\n",
      "operações da companhia podem diferir das atuais expectativas, e o leitor não deve se basear exclusivamente nas\n",
      "informações aqui contidas.\n"
     ]
    }
   ],
   "source": [
    "print(\"Número de chunks criados: \", len(documents))\n",
    "for i in range(2):\n",
    "    print()\n",
    "    print(f\"CHUNK : {i+1}\")\n",
    "    print(documents[i].page_content)"
   ]
  },
  {
   "cell_type": "markdown",
   "id": "006b2048-5c5e-44e5-9850-a87fb1486201",
   "metadata": {},
   "source": [
    "## Criando os embeddings"
   ]
  },
  {
   "cell_type": "code",
   "execution_count": 6,
   "id": "15242349-a34e-4632-bb3f-fa7fbe13a6aa",
   "metadata": {},
   "outputs": [
    {
     "name": "stderr",
     "output_type": "stream",
     "text": [
      "C:\\Users\\leona\\AppData\\Local\\Temp\\ipykernel_33524\\3660788537.py:1: LangChainDeprecationWarning: Default values for HuggingFaceEmbeddings.model_name were deprecated in LangChain 0.2.16 and will be removed in 0.4.0. Explicitly pass a model_name to the HuggingFaceEmbeddings constructor instead.\n",
      "  embedder = HuggingFaceEmbeddings()\n"
     ]
    }
   ],
   "source": [
    "embedder = HuggingFaceEmbeddings()\n",
    "vector = FAISS.from_documents(documents, embedder)"
   ]
  },
  {
   "cell_type": "markdown",
   "id": "2240b394-e906-4195-b1c7-bdc05e0c192b",
   "metadata": {},
   "source": [
    "## Recuperando informações dos embeddings"
   ]
  },
  {
   "cell_type": "code",
   "execution_count": 7,
   "id": "98a065fc-817d-430a-bbca-40edc7df11f4",
   "metadata": {},
   "outputs": [
    {
     "data": {
      "text/plain": [
       "3"
      ]
     },
     "execution_count": 7,
     "metadata": {},
     "output_type": "execute_result"
    }
   ],
   "source": [
    "retriever = vector.as_retriever(search_type=\"similarity\", search_kwargs={\"k\": 3})\n",
    "retrieved_docs = retriever.invoke(\"Quais são os resultados operacionais?\")\n",
    "len(retrieved_docs)"
   ]
  },
  {
   "cell_type": "code",
   "execution_count": 8,
   "id": "df7917d1-761c-43f9-8408-e9f8561c1cf8",
   "metadata": {},
   "outputs": [
    {
     "data": {
      "text/plain": [
       "(4,\n",
       " '“O FPSO Maria Quitéria está em navegação para\\no Brasil e deve chegar à locação nas próximas\\nsemanas. A unidade tem início de operação\\nprevisto para o último trimestre de 2024,\\nantecipando assim o cronograma do PE 2024-\\n2028+, que era de entrada em operação em 2025. O Integrado Parque das Baleias é um projeto\\n100% Petrobras, que faz parte do Programa de\\nRenovação da Bacia de Campos, e irá contribuir\\npara o aumento da produção, redução do custo\\nde extração e das emissões”. Magda Chambriard, Presidente da Petrobras\\nPETROBRAS | Relatório de Produção e Vendas | 2T24 5\\n')"
      ]
     },
     "execution_count": 8,
     "metadata": {},
     "output_type": "execute_result"
    }
   ],
   "source": [
    "retrieved_docs[0].metadata['page'], retrieved_docs[0].page_content"
   ]
  },
  {
   "cell_type": "code",
   "execution_count": 9,
   "id": "f699b6ad-8cfc-4c5b-bb60-c6cc3fec34d4",
   "metadata": {},
   "outputs": [
    {
     "data": {
      "text/plain": [
       "(16,\n",
       " 'Glossário\\nP\\nProdução total: Produção de óleo, LGN e gás natural (considera o volume de gás natural reinjetado e não\\ncomercializado)\\nProdução total comercial: Produção de óleo, LGN e gás natural comercial (desconta o volume de gás natural\\nreinjetado e não comercializado). Produção total operada: Produção de um campo de gás ou petróleo, incluindo a participação da Petrobras\\ne a participação dos parceiros. R\\nRegaseificação de GNL: volume operacional de GNL que foi regaseificado e disponibilizado pela Petrobras\\npara o mercado na saída dos terminais de GNL, convertido para o PCS de referência de 9400 kcal/m³. Os\\nvolumes que foram transferidos dos navios metaneiros para os navios regaseificadores mas ainda não\\nforam regaseificados não compõem esta medida. Refino, Transporte e Comercialização (RTC): O segmento abrange as atividades de refino, logística,\\ntransporte, aquisição e exportação de petróleo bruto, bem como negociação de derivados de petróleo no\\nBrasil e no exterior. Este segmento também inclui operações petroquímicas (que envolvem participações\\nem empresas petroquímicas no Brasil) e produção de fertilizantes. V\\nVenda de Disponibilidade Térmica em Leilão (MW médio): volume que o agente gerador termelétrico se\\ncompromete em disponibilizar ao sistema elétrico para atendimento de eventuais acionamentos da usina,\\nou seja, independentemente da sua geração efetiva.')"
      ]
     },
     "execution_count": 9,
     "metadata": {},
     "output_type": "execute_result"
    }
   ],
   "source": [
    "retrieved_docs[1].metadata['page'], retrieved_docs[1].page_content"
   ]
  },
  {
   "cell_type": "code",
   "execution_count": 10,
   "id": "ae72611c-5c63-42b8-8959-405d7238b244",
   "metadata": {},
   "outputs": [
    {
     "data": {
      "text/plain": [
       "(13, 'PETROBRAS | Relatório de Produção e Vendas | 2T24 14\\n')"
      ]
     },
     "execution_count": 10,
     "metadata": {},
     "output_type": "execute_result"
    }
   ],
   "source": [
    "retrieved_docs[2].metadata['page'], retrieved_docs[2].page_content"
   ]
  },
  {
   "cell_type": "markdown",
   "id": "2e2feef9-6b42-490d-8606-7d7ae4072972",
   "metadata": {},
   "source": [
    "## Conversando com o documento"
   ]
  },
  {
   "cell_type": "code",
   "execution_count": 12,
   "id": "12b5912d-6b42-4c25-bc6d-17ece511af10",
   "metadata": {},
   "outputs": [],
   "source": [
    "llm = Ollama(model=\"llama3.2\")"
   ]
  },
  {
   "cell_type": "code",
   "execution_count": 16,
   "id": "858954f1-37df-499c-a254-dfc709ae5883",
   "metadata": {},
   "outputs": [
    {
     "name": "stdout",
     "output_type": "stream",
     "text": [
      "\n",
      "\n",
      "\u001b[1m> Entering new RetrievalQA chain...\u001b[0m\n",
      "\n",
      "\n",
      "\u001b[1m> Entering new LLMChain chain...\u001b[0m\n",
      "Prompt after formatting:\n",
      "\u001b[32;1m\u001b[1;3m\n",
      "Use os seguintes elementos de contexto para responder à pergunta no final.\n",
      "Se você não souber a resposta, apenas diga \"Eu não sei\", mas não invente uma resposta por conta própria.\n",
      "Mantenha a resposta clara e limitada a 3 ou 4 frases.\n",
      "Contexto: Context:\n",
      "content:Glossário\n",
      "P\n",
      "Produção total: Produção de óleo, LGN e gás natural (considera o volume de gás natural reinjetado e não\n",
      "comercializado)\n",
      "Produção total comercial: Produção de óleo, LGN e gás natural comercial (desconta o volume de gás natural\n",
      "reinjetado e não comercializado). Produção total operada: Produção de um campo de gás ou petróleo, incluindo a participação da Petrobras\n",
      "e a participação dos parceiros. R\n",
      "Regaseificação de GNL: volume operacional de GNL que foi regaseificado e disponibilizado pela Petrobras\n",
      "para o mercado na saída dos terminais de GNL, convertido para o PCS de referência de 9400 kcal/m³. Os\n",
      "volumes que foram transferidos dos navios metaneiros para os navios regaseificadores mas ainda não\n",
      "foram regaseificados não compõem esta medida. Refino, Transporte e Comercialização (RTC): O segmento abrange as atividades de refino, logística,\n",
      "transporte, aquisição e exportação de petróleo bruto, bem como negociação de derivados de petróleo no\n",
      "Brasil e no exterior. Este segmento também inclui operações petroquímicas (que envolvem participações\n",
      "em empresas petroquímicas no Brasil) e produção de fertilizantes. V\n",
      "Venda de Disponibilidade Térmica em Leilão (MW médio): volume que o agente gerador termelétrico se\n",
      "compromete em disponibilizar ao sistema elétrico para atendimento de eventuais acionamentos da usina,\n",
      "ou seja, independentemente da sua geração efetiva.\n",
      "source:./resultados_petrobras.pdf\n",
      "\n",
      "Context:\n",
      "content:A produção do pós-sal foi de 306 Mbpd, 10,8% inferior ao 1T24, principalmente em função de\n",
      "intervenções não planejadas para atendimento aos requisitos de segurança operacional, maior volume\n",
      "de perdas com paradas programadas e manutenções, além do declínio natural de produção. Estes\n",
      "fatores foram parcialmente compensados pela entrada em produção de dois novos poços de projetos\n",
      "complementares na Bacia de Campos. A produção em terra e águas rasas foi de 35 Mbpd, em linha com a do trimestre anterior. A produção\n",
      "no exterior foi de 34 Mboed, referente aos campos da Bolívia, Argentina e Estados Unidos, em linha\n",
      "com a do 1T24. Em maio de 2024, o FPSO Marechal Duque de Caxias chegou ao Brasil e concluiu, em junho, a ancoragem\n",
      "no campo de Mero, no pré-sal da Bacia de Santos. A plataforma, que será o terceiro sistema definitivo\n",
      "de produção do campo, está prevista para entrar em operação no segundo semestre deste ano, e tem\n",
      "capacidade para produzir até 180 Mbpd de óleo e 12 MMm³/d de gás natural. PETROBRAS | Relatório de Produção e Vendas | 2T24 4\n",
      "\n",
      "source:./resultados_petrobras.pdf\n",
      "\n",
      "Context:\n",
      "content:PETROBRAS | Relatório de Produção e Vendas | 2T24 14\n",
      "\n",
      "source:./resultados_petrobras.pdf\n",
      "\n",
      "Pergunta: Como foi a produção de óleo no pré-sal?\n",
      "\n",
      "Resposta útil:\n",
      "\u001b[0m\n",
      "\n",
      "\u001b[1m> Finished chain.\u001b[0m\n",
      "\n",
      "\u001b[1m> Finished chain.\u001b[0m\n",
      "A produção de óleo no pré-sal foi de 306 Mbpd, com declínio natural de produção, mas compensado pela entrada em produção de dois novos poços de projetos complementares na Bacia de Campos. A produção em terra e águas rasas foi de 35 Mbpd, enquanto a produção no exterior foi de 34 Mboed.\n"
     ]
    }
   ],
   "source": [
    "prompt = \"\"\"\n",
    "Use os seguintes elementos de contexto para responder à pergunta no final.\n",
    "Se você não souber a resposta, apenas diga \"Eu não sei\", mas não invente uma resposta por conta própria.\n",
    "Mantenha a resposta clara e limitada a 3 ou 4 frases.\n",
    "Contexto: {context}\n",
    "\n",
    "Pergunta: {question}\n",
    "\n",
    "Resposta útil:\n",
    "\"\"\"\n",
    "\n",
    "\n",
    "QA_CHAIN_PROMPT = PromptTemplate.from_template(prompt) \n",
    "\n",
    "llm_chain = LLMChain(\n",
    "                  llm=llm, \n",
    "                  prompt=QA_CHAIN_PROMPT, \n",
    "                  callbacks=None, \n",
    "                  verbose=True)\n",
    "\n",
    "document_prompt = PromptTemplate(\n",
    "    input_variables=[\"page_content\", \"source\"],\n",
    "    template=\"Context:\\ncontent:{page_content}\\nsource:{source}\",\n",
    ")\n",
    "\n",
    "combine_documents_chain = StuffDocumentsChain(\n",
    "                  llm_chain=llm_chain,\n",
    "                  document_variable_name=\"context\",\n",
    "                  document_prompt=document_prompt,\n",
    "                  callbacks=None,\n",
    "              )\n",
    "\n",
    "qa = RetrievalQA(\n",
    "                  combine_documents_chain=combine_documents_chain,\n",
    "                  verbose=True,\n",
    "                  retriever=retriever,\n",
    "                  return_source_documents=True,\n",
    "              )\n",
    "\n",
    "print(qa(\"Como foi a produção de óleo no pré-sal?\")[\"result\"])"
   ]
  },
  {
   "cell_type": "code",
   "execution_count": 21,
   "id": "19450599-708a-462f-9217-8f670bafde9e",
   "metadata": {},
   "outputs": [
    {
     "name": "stdout",
     "output_type": "stream",
     "text": [
      "\n",
      "\n",
      "\u001b[1m> Entering new RetrievalQA chain...\u001b[0m\n",
      "\n",
      "\n",
      "\u001b[1m> Entering new LLMChain chain...\u001b[0m\n",
      "Prompt after formatting:\n",
      "\u001b[32;1m\u001b[1;3m\n",
      "Use os seguintes elementos de contexto para responder à pergunta no final.\n",
      "Se você não souber a resposta, apenas diga \"Eu não sei\", mas não invente uma resposta por conta própria.\n",
      "Mantenha a resposta clara e limitada a 3 ou 4 frases.\n",
      "Contexto: Context:\n",
      "content:maior que no 1T24, favorecendo a produção de derivados de maior valor\n",
      "agregado e a diminuição de emissões. As vendas de diesel S-10 no 2T24 representaram 63,9% das vendas totais de óleo\n",
      "diesel pela Petrobras, estabelecendo um novo recorde trimestral. O diesel S-10\n",
      "assume importância cada vez maior no portfólio de produtos da empresa,\n",
      "apresentando baixo teor de enxofre e melhores resultados ambientais. PETROBRAS | Relatório de Produção e Vendas | 2T24 3\n",
      "\n",
      "source:./resultados_petrobras.pdf\n",
      "\n",
      "Context:\n",
      "content:Nossos Resultados Operacionais\n",
      "Vendas\n",
      "O volume de vendas de derivados no 2T24 aumentou 3,2% em relação ao 1T24, principalmente em função\n",
      "do aumento de vendas de diesel e de GLP. As vendas de diesel no mercado interno apresentaram alta de 3,8% entre o 2T24 e o 1T24, mesmo com o\n",
      "aumento da mistura mínima obrigatória de biodiesel, que passou de 12% para 14% em março de 2024. O\n",
      "principal fator para o aumento das vendas deste derivado foi o consumo, tipicamente mais alto no segundo\n",
      "trimestre de cada ano em relação ao primeiro, reflexo de uma maior atividade econômica. O volume de vendas de GLP no 2T24 foi 10,1% superior ao do trimestre anterior em decorrência das\n",
      "temperaturas médias mais baixas registradas nos principais centros consumidores do país no segundo\n",
      "trimestre e da menor demanda sazonal do produto no primeiro trimestre, período de férias e de menor\n",
      "atividade da indústria de transformação. As vendas de gasolina no 2T24 registraram crescimento de 1,6% em relação ao 1T24 devido, principalmente,\n",
      "ao aumento de competitividade da gasolina em relação ao etanol hidratado no abastecimento dos veículos\n",
      "flex. Produção\n",
      "A produção de derivados no 2T24 teve leve redução de 0,5% em relação ao 1T24, com incremento de\n",
      "produção dos derivados de maior valor agregado (diesel e gasolina) em relação aos produtos de menor valor\n",
      "agregado (GLP, nafta e óleo combustível). A produção de diesel, gasolina e QAV no 2T24 atingiu 69% de participação do volume total produzido, 2 p.p. acima do 1T24, demonstrando o esforço contínuo no parque de refino em eficiência e versatilidade nas\n",
      "plantas de processo. Alcançamos recorde de produção de diesel S-10 na\n",
      "Refinaria Presidente Bernardes (RPBC) em maio com a\n",
      "produção de 70,6 Mbpd. Destacamos também recorde\n",
      "semestral de produção de QAV no 1S24 de 37 Mbpd\n",
      "pela Refinaria Henrique Lage (REVAP), mesmo com a\n",
      "parada de uma das unidades de hidrotratamento no\n",
      "2T24. A REVAP registrou ainda a marca de 44.500\n",
      "toneladas de asfalto em junho, a maior produção desde\n",
      "fevereiro de 2014. “A Petrobras vem trabalhando para incrementar a\n",
      "oferta de diesel para o mercado brasileiro... Estamos\n",
      "cumprindo os requisitos de forma competitiva, segura\n",
      "e com menores impactos ambientais”.\n",
      "source:./resultados_petrobras.pdf\n",
      "\n",
      "Context:\n",
      "content:Glossário\n",
      "P\n",
      "Produção total: Produção de óleo, LGN e gás natural (considera o volume de gás natural reinjetado e não\n",
      "comercializado)\n",
      "Produção total comercial: Produção de óleo, LGN e gás natural comercial (desconta o volume de gás natural\n",
      "reinjetado e não comercializado). Produção total operada: Produção de um campo de gás ou petróleo, incluindo a participação da Petrobras\n",
      "e a participação dos parceiros. R\n",
      "Regaseificação de GNL: volume operacional de GNL que foi regaseificado e disponibilizado pela Petrobras\n",
      "para o mercado na saída dos terminais de GNL, convertido para o PCS de referência de 9400 kcal/m³. Os\n",
      "volumes que foram transferidos dos navios metaneiros para os navios regaseificadores mas ainda não\n",
      "foram regaseificados não compõem esta medida. Refino, Transporte e Comercialização (RTC): O segmento abrange as atividades de refino, logística,\n",
      "transporte, aquisição e exportação de petróleo bruto, bem como negociação de derivados de petróleo no\n",
      "Brasil e no exterior. Este segmento também inclui operações petroquímicas (que envolvem participações\n",
      "em empresas petroquímicas no Brasil) e produção de fertilizantes. V\n",
      "Venda de Disponibilidade Térmica em Leilão (MW médio): volume que o agente gerador termelétrico se\n",
      "compromete em disponibilizar ao sistema elétrico para atendimento de eventuais acionamentos da usina,\n",
      "ou seja, independentemente da sua geração efetiva.\n",
      "source:./resultados_petrobras.pdf\n",
      "\n",
      "Pergunta: \n",
      "Como foi volume de vendas de derivados no 2T24, \n",
      "principalmente em função do aumento de vendas de diesel e de GLP?\n",
      "\n",
      "\n",
      "Resposta útil:\n",
      "\u001b[0m\n",
      "\n",
      "\u001b[1m> Finished chain.\u001b[0m\n",
      "\n",
      "\u001b[1m> Finished chain.\u001b[0m\n",
      "O volume de vendas de derivados no 2T24 aumentou 3,2% em relação ao 1T24, principalmente devido ao aumento de vendas de diesel (63,9% das vendas totais de óleo diesel) e de GLP.\n"
     ]
    }
   ],
   "source": [
    "print(qa(\"\"\"\n",
    "Como foi volume de vendas de derivados no 2T24, \n",
    "principalmente em função do aumento de vendas de diesel e de GLP?\n",
    "\"\"\")[\"result\"])"
   ]
  },
  {
   "cell_type": "code",
   "execution_count": null,
   "id": "0f7a473b-909f-4d91-93de-301f17a6c27b",
   "metadata": {},
   "outputs": [],
   "source": []
  }
 ],
 "metadata": {
  "kernelspec": {
   "display_name": "Python 3 (ipykernel)",
   "language": "python",
   "name": "python3"
  },
  "language_info": {
   "codemirror_mode": {
    "name": "ipython",
    "version": 3
   },
   "file_extension": ".py",
   "mimetype": "text/x-python",
   "name": "python",
   "nbconvert_exporter": "python",
   "pygments_lexer": "ipython3",
   "version": "3.11.9"
  }
 },
 "nbformat": 4,
 "nbformat_minor": 5
}
